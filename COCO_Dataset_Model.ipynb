{
  "nbformat": 4,
  "nbformat_minor": 0,
  "metadata": {
    "colab": {
      "provenance": [],
      "gpuType": "T4"
    },
    "kernelspec": {
      "name": "python3",
      "display_name": "Python 3"
    },
    "language_info": {
      "name": "python"
    },
    "accelerator": "GPU"
  },
  "cells": [
    {
      "cell_type": "code",
      "source": [
        "!pip install ultralytics"
      ],
      "metadata": {
        "colab": {
          "base_uri": "https://localhost:8080/"
        },
        "id": "vlm-HmoKwVNO",
        "outputId": "a1d16dc1-0494-4764-979f-36b798622cbc"
      },
      "execution_count": 12,
      "outputs": [
        {
          "output_type": "stream",
          "name": "stdout",
          "text": [
            "Collecting ultralytics\n",
            "  Downloading ultralytics-8.3.152-py3-none-any.whl.metadata (37 kB)\n",
            "Requirement already satisfied: numpy>=1.23.0 in /usr/local/lib/python3.11/dist-packages (from ultralytics) (2.0.2)\n",
            "Requirement already satisfied: matplotlib>=3.3.0 in /usr/local/lib/python3.11/dist-packages (from ultralytics) (3.10.0)\n",
            "Requirement already satisfied: opencv-python>=4.6.0 in /usr/local/lib/python3.11/dist-packages (from ultralytics) (4.11.0.86)\n",
            "Requirement already satisfied: pillow>=7.1.2 in /usr/local/lib/python3.11/dist-packages (from ultralytics) (11.2.1)\n",
            "Requirement already satisfied: pyyaml>=5.3.1 in /usr/local/lib/python3.11/dist-packages (from ultralytics) (6.0.2)\n",
            "Requirement already satisfied: requests>=2.23.0 in /usr/local/lib/python3.11/dist-packages (from ultralytics) (2.32.3)\n",
            "Requirement already satisfied: scipy>=1.4.1 in /usr/local/lib/python3.11/dist-packages (from ultralytics) (1.15.3)\n",
            "Requirement already satisfied: torch>=1.8.0 in /usr/local/lib/python3.11/dist-packages (from ultralytics) (2.6.0+cu124)\n",
            "Requirement already satisfied: torchvision>=0.9.0 in /usr/local/lib/python3.11/dist-packages (from ultralytics) (0.21.0+cu124)\n",
            "Requirement already satisfied: tqdm>=4.64.0 in /usr/local/lib/python3.11/dist-packages (from ultralytics) (4.67.1)\n",
            "Requirement already satisfied: psutil in /usr/local/lib/python3.11/dist-packages (from ultralytics) (5.9.5)\n",
            "Requirement already satisfied: py-cpuinfo in /usr/local/lib/python3.11/dist-packages (from ultralytics) (9.0.0)\n",
            "Requirement already satisfied: pandas>=1.1.4 in /usr/local/lib/python3.11/dist-packages (from ultralytics) (2.2.2)\n",
            "Collecting ultralytics-thop>=2.0.0 (from ultralytics)\n",
            "  Downloading ultralytics_thop-2.0.14-py3-none-any.whl.metadata (9.4 kB)\n",
            "Requirement already satisfied: contourpy>=1.0.1 in /usr/local/lib/python3.11/dist-packages (from matplotlib>=3.3.0->ultralytics) (1.3.2)\n",
            "Requirement already satisfied: cycler>=0.10 in /usr/local/lib/python3.11/dist-packages (from matplotlib>=3.3.0->ultralytics) (0.12.1)\n",
            "Requirement already satisfied: fonttools>=4.22.0 in /usr/local/lib/python3.11/dist-packages (from matplotlib>=3.3.0->ultralytics) (4.58.1)\n",
            "Requirement already satisfied: kiwisolver>=1.3.1 in /usr/local/lib/python3.11/dist-packages (from matplotlib>=3.3.0->ultralytics) (1.4.8)\n",
            "Requirement already satisfied: packaging>=20.0 in /usr/local/lib/python3.11/dist-packages (from matplotlib>=3.3.0->ultralytics) (24.2)\n",
            "Requirement already satisfied: pyparsing>=2.3.1 in /usr/local/lib/python3.11/dist-packages (from matplotlib>=3.3.0->ultralytics) (3.2.3)\n",
            "Requirement already satisfied: python-dateutil>=2.7 in /usr/local/lib/python3.11/dist-packages (from matplotlib>=3.3.0->ultralytics) (2.9.0.post0)\n",
            "Requirement already satisfied: pytz>=2020.1 in /usr/local/lib/python3.11/dist-packages (from pandas>=1.1.4->ultralytics) (2025.2)\n",
            "Requirement already satisfied: tzdata>=2022.7 in /usr/local/lib/python3.11/dist-packages (from pandas>=1.1.4->ultralytics) (2025.2)\n",
            "Requirement already satisfied: charset-normalizer<4,>=2 in /usr/local/lib/python3.11/dist-packages (from requests>=2.23.0->ultralytics) (3.4.2)\n",
            "Requirement already satisfied: idna<4,>=2.5 in /usr/local/lib/python3.11/dist-packages (from requests>=2.23.0->ultralytics) (3.10)\n",
            "Requirement already satisfied: urllib3<3,>=1.21.1 in /usr/local/lib/python3.11/dist-packages (from requests>=2.23.0->ultralytics) (2.4.0)\n",
            "Requirement already satisfied: certifi>=2017.4.17 in /usr/local/lib/python3.11/dist-packages (from requests>=2.23.0->ultralytics) (2025.4.26)\n",
            "Requirement already satisfied: filelock in /usr/local/lib/python3.11/dist-packages (from torch>=1.8.0->ultralytics) (3.18.0)\n",
            "Requirement already satisfied: typing-extensions>=4.10.0 in /usr/local/lib/python3.11/dist-packages (from torch>=1.8.0->ultralytics) (4.14.0)\n",
            "Requirement already satisfied: networkx in /usr/local/lib/python3.11/dist-packages (from torch>=1.8.0->ultralytics) (3.5)\n",
            "Requirement already satisfied: jinja2 in /usr/local/lib/python3.11/dist-packages (from torch>=1.8.0->ultralytics) (3.1.6)\n",
            "Requirement already satisfied: fsspec in /usr/local/lib/python3.11/dist-packages (from torch>=1.8.0->ultralytics) (2025.3.2)\n",
            "Collecting nvidia-cuda-nvrtc-cu12==12.4.127 (from torch>=1.8.0->ultralytics)\n",
            "  Downloading nvidia_cuda_nvrtc_cu12-12.4.127-py3-none-manylinux2014_x86_64.whl.metadata (1.5 kB)\n",
            "Collecting nvidia-cuda-runtime-cu12==12.4.127 (from torch>=1.8.0->ultralytics)\n",
            "  Downloading nvidia_cuda_runtime_cu12-12.4.127-py3-none-manylinux2014_x86_64.whl.metadata (1.5 kB)\n",
            "Collecting nvidia-cuda-cupti-cu12==12.4.127 (from torch>=1.8.0->ultralytics)\n",
            "  Downloading nvidia_cuda_cupti_cu12-12.4.127-py3-none-manylinux2014_x86_64.whl.metadata (1.6 kB)\n",
            "Collecting nvidia-cudnn-cu12==9.1.0.70 (from torch>=1.8.0->ultralytics)\n",
            "  Downloading nvidia_cudnn_cu12-9.1.0.70-py3-none-manylinux2014_x86_64.whl.metadata (1.6 kB)\n",
            "Collecting nvidia-cublas-cu12==12.4.5.8 (from torch>=1.8.0->ultralytics)\n",
            "  Downloading nvidia_cublas_cu12-12.4.5.8-py3-none-manylinux2014_x86_64.whl.metadata (1.5 kB)\n",
            "Collecting nvidia-cufft-cu12==11.2.1.3 (from torch>=1.8.0->ultralytics)\n",
            "  Downloading nvidia_cufft_cu12-11.2.1.3-py3-none-manylinux2014_x86_64.whl.metadata (1.5 kB)\n",
            "Collecting nvidia-curand-cu12==10.3.5.147 (from torch>=1.8.0->ultralytics)\n",
            "  Downloading nvidia_curand_cu12-10.3.5.147-py3-none-manylinux2014_x86_64.whl.metadata (1.5 kB)\n",
            "Collecting nvidia-cusolver-cu12==11.6.1.9 (from torch>=1.8.0->ultralytics)\n",
            "  Downloading nvidia_cusolver_cu12-11.6.1.9-py3-none-manylinux2014_x86_64.whl.metadata (1.6 kB)\n",
            "Collecting nvidia-cusparse-cu12==12.3.1.170 (from torch>=1.8.0->ultralytics)\n",
            "  Downloading nvidia_cusparse_cu12-12.3.1.170-py3-none-manylinux2014_x86_64.whl.metadata (1.6 kB)\n",
            "Requirement already satisfied: nvidia-cusparselt-cu12==0.6.2 in /usr/local/lib/python3.11/dist-packages (from torch>=1.8.0->ultralytics) (0.6.2)\n",
            "Requirement already satisfied: nvidia-nccl-cu12==2.21.5 in /usr/local/lib/python3.11/dist-packages (from torch>=1.8.0->ultralytics) (2.21.5)\n",
            "Requirement already satisfied: nvidia-nvtx-cu12==12.4.127 in /usr/local/lib/python3.11/dist-packages (from torch>=1.8.0->ultralytics) (12.4.127)\n",
            "Collecting nvidia-nvjitlink-cu12==12.4.127 (from torch>=1.8.0->ultralytics)\n",
            "  Downloading nvidia_nvjitlink_cu12-12.4.127-py3-none-manylinux2014_x86_64.whl.metadata (1.5 kB)\n",
            "Requirement already satisfied: triton==3.2.0 in /usr/local/lib/python3.11/dist-packages (from torch>=1.8.0->ultralytics) (3.2.0)\n",
            "Requirement already satisfied: sympy==1.13.1 in /usr/local/lib/python3.11/dist-packages (from torch>=1.8.0->ultralytics) (1.13.1)\n",
            "Requirement already satisfied: mpmath<1.4,>=1.1.0 in /usr/local/lib/python3.11/dist-packages (from sympy==1.13.1->torch>=1.8.0->ultralytics) (1.3.0)\n",
            "Requirement already satisfied: six>=1.5 in /usr/local/lib/python3.11/dist-packages (from python-dateutil>=2.7->matplotlib>=3.3.0->ultralytics) (1.17.0)\n",
            "Requirement already satisfied: MarkupSafe>=2.0 in /usr/local/lib/python3.11/dist-packages (from jinja2->torch>=1.8.0->ultralytics) (3.0.2)\n",
            "Downloading ultralytics-8.3.152-py3-none-any.whl (1.0 MB)\n",
            "\u001b[2K   \u001b[90m━━━━━━━━━━━━━━━━━━━━━━━━━━━━━━━━━━━━━━━━\u001b[0m \u001b[32m1.0/1.0 MB\u001b[0m \u001b[31m66.9 MB/s\u001b[0m eta \u001b[36m0:00:00\u001b[0m\n",
            "\u001b[?25hDownloading nvidia_cublas_cu12-12.4.5.8-py3-none-manylinux2014_x86_64.whl (363.4 MB)\n",
            "\u001b[2K   \u001b[90m━━━━━━━━━━━━━━━━━━━━━━━━━━━━━━━━━━━━━━━━\u001b[0m \u001b[32m363.4/363.4 MB\u001b[0m \u001b[31m1.3 MB/s\u001b[0m eta \u001b[36m0:00:00\u001b[0m\n",
            "\u001b[?25hDownloading nvidia_cuda_cupti_cu12-12.4.127-py3-none-manylinux2014_x86_64.whl (13.8 MB)\n",
            "\u001b[2K   \u001b[90m━━━━━━━━━━━━━━━━━━━━━━━━━━━━━━━━━━━━━━━━\u001b[0m \u001b[32m13.8/13.8 MB\u001b[0m \u001b[31m130.0 MB/s\u001b[0m eta \u001b[36m0:00:00\u001b[0m\n",
            "\u001b[?25hDownloading nvidia_cuda_nvrtc_cu12-12.4.127-py3-none-manylinux2014_x86_64.whl (24.6 MB)\n",
            "\u001b[2K   \u001b[90m━━━━━━━━━━━━━━━━━━━━━━━━━━━━━━━━━━━━━━━━\u001b[0m \u001b[32m24.6/24.6 MB\u001b[0m \u001b[31m95.3 MB/s\u001b[0m eta \u001b[36m0:00:00\u001b[0m\n",
            "\u001b[?25hDownloading nvidia_cuda_runtime_cu12-12.4.127-py3-none-manylinux2014_x86_64.whl (883 kB)\n",
            "\u001b[2K   \u001b[90m━━━━━━━━━━━━━━━━━━━━━━━━━━━━━━━━━━━━━━━━\u001b[0m \u001b[32m883.7/883.7 kB\u001b[0m \u001b[31m56.6 MB/s\u001b[0m eta \u001b[36m0:00:00\u001b[0m\n",
            "\u001b[?25hDownloading nvidia_cudnn_cu12-9.1.0.70-py3-none-manylinux2014_x86_64.whl (664.8 MB)\n",
            "\u001b[2K   \u001b[90m━━━━━━━━━━━━━━━━━━━━━━━━━━━━━━━━━━━━━━━━\u001b[0m \u001b[32m664.8/664.8 MB\u001b[0m \u001b[31m2.7 MB/s\u001b[0m eta \u001b[36m0:00:00\u001b[0m\n",
            "\u001b[?25hDownloading nvidia_cufft_cu12-11.2.1.3-py3-none-manylinux2014_x86_64.whl (211.5 MB)\n",
            "\u001b[2K   \u001b[90m━━━━━━━━━━━━━━━━━━━━━━━━━━━━━━━━━━━━━━━━\u001b[0m \u001b[32m211.5/211.5 MB\u001b[0m \u001b[31m5.4 MB/s\u001b[0m eta \u001b[36m0:00:00\u001b[0m\n",
            "\u001b[?25hDownloading nvidia_curand_cu12-10.3.5.147-py3-none-manylinux2014_x86_64.whl (56.3 MB)\n",
            "\u001b[2K   \u001b[90m━━━━━━━━━━━━━━━━━━━━━━━━━━━━━━━━━━━━━━━━\u001b[0m \u001b[32m56.3/56.3 MB\u001b[0m \u001b[31m13.2 MB/s\u001b[0m eta \u001b[36m0:00:00\u001b[0m\n",
            "\u001b[?25hDownloading nvidia_cusolver_cu12-11.6.1.9-py3-none-manylinux2014_x86_64.whl (127.9 MB)\n",
            "\u001b[2K   \u001b[90m━━━━━━━━━━━━━━━━━━━━━━━━━━━━━━━━━━━━━━━━\u001b[0m \u001b[32m127.9/127.9 MB\u001b[0m \u001b[31m7.4 MB/s\u001b[0m eta \u001b[36m0:00:00\u001b[0m\n",
            "\u001b[?25hDownloading nvidia_cusparse_cu12-12.3.1.170-py3-none-manylinux2014_x86_64.whl (207.5 MB)\n",
            "\u001b[2K   \u001b[90m━━━━━━━━━━━━━━━━━━━━━━━━━━━━━━━━━━━━━━━━\u001b[0m \u001b[32m207.5/207.5 MB\u001b[0m \u001b[31m6.0 MB/s\u001b[0m eta \u001b[36m0:00:00\u001b[0m\n",
            "\u001b[?25hDownloading nvidia_nvjitlink_cu12-12.4.127-py3-none-manylinux2014_x86_64.whl (21.1 MB)\n",
            "\u001b[2K   \u001b[90m━━━━━━━━━━━━━━━━━━━━━━━━━━━━━━━━━━━━━━━━\u001b[0m \u001b[32m21.1/21.1 MB\u001b[0m \u001b[31m112.6 MB/s\u001b[0m eta \u001b[36m0:00:00\u001b[0m\n",
            "\u001b[?25hDownloading ultralytics_thop-2.0.14-py3-none-any.whl (26 kB)\n",
            "Installing collected packages: nvidia-nvjitlink-cu12, nvidia-curand-cu12, nvidia-cufft-cu12, nvidia-cuda-runtime-cu12, nvidia-cuda-nvrtc-cu12, nvidia-cuda-cupti-cu12, nvidia-cublas-cu12, nvidia-cusparse-cu12, nvidia-cudnn-cu12, nvidia-cusolver-cu12, ultralytics-thop, ultralytics\n",
            "  Attempting uninstall: nvidia-nvjitlink-cu12\n",
            "    Found existing installation: nvidia-nvjitlink-cu12 12.5.82\n",
            "    Uninstalling nvidia-nvjitlink-cu12-12.5.82:\n",
            "      Successfully uninstalled nvidia-nvjitlink-cu12-12.5.82\n",
            "  Attempting uninstall: nvidia-curand-cu12\n",
            "    Found existing installation: nvidia-curand-cu12 10.3.6.82\n",
            "    Uninstalling nvidia-curand-cu12-10.3.6.82:\n",
            "      Successfully uninstalled nvidia-curand-cu12-10.3.6.82\n",
            "  Attempting uninstall: nvidia-cufft-cu12\n",
            "    Found existing installation: nvidia-cufft-cu12 11.2.3.61\n",
            "    Uninstalling nvidia-cufft-cu12-11.2.3.61:\n",
            "      Successfully uninstalled nvidia-cufft-cu12-11.2.3.61\n",
            "  Attempting uninstall: nvidia-cuda-runtime-cu12\n",
            "    Found existing installation: nvidia-cuda-runtime-cu12 12.5.82\n",
            "    Uninstalling nvidia-cuda-runtime-cu12-12.5.82:\n",
            "      Successfully uninstalled nvidia-cuda-runtime-cu12-12.5.82\n",
            "  Attempting uninstall: nvidia-cuda-nvrtc-cu12\n",
            "    Found existing installation: nvidia-cuda-nvrtc-cu12 12.5.82\n",
            "    Uninstalling nvidia-cuda-nvrtc-cu12-12.5.82:\n",
            "      Successfully uninstalled nvidia-cuda-nvrtc-cu12-12.5.82\n",
            "  Attempting uninstall: nvidia-cuda-cupti-cu12\n",
            "    Found existing installation: nvidia-cuda-cupti-cu12 12.5.82\n",
            "    Uninstalling nvidia-cuda-cupti-cu12-12.5.82:\n",
            "      Successfully uninstalled nvidia-cuda-cupti-cu12-12.5.82\n",
            "  Attempting uninstall: nvidia-cublas-cu12\n",
            "    Found existing installation: nvidia-cublas-cu12 12.5.3.2\n",
            "    Uninstalling nvidia-cublas-cu12-12.5.3.2:\n",
            "      Successfully uninstalled nvidia-cublas-cu12-12.5.3.2\n",
            "  Attempting uninstall: nvidia-cusparse-cu12\n",
            "    Found existing installation: nvidia-cusparse-cu12 12.5.1.3\n",
            "    Uninstalling nvidia-cusparse-cu12-12.5.1.3:\n",
            "      Successfully uninstalled nvidia-cusparse-cu12-12.5.1.3\n",
            "  Attempting uninstall: nvidia-cudnn-cu12\n",
            "    Found existing installation: nvidia-cudnn-cu12 9.3.0.75\n",
            "    Uninstalling nvidia-cudnn-cu12-9.3.0.75:\n",
            "      Successfully uninstalled nvidia-cudnn-cu12-9.3.0.75\n",
            "  Attempting uninstall: nvidia-cusolver-cu12\n",
            "    Found existing installation: nvidia-cusolver-cu12 11.6.3.83\n",
            "    Uninstalling nvidia-cusolver-cu12-11.6.3.83:\n",
            "      Successfully uninstalled nvidia-cusolver-cu12-11.6.3.83\n",
            "Successfully installed nvidia-cublas-cu12-12.4.5.8 nvidia-cuda-cupti-cu12-12.4.127 nvidia-cuda-nvrtc-cu12-12.4.127 nvidia-cuda-runtime-cu12-12.4.127 nvidia-cudnn-cu12-9.1.0.70 nvidia-cufft-cu12-11.2.1.3 nvidia-curand-cu12-10.3.5.147 nvidia-cusolver-cu12-11.6.1.9 nvidia-cusparse-cu12-12.3.1.170 nvidia-nvjitlink-cu12-12.4.127 ultralytics-8.3.152 ultralytics-thop-2.0.14\n"
          ]
        }
      ]
    },
    {
      "cell_type": "code",
      "execution_count": 1,
      "metadata": {
        "colab": {
          "base_uri": "https://localhost:8080/"
        },
        "id": "e4lZJi-MtnJz",
        "outputId": "cb6f969b-8900-41b3-ea38-4c0dcdd211d1"
      },
      "outputs": [
        {
          "output_type": "stream",
          "name": "stdout",
          "text": [
            "/usr/local/lib/python3.11/dist-packages/gdown/__main__.py:140: FutureWarning: Option `--id` was deprecated in version 4.3.1 and will be removed in 5.0. You don't need to pass it anymore to use a file ID.\n",
            "  warnings.warn(\n",
            "Downloading...\n",
            "From (original): https://drive.google.com/uc?id=1TvN8l3a2GzMq9il14sTgty9V32MCSjaZ\n",
            "From (redirected): https://drive.google.com/uc?id=1TvN8l3a2GzMq9il14sTgty9V32MCSjaZ&confirm=t&uuid=9973c674-86b2-4bca-88df-52064f44c4b1\n",
            "To: /content/IP102.zip\n",
            "100% 58.8M/58.8M [00:00<00:00, 227MB/s]\n"
          ]
        }
      ],
      "source": [
        "!gdown --id 1TvN8l3a2GzMq9il14sTgty9V32MCSjaZ -O IP102.zip\n",
        "!unzip -q IP102.zip -d IP102"
      ]
    },
    {
      "cell_type": "code",
      "source": [
        "import zipfile\n",
        "import os\n",
        "\n",
        "# Correct ZIP path\n",
        "zip_path = \"/content/IP102.zip\"\n",
        "extract_path = \"/content/IP102\"\n",
        "\n",
        "# Create the directory if not exists\n",
        "os.makedirs(extract_path, exist_ok=True)\n",
        "\n",
        "# Unzip\n",
        "with zipfile.ZipFile(zip_path, 'r') as zip_ref:\n",
        "    zip_ref.extractall(extract_path)\n",
        "\n",
        "print(\"✅ Unzipping complete. Files extracted to:\", extract_path)\n"
      ],
      "metadata": {
        "colab": {
          "base_uri": "https://localhost:8080/"
        },
        "id": "vWpjx8mwtswI",
        "outputId": "4725f1ae-cc0a-4eb4-9ffa-93a7099a8fc2"
      },
      "execution_count": 2,
      "outputs": [
        {
          "output_type": "stream",
          "name": "stdout",
          "text": [
            "✅ Unzipping complete. Files extracted to: /content/IP102\n"
          ]
        }
      ]
    },
    {
      "cell_type": "code",
      "source": [
        "import os\n",
        "\n",
        "# Show top-level contents\n",
        "os.listdir(\"/content/IP102\")"
      ],
      "metadata": {
        "colab": {
          "base_uri": "https://localhost:8080/"
        },
        "id": "3naitgWCtxK3",
        "outputId": "d0fad2cc-ca80-4426-c8f7-1f003bc51420"
      },
      "execution_count": 3,
      "outputs": [
        {
          "output_type": "execute_result",
          "data": {
            "text/plain": [
              "['data.yaml', 'README.roboflow.txt', 'test', 'valid', 'train']"
            ]
          },
          "metadata": {},
          "execution_count": 3
        }
      ]
    },
    {
      "cell_type": "code",
      "source": [
        "import shutil\n",
        "import os\n",
        "\n",
        "base_path = \"/content/IP102\"\n",
        "\n",
        "# Move images and labels from train/, valid/, test/ to proper folders\n",
        "splits = ['train', 'valid', 'test']\n",
        "\n",
        "for split in splits:\n",
        "    img_src = os.path.join(base_path, split, \"images\")\n",
        "    lbl_src = os.path.join(base_path, split, \"labels\")\n",
        "\n",
        "    img_dst = os.path.join(base_path, \"images\", split)\n",
        "    lbl_dst = os.path.join(base_path, \"labels\", split)\n",
        "\n",
        "    os.makedirs(img_dst, exist_ok=True)\n",
        "    os.makedirs(lbl_dst, exist_ok=True)\n",
        "\n",
        "    for f in os.listdir(img_src):\n",
        "        shutil.move(os.path.join(img_src, f), img_dst)\n",
        "\n",
        "    for f in os.listdir(lbl_src):\n",
        "        shutil.move(os.path.join(lbl_src, f), lbl_dst)\n",
        "\n",
        "print(\"✅ Folder structure fixed for YOLOv8.\")\n"
      ],
      "metadata": {
        "colab": {
          "base_uri": "https://localhost:8080/"
        },
        "id": "YrIUBFhUuuRF",
        "outputId": "1dd25973-cfc9-40db-f2aa-c07f0153d50a"
      },
      "execution_count": 4,
      "outputs": [
        {
          "output_type": "stream",
          "name": "stdout",
          "text": [
            "✅ Folder structure fixed for YOLOv8.\n"
          ]
        }
      ]
    },
    {
      "cell_type": "code",
      "source": [
        "import shutil\n",
        "for split in splits:\n",
        "    shutil.rmtree(os.path.join(base_path, split))\n"
      ],
      "metadata": {
        "id": "TKY8lGX0vrq8"
      },
      "execution_count": 5,
      "outputs": []
    },
    {
      "cell_type": "code",
      "source": [
        "import os\n",
        "\n",
        "def print_directory_tree(startpath, max_depth=2):\n",
        "    for root, dirs, files in os.walk(startpath):\n",
        "        level = root.replace(startpath, '').count(os.sep)\n",
        "        if level > max_depth:\n",
        "            continue\n",
        "        # Count files in current directory\n",
        "        file_count = len(files)\n",
        "        # Print directory name and file count\n",
        "        indent = '│   ' * level + '├── '\n",
        "        print(f\"{indent}{os.path.basename(root)}/ [{file_count} files]\")\n",
        "        # Print filenames\n",
        "        sub_indent = '│   ' * (level + 1)\n",
        "        for f in files:\n",
        "            print(f\"{sub_indent}{f}\")\n",
        "\n",
        "# Run on your dataset folder\n",
        "print_directory_tree(\"/content/IP102\")"
      ],
      "metadata": {
        "colab": {
          "base_uri": "https://localhost:8080/"
        },
        "id": "ELtJu3E4bGhJ",
        "outputId": "6fcac346-5c86-435d-c413-e542b42651fd"
      },
      "execution_count": 7,
      "outputs": [
        {
          "output_type": "stream",
          "name": "stdout",
          "text": [
            "├── IP102/ [2 files]\n",
            "│   data.yaml\n",
            "│   README.roboflow.txt\n",
            "│   ├── labels/ [0 files]\n",
            "│   │   ├── test/ [264 files]\n",
            "│   │   │   train_39103_jpg.rf.bbadd1f17eef439b5cdc37f8216bacf6.txt\n",
            "│   │   │   train_40170_jpg.rf.9ddd3b59226da68dc88b2ea70242abf9.txt\n",
            "│   │   │   train_40158_jpg.rf.20b25da885ad5295e851cbe7e336910a.txt\n",
            "│   │   │   train_38988_jpg.rf.b915f8b8f8c8aeffc81cc10e4ed14967.txt\n",
            "│   │   │   train_40051_jpg.rf.d9c800645868cf01a4bd42447e7ee7c2.txt\n",
            "│   │   │   train_38699_jpg.rf.df95c72738b18491339b476ada95b779.txt\n",
            "│   │   │   train_40087_jpg.rf.209e3a5ba5b4ea80906def044962e574.txt\n",
            "│   │   │   val_40090_jpg.rf.f21e05827bb2a6bb7062076652891f3a.txt\n",
            "│   │   │   train_38986_jpg.rf.adfddf19eb623d44644910ae1f07619b.txt\n",
            "│   │   │   train_39075_jpg.rf.0da4b704a016ae79c0ec3ca3c73552ae.txt\n",
            "│   │   │   train_40179_jpg.rf.dceb9b5685c2df051dc235a773b07f74.txt\n",
            "│   │   │   train_40088_jpg.rf.9d25f2256d8b98c6e9c7230728137a35.txt\n",
            "│   │   │   train_39037_jpg.rf.dd0392deccb3aa148136f999f15fb46a.txt\n",
            "│   │   │   train_38706_jpg.rf.62125c1104cde2ff9a409248870fc42d.txt\n",
            "│   │   │   train_39117_jpg.rf.6bf0af5a4fdb2329a199c24414271177.txt\n",
            "│   │   │   train_39094_jpg.rf.e0cea8a871084d3e860262476e7936cf.txt\n",
            "│   │   │   test_38958_jpg.rf.5312a8e9057a31e0d18f9aec62490fd2.txt\n",
            "│   │   │   train_40161_jpg.rf.f6b2470dbdc2c3ab372ab75b63635e55.txt\n",
            "│   │   │   train_38777_jpg.rf.6e9281353e137675e012fdf02b88f9ed.txt\n",
            "│   │   │   train_38868_jpg.rf.ff2736c0a11d993729e29b9aa59b4ddd.txt\n",
            "│   │   │   train_39044_jpg.rf.9d8d1eb337b0834949ae83b4cdd103fc.txt\n",
            "│   │   │   train_39049_jpg.rf.948bac23d9f018e536efceb83d8356aa.txt\n",
            "│   │   │   train_39112_jpg.rf.3a86bbff07240d0a1bbbdfc47d8493d9.txt\n",
            "│   │   │   train_38987_jpg.rf.8839a61bdd9d230f5812255fa14f43cc.txt\n",
            "│   │   │   test_39036_jpg.rf.e909f9b9d78b1ba84bf75e538e5c5f62.txt\n",
            "│   │   │   train_40035_jpg.rf.86871f07c6ba083149aaf33a7876a320.txt\n",
            "│   │   │   train_39121_jpg.rf.351bf0e5e878f1d9b89488bb9f77a8e9.txt\n",
            "│   │   │   train_38931_jpg.rf.fe8c43ba75b6f3098ec30ca61c810980.txt\n",
            "│   │   │   test_40023_jpg.rf.2a656202c52fae5fddb3547fffe6956d.txt\n",
            "│   │   │   train_38993_jpg.rf.72090248db4009de96791971a091a5dc.txt\n",
            "│   │   │   train_39056_jpg.rf.47e75ffb6d98c3a34212771f9774187c.txt\n",
            "│   │   │   val_40185_jpg.rf.19755dc73165601f4f9cd60cbccb2fff.txt\n",
            "│   │   │   train_40042_jpg.rf.ccd86f8e66f109fee490174040509433.txt\n",
            "│   │   │   train_40077_jpg.rf.c3fbd4a578239df3bac99d7bef537c1f.txt\n",
            "│   │   │   train_38899_jpg.rf.414941f155dbcf0ec4de3c14faec05f1.txt\n",
            "│   │   │   train_40114_jpg.rf.3b2d655d558a14a44b6b531d9dbf29e4.txt\n",
            "│   │   │   train_38963_jpg.rf.a94c5f3d5a67faa466a5bdc953abdbec.txt\n",
            "│   │   │   train_40156_jpg.rf.4e1a0c07e89d881e4331e5908ba0e87d.txt\n",
            "│   │   │   train_39000_jpg.rf.63fa34cbdce0b75a3e7f0a726cc86b41.txt\n",
            "│   │   │   train_38998_jpg.rf.0c674c85a7470c994f59e27fd20249e9.txt\n",
            "│   │   │   train_38981_jpg.rf.6ebad82ff7ee38df36c405fa42b45a11.txt\n",
            "│   │   │   train_40127_jpg.rf.3c931e08dfa13c2f1859d3e8d5af3599.txt\n",
            "│   │   │   train_39013_jpg.rf.1bd8a187824d4358d2142e917f7f5bab.txt\n",
            "│   │   │   train_38775_jpg.rf.34b2d864c80347ea54f2f62e69a5ad7c.txt\n",
            "│   │   │   train_40149_jpg.rf.28a63b88bc7500310e071c8b18b34d29.txt\n",
            "│   │   │   val_40053_jpg.rf.22db6a9f3c4308cd86b00c03e1802711.txt\n",
            "│   │   │   train_40027_jpg.rf.97a55f4f3db418d495b5fe58976b0215.txt\n",
            "│   │   │   train_40020_jpg.rf.e17e1adf69bcc6b47af06c8655700f94.txt\n",
            "│   │   │   train_40115_jpg.rf.f7df3b3e19eeca7b0f1441a70ccf23d5.txt\n",
            "│   │   │   train_40117_jpg.rf.dd7aecec57c152c146b8cc79c3e73775.txt\n",
            "│   │   │   train_38773_jpg.rf.bfe60907b07decf72a04b25246171a85.txt\n",
            "│   │   │   train_39069_jpg.rf.074fcc2a600a1034b5fd67accdbb6220.txt\n",
            "│   │   │   train_40175_jpg.rf.645c3432f3f21a2679b7898668f10231.txt\n",
            "│   │   │   train_40183_jpg.rf.b3e6743aef4a3db585f4b42633d3e1fb.txt\n",
            "│   │   │   val_40015_jpg.rf.3e3e194c25f6371ed55380e40630c482.txt\n",
            "│   │   │   train_40070_jpg.rf.363462897a1a8a2cb66c12ff016e08ec.txt\n",
            "│   │   │   train_38805_jpg.rf.155006b83c044a604993e080e1aff861.txt\n",
            "│   │   │   train_39061_jpg.rf.2317192942f66c5e7c18376fc17ef20f.txt\n",
            "│   │   │   train_40063_jpg.rf.0813b3ead2a13da2d0d9572a47c98767.txt\n",
            "│   │   │   train_40152_jpg.rf.86b4500f6810878ed00749f0682a32e8.txt\n",
            "│   │   │   train_38983_jpg.rf.9c8a2083872ce77dbecd12af34685645.txt\n",
            "│   │   │   train_39106_jpg.rf.feab7383457ed35ac7b8cce351e8b3a6.txt\n",
            "│   │   │   train_38999_jpg.rf.115097a56911406979fcec42213bd58c.txt\n",
            "│   │   │   train_40109_jpg.rf.06678f2940de73bc5e6297a446f27678.txt\n",
            "│   │   │   train_38726_jpg.rf.5880267a52c3d5bd426367cba49af83b.txt\n",
            "│   │   │   train_40098_jpg.rf.9815f4ee6073825f151a48e0f3646037.txt\n",
            "│   │   │   train_38708_jpg.rf.7610975ffdace84899051604b6365087.txt\n",
            "│   │   │   train_38997_jpg.rf.367b2a943670620700a28111fdcdd455.txt\n",
            "│   │   │   test_39090_jpg.rf.2b80f1a43584738a747c783854080b5b.txt\n",
            "│   │   │   train_40150_jpg.rf.8ee75e4a89fe7b163a0f57f72d56d978.txt\n",
            "│   │   │   train_40069_jpg.rf.393e50dcde130d6fcdfe863dc8882244.txt\n",
            "│   │   │   train_39016_jpg.rf.076dca0c8e5872576405abe6c4aff396.txt\n",
            "│   │   │   train_40034_jpg.rf.3134dfcbd47b5d53bd7407d4a06ee0f8.txt\n",
            "│   │   │   train_39015_jpg.rf.4fb96350e6fda7b76d38ef99d4da8dea.txt\n",
            "│   │   │   train_39058_jpg.rf.21ab92f623400ec46f3b187522846658.txt\n",
            "│   │   │   val_40129_jpg.rf.fed22fe048d6fbf9d06e34ff8ae04484.txt\n",
            "│   │   │   train_40033_jpg.rf.12291651d3950b941d06a6b7f346ea26.txt\n",
            "│   │   │   val_40163_jpg.rf.843e5dfb81715c079ee65b6a91fdde52.txt\n",
            "│   │   │   val_40122_jpg.rf.fc648fe9108af61d54bee3a0fb1ad4c7.txt\n",
            "│   │   │   val_40144_jpg.rf.32629a418ddbf2161feaee69e812b30a.txt\n",
            "│   │   │   train_39009_jpg.rf.c2519fd76f5939f0e86eed6c88af8022.txt\n",
            "│   │   │   train_38711_jpg.rf.d802d0ac37cc5b996fab5d221e287d83.txt\n",
            "│   │   │   val_40142_jpg.rf.d552716959e1e350c55410a4b17c382c.txt\n",
            "│   │   │   train_40038_jpg.rf.dd53260165e8a039972e638b2f4d3075.txt\n",
            "│   │   │   train_40049_jpg.rf.e48f9605e4df9c46e557050272204e40.txt\n",
            "│   │   │   train_40101_jpg.rf.9f9f43c6de723e2a7386faff590900df.txt\n",
            "│   │   │   train_38984_jpg.rf.95df7e432ae6a20aa94453066ca5bcca.txt\n",
            "│   │   │   train_40132_jpg.rf.a2ce15595656f17e1f6b2fe0e1abc558.txt\n",
            "│   │   │   train_39050_jpg.rf.7289d6a36420504c4a6d3736a60310c3.txt\n",
            "│   │   │   test_39057_jpg.rf.19a4ff94561c12f306019d167b730092.txt\n",
            "│   │   │   train_38696_jpg.rf.ab984a719c15077910dba3692c2e8d28.txt\n",
            "│   │   │   train_38980_jpg.rf.00092e86a93587cdd96c5198aa1931e1.txt\n",
            "│   │   │   train_40045_jpg.rf.245c727004f300b1674343e07c5c4a45.txt\n",
            "│   │   │   train_40046_jpg.rf.a3825ca7eb3fc69a6e3be50166024951.txt\n",
            "│   │   │   train_39077_jpg.rf.aee6f5667038b47fe70d2ef596453372.txt\n",
            "│   │   │   train_40044_jpg.rf.5cf5f717680e43e4bf8ccf45ac4911b1.txt\n",
            "│   │   │   train_40134_jpg.rf.ed54e6272d76ca0d820e8bc3f899b910.txt\n",
            "│   │   │   train_40036_jpg.rf.4eb087c94aec25e901fd7192514b6a71.txt\n",
            "│   │   │   train_40010_jpg.rf.25522b81327781794fa01b2c9837d3f4.txt\n",
            "│   │   │   train_39038_jpg.rf.35ef1aec11302f551cdb41eb60eb0ae5.txt\n",
            "│   │   │   test_39034_jpg.rf.e3e12d68bcfddaff6865bcff646a74b8.txt\n",
            "│   │   │   train_40064_jpg.rf.8ecaf0004672fcb1e87c8421231aa2d8.txt\n",
            "│   │   │   train_40066_jpg.rf.c40183e98a5397fb6295973b169c1a2f.txt\n",
            "│   │   │   val_40092_jpg.rf.9eeafde3e99af6b1410766a8b264ed67.txt\n",
            "│   │   │   val_40112_jpg.rf.29b26186efa9e4abc0794184aa7820b7.txt\n",
            "│   │   │   train_38856_jpg.rf.03bb60ffe5bfc14c3c57762074bbbdb3.txt\n",
            "│   │   │   train_38756_jpg.rf.b8c72925587bd406b421c2cb03ea14d0.txt\n",
            "│   │   │   train_39073_jpg.rf.be4f84874bbbde3635a5ac3fc6446a96.txt\n",
            "│   │   │   train_40113_jpg.rf.e59ae2c6a916ec6e85147ecf9284cab4.txt\n",
            "│   │   │   test_40008_jpg.rf.f3c4ee1ae79cf3e37813622e5b426eb3.txt\n",
            "│   │   │   test_38970_jpg.rf.4a28fbea1f0e2a33326033086cddf6f9.txt\n",
            "│   │   │   train_39023_jpg.rf.361c1589cc34bef4ca3eb7c723c80c17.txt\n",
            "│   │   │   train_38968_jpg.rf.040b74237fe2ceecd2bffa4f75af6069.txt\n",
            "│   │   │   train_38991_jpg.rf.404cbe878f46b8c887427d82957a882e.txt\n",
            "│   │   │   train_39102_jpg.rf.91859cfc8f81c0554d89c263e5986b28.txt\n",
            "│   │   │   val_40118_jpg.rf.51d8a9fa7d1279c7c3edc498fe0cba4c.txt\n",
            "│   │   │   train_38729_jpg.rf.2f9334a2e68f446e9ede44e60144045a.txt\n",
            "│   │   │   train_38952_jpg.rf.aa5606ccf9209c6d2ac67bf4e2e22588.txt\n",
            "│   │   │   train_39052_jpg.rf.0a07fd9beb2417179319bace904bac60.txt\n",
            "│   │   │   train_39118_jpg.rf.f0994afb23794d6a319d39d6487ebae4.txt\n",
            "│   │   │   train_40026_jpg.rf.ddb751ff2998879b27af62a114adf1b5.txt\n",
            "│   │   │   train_38861_jpg.rf.289515b769c83be9559feb8339655918.txt\n",
            "│   │   │   train_40162_jpg.rf.5e76d62546f3322aad19aedf2a18a65f.txt\n",
            "│   │   │   train_40028_jpg.rf.9500aa059e3f87bb7f5394c00107b6a4.txt\n",
            "│   │   │   val_40007_jpg.rf.2e5a479887be42fcffaa2244e169953f.txt\n",
            "│   │   │   train_38716_jpg.rf.9cc14c8ab72cf498746cb48789973c30.txt\n",
            "│   │   │   train_39097_jpg.rf.971fa2e718ee5dc6941f0f649293d8a3.txt\n",
            "│   │   │   train_39115_jpg.rf.86776926ee19bd52ce3322827e11bb36.txt\n",
            "│   │   │   train_38820_jpg.rf.bdb67f5bf06f46ae9d457c1b475f4f48.txt\n",
            "│   │   │   train_38990_jpg.rf.2f96f60697c8b1343b2104eaa17f071c.txt\n",
            "│   │   │   train_40157_jpg.rf.8791203509e18f19fdee65e50d7eb437.txt\n",
            "│   │   │   train_39105_jpg.rf.ea31d56e986b8e745eae88e56317333a.txt\n",
            "│   │   │   train_40091_jpg.rf.52addbb8756c10c69c153c5b19c46f94.txt\n",
            "│   │   │   train_38843_jpg.rf.72af49bf716dc4a09e6524e8e3c64d5d.txt\n",
            "│   │   │   train_38971_jpg.rf.ee275e58a69f03e36641023be8548fd3.txt\n",
            "│   │   │   train_39006_jpg.rf.0101dff1e2d20c67d1c75e423bbbdc71.txt\n",
            "│   │   │   train_38704_jpg.rf.0dc0e6c6954b3176ce3882cc44306f2c.txt\n",
            "│   │   │   train_38979_jpg.rf.0e6cc392b8d49ed16082c1b0120b9a6b.txt\n",
            "│   │   │   train_40138_jpg.rf.cabc07d357190d9ee0d96d69275c1e06.txt\n",
            "│   │   │   train_40025_jpg.rf.57e6dadefe6345e8ce22c37919133841.txt\n",
            "│   │   │   train_38727_jpg.rf.63184fb4a193903a5f531c31db7fc9ff.txt\n",
            "│   │   │   val_40145_jpg.rf.df8afe7a7f5c840de764df249cb2b053.txt\n",
            "│   │   │   train_40014_jpg.rf.9363b3b149f123c40c695587e0b12430.txt\n",
            "│   │   │   train_40131_jpg.rf.7dde13628725ca7333952f7c4d0e0a8d.txt\n",
            "│   │   │   train_40123_jpg.rf.27a5c9b9f367b795153b8c109daa16e3.txt\n",
            "│   │   │   train_39086_jpg.rf.75d28b5f8c5dd7c23fec62b470fbf366.txt\n",
            "│   │   │   val_40105_jpg.rf.56453a176d739a4dbe7f0acc4b27e6ef.txt\n",
            "│   │   │   train_38765_jpg.rf.49b4d4e9aef9406617969f86581c8fd7.txt\n",
            "│   │   │   train_39074_jpg.rf.a313db342fcc64fdc4b0bf9b4aa0efb1.txt\n",
            "│   │   │   train_40187_jpg.rf.2e8deb43c1f9fe7bebbb388a9275b0af.txt\n",
            "│   │   │   train_39068_jpg.rf.80a9c64fc25a4d74feb311a92ee83f1a.txt\n",
            "│   │   │   train_38690_jpg.rf.002c1ed73faf7d585ab71a14948f7ead.txt\n",
            "│   │   │   train_39071_jpg.rf.c5c4cd9c3dce15f60678fc2f096a3b6b.txt\n",
            "│   │   │   train_40029_jpg.rf.5ebd3b58013ab11f27af764c9cb711a6.txt\n",
            "│   │   │   train_40104_jpg.rf.1abf1edf140a5b28b1d8597bf2cae79b.txt\n",
            "│   │   │   train_38964_jpg.rf.e919a314720f8891699bc25f2c800abe.txt\n",
            "│   │   │   train_39040_jpg.rf.bf6193404c51e784a4fbaa5a1d004c26.txt\n",
            "│   │   │   train_40043_jpg.rf.f8cd729cd30ab580d4f2ad142b272285.txt\n",
            "│   │   │   train_39088_jpg.rf.cb931306c0e0a6eb1801f992ae1eb1a3.txt\n",
            "│   │   │   train_38955_jpg.rf.4ab250d418e6812e56d034d465358e3b.txt\n",
            "│   │   │   train_39007_jpg.rf.ce193025c8c616d73f709a1ac8672803.txt\n",
            "│   │   │   train_39019_jpg.rf.bc12e3d66d582b1dd7f764e9f002776d.txt\n",
            "│   │   │   train_38813_jpg.rf.bcdbcc0d1f17f9119843d00b04e28690.txt\n",
            "│   │   │   train_40009_jpg.rf.d4e07b5507e98d2c345f6b234802da17.txt\n",
            "│   │   │   train_39001_jpg.rf.2664564c7fd2bff5bfb51da8b09c03a6.txt\n",
            "│   │   │   train_40153_jpg.rf.8521ae3081b10a1cd3786ed8ffac3202.txt\n",
            "│   │   │   train_40140_jpg.rf.28c6729d5722cfd24acc4ce73e6d1f30.txt\n",
            "│   │   │   train_39021_jpg.rf.46e7b54dcce44a16baac285ae5286b05.txt\n",
            "│   │   │   val_40176_jpg.rf.32cae919d47a9f293d1f688896862147.txt\n",
            "│   │   │   train_39108_jpg.rf.f928c1553f6806c6d45951e4f2b58fea.txt\n",
            "│   │   │   train_39064_jpg.rf.0aeed229bc6c12bb1afb219e529ed620.txt\n",
            "│   │   │   train_38692_jpg.rf.235f81b5d73f4a701144c3cfd7fe0657.txt\n",
            "│   │   │   train_39028_jpg.rf.3677e68086739b38fcc0a98248eb46d7.txt\n",
            "│   │   │   train_38973_jpg.rf.ee5f70a37621ea3be3990ce3ae62e7d4.txt\n",
            "│   │   │   train_39012_jpg.rf.73d2feaae206e8a357cf03773bc481ed.txt\n",
            "│   │   │   train_40181_jpg.rf.ff3d31e338d001d3f25a618f1e332296.txt\n",
            "│   │   │   train_39029_jpg.rf.3627f3af7281a98a41e00a8ec3c6b654.txt\n",
            "│   │   │   train_38710_jpg.rf.c06a11cbc23cf97a56a190940baf076a.txt\n",
            "│   │   │   train_39100_jpg.rf.1d0c5175d643a5431b248eb9dd5c605e.txt\n",
            "│   │   │   train_39055_jpg.rf.1f7a603e4df7f9a5e656d8d0b5e83708.txt\n",
            "│   │   │   train_39083_jpg.rf.8dc98e50f624d07d0fed2f6151864724.txt\n",
            "│   │   │   train_40085_jpg.rf.27fdc06810feedf6805ae17a3e032646.txt\n",
            "│   │   │   test_38959_jpg.rf.528a6c243f6c01e69ae921c01b33d706.txt\n",
            "│   │   │   train_40125_jpg.rf.d18d9742ac547f32a3630c31ee128938.txt\n",
            "│   │   │   train_40165_jpg.rf.ceee70b20fa638ee618a11814e3b8714.txt\n",
            "│   │   │   train_40136_jpg.rf.e11609db11eaccee6d9a25c061e68fe9.txt\n",
            "│   │   │   train_40062_jpg.rf.6ab67d224f07154c06ae2d98b3d66864.txt\n",
            "│   │   │   test_40190_jpg.rf.0354ac73046cc28de31b68ae13675234.txt\n",
            "│   │   │   train_40128_jpg.rf.5ff9d345696416ee4befab89ef6d77f8.txt\n",
            "│   │   │   train_38995_jpg.rf.baadaa2aec9840855d38fc005eb95430.txt\n",
            "│   │   │   train_39043_jpg.rf.0f700f0f09c1249352bfadb200d9aeb2.txt\n",
            "│   │   │   train_40041_jpg.rf.d30c252111cb3bc83ca01853d5356251.txt\n",
            "│   │   │   train_38816_jpg.rf.482775543f7f0810c913739dda800944.txt\n",
            "│   │   │   train_39042_jpg.rf.142864e32bd183abd8b735c673c6acc3.txt\n",
            "│   │   │   train_40180_jpg.rf.9a9dbb3ffb8d826a8b6c4e32a70dcde0.txt\n",
            "│   │   │   train_38967_jpg.rf.dbb457c926ddae787bf76d9216db87f4.txt\n",
            "│   │   │   train_39111_jpg.rf.d76169a893f142db037855c628f76283.txt\n",
            "│   │   │   train_39059_jpg.rf.80a675395824dd895229e6f32770884c.txt\n",
            "│   │   │   train_40124_jpg.rf.f2da698deca535048dc84b383603ebe7.txt\n",
            "│   │   │   train_40110_jpg.rf.82b7ec3fe3aa113c2f72d4f8fef0dcec.txt\n",
            "│   │   │   train_39025_jpg.rf.4dbd67b4f15151a3eee31edf668171ef.txt\n",
            "│   │   │   train_40168_jpg.rf.92ef68690c3280c4196d132c17a8dbd5.txt\n",
            "│   │   │   train_38737_jpg.rf.f6bbddc731090f54db38055492395723.txt\n",
            "│   │   │   train_39045_jpg.rf.60c88efaecf4981ccf5e3de2279819f1.txt\n",
            "│   │   │   train_39089_jpg.rf.4d526116201beb688e1c035ae6f620aa.txt\n",
            "│   │   │   train_40047_jpg.rf.efb40ddceb3e4695320fb98e68a12c5d.txt\n",
            "│   │   │   train_40086_jpg.rf.ac578850a507cf82aecc6d437f7d9aac.txt\n",
            "│   │   │   train_40146_jpg.rf.301a53c7911cb86a41dbdf03f07d4437.txt\n",
            "│   │   │   train_40167_jpg.rf.5f8db09b030aefc9cd009872c5d0d2bd.txt\n",
            "│   │   │   train_40172_jpg.rf.c92fa2c00070e111b9d2821147f2a109.txt\n",
            "│   │   │   train_38720_jpg.rf.ef76c4fdb720c2562f2a3d553ea470c9.txt\n",
            "│   │   │   train_40182_jpg.rf.e543a867680c066d4a4f0ab21381aeb4.txt\n",
            "│   │   │   train_40076_jpg.rf.c1725ee94fe6393277bb00d82767fe89.txt\n",
            "│   │   │   train_38965_jpg.rf.8a00601f5c075287351a9b3dcf1f7784.txt\n",
            "│   │   │   train_38886_jpg.rf.fad10ef53f9ae23138f235fd93cbdc1d.txt\n",
            "│   │   │   train_40081_jpg.rf.0c86d7a6a59fe70e3a1e3dcda2eb286c.txt\n",
            "│   │   │   train_40184_jpg.rf.bfbfce7586facbf84984d44164133b37.txt\n",
            "│   │   │   test_39109_jpg.rf.4558681dbbdf2c911777cc9ed01c237d.txt\n",
            "│   │   │   train_40060_jpg.rf.ea73d038796f617027e07adced78fd32.txt\n",
            "│   │   │   test_39032_jpg.rf.84750cbcc2bf0da50a99d009a0f8f45b.txt\n",
            "│   │   │   train_39113_jpg.rf.acbe1dee0a4a50dc5a25c884887eece7.txt\n",
            "│   │   │   val_40130_jpg.rf.16a0d73b9bf38c1397659405b22a443d.txt\n",
            "│   │   │   train_39070_jpg.rf.99d76cda54e8717cedfecdd1e2c727c7.txt\n",
            "│   │   │   train_39066_jpg.rf.13d5bddf420ff2c5db092653b342721e.txt\n",
            "│   │   │   train_40106_jpg.rf.fcb687684afe02b94c50cf5bc22501d0.txt\n",
            "│   │   │   train_38703_jpg.rf.48706f5224c36df549683244be36c26b.txt\n",
            "│   │   │   train_39116_jpg.rf.1aab775dc10a3f9c5a0ca567d839ec9c.txt\n",
            "│   │   │   val_40169_jpg.rf.5843fa2806ad3a3c349eeee016996e29.txt\n",
            "│   │   │   train_39082_jpg.rf.b8263d86aebff28a85e84008663335a5.txt\n",
            "│   │   │   train_40075_jpg.rf.02e7bd29739c511a29c91fbc00a997be.txt\n",
            "│   │   │   train_38693_jpg.rf.e7bc817a9e534e747bf305856f4aebcf.txt\n",
            "│   │   │   train_40074_jpg.rf.dced0baf00cdf01ed505ea4b836fe1f8.txt\n",
            "│   │   │   train_39092_jpg.rf.7398adf460f6d40d4173879e4af2d364.txt\n",
            "│   │   │   train_40173_jpg.rf.30b8d87efd54b11602925608b436b28d.txt\n",
            "│   │   │   train_40056_jpg.rf.07c23f171c95ccefe41513282e36d853.txt\n",
            "│   │   │   test_40189_jpg.rf.d1d858492812cac75b46283682ca5d0f.txt\n",
            "│   │   │   train_40017_jpg.rf.3d73c8a762a1d9fa8118b2aa93b314a6.txt\n",
            "│   │   │   train_40126_jpg.rf.6d3a62217b4c4dcda1c98d130b1b6839.txt\n",
            "│   │   │   train_40094_jpg.rf.92f4ae76e736a2216d0f5ec3ebfdcb9c.txt\n",
            "│   │   │   train_39076_jpg.rf.9b85de059116ed972858eecd498b70fe.txt\n",
            "│   │   │   train_39026_jpg.rf.226fb3f6b0dce9aa1bd2fc47c15d237d.txt\n",
            "│   │   │   train_38694_jpg.rf.a3ea9a53d45cf4f994147cc1eef95e9a.txt\n",
            "│   │   │   train_40178_jpg.rf.cb3f7ccb0fe069304f6808682a0c8285.txt\n",
            "│   │   │   train_38996_jpg.rf.aad084e4a158b1080900895f095bf7af.txt\n",
            "│   │   │   train_40084_jpg.rf.e7b95522a5ce11e05f0841ba40567ec7.txt\n",
            "│   │   │   train_40160_jpg.rf.d42b8caf7efe3ac77eab41724e18ebb0.txt\n",
            "│   │   │   test_38989_jpg.rf.5910bab24a2eb9ffb9ea660fe94fe0f5.txt\n",
            "│   │   │   train_40096_jpg.rf.c5e5d81950558905fc370079aaa34c06.txt\n",
            "│   │   │   train_39004_jpg.rf.7ea8d883aa85a84c032f5e3b441b96da.txt\n",
            "│   │   │   train_40067_jpg.rf.daa18d4c4a7cdc75e8f37540646f65e7.txt\n",
            "│   │   │   train_39081_jpg.rf.d2efef8bec8173a54ca2d03596cbc05f.txt\n",
            "│   │   │   train_40083_jpg.rf.45e28358efeef66cfcfa0bf6af0cb4f3.txt\n",
            "│   │   │   train_40164_jpg.rf.c8cf2ffe95d206873059e277ff1728c2.txt\n",
            "│   │   │   train_38695_jpg.rf.365368b412b4f8796dc111e9794ac95c.txt\n",
            "│   │   │   train_40019_jpg.rf.4dfaaaf5a1e1b52c2dab34570a9ec9f5.txt\n",
            "│   │   │   train_40093_jpg.rf.38dd08acc8bc8b753568d2dc108cd5ba.txt\n",
            "│   │   │   train_40052_jpg.rf.61f78a8d4d64b03c45043c44eddec164.txt\n",
            "│   │   │   train_38786_jpg.rf.f1c678b1894be4be21892e2bb05fd648.txt\n",
            "│   │   │   train_39119_jpg.rf.ac14511e06a7a57993a59bdb9deccbb1.txt\n",
            "│   │   │   train_40022_jpg.rf.73c09c475bd664c9713846430b158b23.txt\n",
            "│   │   │   train_40133_jpg.rf.2d69c7bffe4af5267b7fb0e051803933.txt\n",
            "│   │   │   train_39047_jpg.rf.83fa0210dffb1a89736e33d2861b8e9f.txt\n",
            "│   │   │   train_39099_jpg.rf.d2689556bc7fe4c3c6475402981f6515.txt\n",
            "│   │   │   train_38961_jpg.rf.ac6baaf89f82fafce295851d068dec9c.txt\n",
            "│   │   ├── valid/ [189 files]\n",
            "│   │   │   test_40108_jpg.rf.48b2820cff4c8f138e3e111e00b490dd.txt\n",
            "│   │   │   test_40147_jpg.rf.6be3c8b8d4a335212a742c36f6eb6c6e.txt\n",
            "│   │   │   train_38725_jpg.rf.d099cc727565879e91a17c2181e40b17.txt\n",
            "│   │   │   train_38835_jpg.rf.d0e82db0143b68146b7e6d996492b237.txt\n",
            "│   │   │   train_38829_jpg.rf.f4f7b4a3eb9a7c1dabc849b4d0287e91.txt\n",
            "│   │   │   test_40102_jpg.rf.1a873ba767b4c0eb89f8f7e25ce27f51.txt\n",
            "│   │   │   test_40039_jpg.rf.d4be21deb4f10b9f025e334abb608343.txt\n",
            "│   │   │   train_38919_jpg.rf.053c995a18a59c46349609b20607353a.txt\n",
            "│   │   │   train_38728_jpg.rf.21d750cc3f11fd58e6c9a8a346ff71be.txt\n",
            "│   │   │   test_40073_jpg.rf.e8a3a79c0f9bad8da7d1f7a15081312e.txt\n",
            "│   │   │   train_38936_jpg.rf.6b8389c69a4f7510e87427cccaba377d.txt\n",
            "│   │   │   train_38739_jpg.rf.4745bb4c728f70224f301b76efc48ae1.txt\n",
            "│   │   │   train_38818_jpg.rf.be93b9a387ba4c79fab30f5c29cfa09f.txt\n",
            "│   │   │   train_38808_jpg.rf.631f14a2ace35f527dbfc1d30951cc5b.txt\n",
            "│   │   │   test_40082_jpg.rf.61040d2c534ff2efdc51ff364caec180.txt\n",
            "│   │   │   train_38792_jpg.rf.10bc2192ac81c2ede56eedf0fd346f71.txt\n",
            "│   │   │   train_40031_jpg.rf.9015bf4c3bf69f10500efea50b70a0f6.txt\n",
            "│   │   │   train_38740_jpg.rf.a7cd23406f303cd151b008ca20ec4549.txt\n",
            "│   │   │   test_40143_jpg.rf.7b59e92182cb402a885145509d2281cd.txt\n",
            "│   │   │   train_38802_jpg.rf.0eac8dcc2e46b222c498928d81c3f7e6.txt\n",
            "│   │   │   test_40061_jpg.rf.678f86e906abbb5b7c6e9315aff79660.txt\n",
            "│   │   │   train_38871_jpg.rf.34ca465a1b7e1b3f82a2cb614d2d5499.txt\n",
            "│   │   │   train_38934_jpg.rf.1be93e244641f5e32dbaaa728a40001a.txt\n",
            "│   │   │   train_38779_jpg.rf.dd961c58b87e418a62ee3b19b102cd94.txt\n",
            "│   │   │   train_38982_jpg.rf.e26d5875e4b6fd1eeff8bfbf1ad6fca0.txt\n",
            "│   │   │   train_38869_jpg.rf.d18b5d458dee5d2511bceb5236af4324.txt\n",
            "│   │   │   train_38896_jpg.rf.9f6ec94a3c14bfb4bb6047b8d5c9a210.txt\n",
            "│   │   │   test_38978_jpg.rf.3399b41ea95a256da5ed936adc7c1de8.txt\n",
            "│   │   │   train_38799_jpg.rf.a6656f0a5f357c5c37ca8b401df5e3ea.txt\n",
            "│   │   │   train_38721_jpg.rf.df755c25a283497b19493e997332883d.txt\n",
            "│   │   │   train_38732_jpg.rf.76d7c9cc04c713e4aa72fa555a4399d6.txt\n",
            "│   │   │   test_40065_jpg.rf.8cd047aadb218be6c7d602b5953a26ed.txt\n",
            "│   │   │   train_38864_jpg.rf.0e8a0a3b40882153a3de2de7b84ed445.txt\n",
            "│   │   │   train_39078_jpg.rf.f95a64a60dbb06a8104c4e16894b30d5.txt\n",
            "│   │   │   test_40111_jpg.rf.7538d5004fbd434f310f24f4fe798fcd.txt\n",
            "│   │   │   test_40154_jpg.rf.3b7277101d1bd79d3cc05e482cdce5e8.txt\n",
            "│   │   │   train_38782_jpg.rf.a6582d5be0f376ec5673618c8408b118.txt\n",
            "│   │   │   train_38714_jpg.rf.2c3fb59f4db71986ab39086a3ee65fa8.txt\n",
            "│   │   │   train_38809_jpg.rf.cad79ceb3ad11b07299c45a54ff7054a.txt\n",
            "│   │   │   test_40058_jpg.rf.88360cd1b58a0e9c70cd0cb75747825d.txt\n",
            "│   │   │   train_38947_jpg.rf.86cdd8bfbec3a7a72f634bb599c40251.txt\n",
            "│   │   │   train_38797_jpg.rf.95af935480ba05bc0aaafa152d7264ac.txt\n",
            "│   │   │   test_40120_jpg.rf.221d1003c35c9a23eb7b30c39f35be3b.txt\n",
            "│   │   │   test_40119_jpg.rf.68d67ca2e9779215fd3385a663dd915b.txt\n",
            "│   │   │   train_38753_jpg.rf.7d569061127676beaa553d8564186865.txt\n",
            "│   │   │   train_38895_jpg.rf.6f7561bc36e42c0e4ece150419f4e5c3.txt\n",
            "│   │   │   test_40078_jpg.rf.80234df74a57ba35d58bebba3762268c.txt\n",
            "│   │   │   train_38838_jpg.rf.575d8e791fc3cd3095bb3b0920033971.txt\n",
            "│   │   │   train_38859_jpg.rf.9e28fd7d0c1dc0d815044e07f264c138.txt\n",
            "│   │   │   train_38751_jpg.rf.0ac3f756fbe16da5f1a0362d75ebe726.txt\n",
            "│   │   │   train_38741_jpg.rf.ab6e84faccd437fb523f7d6493d699a9.txt\n",
            "│   │   │   test_40050_jpg.rf.bf5c07886dc1a2534b565a33db813fbe.txt\n",
            "│   │   │   train_38758_jpg.rf.672104afb11a5b4808a769a44a22eec9.txt\n",
            "│   │   │   train_38722_jpg.rf.0ec840207384545b9154df91ae1a85b6.txt\n",
            "│   │   │   train_38764_jpg.rf.e6108985d432d170fd50ddc65b7a21f9.txt\n",
            "│   │   │   train_38776_jpg.rf.fbb482bf7292761b485219c385944216.txt\n",
            "│   │   │   train_38847_jpg.rf.55e2a03ee781d8e6cbbc405e4aee4326.txt\n",
            "│   │   │   test_40121_jpg.rf.87496f5e356bc17089b7de7d9c1bd6b7.txt\n",
            "│   │   │   train_38906_jpg.rf.a4403494c75effc11a5434927ea6bace.txt\n",
            "│   │   │   test_40186_jpg.rf.b000f8ff7007ca6090a2327bff5dfbb4.txt\n",
            "│   │   │   test_40059_jpg.rf.be70c8bc175b0f1c2fdae0502b34a222.txt\n",
            "│   │   │   train_40016_jpg.rf.4968dcf7a39937889eb4e1f0010a70df.txt\n",
            "│   │   │   train_39120_jpg.rf.a296c7ba44b2f867dc119900083f2527.txt\n",
            "│   │   │   train_38914_jpg.rf.0a4123de2f77818eee2f3c8e1381377c.txt\n",
            "│   │   │   test_40054_jpg.rf.b32780bb1fe607234bdc4b89fefd9674.txt\n",
            "│   │   │   train_38891_jpg.rf.f96c9b83ae818b3c7ede346743975aba.txt\n",
            "│   │   │   train_38942_jpg.rf.fde26a92f60dd73b51881be4269ac399.txt\n",
            "│   │   │   train_38912_jpg.rf.68e90888e8133219556bc9fd29c528e9.txt\n",
            "│   │   │   test_40048_jpg.rf.20d3059fe40b28091722d56077359367.txt\n",
            "│   │   │   train_38888_jpg.rf.e05b5cbff07b57b72e415342c3b21b2f.txt\n",
            "│   │   │   train_38730_jpg.rf.9735cc9bbb00c25f6e8814bc3a223f1b.txt\n",
            "│   │   │   test_40032_jpg.rf.48a19eae7a0821c28b399f3a711f7f8f.txt\n",
            "│   │   │   train_38940_jpg.rf.9d5da22168637994fea834400757b3b0.txt\n",
            "│   │   │   train_38830_jpg.rf.b0983dbcdb39322972bbd5dfb91c7a7f.txt\n",
            "│   │   │   train_38930_jpg.rf.9b724004579297a24c8357aaec3b520c.txt\n",
            "│   │   │   test_40107_jpg.rf.3c31a0eda3fda1bd91d16d5deb76d7eb.txt\n",
            "│   │   │   test_40141_jpg.rf.165c4e8b4f6932104ba5ea9174b5f4de.txt\n",
            "│   │   │   train_38853_jpg.rf.45de30b5b4409344a0d19b2fe739530b.txt\n",
            "│   │   │   train_38743_jpg.rf.1df3c047f3bacb54fe5775b8af6846fb.txt\n",
            "│   │   │   train_38911_jpg.rf.e74f0e8343e9ecfca3f8422bafb5dae2.txt\n",
            "│   │   │   train_38893_jpg.rf.7099e8bc468ed7d069487069e9ebd90a.txt\n",
            "│   │   │   test_40071_jpg.rf.3e2bcdb6dd56fc29572b2e08da139cac.txt\n",
            "│   │   │   train_38785_jpg.rf.d358b7e83423d1325302e01d9a2d1197.txt\n",
            "│   │   │   train_38796_jpg.rf.77465ecf77c49fdff4a57ad4607d3f8e.txt\n",
            "│   │   │   train_38925_jpg.rf.4a06146a299c8afb8be0abb80e7f0941.txt\n",
            "│   │   │   train_40072_jpg.rf.4fbb63aee4923f1b997ed57144dffc19.txt\n",
            "│   │   │   train_38941_jpg.rf.8973cdd077f7f19b060d12133a39797b.txt\n",
            "│   │   │   train_38948_jpg.rf.38a0b2028552a973d382deb16e4bc77d.txt\n",
            "│   │   │   train_38890_jpg.rf.98f7def62f6be43cfab94e9a47f8a4c2.txt\n",
            "│   │   │   train_39024_jpg.rf.0fbd3f0a2440f1cc870a3c234bb99439.txt\n",
            "│   │   │   train_38800_jpg.rf.9984aaf3c4972182a56d62043b061fea.txt\n",
            "│   │   │   test_40097_jpg.rf.047cd97795c4da53c79da5fc64fcb9ed.txt\n",
            "│   │   │   train_38880_jpg.rf.f24e0de1f22852d82b8bca11b9d8c3bc.txt\n",
            "│   │   │   train_38769_jpg.rf.b6a33e58330cdf23bfef63790fe7a9ad.txt\n",
            "│   │   │   train_40166_jpg.rf.ad41806fb0b2a22d2d6e1cf54a258b12.txt\n",
            "│   │   │   test_40174_jpg.rf.02664f6daa4a541af3a52f15dfab37bb.txt\n",
            "│   │   │   train_38752_jpg.rf.e7b39cb7dc2afb4dbef683cba78341c9.txt\n",
            "│   │   │   train_38832_jpg.rf.7d2a705350c0230380eb2d519b5fcc84.txt\n",
            "│   │   │   train_38759_jpg.rf.548425ffe804d9a43497ceeb0d87b581.txt\n",
            "│   │   │   test_40171_jpg.rf.3cbece6c0730cf97b2eb96e429e311c7.txt\n",
            "│   │   │   train_38817_jpg.rf.0a4ff9a0db0b0fd40c14fec2cd5c6b47.txt\n",
            "│   │   │   train_38879_jpg.rf.4c29916b066f00d4a6d00936f21efccf.txt\n",
            "│   │   │   train_39020_jpg.rf.548d9757a5f4f927f03fada54be95430.txt\n",
            "│   │   │   train_38744_jpg.rf.bf62677c42cc92f15af44df3afa849fb.txt\n",
            "│   │   │   train_38748_jpg.rf.6e5263de6b67d128e7e5b88106c4bfa1.txt\n",
            "│   │   │   train_38790_jpg.rf.5ee6a0330360fe015959c171d1f181cd.txt\n",
            "│   │   │   train_38904_jpg.rf.027d1a83d756aad2c9a57f3049e2cc41.txt\n",
            "│   │   │   train_38865_jpg.rf.012b6b767524d66652cb80ca9ff2cd71.txt\n",
            "│   │   │   train_38840_jpg.rf.840a2e83ee1150de3b1a8d00826d7c95.txt\n",
            "│   │   │   test_40139_jpg.rf.646199bdf60a845fe3b1be179a18702f.txt\n",
            "│   │   │   train_38852_jpg.rf.8e53210ce6b4bbce889bc11d0d6443ee.txt\n",
            "│   │   │   test_40079_jpg.rf.4f58a4f07fa40b75e0213e4ba406edef.txt\n",
            "│   │   │   train_38824_jpg.rf.8cdbb8e89d545f7c8c208f5119e9dc4c.txt\n",
            "│   │   │   train_38883_jpg.rf.471fa66142bb7569e74a2de2964e8c6a.txt\n",
            "│   │   │   train_38954_jpg.rf.0645ee365facda8b30e2a2d985f4ef59.txt\n",
            "│   │   │   train_38928_jpg.rf.881576e120bf6f2f68c3bf709947c856.txt\n",
            "│   │   │   test_40148_jpg.rf.e23561375e964fd6e1da3308783b80c1.txt\n",
            "│   │   │   test_40159_jpg.rf.eb67a0650b5f1dea78ddb1a0e9a92534.txt\n",
            "│   │   │   train_38915_jpg.rf.8c6a9dc4888718a8c4377d08cfed5c1e.txt\n",
            "│   │   │   train_38836_jpg.rf.3ad3c937cc6207dbf4d51cb8e202cf0f.txt\n",
            "│   │   │   train_38876_jpg.rf.035b39a105efe86436d1d3c952b530e3.txt\n",
            "│   │   │   train_38960_jpg.rf.96ee2c46de018071ae428d378048f399.txt\n",
            "│   │   │   train_38789_jpg.rf.930c25eea41cab0bf0cebd7929cb58a4.txt\n",
            "│   │   │   train_38781_jpg.rf.8e0e9ff7077681a26df1fa119dfa1a14.txt\n",
            "│   │   │   train_39046_jpg.rf.6e017ad778c9aac1f4c11afda29b0353.txt\n",
            "│   │   │   train_38874_jpg.rf.d5dcfe8e688291edf6469ebdc7483a28.txt\n",
            "│   │   │   train_38755_jpg.rf.2631eb4f9bdfea1ec20a6880abc50c05.txt\n",
            "│   │   │   train_38932_jpg.rf.1c4bbc0a61930caa5d80f9ff556c51a0.txt\n",
            "│   │   │   test_40089_jpg.rf.c25acf4b48d5d2d9e3ed84fb769f6dd7.txt\n",
            "│   │   │   train_38851_jpg.rf.e8e0eb8c89c1900f456441cf2a6147b0.txt\n",
            "│   │   │   test_40068_jpg.rf.2d41fc105573ae5029b13aeedf35782a.txt\n",
            "│   │   │   test_40013_jpg.rf.ab478db81a86c9373fdc8cc76665e835.txt\n",
            "│   │   │   train_38908_jpg.rf.90b41da5365419d2ef28dd4ebd51a383.txt\n",
            "│   │   │   train_38736_jpg.rf.7b0ddef48b82e9509b107e717b6e0992.txt\n",
            "│   │   │   train_38784_jpg.rf.137192828713ff8a91caddf0b47b5fd7.txt\n",
            "│   │   │   test_40040_jpg.rf.4987dd7b711ca5af422b7257d277b5df.txt\n",
            "│   │   │   test_40099_jpg.rf.f3cbafed9413ad951e12056208ccff76.txt\n",
            "│   │   │   train_39104_jpg.rf.60263ee799b9a71ba4228ed033623bba.txt\n",
            "│   │   │   train_38731_jpg.rf.870b895ee084c8eb64891bce09ad2d31.txt\n",
            "│   │   │   train_38903_jpg.rf.25ac3c9fa940c9ad46261cf9149f46db.txt\n",
            "│   │   │   train_38854_jpg.rf.85f6d52f6961120392693a1ad88e8186.txt\n",
            "│   │   │   test_40177_jpg.rf.f5f2edb145afc1fd8bb83c76c272d91f.txt\n",
            "│   │   │   test_40030_jpg.rf.51ef52d747df24de837d147f66c95e04.txt\n",
            "│   │   │   train_38846_jpg.rf.ef9e81587a5e5bb37cba96837522d920.txt\n",
            "│   │   │   train_40012_jpg.rf.5e8aaf3b32a0c3aae27c251f9ed6090e.txt\n",
            "│   │   │   test_40095_jpg.rf.e892b9d7024706a064e144db86908987.txt\n",
            "│   │   │   test_40055_jpg.rf.16cd52204b830d31abd8abd63fda5ab7.txt\n",
            "│   │   │   train_38917_jpg.rf.c7dcfb2e65d5b349d2ca5a268b084748.txt\n",
            "│   │   │   test_40021_jpg.rf.377d71a4bfbc2fd7a9df1024495f85fc.txt\n",
            "│   │   │   train_38867_jpg.rf.5e3555de3cda8bb34650796b908dcd43.txt\n",
            "│   │   │   train_38929_jpg.rf.c407699b2a6c61c44ab05ddc5c680555.txt\n",
            "│   │   │   train_38801_jpg.rf.ecdddd876678a63e8461e0438416944e.txt\n",
            "│   │   │   train_38747_jpg.rf.b4af1f3a12ed1cbffff5bc5ec6bb288a.txt\n",
            "│   │   │   train_38909_jpg.rf.0409670020735c5961fb26ba6663c939.txt\n",
            "│   │   │   test_40135_jpg.rf.cf5b6c4fe2b1df14bd0a966a79f65251.txt\n",
            "│   │   │   train_38803_jpg.rf.09c41b88a8e794ed2430207b892e5d87.txt\n",
            "│   │   │   train_38924_jpg.rf.1278e2bd552fea8ccd69a8dae74b1d71.txt\n",
            "│   │   │   train_38926_jpg.rf.2a6cd862335cc82e8879b96aa4acff9f.txt\n",
            "│   │   │   train_40006_jpg.rf.5ff5786013891085fa3075cce9f9d9f5.txt\n",
            "│   │   │   train_38845_jpg.rf.9720bc39f30aceb174c0e8920efc502a.txt\n",
            "│   │   │   train_38754_jpg.rf.fcaa24eb1dab651f40efc10706fdbd22.txt\n",
            "│   │   │   train_38850_jpg.rf.83a03915208278342b50059ae9699e3d.txt\n",
            "│   │   │   train_40116_jpg.rf.1b1abdf291e8baf3b6deeb7c0beda2e3.txt\n",
            "│   │   │   train_38907_jpg.rf.6ca6bcd18ed6612e442cea8c0517f82e.txt\n",
            "│   │   │   train_40011_jpg.rf.5090cec674d6a60afa858e3577387e4c.txt\n",
            "│   │   │   train_38889_jpg.rf.9b188e3c06234cf7bc54662812e42664.txt\n",
            "│   │   │   train_39017_jpg.rf.2c346432ba41a81748c64de67eeac41f.txt\n",
            "│   │   │   train_38921_jpg.rf.5703945a963498243f0463863ed065fe.txt\n",
            "│   │   │   train_38875_jpg.rf.962d6b97fc945a48e2bbcae089467add.txt\n",
            "│   │   │   train_39062_jpg.rf.855123b9dbc7c8613082c19d2b32f105.txt\n",
            "│   │   │   train_38791_jpg.rf.6d9939f6177da4f6827b583ef33bf29c.txt\n",
            "│   │   │   train_38842_jpg.rf.2dde81ca2f0d1f3bc06016e91d31367d.txt\n",
            "│   │   │   train_38788_jpg.rf.5a5281ba9017e7743e44dc207d7d0d75.txt\n",
            "│   │   │   train_38798_jpg.rf.1f6bae5f92120ef97fc48168956bb424.txt\n",
            "│   │   │   train_40024_jpg.rf.c48fadaf7efb288a82ee3431cd00f5fb.txt\n",
            "│   │   │   test_40188_jpg.rf.8f57bee2a4db5cdc0e34a03814118432.txt\n",
            "│   │   │   train_38916_jpg.rf.1e4ac34b806df238080f2d375f360413.txt\n",
            "│   │   │   test_40080_jpg.rf.d662a8d18c791a8f4b507feaae447b88.txt\n",
            "│   │   │   train_38794_jpg.rf.b75450d8cc678c49fa5a256e86b935d3.txt\n",
            "│   │   │   train_38734_jpg.rf.35d85641609c4768b039a7fc6c4c1362.txt\n",
            "│   │   │   train_38881_jpg.rf.1dced78a86a753a7de6fe7b15b15f478.txt\n",
            "│   │   │   train_38892_jpg.rf.2589b2b0490bfff0b6c36e1142c3d1b3.txt\n",
            "│   │   │   test_40057_jpg.rf.eacf5847c92bdfcf7942999efbb6f708.txt\n",
            "│   │   │   test_40151_jpg.rf.796842cf9674b5282e447ba6eb96f46c.txt\n",
            "│   │   │   train_38783_jpg.rf.cc2db93e50ae82d18f908c94d9800a39.txt\n",
            "│   │   │   train_38870_jpg.rf.b34bc89b1733609c9043de71d2f6c7f1.txt\n",
            "│   │   │   train_38819_jpg.rf.3de68b507654cdf65c41e90a2efc8e7c.txt\n",
            "│   │   │   test_40155_jpg.rf.5f2912a609a7531e070bf8eeb5087578.txt\n",
            "│   │   │   train_38922_jpg.rf.2699b28f75c355b48beb6350fd09150e.txt\n",
            "│   │   ├── train/ [853 files]\n",
            "│   │   │   train_40335_jpg.rf.6866225243cedff38311517a6809b962.txt\n",
            "│   │   │   train_40252_jpg.rf.bdd5f9ea50c90b31618ee6a88f43981d.txt\n",
            "│   │   │   test_40885_jpg.rf.10264d240ae1178fd923948e97b9dc2e.txt\n",
            "│   │   │   test_40745_jpg.rf.3396c8725a8ada827311302576531d3d.txt\n",
            "│   │   │   test_40737_jpg.rf.511ef32f7a18fb3a2fd5ef297b89d312.txt\n",
            "│   │   │   val_40390_jpg.rf.5b486a338a2bcc3ff6790bfb096fbe13.txt\n",
            "│   │   │   train_40923_jpg.rf.4fb521d7fafe652e7e915b6ae3cec887.txt\n",
            "│   │   │   train_40497_jpg.rf.1ebb01b20e0a9eeae7377bb2a47db771.txt\n",
            "│   │   │   test_40269_jpg.rf.c4547775b9a9891f079e27c1775e5d4b.txt\n",
            "│   │   │   train_40641_jpg.rf.1fa50daaa609747141f51cee8779c39a.txt\n",
            "│   │   │   test_40571_jpg.rf.151d5795e1a60e4798fe2a8528420b38.txt\n",
            "│   │   │   train_40518_jpg.rf.8e60e1d911ed08ee4072d13a12ac81fb.txt\n",
            "│   │   │   train_40949_jpg.rf.570d7818f3e08e6f1b7516de7c1a6e96.txt\n",
            "│   │   │   train_40770_jpg.rf.e1929be3284536a6ca6a5007d5036d40.txt\n",
            "│   │   │   val_40476_jpg.rf.c4ab3daa85aa9cd77bcfb415652b0e47.txt\n",
            "│   │   │   test_40387_jpg.rf.20994844f416f42fe992084f92fc7464.txt\n",
            "│   │   │   train_40876_jpg.rf.70ea2aaf78ef6dc1e3cf3bb45411d062.txt\n",
            "│   │   │   test_40449_jpg.rf.eed1f2d37b9b04830c045dd07964d258.txt\n",
            "│   │   │   train_40374_jpg.rf.590718afae2d73354a609332cf534aaa.txt\n",
            "│   │   │   val_40773_jpg.rf.85f073b503155ee46d34549d240c9107.txt\n",
            "│   │   │   train_40711_jpg.rf.e078f045321677dd21a5d805125f0721.txt\n",
            "│   │   │   train_40695_jpg.rf.65cf45b0b9de576f826f9da0245601e4.txt\n",
            "│   │   │   train_40691_jpg.rf.3a3b80495abd0460ccf9d79493c020b8.txt\n",
            "│   │   │   train_40980_jpg.rf.5ae40edc59d82d93f6302fa326d8e167.txt\n",
            "│   │   │   train_40427_jpg.rf.14a30a308636b8b2a8c693cf1781f5d1.txt\n",
            "│   │   │   train_40678_jpg.rf.4aa3c7651f45bede2d20ed03fa8a905b.txt\n",
            "│   │   │   test_40833_jpg.rf.e12668fa5295464f69130d9fd5170366.txt\n",
            "│   │   │   test_40638_jpg.rf.bd6e70cb33c65f9f457bfdc86f5ab752.txt\n",
            "│   │   │   train_40621_jpg.rf.a74be3697e9b5bb705d1868317ed178e.txt\n",
            "│   │   │   test_40599_jpg.rf.afffeecb0b3c2cd9404568be496d7b2f.txt\n",
            "│   │   │   test_40358_jpg.rf.66001a5efbaf16c4e4bca5aa00fe79eb.txt\n",
            "│   │   │   train_40433_jpg.rf.0e034270dae979105eae7724414d24b8.txt\n",
            "│   │   │   train_40797_jpg.rf.655d9f1aef7bd1e437fa25ad16b27fb0.txt\n",
            "│   │   │   test_40443_jpg.rf.544325ef428fc3325509e0561ff1741a.txt\n",
            "│   │   │   test_40687_jpg.rf.e576638b9338a4e852f55c75baeaec1c.txt\n",
            "│   │   │   val_40486_jpg.rf.9fbc9b5c11647dc559a1f3b8dc2cf1ab.txt\n",
            "│   │   │   train_40318_jpg.rf.07936e10f3978cd40872d5a0a91da115.txt\n",
            "│   │   │   val_40212_jpg.rf.f52efba677afae3f683c341a3c2b9998.txt\n",
            "│   │   │   val_40238_jpg.rf.c0554eb0ed98d51c9013ee7b308b9ee7.txt\n",
            "│   │   │   val_40768_jpg.rf.11da27612c695722da3906bbe78b2237.txt\n",
            "│   │   │   test_41026_jpg.rf.58a7b1881c8b6e329196d3b73109cfec.txt\n",
            "│   │   │   train_40951_jpg.rf.d8e6e106b5fda4ea65eebae701d1cd53.txt\n",
            "│   │   │   test_40481_jpg.rf.5c47769d314d959ab86d621b5a489109.txt\n",
            "│   │   │   test_40632_jpg.rf.ab62b1749aeb806bb6d20369e8197b89.txt\n",
            "│   │   │   train_40628_jpg.rf.932d29765e73315baec7de48129a2aea.txt\n",
            "│   │   │   test_41001_jpg.rf.06a82a4caf0728b7878d2283d164fc2c.txt\n",
            "│   │   │   train_40683_jpg.rf.d2916e5160e43d569cf468a2e5a4fb72.txt\n",
            "│   │   │   val_40878_jpg.rf.4ed67265b1166cf13a90d30cf16665f6.txt\n",
            "│   │   │   train_40681_jpg.rf.a3e54a8f01bf08dd6673f353969e7e2d.txt\n",
            "│   │   │   train_40648_jpg.rf.8bfb5c65ad02b890532c26883cfff4b0.txt\n",
            "│   │   │   train_40515_jpg.rf.e2dc38ec760517366342f4b9b4763d1c.txt\n",
            "│   │   │   val_40830_jpg.rf.a5b0d9c10d17f6a5067d0a48dd1d240d.txt\n",
            "│   │   │   train_40229_jpg.rf.54f7547a44c95e22f8d8efbe54f954ff.txt\n",
            "│   │   │   train_40987_jpg.rf.158c9ae7aa17e2f253dbf1d42a82bce9.txt\n",
            "│   │   │   test_40393_jpg.rf.aa0acf676aa0309d1e273ae7981e0bd7.txt\n",
            "│   │   │   val_40690_jpg.rf.2bc69f57fccdee34aba2d5695c585541.txt\n",
            "│   │   │   train_40696_jpg.rf.0348ca130b41b13af1a54662e7846e8b.txt\n",
            "│   │   │   train_40819_jpg.rf.d2d10ebfa85a40cd4cfc5c7c402f3e38.txt\n",
            "│   │   │   test_40347_jpg.rf.1028f60bf5bec21316f82f1bbfd68547.txt\n",
            "│   │   │   train_40237_jpg.rf.bc3655d6056267238c80e5669458f7bf.txt\n",
            "│   │   │   test_40293_jpg.rf.39996317fb5c977ff4e5bc68f89527d9.txt\n",
            "│   │   │   train_40705_jpg.rf.bc60dd31ad074fb57449acc4f9e35c42.txt\n",
            "│   │   │   train_40755_jpg.rf.c8ffbd401d43c37d6164a5a6bc497a18.txt\n",
            "│   │   │   train_40983_jpg.rf.061adb524c7d57cd40ba48bfe2a32933.txt\n",
            "│   │   │   test_40530_jpg.rf.28ec5f7ecaae2be3e44565c93bece539.txt\n",
            "│   │   │   train_40201_jpg.rf.544036941a56ee6024e71ebbdea93f13.txt\n",
            "│   │   │   train_40843_jpg.rf.2aaa10fae12ced1250d9bb0a3c37b6d2.txt\n",
            "│   │   │   train_41015_jpg.rf.8d6ee31f8fe80d9f4b2ca8bc02630563.txt\n",
            "│   │   │   test_40531_jpg.rf.df4bd8298a702bf2ea10712fcdc45b56.txt\n",
            "│   │   │   train_40569_jpg.rf.4cbb702c94132e6d82bac145e6e9ce33.txt\n",
            "│   │   │   train_40767_jpg.rf.58d1d0614a9603bbf5bd6c268ebf18f7.txt\n",
            "│   │   │   train_40969_jpg.rf.ce412d072e68aee387ba105769215a19.txt\n",
            "│   │   │   test_40197_jpg.rf.e441f693da32d5c1d78657c0bd56e1f2.txt\n",
            "│   │   │   train_40560_jpg.rf.31d390073fd6e735355d4514a4d19a75.txt\n",
            "│   │   │   train_40312_jpg.rf.88630bffd7e48913c9e47ea47321a7e3.txt\n",
            "│   │   │   train_40247_jpg.rf.31ab55a1486f658d0335772cc52a5ec5.txt\n",
            "│   │   │   test_40701_jpg.rf.2e4ef3670e1e2b849d55bfd057712a6e.txt\n",
            "│   │   │   test_40236_jpg.rf.911d406dcf4a0539f828822bf03bf497.txt\n",
            "│   │   │   train_41023_jpg.rf.07a4ba460e6943022fe6b6fe9bcb4d7e.txt\n",
            "│   │   │   test_40259_jpg.rf.bde2ad2f8b0d514d784bcefad536000c.txt\n",
            "│   │   │   train_40437_jpg.rf.c105f08d1d3762d29c45a375e8142034.txt\n",
            "│   │   │   train_40405_jpg.rf.3586df93184b8150ad163305302220e2.txt\n",
            "│   │   │   train_40554_jpg.rf.52429cfd8104fa85ebffba5c0cd0b95c.txt\n",
            "│   │   │   train_40412_jpg.rf.06cbb11ae2001c6edb9a46d1ca5dd411.txt\n",
            "│   │   │   train_40227_jpg.rf.3e10b883ff05b34b7960f4672744c39b.txt\n",
            "│   │   │   test_40268_jpg.rf.a196e6932d5a3d4f48767e05b4ce8aff.txt\n",
            "│   │   │   train_40205_jpg.rf.537dd45f7e66e5d5aedbdc0c3d982161.txt\n",
            "│   │   │   train_40757_jpg.rf.947bbf4f767721e3205a54898b1f3d95.txt\n",
            "│   │   │   val_40413_jpg.rf.a7e7bfad7167f7019cc252eeead0a8d4.txt\n",
            "│   │   │   test_40223_jpg.rf.8fa3aed0864ea2f945656994bfa13ba5.txt\n",
            "│   │   │   train_40917_jpg.rf.0eef395191b940fbaf68bc0b547df09d.txt\n",
            "│   │   │   train_40524_jpg.rf.0df2b10ef52af92196289024e54ef810.txt\n",
            "│   │   │   train_40584_jpg.rf.0432a68ef8afd27636aa6862db468cc7.txt\n",
            "│   │   │   train_40731_jpg.rf.2898056abb426a772a2d5908e0f99c89.txt\n",
            "│   │   │   train_40811_jpg.rf.8652cdbe534b11c1249bd10ad4bd2dd7.txt\n",
            "│   │   │   train_40454_jpg.rf.f4338edba43fdaf771bb9bfbb646ee71.txt\n",
            "│   │   │   test_40581_jpg.rf.77a9ce3dc7968b17d39540b89ba50ae0.txt\n",
            "│   │   │   train_40863_jpg.rf.cc47b35227c19372e04ec3c26fa51c25.txt\n",
            "│   │   │   test_40213_jpg.rf.79ca81992547c6a4aed4daa132a40b78.txt\n",
            "│   │   │   test_40870_jpg.rf.ea973673f365c91d2d1ddc732f68a66c.txt\n",
            "│   │   │   train_40989_jpg.rf.16034634691b3f8d8493900ec14059a9.txt\n",
            "│   │   │   train_40220_jpg.rf.61a8695bcae465489c3613a0c185637f.txt\n",
            "│   │   │   val_40254_jpg.rf.cbdc73e5ea82575ad1421e122b0dc54d.txt\n",
            "│   │   │   train_41005_jpg.rf.42fa908b9fab245d4b40da9108da7d91.txt\n",
            "│   │   │   train_40450_jpg.rf.024c6712f022806c52d4c680966c6278.txt\n",
            "│   │   │   test_40494_jpg.rf.a3d924847d5d9aa81963271073c4a203.txt\n",
            "│   │   │   train_40471_jpg.rf.8e355b16e393493999168265a110f0ce.txt\n",
            "│   │   │   test_40625_jpg.rf.6d10df9fe43f658dd431e631ac9d5bef.txt\n",
            "│   │   │   train_40918_jpg.rf.4c683687010059f0468e7d6f4f4f49ef.txt\n",
            "│   │   │   train_40831_jpg.rf.11f02bf4c7e4312943aa6efb8e27566e.txt\n",
            "│   │   │   test_40838_jpg.rf.2a10891b9e73d62ba40ab6c896226464.txt\n",
            "│   │   │   val_40282_jpg.rf.608d80158dbc5e174934edfb803beff3.txt\n",
            "│   │   │   train_40343_jpg.rf.5789bf277c1b5d6271bd183ac2f01f3a.txt\n",
            "│   │   │   train_40865_jpg.rf.1a566bf73907fe9d7957a27774c73b2b.txt\n",
            "│   │   │   val_40805_jpg.rf.9823e0eb0bd9306e6e28d9b43a5efd05.txt\n",
            "│   │   │   test_40857_jpg.rf.f97e3f5255eb3ab09c920108f75ca02a.txt\n",
            "│   │   │   train_40441_jpg.rf.836e0242cefeb72b476a8e4225e00a46.txt\n",
            "│   │   │   train_40409_jpg.rf.8fa1638085eaefc767e3772d6b843f02.txt\n",
            "│   │   │   test_40378_jpg.rf.e14e8590bbf35479703760ee47fdf246.txt\n",
            "│   │   │   train_40563_jpg.rf.675128bb3df4b8b2fa3d2ff5e7f11728.txt\n",
            "│   │   │   test_40423_jpg.rf.d96781661dfb680d9a10d260cbde1258.txt\n",
            "│   │   │   test_40342_jpg.rf.d09ea4c502159d441da85349a10fa5a7.txt\n",
            "│   │   │   train_40658_jpg.rf.0e4fdbc05fb558bbfdfabe97f72a7e84.txt\n",
            "│   │   │   test_40957_jpg.rf.9f34262857a6e6138d19ca260d93a8e7.txt\n",
            "│   │   │   test_40295_jpg.rf.f20bf529421fb791e7bebc798521cf57.txt\n",
            "│   │   │   test_40832_jpg.rf.706bde8ddd4e3e5bd5776c2f330de861.txt\n",
            "│   │   │   train_40521_jpg.rf.9f09de2c150c46f259f183af96ca4ba2.txt\n",
            "│   │   │   train_40775_jpg.rf.43fd85c0d57ffc979bd7d8db939f3770.txt\n",
            "│   │   │   test_40430_jpg.rf.76230b522b439e1cc2a9621b482f0743.txt\n",
            "│   │   │   train_40936_jpg.rf.ba2272fe19358e314f855323e0b68a02.txt\n",
            "│   │   │   train_40994_jpg.rf.7e895785a56a0caa2defd5e90f11f638.txt\n",
            "│   │   │   test_40591_jpg.rf.0f89557d9bbcdf46c5ec5e084ad01a2d.txt\n",
            "│   │   │   test_40636_jpg.rf.1e58f4bc0bfed37ac0da89ab4885293e.txt\n",
            "│   │   │   test_40914_jpg.rf.2503553b3f69e86abeb893099b5b994e.txt\n",
            "│   │   │   test_40662_jpg.rf.f3fe2de9f58f7afbb8de9c1b7604a63a.txt\n",
            "│   │   │   train_40386_jpg.rf.c0ee9604ce79c9ba12f9a3ca61e075c4.txt\n",
            "│   │   │   train_40577_jpg.rf.f17ed535f96d180833a5e220d300c27f.txt\n",
            "│   │   │   test_40748_jpg.rf.36db2d9e0aa4c7d96df3b5e0d385b1ca.txt\n",
            "│   │   │   train_40613_jpg.rf.f9c492a256dbeda4b42a41daa239d508.txt\n",
            "│   │   │   test_41038_jpg.rf.e18713601efe74e702b20a2cd7d6ac8d.txt\n",
            "│   │   │   train_40692_jpg.rf.a8046180a993f03366d1c7064205ca8c.txt\n",
            "│   │   │   test_40600_jpg.rf.1bd55212c1424aab00f4dd69d1791635.txt\n",
            "│   │   │   test_40818_jpg.rf.dc14a1378cb9e19ddf461bf9be70aab2.txt\n",
            "│   │   │   val_40776_jpg.rf.95b66945a0eb6965ab4eda185ff5a642.txt\n",
            "│   │   │   train_41027_jpg.rf.f06aa175049a70c0aa565ccf6e2d092a.txt\n",
            "│   │   │   train_40754_jpg.rf.f344bffc7a9000e990632e9794f6b76f.txt\n",
            "│   │   │   val_40744_jpg.rf.40595519b4681be1eb4a9531ac50c5cf.txt\n",
            "│   │   │   train_40784_jpg.rf.2e795c1245c5458595d7d67774b35c85.txt\n",
            "│   │   │   train_40489_jpg.rf.5ad390b44f32e89c0c4c2cbfd2ff4e86.txt\n",
            "│   │   │   train_40424_jpg.rf.12381277b37d26d610ad20b73940614d.txt\n",
            "│   │   │   train_40901_jpg.rf.c5afac33b2ebda15212844703c788649.txt\n",
            "│   │   │   test_40752_jpg.rf.6ccfa0e7bc0ddbb67b94fc9ca2225535.txt\n",
            "│   │   │   test_40977_jpg.rf.859b1fcd2ea4bc02e47c114ebab07564.txt\n",
            "│   │   │   test_40316_jpg.rf.a5383dd2dd7f96e97c732900e8804255.txt\n",
            "│   │   │   val_40279_jpg.rf.c818292867369bef150a12ce5ba07b5e.txt\n",
            "│   │   │   train_40835_jpg.rf.2a274aa29ee988ae6d2d6c9fb96fba41.txt\n",
            "│   │   │   test_40953_jpg.rf.e094c21e2c54487dff3e44e85896625a.txt\n",
            "│   │   │   train_40442_jpg.rf.281457735c2770ac310e03e3b719399e.txt\n",
            "│   │   │   train_40593_jpg.rf.665dcbc8c885eb495763d278d35a808d.txt\n",
            "│   │   │   train_41020_jpg.rf.536f4739c24a3eed31425b9a32111be6.txt\n",
            "│   │   │   train_40583_jpg.rf.3a53f66c0c6c1dcc04eed7f1cbbe4187.txt\n",
            "│   │   │   test_40910_jpg.rf.6a415180225149b092d7c07faf4b1c89.txt\n",
            "│   │   │   test_40576_jpg.rf.38f12eeb7ffb8efcc887c8f9b4b1dc02.txt\n",
            "│   │   │   train_41014_jpg.rf.0b3d7fd57569d88f80bcc85631cfbef6.txt\n",
            "│   │   │   test_40958_jpg.rf.0dfc1d64018b6b774e0ca88e53c06a9b.txt\n",
            "│   │   │   test_40464_jpg.rf.5f5e33a6b06e44f457802c2db082166d.txt\n",
            "│   │   │   test_40367_jpg.rf.a448ae276d687315473ec697a1964f60.txt\n",
            "│   │   │   val_40961_jpg.rf.b97e122bb566f8248c0b750d1c2ebebf.txt\n",
            "│   │   │   train_40787_jpg.rf.5ff16eadfdbe332596f615c7e5bf759a.txt\n",
            "│   │   │   train_40828_jpg.rf.00248c2f59da6720fd571729d137a257.txt\n",
            "│   │   │   train_40860_jpg.rf.311474fd112914fd1a232967fb945518.txt\n",
            "│   │   │   train_40764_jpg.rf.cfcff2a9bee53d2af22b5f989b1c1ac9.txt\n",
            "│   │   │   test_40785_jpg.rf.3577eb61893ed4bc138fde6ee2eec1be.txt\n",
            "│   │   │   train_40717_jpg.rf.c5c675f6f150d1bd99a4eac5d715128b.txt\n",
            "│   │   │   train_40874_jpg.rf.ab0bb3b7ef2a67a3182bd82c90b9d2e3.txt\n",
            "│   │   │   train_40429_jpg.rf.60024acaa086a2058b7d1eeee9870e19.txt\n",
            "│   │   │   train_40353_jpg.rf.b2993effbea70e8bd585ca662ef1e306.txt\n",
            "│   │   │   test_40365_jpg.rf.89e03720489d115ade81881fedc569e5.txt\n",
            "│   │   │   test_40037_jpg.rf.04c20d0461fec17449825da36ede0c50.txt\n",
            "│   │   │   test_40319_jpg.rf.c4b16b35878ebd917a85cf7ff5f53084.txt\n",
            "│   │   │   train_40789_jpg.rf.397facb937d6b67236b03c573636bc35.txt\n",
            "│   │   │   train_40623_jpg.rf.015bf791e502e87195d7d32fa518b60c.txt\n",
            "│   │   │   val_40595_jpg.rf.76c2aeefa9dec0ede40e59e69ae348ba.txt\n",
            "│   │   │   train_40500_jpg.rf.b92fde00d7af11b8fed5f89a6d692390.txt\n",
            "│   │   │   val_40477_jpg.rf.4c6c5f5edbfb473fd552d2913fb69b19.txt\n",
            "│   │   │   train_40873_jpg.rf.dd5bd49772a792ceec6d74fc14b9668e.txt\n",
            "│   │   │   train_40682_jpg.rf.c8edc13eea88404663e98d4c0d399d73.txt\n",
            "│   │   │   test_40206_jpg.rf.829b54ca2fd2e89355825296a1290f84.txt\n",
            "│   │   │   train_40315_jpg.rf.2cb28410288d4f0a487fd1c6a400eed1.txt\n",
            "│   │   │   train_40320_jpg.rf.db0b477751f3921af13cacf121e07ffd.txt\n",
            "│   │   │   train_40866_jpg.rf.e6b0d73484bb70a1117c0cea5f0ef952.txt\n",
            "│   │   │   train_40637_jpg.rf.93026f58839ace823a5946bda0ec2cbc.txt\n",
            "│   │   │   train_40317_jpg.rf.c2f2d9e51ab7feb3370647ffbee3fc16.txt\n",
            "│   │   │   train_40350_jpg.rf.9c15cc76fbd586a749e8e239709abd80.txt\n",
            "│   │   │   test_40503_jpg.rf.ab9be252dd1e8a0fdf27faf6406feda0.txt\n",
            "│   │   │   train_40425_jpg.rf.83affe9bc6cdd5f59605d1c2a04961db.txt\n",
            "│   │   │   test_40103_jpg.rf.c5447193adaa053fec75ff554d97530d.txt\n",
            "│   │   │   test_40610_jpg.rf.0e423cb379bc0f5c54ba9e15505e6721.txt\n",
            "│   │   │   train_40948_jpg.rf.0735757deac62416111da9c648c83c42.txt\n",
            "│   │   │   train_40545_jpg.rf.af358fd5ca1de260466885fb9af1131e.txt\n",
            "│   │   │   train_40653_jpg.rf.f8a76f3efa293cc0a52e9cfd0d57158d.txt\n",
            "│   │   │   test_40723_jpg.rf.f26042ca4f8d832c2cc3b8b43c5fdfdf.txt\n",
            "│   │   │   train_40749_jpg.rf.01045aae65eec6fd5c10f4f291bc2d70.txt\n",
            "│   │   │   test_40868_jpg.rf.4ae9cd9aea9814d242d172d410209cbc.txt\n",
            "│   │   │   train_40667_jpg.rf.aad74bf86f44b8c531c3a1b15e25b90e.txt\n",
            "│   │   │   test_40820_jpg.rf.2c6c086002737576d12e7a61a90249d0.txt\n",
            "│   │   │   val_40619_jpg.rf.f494e99f687ab35786b89a2277b154b8.txt\n",
            "│   │   │   test_40995_jpg.rf.b23b8fa3580554506a27135d41325933.txt\n",
            "│   │   │   test_40905_jpg.rf.d7b164b29ae56c43407cc4569d53bc5c.txt\n",
            "│   │   │   val_40801_jpg.rf.111b4d78bf590522d60468c4219a2be5.txt\n",
            "│   │   │   test_40406_jpg.rf.60972c982e2cbe670757eebd178a6a11.txt\n",
            "│   │   │   train_40837_jpg.rf.255606fd65770fa0b655726aa8859472.txt\n",
            "│   │   │   train_40219_jpg.rf.32862feef1d349627dfe19cc9d2b7ba5.txt\n",
            "│   │   │   train_40642_jpg.rf.7409a73be5bfc3ce67abf6898b06ef71.txt\n",
            "│   │   │   train_40900_jpg.rf.ffd2eeba8c604a54038ee8004d479172.txt\n",
            "│   │   │   test_40415_jpg.rf.50bbb6669b5c7b5ba24c94862f6112b7.txt\n",
            "│   │   │   train_40403_jpg.rf.ad175cdaf6a0fd32186f97d4536b91a8.txt\n",
            "│   │   │   val_40559_jpg.rf.9db76b3f4084d7fbe80031a3dc0c409f.txt\n",
            "│   │   │   val_40509_jpg.rf.4c91401230e42a49e2ccb9fe6c7bd209.txt\n",
            "│   │   │   train_40895_jpg.rf.e784d93a10b28675a94fd60e4325b0b7.txt\n",
            "│   │   │   test_40712_jpg.rf.c024daf5615231d95351133498a8d5cb.txt\n",
            "│   │   │   train_40973_jpg.rf.62a50cd8e7f7a8e937831d8d9d893835.txt\n",
            "│   │   │   train_40821_jpg.rf.18734f75648a9ea44442b6f2c54b5ac3.txt\n",
            "│   │   │   train_40547_jpg.rf.b015aa39c4f2fab02d5e5492ec6815a0.txt\n",
            "│   │   │   train_40968_jpg.rf.1ae9d906986010c757bc76ac1fcfadcd.txt\n",
            "│   │   │   train_40679_jpg.rf.6fd64b27206dcdfbae5d0c8a15d01407.txt\n",
            "│   │   │   train_40713_jpg.rf.fb04c6ad26b397cf13aa4e5b82fb6040.txt\n",
            "│   │   │   train_40490_jpg.rf.d1c99b1ea71b946fbaef693b7931243e.txt\n",
            "│   │   │   train_40706_jpg.rf.1e8dd572ab64850656eedc5ff3754c23.txt\n",
            "│   │   │   train_40735_jpg.rf.f930d100e960abc9367321966f9fed32.txt\n",
            "│   │   │   train_40661_jpg.rf.826ef0598841bf1e070d6c2bd8435627.txt\n",
            "│   │   │   test_40728_jpg.rf.4eda0b3332d6595e43ec862d3e7ab58c.txt\n",
            "│   │   │   val_40947_jpg.rf.d9f0b56edfac530f20e94c26665af3e0.txt\n",
            "│   │   │   train_40729_jpg.rf.9aa423d7a6a9afbd4d8f79a5af43c7a4.txt\n",
            "│   │   │   train_40544_jpg.rf.a350a3e9393b2db22dd5a134b11fd30b.txt\n",
            "│   │   │   train_40882_jpg.rf.b50bc7603e6873b49be83ce7edcc4f22.txt\n",
            "│   │   │   train_40451_jpg.rf.cc7c2e7bbd55bbcc305d4130200472f1.txt\n",
            "│   │   │   train_40384_jpg.rf.1490be2af9034b60e5069dfbff736bca.txt\n",
            "│   │   │   train_40241_jpg.rf.133a05a53d712331c43cc572efeeff0c.txt\n",
            "│   │   │   train_40582_jpg.rf.d93ad124114afacf02d6ce76432b7d2e.txt\n",
            "│   │   │   train_40397_jpg.rf.4c5e8aba4c68e4bfef3ef03c79a5832b.txt\n",
            "│   │   │   train_40543_jpg.rf.cf9c18a58dc5a4b794dbce50103e3ba4.txt\n",
            "│   │   │   test_40233_jpg.rf.f5c5e7bcfc691304a52e109c44f914f6.txt\n",
            "│   │   │   train_40300_jpg.rf.d28881ad0bd941c7448bd357f52e4dfc.txt\n",
            "│   │   │   train_40939_jpg.rf.28b4383ac901e5bb661150f110518a3b.txt\n",
            "│   │   │   train_40631_jpg.rf.c703bb226fad9ce260f4fbf029a19c8c.txt\n",
            "│   │   │   train_40928_jpg.rf.cc6ec0ef1cb52006fd3231b897752ecb.txt\n",
            "│   │   │   val_40622_jpg.rf.49d1ea79003d2380f6e1068905f32d75.txt\n",
            "│   │   │   test_40734_jpg.rf.9fa0cf9e0b80dbe1f62cc5be0f156738.txt\n",
            "│   │   │   train_40371_jpg.rf.1b05e305e8d94b9ac91223f8aa75d9a3.txt\n",
            "│   │   │   test_40889_jpg.rf.56176a3ae0fc6f5397f21459796072e8.txt\n",
            "│   │   │   train_40694_jpg.rf.d55c698558a94e3b35005bc28f4a5871.txt\n",
            "│   │   │   test_40909_jpg.rf.cdc56970b53bf2a8503f66c21638d47d.txt\n",
            "│   │   │   train_40741_jpg.rf.115913f010891284c0a88f18d770f79a.txt\n",
            "│   │   │   train_40491_jpg.rf.e7274b1a3d032ac71456c1189a887fbd.txt\n",
            "│   │   │   train_40466_jpg.rf.597457a2ccddfc70f113f54aa3626b1a.txt\n",
            "│   │   │   train_40592_jpg.rf.4d20403f0b0b996e0c64858e1d62338e.txt\n",
            "│   │   │   train_40992_jpg.rf.7023804032f0d9322a46e4e862fdde22.txt\n",
            "│   │   │   train_40643_jpg.rf.acde6c058c1ca52c182122286937250c.txt\n",
            "│   │   │   train_41028_jpg.rf.2744011a10ee569aba0173a1e11abdbb.txt\n",
            "│   │   │   test_40772_jpg.rf.7bc7d59e387b9ac6f947a124ca959d01.txt\n",
            "│   │   │   train_40458_jpg.rf.a54be62a49bfbd62af3497b6a2ec8b9a.txt\n",
            "│   │   │   test_40499_jpg.rf.ddbbed0f1abd00bc6af634ad0bb2214d.txt\n",
            "│   │   │   train_40211_jpg.rf.642ccf44709b20f85fe0b5cbcb5bb553.txt\n",
            "│   │   │   test_41039_jpg.rf.0b5d1c00ef88c8c2b38a7d0520da8b9a.txt\n",
            "│   │   │   train_40222_jpg.rf.d98170f24d39ca886d0bc94375f9c4f9.txt\n",
            "│   │   │   train_40606_jpg.rf.a977991f5fafde2f26c30beccd58fc5d.txt\n",
            "│   │   │   val_40859_jpg.rf.1309e25e449e3161312305e1d14271ba.txt\n",
            "│   │   │   train_40774_jpg.rf.5b48777e93be80c932ab6bd9e9a42121.txt\n",
            "│   │   │   train_40278_jpg.rf.d2f55d233821a7acd4153c58f631b2d2.txt\n",
            "│   │   │   train_40309_jpg.rf.fae7f0554c2e350ff21aaef233ccab40.txt\n",
            "│   │   │   test_41017_jpg.rf.7155617c53258a13e815af6a2ba5a18a.txt\n",
            "│   │   │   test_40230_jpg.rf.91497e5cb8e294f1b12bc54fac8abfea.txt\n",
            "│   │   │   test_40790_jpg.rf.7ebcd9b71b8c49081a4167adab2fdf8e.txt\n",
            "│   │   │   train_40894_jpg.rf.823e85c2bf31cff5527ab96891bb7158.txt\n",
            "│   │   │   train_40825_jpg.rf.f917fd567b395797390c7814565af6bb.txt\n",
            "│   │   │   train_40689_jpg.rf.7e7bec71059cc888eac05c8967566904.txt\n",
            "│   │   │   train_40596_jpg.rf.c5bc4b435e4ad3670219db678f9fca6c.txt\n",
            "│   │   │   val_40225_jpg.rf.b2c0c8f95968cd38747f8630fb226f40.txt\n",
            "│   │   │   test_40826_jpg.rf.41b2c93285c1f2c8ed6ee30dee9e9565.txt\n",
            "│   │   │   val_40546_jpg.rf.0f2a9f2cd3cd9698c9286bc856085b0b.txt\n",
            "│   │   │   train_40824_jpg.rf.408d92a38fe58e02b5bd78b48bc6c374.txt\n",
            "│   │   │   train_40440_jpg.rf.bb3fbe61c98ffdc4161427cb2f3d7072.txt\n",
            "│   │   │   train_40324_jpg.rf.e5038e6953a36ef0640a95a1f42b2351.txt\n",
            "│   │   │   test_40382_jpg.rf.68b273c81fada3cf6f0d589c8e10d12a.txt\n",
            "│   │   │   test_41035_jpg.rf.cae3284b146c85f5d6ce254180c19203.txt\n",
            "│   │   │   train_40557_jpg.rf.3d20e6b3691a301d2cb96faca60e0f97.txt\n",
            "│   │   │   train_40204_jpg.rf.d4e1b64ac55142e3541eb64a4d3e1581.txt\n",
            "│   │   │   train_40558_jpg.rf.73d8c37d816e9f3bc104d035b8428ca9.txt\n",
            "│   │   │   test_40508_jpg.rf.91a6e2171d466b29e5adfb06f7a8494f.txt\n",
            "│   │   │   test_40921_jpg.rf.51abc125101d6fd6a0a28b05aa6262b2.txt\n",
            "│   │   │   test_40791_jpg.rf.5b2f6c90f90d2af8ae2baaf6f938600b.txt\n",
            "│   │   │   train_40644_jpg.rf.984bfd48740829149a4e39b4dce0fedf.txt\n",
            "│   │   │   test_40232_jpg.rf.da74523f01ec28a4bd40c78c9a337f7e.txt\n",
            "│   │   │   test_40607_jpg.rf.702d88a35d766700623a721a37ae4877.txt\n",
            "│   │   │   test_40470_jpg.rf.aaae5c3a261ad11fb2616e4cc6c10700.txt\n",
            "│   │   │   train_40555_jpg.rf.2a2049fafde4a0ebfb73f09f8b2c4b93.txt\n",
            "│   │   │   train_40664_jpg.rf.5752d7e2e0dcffa4b1b790e6552cd74d.txt\n",
            "│   │   │   test_40239_jpg.rf.db2267ff1f10a389e4217d763e5e7471.txt\n",
            "│   │   │   train_40340_jpg.rf.b26894d60908f7b4e7c6c194189ee251.txt\n",
            "│   │   │   train_40100_jpg.rf.c14dfe9b6646d1402778930323dcf601.txt\n",
            "│   │   │   train_40536_jpg.rf.2f36563cb7bbb3f3133e9255772c0393.txt\n",
            "│   │   │   test_40561_jpg.rf.b99d703ae3162ae41470b6a5e050f2f1.txt\n",
            "│   │   │   train_40846_jpg.rf.2319d6b0970d55a5170525e484be83f8.txt\n",
            "│   │   │   train_40245_jpg.rf.0f6d8086d444b009cac702600fbd1763.txt\n",
            "│   │   │   train_40274_jpg.rf.46a423a9d537d027566772f6c1d57237.txt\n",
            "│   │   │   test_40877_jpg.rf.476e0cc1d10a52f2f065a572703e22bb.txt\n",
            "│   │   │   train_40349_jpg.rf.f3dea27de3dd6e2bc62a8376055c6187.txt\n",
            "│   │   │   train_40513_jpg.rf.399dd45c5831251883b1905c65cbdc3c.txt\n",
            "│   │   │   test_40635_jpg.rf.2ccb185d269260d2ad811a0d005fdca6.txt\n",
            "│   │   │   test_40215_jpg.rf.7de2502f8b0c1c0385e8af6b834bf40a.txt\n",
            "│   │   │   train_40633_jpg.rf.8acd2d3b33aad7953e87779de7221325.txt\n",
            "│   │   │   train_40646_jpg.rf.aed06bf8c9c2c7779757d424dadf57eb.txt\n",
            "│   │   │   train_40978_jpg.rf.c54b2d9afdb61cdc7605cd1c88a196d0.txt\n",
            "│   │   │   train_40322_jpg.rf.bf7ab86073deb0b346b3595561276cc5.txt\n",
            "│   │   │   test_40746_jpg.rf.173b679b4bc682baf7c84298df05e01d.txt\n",
            "│   │   │   train_40329_jpg.rf.66f51edeb335ab21960b8f275d1c5a0e.txt\n",
            "│   │   │   train_40398_jpg.rf.462f402a322668c9f9a9ae6c5dadf894.txt\n",
            "│   │   │   train_40377_jpg.rf.341ba041e3d5160b9b2b8aa3908bff50.txt\n",
            "│   │   │   train_40373_jpg.rf.611e98dd91b2fd8f029f441a31e8abbb.txt\n",
            "│   │   │   train_40534_jpg.rf.204cc903e1eb6cdb1a3fce8867afc149.txt\n",
            "│   │   │   train_40506_jpg.rf.60a517af69e0c70f4c9324971e5fb82f.txt\n",
            "│   │   │   train_40747_jpg.rf.4b7338bde85fafa2c76f7735a06f8c19.txt\n",
            "│   │   │   test_40217_jpg.rf.f3239cb0185a17918be274ef189c730c.txt\n",
            "│   │   │   train_40304_jpg.rf.1f4e26061e0434e156af3e27b04fc41f.txt\n",
            "│   │   │   val_40537_jpg.rf.e3b68d172d61575eadb9e55df25fb75d.txt\n",
            "│   │   │   val_40258_jpg.rf.28d85f75121eeb10f1fdc19303b1950d.txt\n",
            "│   │   │   train_40262_jpg.rf.be5d883ff1bf35802f58b6950b45d397.txt\n",
            "│   │   │   val_40431_jpg.rf.a003960d0712fc85df8335ff8f06cdad.txt\n",
            "│   │   │   train_40726_jpg.rf.89152a08791db41d0e4c88d3b71114b0.txt\n",
            "│   │   │   train_40810_jpg.rf.6ac2602fe5c66e1172730c3db4cf3a48.txt\n",
            "│   │   │   train_40922_jpg.rf.4049706987f7d9e6c3e8ccd148fb9d6d.txt\n",
            "│   │   │   test_40611_jpg.rf.a5ea1ce29fd5e874e4c702c838457401.txt\n",
            "│   │   │   train_40982_jpg.rf.31ed3ce1189a61143890b6bfb4c8cd07.txt\n",
            "│   │   │   train_40881_jpg.rf.63a4627f0b91b10e6bd2f4841b791c53.txt\n",
            "│   │   │   train_40389_jpg.rf.8d0301ef69c2178b99fa7cf60ac42826.txt\n",
            "│   │   │   train_40453_jpg.rf.7a0e15e904139210dac71f9a37996623.txt\n",
            "│   │   │   train_40330_jpg.rf.8c7133d4773e61eb7c88bbd9140f14ec.txt\n",
            "│   │   │   val_41022_jpg.rf.b70b2a7e6235436206fb42250ebebcb2.txt\n",
            "│   │   │   train_40334_jpg.rf.a552b0361dbbc94c90f701cec8047e64.txt\n",
            "│   │   │   test_40520_jpg.rf.4685301767b3fe08584619dcb387d58f.txt\n",
            "│   │   │   test_40943_jpg.rf.40fffd62b8df77f53a8d27b4a2b1c178.txt\n",
            "│   │   │   test_40240_jpg.rf.3b230e1d3bd8b26c5432aff89aea9e21.txt\n",
            "│   │   │   test_40704_jpg.rf.2d1d57a259878cf748898ebc613c7c76.txt\n",
            "│   │   │   test_40799_jpg.rf.2b0521b181a6bee94907c67743b5d204.txt\n",
            "│   │   │   test_40815_jpg.rf.680240b97d24160dac95e3741a41413b.txt\n",
            "│   │   │   test_40938_jpg.rf.7f7ae9672f40634f6823fbbf69599291.txt\n",
            "│   │   │   train_41037_jpg.rf.543e851744af4514c405fca23b3b4a74.txt\n",
            "│   │   │   test_40391_jpg.rf.32774e4f7894bda84ba3f2cddd9066a1.txt\n",
            "│   │   │   train_40979_jpg.rf.29841a586e58d894d87c8c37a70152b3.txt\n",
            "│   │   │   test_40357_jpg.rf.ada3a1a1aeb648838def731b030a61b5.txt\n",
            "│   │   │   train_40291_jpg.rf.d4de69de0d05b12374ab0f7848e753e1.txt\n",
            "│   │   │   train_40604_jpg.rf.ca8362cfee809d2c5fed7f0c7a51a219.txt\n",
            "│   │   │   test_40761_jpg.rf.3c82da6a0f01fe88db63182b072a4f31.txt\n",
            "│   │   │   train_40526_jpg.rf.ec886309388cceaa2c13f4fd63aba9ae.txt\n",
            "│   │   │   train_40602_jpg.rf.b505bff2ad51e5b3bb52c6dbd7097598.txt\n",
            "│   │   │   test_41016_jpg.rf.ca63b01889cfd23f0233f9e55ac1082b.txt\n",
            "│   │   │   val_40485_jpg.rf.1cfbb7d68c252089dc5b44764c0ea478.txt\n",
            "│   │   │   train_40256_jpg.rf.686bb213844ffc8c69b595bc6dd4168d.txt\n",
            "│   │   │   train_40352_jpg.rf.5b59b4359bff4590073570139b72d560.txt\n",
            "│   │   │   train_40469_jpg.rf.cfa9e31c28977b3c302a3c72d7159faf.txt\n",
            "│   │   │   train_40361_jpg.rf.5dd180dd2c53dbc8cb3ecb351196218a.txt\n",
            "│   │   │   train_40417_jpg.rf.0c595bcc57be390d89793969e108c9da.txt\n",
            "│   │   │   test_40475_jpg.rf.6bc4a7c7f512aade7d6ed2f6dfcaeefd.txt\n",
            "│   │   │   test_40976_jpg.rf.59726907d2c86b6b193b9abe95c55962.txt\n",
            "│   │   │   val_40875_jpg.rf.09bb208267495308d490ea20a1f7dd98.txt\n",
            "│   │   │   train_40720_jpg.rf.3c1dcbec735040de6c1b8fcb71b6e3a3.txt\n",
            "│   │   │   val_40852_jpg.rf.59447115daae345bffdf6ffed18d940e.txt\n",
            "│   │   │   test_40920_jpg.rf.04362b0a60d27d7c99fc0f4854dc0515.txt\n",
            "│   │   │   test_40714_jpg.rf.1a277b7b7cd0c6c72c4974b7040b9c9a.txt\n",
            "│   │   │   train_40887_jpg.rf.aa50ad5f7de79f61ff658ce55b771b5c.txt\n",
            "│   │   │   train_40364_jpg.rf.bbf528a948fd352667433b593a8ffe39.txt\n",
            "│   │   │   train_40763_jpg.rf.d3154dd7074482e92e26dd03e7455795.txt\n",
            "│   │   │   test_40383_jpg.rf.050aeea4d20840febf8b6c66838d5301.txt\n",
            "│   │   │   test_41009_jpg.rf.d17a71eda10b0eccb3286254f0136983.txt\n",
            "│   │   │   train_40533_jpg.rf.a4bb4289e221e7232e3b409a5d129fb6.txt\n",
            "│   │   │   train_40703_jpg.rf.b2830e1e15fb62dbb0864b4ca0fe4da9.txt\n",
            "│   │   │   train_40421_jpg.rf.1797b05822ab556f6a8eb34f12ee0b97.txt\n",
            "│   │   │   train_40589_jpg.rf.44228f004051aff17af0639bb8fdf501.txt\n",
            "│   │   │   train_40510_jpg.rf.0ff9831305539331aaaa7f672d179da0.txt\n",
            "│   │   │   train_40496_jpg.rf.74f0a2eeffa99c9a2fe540f00ad79a9a.txt\n",
            "│   │   │   train_40400_jpg.rf.88c81ea1d2646fda25cc7684b45a2fa4.txt\n",
            "│   │   │   train_40288_jpg.rf.2414d4acf270c04ccc452a887ab33348.txt\n",
            "│   │   │   train_40375_jpg.rf.ebcd6b397fd0a6ef713363897beba3ce.txt\n",
            "│   │   │   train_40376_jpg.rf.1c220be17f22c9461156ef65d43bdc51.txt\n",
            "│   │   │   test_41021_jpg.rf.d313d0b3ad0736b660fec7f804b71d38.txt\n",
            "│   │   │   train_40370_jpg.rf.95e7d9a7e3d2abb7d0a737dc5c4f8fab.txt\n",
            "│   │   │   train_40651_jpg.rf.95cfa9fdaae2491e88dc60b3d474ccac.txt\n",
            "│   │   │   train_40959_jpg.rf.a05c3c445316bbd7f3cf47b0e176fda8.txt\n",
            "│   │   │   train_40337_jpg.rf.122d913ff0bff80349a9a3c7b56a9071.txt\n",
            "│   │   │   val_40616_jpg.rf.02c05988ca7ae694abda0011b313f7fa.txt\n",
            "│   │   │   train_40986_jpg.rf.48eb1e67580c8321f0f129dd53c29429.txt\n",
            "│   │   │   train_40502_jpg.rf.dcfe598d3de98f80c437ac64e87b6362.txt\n",
            "│   │   │   test_40338_jpg.rf.e44df6548bea001084fa9550f44aff09.txt\n",
            "│   │   │   train_40445_jpg.rf.3dee05c8399652843ead5b82eb1bfbc2.txt\n",
            "│   │   │   train_40603_jpg.rf.f62d9a11745766e093ea0ed19ec41f86.txt\n",
            "│   │   │   train_40804_jpg.rf.d33e008d0c0cf197fb8fa96de14fab9f.txt\n",
            "│   │   │   test_40321_jpg.rf.ad03572d3d45cbf5cd64c50387a6a08c.txt\n",
            "│   │   │   test_40567_jpg.rf.ee2ebf256193dbfaf652c57098d736a9.txt\n",
            "│   │   │   train_40856_jpg.rf.4d8bc34686d35a44cadc63523e3d437b.txt\n",
            "│   │   │   val_40666_jpg.rf.24e3d2cf9b1a7bf2430867be23d6d591.txt\n",
            "│   │   │   test_40311_jpg.rf.9cceda2d9cab91ef34e701e0fe7b7027.txt\n",
            "│   │   │   val_40265_jpg.rf.140defe2a34d78f9a47f24c89c9972ff.txt\n",
            "│   │   │   train_40766_jpg.rf.fd3b39830e315bf70b4f976696e3b92b.txt\n",
            "│   │   │   train_40639_jpg.rf.397e9b6ce28575a2421c6be04802718e.txt\n",
            "│   │   │   val_40467_jpg.rf.82184749abc824066aa185a4e5a5d278.txt\n",
            "│   │   │   train_40809_jpg.rf.238dec6cb924e0862938960439414f6b.txt\n",
            "│   │   │   test_40970_jpg.rf.2c81daea1ae2fa0c3b422f9a261a9dca.txt\n",
            "│   │   │   train_40504_jpg.rf.15c0fb9a59c0529d66222baed8c5c6d8.txt\n",
            "│   │   │   test_40762_jpg.rf.641d69b0be0dc96866675aaadc894180.txt\n",
            "│   │   │   test_40813_jpg.rf.78d3b89b1527ae8dd49bb96ea30c65bf.txt\n",
            "│   │   │   train_40937_jpg.rf.6237d445218da71ef51b55a9f6a3fcc9.txt\n",
            "│   │   │   test_40344_jpg.rf.c2882ab1d590d7846624fb766f5261de.txt\n",
            "│   │   │   train_40672_jpg.rf.5f41bfddd8cc25e6aa2055da16a1302d.txt\n",
            "│   │   │   train_40913_jpg.rf.5c60646f0e02dbed16745b1fb191e2cc.txt\n",
            "│   │   │   train_40886_jpg.rf.0bae1e278d4947acaafbb36edf4a3853.txt\n",
            "│   │   │   val_40478_jpg.rf.7e12156700e509da0a18302ee5035cd0.txt\n",
            "│   │   │   test_40676_jpg.rf.24ed119da01e906fe66304631d639591.txt\n",
            "│   │   │   train_40822_jpg.rf.832a70683cf03de63fdf1b45c6cb4143.txt\n",
            "│   │   │   train_40950_jpg.rf.b06a53373e8883dbb000a742f7043324.txt\n",
            "│   │   │   train_40654_jpg.rf.4a1f0ffd5a63941755e67c4c6f247177.txt\n",
            "│   │   │   train_40998_jpg.rf.eec02a3f8b377a17bb90968c5d05bbf3.txt\n",
            "│   │   │   test_40671_jpg.rf.2683743c7be842337ecdbbf97cba2178.txt\n",
            "│   │   │   test_40934_jpg.rf.7a6b5a328cdd08ec202ec7817d78ccc1.txt\n",
            "│   │   │   train_40242_jpg.rf.b90ddbc142883b94102e1f7ec97d2575.txt\n",
            "│   │   │   test_40519_jpg.rf.2d9423b4ebf6d48c6e2a873be84dc27c.txt\n",
            "│   │   │   train_40855_jpg.rf.557e01411cee9fded70b27aad71ed824.txt\n",
            "│   │   │   val_40743_jpg.rf.a14322a6d1391756dfe9b9fd27931198.txt\n",
            "│   │   │   val_40645_jpg.rf.0844d176f09d3793884ad9e5aec8c2a8.txt\n",
            "│   │   │   train_40999_jpg.rf.e1971b7581bb124cfab7f1889e6dd855.txt\n",
            "│   │   │   val_40931_jpg.rf.cca62d2382a722bdb445be3c83ab3527.txt\n",
            "│   │   │   train_40615_jpg.rf.4b046cd5a3d5e4e0e7859600076905e2.txt\n",
            "│   │   │   val_40198_jpg.rf.bd83d5a602464e39788e0cd88119a246.txt\n",
            "│   │   │   test_40854_jpg.rf.ba7b8959d5242ae997658df401cca890.txt\n",
            "│   │   │   val_40529_jpg.rf.8d692e243224724ae6ba1700c7be7f87.txt\n",
            "│   │   │   test_40468_jpg.rf.56990881179b59eb1b088426db883ec0.txt\n",
            "│   │   │   train_40699_jpg.rf.c23f2f504881dd419912560ac4189f64.txt\n",
            "│   │   │   val_40484_jpg.rf.ae87c4261c1cc08b467b437d682cac82.txt\n",
            "│   │   │   train_40721_jpg.rf.6a0e44156b862cc02110d5c3df296b89.txt\n",
            "│   │   │   test_40800_jpg.rf.3b36ae99a9dd6d75dec6ee1a022e6434.txt\n",
            "│   │   │   test_40627_jpg.rf.7b40beab1b291676a49d4ee2fed1c5ac.txt\n",
            "│   │   │   test_40314_jpg.rf.033447b1cf323a97bc41801c0ed3a35a.txt\n",
            "│   │   │   train_40656_jpg.rf.986db0c799f46d3387e807e173209dbd.txt\n",
            "│   │   │   test_40308_jpg.rf.4123924d8fad99aee6a5c9949f9e4f00.txt\n",
            "│   │   │   train_40798_jpg.rf.bad3fb53e2d46e611b7578af02a355da.txt\n",
            "│   │   │   train_40580_jpg.rf.4a67d1893d880572a3ecbe0cf3f0411a.txt\n",
            "│   │   │   train_40428_jpg.rf.98bdd5573a61fdfaf381e3d05e9184cb.txt\n",
            "│   │   │   train_40348_jpg.rf.ef67b55bf78e93c3923df32ca0252af0.txt\n",
            "│   │   │   train_40411_jpg.rf.cd116bbb843338de264266672f8aef6f.txt\n",
            "│   │   │   train_40724_jpg.rf.c5c38cd4638bebfda9fe75dcdba92117.txt\n",
            "│   │   │   train_41029_jpg.rf.6d082e1a3ffb313c86e70f43e76a4a3a.txt\n",
            "│   │   │   train_40670_jpg.rf.f5e81dc10255e7fd8c4116669cf57c7b.txt\n",
            "│   │   │   train_40346_jpg.rf.ba37eb7ad97812d80167298b8a108826.txt\n",
            "│   │   │   train_40806_jpg.rf.50e9cfba788d4f16a3eb66a1442fe6ef.txt\n",
            "│   │   │   test_40327_jpg.rf.2550ff94cd392f9b279778f2d7343fd1.txt\n",
            "│   │   │   test_40298_jpg.rf.4e831ff15ef9a909badccd8aef90bf08.txt\n",
            "│   │   │   train_40862_jpg.rf.14d5aecdb1fbf70054b56a14a5611319.txt\n",
            "│   │   │   train_40399_jpg.rf.611ffc918c4dba4574945ad3651b132e.txt\n",
            "│   │   │   test_40267_jpg.rf.c4cd949aecaedd57f4fb3b2d2c30d921.txt\n",
            "│   │   │   train_40493_jpg.rf.ed4047b74772404d0b792788b46bec4f.txt\n",
            "│   │   │   train_40904_jpg.rf.b9486be6a5aacd85f85ffbf09bd96899.txt\n",
            "│   │   │   val_40718_jpg.rf.695220683088d41d2a0be841d60af98c.txt\n",
            "│   │   │   train_40221_jpg.rf.8294c954717c09ee3fab6247cebf746b.txt\n",
            "│   │   │   test_41030_jpg.rf.56b2f5f33b6aeac6e465426703b89352.txt\n",
            "│   │   │   test_40848_jpg.rf.07ecf8d2fccf12243090e1649a6346c3.txt\n",
            "│   │   │   test_40562_jpg.rf.f5d0875139c3b3aa28c56a695dca8324.txt\n",
            "│   │   │   train_40907_jpg.rf.607da23bb6f5e4a191928eb460b8864a.txt\n",
            "│   │   │   val_40803_jpg.rf.e0cfc213cac757d5241c07c6dd85b69d.txt\n",
            "│   │   │   train_40270_jpg.rf.876c612835aa81f7a8e47df3c76dd53f.txt\n",
            "│   │   │   test_40362_jpg.rf.e0bb0c1b6594f94cd9c4ab979548535d.txt\n",
            "│   │   │   train_40285_jpg.rf.4b29e942f238b792b996de554a5eb28b.txt\n",
            "│   │   │   test_40516_jpg.rf.f9190ce5206ebc90e784f426497f749f.txt\n",
            "│   │   │   train_40624_jpg.rf.ddebd9b0200e52607d83d954fdd7a12f.txt\n",
            "│   │   │   train_40753_jpg.rf.fda199780603fa139d1768db015aa22a.txt\n",
            "│   │   │   train_40884_jpg.rf.78ae28e554a010ebe003de997ca168c0.txt\n",
            "│   │   │   test_40892_jpg.rf.e83912399c2390cf199ab4711138ba6a.txt\n",
            "│   │   │   train_40287_jpg.rf.637fbc5a9e6f0c717a27b8f087471e87.txt\n",
            "│   │   │   test_40940_jpg.rf.e33e14db14cc7dedeb1768b4d97804f3.txt\n",
            "│   │   │   train_40527_jpg.rf.0067a2748fa8b17b0d37a959066fc9ad.txt\n",
            "│   │   │   test_40535_jpg.rf.2726ec9ae848ae2f63bfba197628a554.txt\n",
            "│   │   │   train_40532_jpg.rf.b911fa0adfd10f7aa19bdff04ee34f2e.txt\n",
            "│   │   │   train_40908_jpg.rf.80837cd3bd0b8fc51c7ff79671b1f95f.txt\n",
            "│   │   │   train_40414_jpg.rf.dcb8cf381eb9746a4643a687b71bc42f.txt\n",
            "│   │   │   val_40614_jpg.rf.f75c43734fde0128c645c673667e8ee2.txt\n",
            "│   │   │   test_40758_jpg.rf.5e987546c2a4f3a233c3e70f8fa34dc2.txt\n",
            "│   │   │   train_40196_jpg.rf.94466ed2ee4437e7d888d9698c547347.txt\n",
            "│   │   │   train_40872_jpg.rf.1743871817252386ada53611757b8ade.txt\n",
            "│   │   │   train_40522_jpg.rf.ac1c2715a1df3317949660d6b7bd3d39.txt\n",
            "│   │   │   train_40964_jpg.rf.69a1b4386b01c6b7902cea15fa1e1deb.txt\n",
            "│   │   │   train_40564_jpg.rf.5d07978a0d46e220effc2213bde97a4c.txt\n",
            "│   │   │   train_40955_jpg.rf.a701bd0b0d435acfe4e6bc46100738d1.txt\n",
            "│   │   │   train_40956_jpg.rf.c90915e135fed8ea1ac7cde8881086bd.txt\n",
            "│   │   │   train_40505_jpg.rf.06549af43dfa5f302f8c036718dc7db0.txt\n",
            "│   │   │   val_40677_jpg.rf.47dfc295146cfe87b0ccb3c38d271011.txt\n",
            "│   │   │   test_40864_jpg.rf.64afbdd53526bb851c7cf2a16c566dda.txt\n",
            "│   │   │   train_40249_jpg.rf.c37ffc76552437a15a26909bee20d6a2.txt\n",
            "│   │   │   train_40890_jpg.rf.41e9d4a303ab1afcf6eb8a2f6d4af981.txt\n",
            "│   │   │   train_41007_jpg.rf.f4ec93a93057917c845988f8cd680a33.txt\n",
            "│   │   │   train_40962_jpg.rf.9afab10149f66059a874a90700baf5d4.txt\n",
            "│   │   │   train_40888_jpg.rf.aec4fd43235ef97ae017857b1c9d1168.txt\n",
            "│   │   │   test_40401_jpg.rf.0bffc1c26b435296c1a3eaa52334ff86.txt\n",
            "│   │   │   train_40684_jpg.rf.343e54b9648645a7be284020d56a3a09.txt\n",
            "│   │   │   test_40512_jpg.rf.2c64d5805f4f73e7998039945b548441.txt\n",
            "│   │   │   val_40736_jpg.rf.898d475abd29a40d1918d4c1679a7523.txt\n",
            "│   │   │   train_40507_jpg.rf.eb94fc43dd46b4e2111a3edf4813c2a9.txt\n",
            "│   │   │   train_40550_jpg.rf.d2bdf313652ac94ee08e3eba1df7aaec.txt\n",
            "│   │   │   train_40944_jpg.rf.336bb4d0bc14932b01448a4b0e5f46f8.txt\n",
            "│   │   │   train_40966_jpg.rf.97c68191c5d84d344f1eaeea32d01877.txt\n",
            "│   │   │   train_40366_jpg.rf.bc2094aa5282e31fcd0a4b09c46eefbc.txt\n",
            "│   │   │   test_41036_jpg.rf.24d6dc45938ccb5e9013ee217eb5b8e4.txt\n",
            "│   │   │   val_40971_jpg.rf.08756b33f1f81669eebc9c11dda4d622.txt\n",
            "│   │   │   train_40325_jpg.rf.b28d1e1ceaf1595a3e1bdb7f76d0f92f.txt\n",
            "│   │   │   train_41019_jpg.rf.893f57783c1b230704f0bf5c4df535a6.txt\n",
            "│   │   │   test_40618_jpg.rf.eb30c1fc299ddf6a3dad92be65426e2b.txt\n",
            "│   │   │   val_40280_jpg.rf.5a05885e411906835f24d5aad91b362d.txt\n",
            "│   │   │   train_41010_jpg.rf.eabf1f139d0bb4f1ca8cdef96ce56330.txt\n",
            "│   │   │   train_40700_jpg.rf.1c184eff9bd2c21a57c6004556860203.txt\n",
            "│   │   │   train_40647_jpg.rf.72c996f959f8641931bba1b219237917.txt\n",
            "│   │   │   train_40549_jpg.rf.eb842d1e389a1e84772fa44b1a97f996.txt\n",
            "│   │   │   test_40195_jpg.rf.944c254f156fa5281240d3da159a2427.txt\n",
            "│   │   │   train_40902_jpg.rf.9214ca4f054b7fdda8cf584b95ced857.txt\n",
            "│   │   │   train_40858_jpg.rf.681e16d1569c08cc8b1dda138a070fcf.txt\n",
            "│   │   │   train_40328_jpg.rf.d8e679331478440a1d084b9d21d52893.txt\n",
            "│   │   │   test_40271_jpg.rf.3575ae40dbc11c27eb9226bcffc63dd2.txt\n",
            "│   │   │   train_40246_jpg.rf.f6c748f08dc51b59725efa31ea8d4916.txt\n",
            "│   │   │   train_40244_jpg.rf.01a49fe4fb6225a95449e0add0d2ec8e.txt\n",
            "│   │   │   test_40341_jpg.rf.c903fff8dea339eb5e71d826e5440d70.txt\n",
            "│   │   │   test_40935_jpg.rf.0bdef0abee6f46dbd84aba82d8eb3dce.txt\n",
            "│   │   │   train_40208_jpg.rf.6d32634ab9c200790f489cd07fd373e5.txt\n",
            "│   │   │   test_40927_jpg.rf.78102ebfce303ff8288ef9de3ace11d3.txt\n",
            "│   │   │   test_40199_jpg.rf.2685e5abcca38e254d6d1aa549b5c5c0.txt\n",
            "│   │   │   val_40796_jpg.rf.9c04fdabf9036c64a87966e2aefa09e0.txt\n",
            "│   │   │   test_40732_jpg.rf.a22cb27caa2e0fad82d3d285b2bde1de.txt\n",
            "│   │   │   test_40323_jpg.rf.72f4e0428c789bf07a758a432c704d80.txt\n",
            "│   │   │   test_40883_jpg.rf.8ff8b58f95e9395d3d9a4387e70050c2.txt\n",
            "│   │   │   train_40911_jpg.rf.28c9fd954ff6af712f4d964106389c31.txt\n",
            "│   │   │   test_40234_jpg.rf.53608a03a63f14a0949c0d9a0dce41cb.txt\n",
            "│   │   │   train_40297_jpg.rf.0ad4d6b6808c47f5d02a5be497a14819.txt\n",
            "│   │   │   train_40594_jpg.rf.de08ee2128a3d465ba1f743a07ae09c8.txt\n",
            "│   │   │   train_40568_jpg.rf.60b42e31c863fad8613d1a5c98ef792b.txt\n",
            "│   │   │   train_40829_jpg.rf.94a86aecd94b0a6112e041d8f1ebe41b.txt\n",
            "│   │   │   train_40715_jpg.rf.f92f3775701c85b364260ac4f634c2c0.txt\n",
            "│   │   │   val_40781_jpg.rf.a762e177b86c907508fd3c938ae80b42.txt\n",
            "│   │   │   train_40457_jpg.rf.0c8126e2babe19e5e455ca24a9554a97.txt\n",
            "│   │   │   train_40452_jpg.rf.1abcc095b15bf637616e8e5f672b8b0f.txt\n",
            "│   │   │   train_40436_jpg.rf.a06fccfe6beeef38e8f6446edfa720d5.txt\n",
            "│   │   │   test_40306_jpg.rf.26c34d82c76210d1f68fd51044f17bcd.txt\n",
            "│   │   │   train_40192_jpg.rf.583182eacd278c8686522a12b27c5b4c.txt\n",
            "│   │   │   train_40609_jpg.rf.f921e7d0fae6ad5d28eedad78e270e51.txt\n",
            "│   │   │   test_40487_jpg.rf.10905b1fd26cbd9bbfd448853f0edd3e.txt\n",
            "│   │   │   train_40277_jpg.rf.2135c5f9676b247d7ace4236adb252fd.txt\n",
            "│   │   │   val_40779_jpg.rf.f8c928ef5c3ba886fbaa7882336ac14e.txt\n",
            "│   │   │   train_40209_jpg.rf.387f99bf419e50d921d296843469fd9b.txt\n",
            "│   │   │   train_40674_jpg.rf.066b9e176de4031a39f1a487a6eee08a.txt\n",
            "│   │   │   train_40380_jpg.rf.67be6c38af59988a5164184e87f7b246.txt\n",
            "│   │   │   train_40228_jpg.rf.7a1276e51b4ba187037d7ab780568596.txt\n",
            "│   │   │   train_40919_jpg.rf.0206e51caf17bfa676375b51bb5ee1cd.txt\n",
            "│   │   │   train_40794_jpg.rf.d3e60e7d5238e3e14964a9b2244cc6cc.txt\n",
            "│   │   │   train_40501_jpg.rf.0e4ac3f5543f9751ae59572bd529bedf.txt\n",
            "│   │   │   train_40709_jpg.rf.b21f7963f82f22465842484057eef488.txt\n",
            "│   │   │   train_40891_jpg.rf.653d0f78646a42f8f1de47acf809ffd1.txt\n",
            "│   │   │   train_40588_jpg.rf.e8bf8ef9628e35c1d37a7e032bbbc154.txt\n",
            "│   │   │   train_40778_jpg.rf.c652f7e1214732a2fe19f2474a0aeade.txt\n",
            "│   │   │   val_40725_jpg.rf.6528151a98ef4fb725a785e0baa39b83.txt\n",
            "│   │   │   train_40385_jpg.rf.2b168f03339f9a89f96455f4c4779580.txt\n",
            "│   │   │   test_40422_jpg.rf.e56ce8c35f224bb03c78d5ee491f701b.txt\n",
            "│   │   │   train_41004_jpg.rf.796459e1ce691cf4ebb667f77b87bdae.txt\n",
            "│   │   │   test_40896_jpg.rf.a831b818da3f537c677d508d48395ea7.txt\n",
            "│   │   │   train_40492_jpg.rf.ce5b6cf97df6585a6f34642d6fac8d6a.txt\n",
            "│   │   │   train_40598_jpg.rf.02336a9cc7812acfc9ec10b77867bd46.txt\n",
            "│   │   │   train_40345_jpg.rf.013734c1d5c197c811d0765095bbb434.txt\n",
            "│   │   │   train_41033_jpg.rf.ede9c06b76da71691588b02b67395cfe.txt\n",
            "│   │   │   val_40612_jpg.rf.dec123da385b7b80297f7ca5c90d0350.txt\n",
            "│   │   │   train_40836_jpg.rf.1ee3ed3a8b569415f071655ff76b4872.txt\n",
            "│   │   │   train_40539_jpg.rf.a9299abdb1acca0edbcfc7b4e592b7e2.txt\n",
            "│   │   │   train_40570_jpg.rf.5b2af9e0a80126ec84983ae77b95001e.txt\n",
            "│   │   │   test_40355_jpg.rf.b23a5f3e3c77575e2a6f9d24a33332f5.txt\n",
            "│   │   │   train_40997_jpg.rf.70542d639f5e650893f16fb4ecc558fc.txt\n",
            "│   │   │   train_40916_jpg.rf.14931064eec4b30e0314b91d37e60dfc.txt\n",
            "│   │   │   train_40850_jpg.rf.cc3941e3e6ba888954db7aa454dec7c7.txt\n",
            "│   │   │   train_40945_jpg.rf.c94caeb4c3cb80d44ba6b54c866759a9.txt\n",
            "│   │   │   train_40286_jpg.rf.fba3c09b699f79f549dfe1f75fdd071a.txt\n",
            "│   │   │   train_40965_jpg.rf.36fea4a9dba07d7dcdac2c1ed2ea4fe5.txt\n",
            "│   │   │   test_40369_jpg.rf.e32cea89ab9f6978183c8a992b779b8f.txt\n",
            "│   │   │   test_40447_jpg.rf.d4f29c9dc361ac4e3ea3fc221106c9f6.txt\n",
            "│   │   │   test_40439_jpg.rf.4eb0ea9793d250e5c5807317972af55f.txt\n",
            "│   │   │   test_40652_jpg.rf.971870c648ca7bd97a200a0664971fdd.txt\n",
            "│   │   │   test_40305_jpg.rf.9ca3a9db6eb7afd9319b7ea55bc03920.txt\n",
            "│   │   │   train_40807_jpg.rf.8c2a62d462aa92d8ea119a682f4fbd84.txt\n",
            "│   │   │   test_40845_jpg.rf.a78b65a0baa41f0cedaeb99ea5be29ca.txt\n",
            "│   │   │   train_40993_jpg.rf.9e3b7a9428759ec82d56be6772991947.txt\n",
            "│   │   │   train_40272_jpg.rf.75009b8d0973e1d4902355626340ed52.txt\n",
            "│   │   │   train_40396_jpg.rf.762af309847597fb33eaf2a973864284.txt\n",
            "│   │   │   test_40474_jpg.rf.6b109db4d397e51cdb09af4f8c60f21b.txt\n",
            "│   │   │   val_40792_jpg.rf.24bd85a26d242ae6298defa3d3213923.txt\n",
            "│   │   │   train_40975_jpg.rf.7a6e77c8385976615f3f9c76fcec3035.txt\n",
            "│   │   │   train_40402_jpg.rf.4a4c247e310c559c704f164ac9a2917e.txt\n",
            "│   │   │   train_40756_jpg.rf.6d7c1ef026fd1435c12e923fc70a92d0.txt\n",
            "│   │   │   train_40655_jpg.rf.e3323c7badfb23ea3fdb05c2edf02377.txt\n",
            "│   │   │   train_40585_jpg.rf.645912d199de56096e6254da5bed81c4.txt\n",
            "│   │   │   test_40769_jpg.rf.42d4a9d9592bce44cc72d60c824af4d6.txt\n",
            "│   │   │   test_40924_jpg.rf.962d174f15db7cd729e6259baa9ffc2a.txt\n",
            "│   │   │   test_40630_jpg.rf.10f8eb26115a4f028e58385c95a8b1fe.txt\n",
            "│   │   │   train_40708_jpg.rf.6bf6aaf39c4dba15ec5d1669c3eba110.txt\n",
            "│   │   │   train_40668_jpg.rf.e3f0305606e8a53e9e6cfe0b3879bbe6.txt\n",
            "│   │   │   test_40574_jpg.rf.b96f0f617800cb57505b6d02f3648bfc.txt\n",
            "│   │   │   test_40191_jpg.rf.9291b292c3f597d91168af8e02b22f97.txt\n",
            "│   │   │   train_40416_jpg.rf.fa49aa3e7e8aecce9c305391c5cbbf98.txt\n",
            "│   │   │   train_40988_jpg.rf.be77a802381e8f85dc3f624a212ee89b.txt\n",
            "│   │   │   train_40459_jpg.rf.73efe8c5f2883a8de3953a2ddcfae8d9.txt\n",
            "│   │   │   train_41000_jpg.rf.440a7ddd9881b537175c30c28fd64d27.txt\n",
            "│   │   │   train_40460_jpg.rf.138c1ada0095271d323f29111b077bd1.txt\n",
            "│   │   │   test_40472_jpg.rf.655432138b03f2c3a4d83cccc514f2c2.txt\n",
            "│   │   │   train_40203_jpg.rf.0bc5dcfd36041d35ab51929cbed51fd8.txt\n",
            "│   │   │   train_40847_jpg.rf.ba16dc6a3af88ece85c3205bda5549c7.txt\n",
            "│   │   │   train_40294_jpg.rf.84a8231563ba2f6a3d9316c443b3a505.txt\n",
            "│   │   │   test_40739_jpg.rf.6a88325f3fbd5750adf1e38bf770660e.txt\n",
            "│   │   │   train_40368_jpg.rf.9820388de0064c37446ccd9b85a5e17c.txt\n",
            "│   │   │   test_40542_jpg.rf.fabb33690ad97b7b67b824e919502754.txt\n",
            "│   │   │   test_40590_jpg.rf.6a85c35770d116ca446997d844adb767.txt\n",
            "│   │   │   train_40816_jpg.rf.805860d529fcf05679945963431d68e2.txt\n",
            "│   │   │   train_41040_jpg.rf.2050dd9473680cd70872211098575b1c.txt\n",
            "│   │   │   test_41034_jpg.rf.b226e24fa529eb2419230747fa85e6ff.txt\n",
            "│   │   │   val_40200_jpg.rf.a3f2388d2b45d5e35108b8e1fb1e74c3.txt\n",
            "│   │   │   val_40817_jpg.rf.65168b39b50738b62f82ca70d03341c8.txt\n",
            "│   │   │   train_40235_jpg.rf.cd2e3eb3b2ab083409a4e3f78bfe7a0d.txt\n",
            "│   │   │   train_40650_jpg.rf.8649cc89e2be2687b6a94a919ccff188.txt\n",
            "│   │   │   train_40697_jpg.rf.3578a23899ca2b286c236fb5a908f89c.txt\n",
            "│   │   │   train_40438_jpg.rf.8793e6f9cb86ae031ac4a85cebad43cf.txt\n",
            "│   │   │   train_40880_jpg.rf.3772189cf567aac12de4d7be57108245.txt\n",
            "│   │   │   test_40814_jpg.rf.13e365b5bfc49c1a3470b7aafbdbdc78.txt\n",
            "│   │   │   train_40926_jpg.rf.2d4b37ccdaa8a00ef1ae29f82f30f07b.txt\n",
            "│   │   │   train_40407_jpg.rf.48335f588f230663499c7049d04e46a7.txt\n",
            "│   │   │   test_40296_jpg.rf.b01c9adb9a19575909e028ab5b467055.txt\n",
            "│   │   │   test_40861_jpg.rf.53c77be2be1be2da9593ab200a330f2d.txt\n",
            "│   │   │   val_40879_jpg.rf.c1b8ec98f896904055810c1428523069.txt\n",
            "│   │   │   train_40839_jpg.rf.757572e7308e33226d48df7ea3ea6485.txt\n",
            "│   │   │   train_40620_jpg.rf.5028f92d869dc5526785030c6e0514c6.txt\n",
            "│   │   │   train_40849_jpg.rf.018896926e2f8c5b6f64d5cc3e93d434.txt\n",
            "│   │   │   train_40738_jpg.rf.50bfbe7776d694f8ec4352074a8a31fd.txt\n",
            "│   │   │   test_40893_jpg.rf.68c1bb59243ba585e512204632ac9e67.txt\n",
            "│   │   │   test_40727_jpg.rf.99a8b080929e2f6e8d25bc49707522d2.txt\n",
            "│   │   │   test_40952_jpg.rf.99a89ac22310fb07fa8fec976bd30475.txt\n",
            "│   │   │   train_40990_jpg.rf.ba3798e4c5e5acdb71092dfcfcee6dbd.txt\n",
            "│   │   │   train_40418_jpg.rf.7d379c61e0457f70320a807b57cfbf4b.txt\n",
            "│   │   │   test_40446_jpg.rf.30366ecc19c29b982d081912cacdebd9.txt\n",
            "│   │   │   test_40456_jpg.rf.3dbee310d4bd49f184c16bf75aec5905.txt\n",
            "│   │   │   test_40686_jpg.rf.a990f973a0072391bd85bc283dee47b2.txt\n",
            "│   │   │   test_40283_jpg.rf.ed0d14364cc59aab9cffccbce5602aad.txt\n",
            "│   │   │   test_40688_jpg.rf.b211298748fb2a70442d996f3387302a.txt\n",
            "│   │   │   train_40261_jpg.rf.cbe4d9637302838609495624b81a5764.txt\n",
            "│   │   │   test_40586_jpg.rf.bb626ba440c0be40aabcb2b74629270d.txt\n",
            "│   │   │   train_40480_jpg.rf.27f5d5fdb46c9f6a041cbc5df3d2fc91.txt\n",
            "│   │   │   train_40359_jpg.rf.6e07bd839c15babb31bba72b694cdf39.txt\n",
            "│   │   │   test_40782_jpg.rf.e491428e5ef029c9d7c66ef9fd87a562.txt\n",
            "│   │   │   train_40214_jpg.rf.5adb07f428775c2e06bf2b392ca36eaf.txt\n",
            "│   │   │   val_40981_jpg.rf.a88c2756ab85518ab2680fae24996796.txt\n",
            "│   │   │   val_40629_jpg.rf.a4cf4c5fc1a14888e8b7a0b6ab70838f.txt\n",
            "│   │   │   train_40795_jpg.rf.8270bbebe35ea5378b0a182781664b15.txt\n",
            "│   │   │   train_40566_jpg.rf.cfe5166376c7711dc41454e49443ec35.txt\n",
            "│   │   │   train_40960_jpg.rf.3defdbc0e2afd03b6532e8defb8a2646.txt\n",
            "│   │   │   train_40675_jpg.rf.b3f093e1ed228b145dd36a7f6f6c2cd5.txt\n",
            "│   │   │   train_40663_jpg.rf.d161e053eef408e9e5907c2ca6f5407a.txt\n",
            "│   │   │   train_40552_jpg.rf.fa230fb1eac14d064b84e68ee473f883.txt\n",
            "│   │   │   test_40608_jpg.rf.aba817cf0ddcb5addca10dbf00f74373.txt\n",
            "│   │   │   train_40954_jpg.rf.5aea409bbbcbf89216ce60c84be3b0c5.txt\n",
            "│   │   │   test_40202_jpg.rf.efb7080fc191816ae5a1803d2553af0b.txt\n",
            "│   │   │   val_40363_jpg.rf.6581481b24f3c4362014a57341743047.txt\n",
            "│   │   │   test_40972_jpg.rf.0e242cd959aabb23f80d614c006670e6.txt\n",
            "│   │   │   train_40461_jpg.rf.10d007960091f60c86659d9499bc4fd1.txt\n",
            "│   │   │   train_40354_jpg.rf.4a7ea340553850e4503b7baeee3ebba2.txt\n",
            "│   │   │   train_40248_jpg.rf.ac3213f33208c84f9ff9d9a12ce92f69.txt\n",
            "│   │   │   train_40463_jpg.rf.c43f772227e9d4afe48d74a1ee267383.txt\n",
            "│   │   │   train_40710_jpg.rf.b51110a9909356d36ebb017da7cfb5dc.txt\n",
            "│   │   │   train_40759_jpg.rf.9b34e67bbba6d1c47f773a5a9e0c4f97.txt\n",
            "│   │   │   test_40783_jpg.rf.bc45a2bb277d5c69fb3b2e9bf782af03.txt\n",
            "│   │   │   train_40444_jpg.rf.bf5b41e140811e8cf9625dbaf237a1f6.txt\n",
            "│   │   │   train_40575_jpg.rf.33404b82412919374b1bf41d18a676e0.txt\n",
            "│   │   │   test_40933_jpg.rf.33e81374fa2d6756dd8426ae5b09f87f.txt\n",
            "│   │   │   test_40432_jpg.rf.b21b903239f61eef3a8904cfe7abe530.txt\n",
            "│   │   │   test_40605_jpg.rf.900e705c3a32869f7451a9f41b353687.txt\n",
            "│   │   │   test_40260_jpg.rf.88387c64b5502530563dca4464798a49.txt\n",
            "│   │   │   test_40336_jpg.rf.3c249d512846030ba208f6eece9baf10.txt\n",
            "│   │   │   train_40379_jpg.rf.aec6f8412553d7ce200f862918b6e042.txt\n",
            "│   │   │   test_40991_jpg.rf.b6072ff521bc3b0df24e53ecabc39588.txt\n",
            "│   │   │   test_40841_jpg.rf.4f2b7949f822654dcec7f4e943ec94af.txt\n",
            "│   │   │   train_40657_jpg.rf.f135c63c3cf159797eefc0b7389d104e.txt\n",
            "│   │   │   train_41025_jpg.rf.f4ab4ced48fcf51f8695c7abe51cd3fa.txt\n",
            "│   │   │   train_40275_jpg.rf.ab0d1b4d2fe0f6c7655ff6b8f1450568.txt\n",
            "│   │   │   train_40525_jpg.rf.e642263d16992d7cd3b3d16fec8199c3.txt\n",
            "│   │   │   train_40514_jpg.rf.ed1283a6acb1f39207f96597412a8633.txt\n",
            "│   │   │   val_40250_jpg.rf.9519e03d1f59d97f50fdbd8362e84537.txt\n",
            "│   │   │   train_40339_jpg.rf.0acf6cc3d8f932cce30087e2e50fa689.txt\n",
            "│   │   │   train_40303_jpg.rf.7edba50b3fad8e2d6e3290f0e35ecf98.txt\n",
            "│   │   │   train_40750_jpg.rf.3d2fa4a62400a5335cac794e1d216116.txt\n",
            "│   │   │   train_40930_jpg.rf.f5a1bc618251ff7f34f1ee58c5d6fdca.txt\n",
            "│   │   │   train_40793_jpg.rf.47f903d93b25fb2419aaabdd41061a8d.txt\n",
            "│   │   │   train_40742_jpg.rf.086e0be542ae4e5ff6a729cd92e1c62f.txt\n",
            "│   │   │   train_40716_jpg.rf.868830c9a76532de7440edc879fcff37.txt\n",
            "│   │   │   train_40698_jpg.rf.d67fbfdf1272abcb24c83a0cd4a573cb.txt\n",
            "│   │   │   train_40517_jpg.rf.1ff1e9ecaf4f964f0b0600afef51a68e.txt\n",
            "│   │   │   train_40257_jpg.rf.a4fa2a4e0105a229e63d32a7065497b4.txt\n",
            "│   │   │   train_40511_jpg.rf.5bc2f35314d41b598d38eef0454dd4de.txt\n",
            "│   │   │   test_40898_jpg.rf.ffe356396ec303964e0db3aee9d5dbdb.txt\n",
            "│   │   │   train_40702_jpg.rf.3c53ce1b909cced23cca17518c4e6aae.txt\n",
            "│   │   │   val_40462_jpg.rf.236574dd901cec4431af29abe90a37fc.txt\n",
            "│   │   │   test_40435_jpg.rf.4d88233eece03a2456feb3f11053750e.txt\n",
            "│   │   │   train_40276_jpg.rf.ee4624a7d9e72b1ccb050904759bd562.txt\n",
            "│   │   │   test_40018_jpg.rf.af95dd4fceebc0de4eb538d72fccb349.txt\n",
            "│   │   │   train_40946_jpg.rf.1930b445dc7ced3a248db5632c0eab89.txt\n",
            "│   │   │   train_40333_jpg.rf.a28d599404218dad647f364e1a687595.txt\n",
            "│   │   │   train_40685_jpg.rf.e3a6e7eb0d2e12b64da7122395659dc2.txt\n",
            "│   │   │   train_40528_jpg.rf.6e5adc868904a087b9b1bb9d38228eca.txt\n",
            "│   │   │   train_40434_jpg.rf.52a38b7d9da52ad3edc23d2352a4bb1c.txt\n",
            "│   │   │   train_40842_jpg.rf.9029c73eb35cf967462101a804c0c5c9.txt\n",
            "│   │   │   train_40974_jpg.rf.67dbbc7ba25fa8ffd57b1b71d8c702de.txt\n",
            "│   │   │   test_40243_jpg.rf.a8c74e91a115c6a7e2fe6a38e15d5852.txt\n",
            "│   │   │   test_40226_jpg.rf.a2c4f0501cf0a3c614424bc937e84e7a.txt\n",
            "│   │   │   train_40903_jpg.rf.42329db3cf9163067202dd9ef673f3b3.txt\n",
            "│   │   │   test_40556_jpg.rf.cbb628965504b14238d5ff75b5b4ab81.txt\n",
            "│   │   │   test_40231_jpg.rf.6f92757804e5078189c6b07cae87cdf8.txt\n",
            "│   │   │   val_41006_jpg.rf.8bf3f602d70d30acc84505382207d3e8.txt\n",
            "│   │   │   train_40426_jpg.rf.23e6df76c729a83afa86f72dbfe431b4.txt\n",
            "│   │   │   test_40216_jpg.rf.1b3d0824dd302267d5dab7e07d32d058.txt\n",
            "│   │   │   val_40722_jpg.rf.5613110e3b6b0a3b43fb9467c8403c5e.txt\n",
            "│   │   │   train_40730_jpg.rf.06f9cac26d6c58d97f5f5a6f9e447711.txt\n",
            "│   │   │   train_40751_jpg.rf.335a009f648a3cf196148f71ec9f43ed.txt\n",
            "│   │   │   train_40942_jpg.rf.d01ab36dc7a49b693f5720ea2f8069d1.txt\n",
            "│   │   │   train_40634_jpg.rf.fb72c1a469e9a7210d71001a01e5e8f4.txt\n",
            "│   │   │   test_40853_jpg.rf.65e2b34420491781dd7e1812179c3d22.txt\n",
            "│   │   │   test_40673_jpg.rf.ca371b06d1972ebb7ae46cc45688034c.txt\n",
            "│   │   │   val_40381_jpg.rf.9302e00393f1c18cbfc1c24a900ee48c.txt\n",
            "│   │   │   train_40420_jpg.rf.6d0a12328bb14806a714a7d780d15c21.txt\n",
            "│   │   │   test_41013_jpg.rf.9a3390049ed4eddab84f88bcf964d5f9.txt\n",
            "│   │   │   train_40299_jpg.rf.a1343263b65f599e83736f3de386958d.txt\n",
            "│   │   │   train_40284_jpg.rf.6603e8e7ca938199c5ad9a76902e4011.txt\n",
            "│   │   │   train_40578_jpg.rf.6ce4f41dccc9bcf1bfe58eef9f049a69.txt\n",
            "│   │   │   test_40523_jpg.rf.d3c6bfdcc39e8163e76ef250fa1008cb.txt\n",
            "│   │   │   test_40587_jpg.rf.ee25aaa84d0d1c8e05ecbc711b14f14d.txt\n",
            "│   │   │   train_40465_jpg.rf.c72a25c1c7158296243b9d2b4b9f2582.txt\n",
            "│   │   │   val_40273_jpg.rf.bae7e7a26899882e6804e83bbfd1f864.txt\n",
            "│   │   │   val_40218_jpg.rf.7e671228f56cedbcb6508507d7657fa4.txt\n",
            "│   │   │   test_40332_jpg.rf.e36d5784018687631fa527e73e051504.txt\n",
            "│   │   │   test_40455_jpg.rf.0afa662b332654a383d27d2d7d014e73.txt\n",
            "│   │   │   test_40601_jpg.rf.264493bf777955b31d379bdd61e16cdf.txt\n",
            "│   │   │   train_40356_jpg.rf.e4f8ed8718ca987a77bb6e16621b8484.txt\n",
            "│   │   │   train_40253_jpg.rf.94213b1a322d315dae13bbdab12b0224.txt\n",
            "│   │   │   train_40538_jpg.rf.b741e082196c798bf8d0a5a30e44086f.txt\n",
            "│   │   │   train_40840_jpg.rf.8b99575c8fcee522b870f5e91eeb1058.txt\n",
            "│   │   │   train_40780_jpg.rf.7d6d95062092f86b74d4a0b10fc92b30.txt\n",
            "│   │   │   train_40372_jpg.rf.e5d84b67c6ff0744d43b2b32bdb5efe2.txt\n",
            "│   │   │   train_40941_jpg.rf.8bf731ca947750433f2d99336345489b.txt\n",
            "│   │   │   train_40693_jpg.rf.d4f4b7303ea619a969934406145b4ff0.txt\n",
            "│   │   │   train_40194_jpg.rf.823e81c0e57b73b661c2a60ab903c04e.txt\n",
            "│   │   │   test_40541_jpg.rf.dc4f95caeb0e2a95d149b3829e7d456c.txt\n",
            "│   │   │   test_40302_jpg.rf.09c4aef25c1340c000d6c020ef39357a.txt\n",
            "│   │   │   train_40851_jpg.rf.631408284479187caa901ccd2c0c82b6.txt\n",
            "│   │   │   test_40869_jpg.rf.58321031f7b571646048fa43ca976b9a.txt\n",
            "│   │   │   test_40553_jpg.rf.def0e9ea49356b01549cb6abcecdcb3b.txt\n",
            "│   │   │   test_40925_jpg.rf.dde5429cf8c39467c3164e56f35721e5.txt\n",
            "│   │   │   val_41018_jpg.rf.f0725caccce59c76fbe4989bee94ee81.txt\n",
            "│   │   │   train_40788_jpg.rf.8943070ead8af12b14087c1a98e2a8d5.txt\n",
            "│   │   │   train_40307_jpg.rf.6089cfebf4401d46392bbc7cc45dc66d.txt\n",
            "│   │   │   train_40310_jpg.rf.8d79a95beb8e8a25226a8320439b5d57.txt\n",
            "│   │   │   train_41003_jpg.rf.93e882cbaa682cdbf95962f1f7197c46.txt\n",
            "│   │   │   train_40479_jpg.rf.7c0958459b87d47ca3eddfc731d275c7.txt\n",
            "│   │   │   test_40626_jpg.rf.234cf36e699f5cb726075ae218d7878f.txt\n",
            "│   │   │   train_40760_jpg.rf.30e8502a1d9dc2b6e08a922e96cec46d.txt\n",
            "│   │   │   train_40266_jpg.rf.d06159b932bf242dcc7390a993611e64.txt\n",
            "│   │   │   test_40473_jpg.rf.c36bdcfee1338fc3acd15ffdba98e65e.txt\n",
            "│   │   │   val_41024_jpg.rf.2649751130e8c66879e0fd1493d363e2.txt\n",
            "│   │   │   train_40193_jpg.rf.f5c604b2b37c44739b258333ab29f194.txt\n",
            "│   │   │   test_40985_jpg.rf.e6386a8a218b05f7a8b380c7817b6549.txt\n",
            "│   │   │   test_40912_jpg.rf.869b3bcffac58dd756e40a62e1f4fc84.txt\n",
            "│   │   │   train_40680_jpg.rf.fc93d902570336863e5095623e48be0c.txt\n",
            "│   │   │   test_40844_jpg.rf.ae3bbe70c3bda9bbbc888cdf1d14ff10.txt\n",
            "│   │   │   train_40289_jpg.rf.ab00e18fc7496ebfd5fd5a18593f129a.txt\n",
            "│   │   │   test_40834_jpg.rf.b42a7b8e5461676c794e4279e1f6d353.txt\n",
            "│   │   │   train_40659_jpg.rf.61d3f7178ba6c844b8f4f4529461fd35.txt\n",
            "│   │   │   train_40210_jpg.rf.da1da38a6b700e660a08589b12534ba5.txt\n",
            "│   │   │   train_40388_jpg.rf.34c5372104e71338ffbc9b7f69a4dccd.txt\n",
            "│   │   │   val_40572_jpg.rf.c56bd5d6f8010e49cf9615c080503aed.txt\n",
            "│   │   │   val_40395_jpg.rf.ee3d21febe38dfd59f7ab9991ecb576a.txt\n",
            "│   │   │   train_40394_jpg.rf.a32020a818bf99c9ff367fd31b61c80c.txt\n",
            "│   │   │   train_40404_jpg.rf.be9011a673b5bcf38f433f07aff852ad.txt\n",
            "│   │   │   train_40540_jpg.rf.0c3ebf05917f882ff64d7cf55936c4e7.txt\n",
            "│   │   │   train_40551_jpg.rf.67e4832f97b39e8e02594b2f3129ad37.txt\n",
            "│   │   │   train_40660_jpg.rf.fd20414bf439b26bd7032b99e3465a2e.txt\n",
            "│   │   │   test_40984_jpg.rf.46e76fbe6022e32e6c46f7cba0cf9566.txt\n",
            "│   │   │   train_40207_jpg.rf.dc1d1d0deb7c00b632dcc2f34021f727.txt\n",
            "│   │   │   train_40419_jpg.rf.d4de6eb4a6b068610bfebdd01a6a0578.txt\n",
            "│   │   │   val_41002_jpg.rf.26b94c8dcb93b3928b2eb4ca5c718b0f.txt\n",
            "│   │   │   val_40351_jpg.rf.dc88c6b58b7343347a53749b98cbea13.txt\n",
            "│   │   │   test_40740_jpg.rf.3217a92dc768cfb9b7de2c469fc6c08d.txt\n",
            "│   │   │   train_40707_jpg.rf.2a2169f1b346fe4c88d70f227558807d.txt\n",
            "│   │   │   train_41031_jpg.rf.535b7b8f2e0d3bdfe5e940fa6b282e18.txt\n",
            "│   │   │   train_40867_jpg.rf.86e21e876919a82bff6437d19bb88038.txt\n",
            "│   │   │   test_40137_jpg.rf.42e2ac8c6552f168fee8a51463c88ab7.txt\n",
            "│   │   │   test_40331_jpg.rf.8c086661ae86f60b7ce946620f7279df.txt\n",
            "│   │   │   test_40827_jpg.rf.de06440c6e6d82c44255b066b62b5cd8.txt\n",
            "│   │   │   train_40823_jpg.rf.a7de87bcd9bdcf131fcbd92f83b0cb25.txt\n",
            "│   │   │   val_40482_jpg.rf.dc47434ebebe68a4d8770dc30312061c.txt\n",
            "│   │   │   test_40669_jpg.rf.5a63b7b9df0141a59ae7db7cfe5b16c9.txt\n",
            "│   │   │   train_40897_jpg.rf.53c59720493c49498d5e80a76d9f0390.txt\n",
            "│   │   │   train_40719_jpg.rf.d87cc13f966d7d04ed6070ec9850f92a.txt\n",
            "│   │   │   train_40251_jpg.rf.a449a352d56b7f03c38d9474439ee88e.txt\n",
            "│   │   │   train_40263_jpg.rf.ad4bfbb50417935b7a7045db32b98d6b.txt\n",
            "│   │   │   test_40932_jpg.rf.214b46823b6172eea288f2bcb6a21e05.txt\n",
            "│   │   │   test_40617_jpg.rf.e758d2a55e6a858c59ed8ad97a113892.txt\n",
            "│   │   │   train_41011_jpg.rf.008d61956c5324224d506fb42717d1f6.txt\n",
            "│   │   │   val_40963_jpg.rf.13bc97d3fb852377350c9aec8a7121c9.txt\n",
            "│   │   │   val_40408_jpg.rf.7bc471c3d19f5261b0f27e5e959db197.txt\n",
            "│   │   │   train_41032_jpg.rf.c5b5b627e3edc085193c7437a3095b49.txt\n",
            "│   │   │   test_40906_jpg.rf.165e5f96bf14afefbdd2aa95ea8286ba.txt\n",
            "│   │   │   train_40812_jpg.rf.12b8c1863c2c0b7882c1baf28f9021e4.txt\n",
            "│   │   │   train_40313_jpg.rf.b7e68b65993c8cda4e6b38fe567f3b29.txt\n",
            "│   │   │   val_40777_jpg.rf.ec3bdf37b218a247f906ecd2c5fc10f2.txt\n",
            "│   │   │   train_40899_jpg.rf.03f7b1f922806f6da0fbb971ab7e1c11.txt\n",
            "│   │   │   train_40392_jpg.rf.15904a00f6ff770d7a5e0f39e1f78727.txt\n",
            "│   │   │   test_40649_jpg.rf.0156fec81b8ff48ed74dfaca0518e945.txt\n",
            "│   │   │   test_40808_jpg.rf.bf68c1146a1a917bda5d36cd5f32d10b.txt\n",
            "│   │   │   train_40498_jpg.rf.a5e43c3b4710a0aa13d36c65d563930e.txt\n",
            "│   │   │   train_40264_jpg.rf.0ab3aeb920971d9bad99962ce5951267.txt\n",
            "│   │   │   train_40929_jpg.rf.6ebc677bc539f3c0eb96609b4b0c23e7.txt\n",
            "│   │   │   train_40255_jpg.rf.ec8d7bd2feb4a3083ac19349b8e77929.txt\n",
            "│   │   │   train_40597_jpg.rf.69296ad99287e43c921a5a61db909ca5.txt\n",
            "│   │   │   test_40996_jpg.rf.f7d053005dc313388d0011bdef8ed135.txt\n",
            "│   │   │   train_40573_jpg.rf.74c8c16080ecebbb87911bf0cfa41fea.txt\n",
            "│   │   │   train_41008_jpg.rf.ce69dfb8bc3bc2f0b8c81ee3ae7bb6c8.txt\n",
            "│   │   │   train_40915_jpg.rf.bf4514c2e600c565e76916bca04eb4dc.txt\n",
            "│   │   │   train_40771_jpg.rf.a2fa23718b0981d7c751ca23f627fcdc.txt\n",
            "│   │   │   test_40548_jpg.rf.775377a6b8674216126cab01a184bd8d.txt\n",
            "│   │   │   train_40967_jpg.rf.7f3e641f2f3602309e79937a9d7200ce.txt\n",
            "│   │   │   test_40802_jpg.rf.ddea30021ead9233b5a828e0f24a1435.txt\n",
            "│   │   │   val_40579_jpg.rf.9df3d19f5375f863dc1bd6a678335539.txt\n",
            "│   │   │   val_40292_jpg.rf.38661a0eb42f2be5e75d2a200a91bc2a.txt\n",
            "│   │   │   train_40871_jpg.rf.30acc0dfb47c05ad9a28d7e0702da9d0.txt\n",
            "│   │   │   test_40765_jpg.rf.b1a449a41398aa967ae271c049a9180c.txt\n",
            "│   │   │   test_40326_jpg.rf.805ca554e2e4ce917cb987d8f48aa529.txt\n",
            "│   │   │   train_40665_jpg.rf.0f58d2b07664f4627d4e9e4ef3f4e75a.txt\n",
            "│   │   │   train_40301_jpg.rf.b5da5af33ad13cdd27a1f9c3d07f48e5.txt\n",
            "│   │   │   train_40733_jpg.rf.7049feed1a6df44edb8c9b1a81bcde75.txt\n",
            "│   │   │   train_40640_jpg.rf.6ef6c3fef27eb8c6635293cc35d65596.txt\n",
            "│   │   │   test_40483_jpg.rf.54f744312115a8fcdc52a53f43d9ae66.txt\n",
            "│   │   │   test_40360_jpg.rf.32908f6c2872f6dae3680fbdedd739e4.txt\n",
            "│   │   │   train_40448_jpg.rf.d1da96e195be36e981ea0e645eff2ba5.txt\n",
            "│   │   │   test_40786_jpg.rf.96d5888daddb1ea6817dc6f16b4da5a1.txt\n",
            "│   │   │   test_40488_jpg.rf.75e2b806064c86d6dee183de72073c31.txt\n",
            "│   │   │   train_40224_jpg.rf.74ecfb2db63039e49dd45297132b2a7b.txt\n",
            "│   │   │   train_41012_jpg.rf.2582e250b1d7599c65e44376712b5e37.txt\n",
            "│   │   │   train_40290_jpg.rf.074aa216c0e985823eecb5efca641c6f.txt\n",
            "│   │   │   train_40495_jpg.rf.48832284facf7c056433472c2ab66838.txt\n",
            "│   │   │   test_40565_jpg.rf.e681c3da9fe248954fb5d5adecf3ea4e.txt\n",
            "│   ├── images/ [0 files]\n",
            "│   │   ├── test/ [264 files]\n",
            "│   │   │   train_38952_jpg.rf.aa5606ccf9209c6d2ac67bf4e2e22588.jpg\n",
            "│   │   │   train_39019_jpg.rf.bc12e3d66d582b1dd7f764e9f002776d.jpg\n",
            "│   │   │   train_40029_jpg.rf.5ebd3b58013ab11f27af764c9cb711a6.jpg\n",
            "│   │   │   val_40112_jpg.rf.29b26186efa9e4abc0794184aa7820b7.jpg\n",
            "│   │   │   train_40086_jpg.rf.ac578850a507cf82aecc6d437f7d9aac.jpg\n",
            "│   │   │   train_39075_jpg.rf.0da4b704a016ae79c0ec3ca3c73552ae.jpg\n",
            "│   │   │   train_38961_jpg.rf.ac6baaf89f82fafce295851d068dec9c.jpg\n",
            "│   │   │   train_39021_jpg.rf.46e7b54dcce44a16baac285ae5286b05.jpg\n",
            "│   │   │   train_40152_jpg.rf.86b4500f6810878ed00749f0682a32e8.jpg\n",
            "│   │   │   test_39057_jpg.rf.19a4ff94561c12f306019d167b730092.jpg\n",
            "│   │   │   train_40083_jpg.rf.45e28358efeef66cfcfa0bf6af0cb4f3.jpg\n",
            "│   │   │   train_38729_jpg.rf.2f9334a2e68f446e9ede44e60144045a.jpg\n",
            "│   │   │   train_39077_jpg.rf.aee6f5667038b47fe70d2ef596453372.jpg\n",
            "│   │   │   train_40104_jpg.rf.1abf1edf140a5b28b1d8597bf2cae79b.jpg\n",
            "│   │   │   train_38737_jpg.rf.f6bbddc731090f54db38055492395723.jpg\n",
            "│   │   │   train_39042_jpg.rf.142864e32bd183abd8b735c673c6acc3.jpg\n",
            "│   │   │   train_38703_jpg.rf.48706f5224c36df549683244be36c26b.jpg\n",
            "│   │   │   train_38996_jpg.rf.aad084e4a158b1080900895f095bf7af.jpg\n",
            "│   │   │   train_40076_jpg.rf.c1725ee94fe6393277bb00d82767fe89.jpg\n",
            "│   │   │   val_40015_jpg.rf.3e3e194c25f6371ed55380e40630c482.jpg\n",
            "│   │   │   train_40170_jpg.rf.9ddd3b59226da68dc88b2ea70242abf9.jpg\n",
            "│   │   │   val_40130_jpg.rf.16a0d73b9bf38c1397659405b22a443d.jpg\n",
            "│   │   │   train_40179_jpg.rf.dceb9b5685c2df051dc235a773b07f74.jpg\n",
            "│   │   │   train_39073_jpg.rf.be4f84874bbbde3635a5ac3fc6446a96.jpg\n",
            "│   │   │   train_38988_jpg.rf.b915f8b8f8c8aeffc81cc10e4ed14967.jpg\n",
            "│   │   │   train_39069_jpg.rf.074fcc2a600a1034b5fd67accdbb6220.jpg\n",
            "│   │   │   train_39009_jpg.rf.c2519fd76f5939f0e86eed6c88af8022.jpg\n",
            "│   │   │   train_39026_jpg.rf.226fb3f6b0dce9aa1bd2fc47c15d237d.jpg\n",
            "│   │   │   train_39071_jpg.rf.c5c4cd9c3dce15f60678fc2f096a3b6b.jpg\n",
            "│   │   │   train_40081_jpg.rf.0c86d7a6a59fe70e3a1e3dcda2eb286c.jpg\n",
            "│   │   │   train_40074_jpg.rf.dced0baf00cdf01ed505ea4b836fe1f8.jpg\n",
            "│   │   │   train_38980_jpg.rf.00092e86a93587cdd96c5198aa1931e1.jpg\n",
            "│   │   │   train_40094_jpg.rf.92f4ae76e736a2216d0f5ec3ebfdcb9c.jpg\n",
            "│   │   │   train_40150_jpg.rf.8ee75e4a89fe7b163a0f57f72d56d978.jpg\n",
            "│   │   │   val_40163_jpg.rf.843e5dfb81715c079ee65b6a91fdde52.jpg\n",
            "│   │   │   train_40087_jpg.rf.209e3a5ba5b4ea80906def044962e574.jpg\n",
            "│   │   │   train_39023_jpg.rf.361c1589cc34bef4ca3eb7c723c80c17.jpg\n",
            "│   │   │   train_39043_jpg.rf.0f700f0f09c1249352bfadb200d9aeb2.jpg\n",
            "│   │   │   train_39105_jpg.rf.ea31d56e986b8e745eae88e56317333a.jpg\n",
            "│   │   │   train_40160_jpg.rf.d42b8caf7efe3ac77eab41724e18ebb0.jpg\n",
            "│   │   │   val_40007_jpg.rf.2e5a479887be42fcffaa2244e169953f.jpg\n",
            "│   │   │   train_38816_jpg.rf.482775543f7f0810c913739dda800944.jpg\n",
            "│   │   │   train_39092_jpg.rf.7398adf460f6d40d4173879e4af2d364.jpg\n",
            "│   │   │   train_38987_jpg.rf.8839a61bdd9d230f5812255fa14f43cc.jpg\n",
            "│   │   │   train_40181_jpg.rf.ff3d31e338d001d3f25a618f1e332296.jpg\n",
            "│   │   │   train_38820_jpg.rf.bdb67f5bf06f46ae9d457c1b475f4f48.jpg\n",
            "│   │   │   train_39117_jpg.rf.6bf0af5a4fdb2329a199c24414271177.jpg\n",
            "│   │   │   train_40134_jpg.rf.ed54e6272d76ca0d820e8bc3f899b910.jpg\n",
            "│   │   │   train_39089_jpg.rf.4d526116201beb688e1c035ae6f620aa.jpg\n",
            "│   │   │   train_39070_jpg.rf.99d76cda54e8717cedfecdd1e2c727c7.jpg\n",
            "│   │   │   train_40022_jpg.rf.73c09c475bd664c9713846430b158b23.jpg\n",
            "│   │   │   train_39016_jpg.rf.076dca0c8e5872576405abe6c4aff396.jpg\n",
            "│   │   │   test_40190_jpg.rf.0354ac73046cc28de31b68ae13675234.jpg\n",
            "│   │   │   train_40075_jpg.rf.02e7bd29739c511a29c91fbc00a997be.jpg\n",
            "│   │   │   train_40077_jpg.rf.c3fbd4a578239df3bac99d7bef537c1f.jpg\n",
            "│   │   │   train_38765_jpg.rf.49b4d4e9aef9406617969f86581c8fd7.jpg\n",
            "│   │   │   train_40091_jpg.rf.52addbb8756c10c69c153c5b19c46f94.jpg\n",
            "│   │   │   val_40144_jpg.rf.32629a418ddbf2161feaee69e812b30a.jpg\n",
            "│   │   │   train_39088_jpg.rf.cb931306c0e0a6eb1801f992ae1eb1a3.jpg\n",
            "│   │   │   train_40084_jpg.rf.e7b95522a5ce11e05f0841ba40567ec7.jpg\n",
            "│   │   │   train_40098_jpg.rf.9815f4ee6073825f151a48e0f3646037.jpg\n",
            "│   │   │   train_38716_jpg.rf.9cc14c8ab72cf498746cb48789973c30.jpg\n",
            "│   │   │   train_40051_jpg.rf.d9c800645868cf01a4bd42447e7ee7c2.jpg\n",
            "│   │   │   train_38843_jpg.rf.72af49bf716dc4a09e6524e8e3c64d5d.jpg\n",
            "│   │   │   train_38963_jpg.rf.a94c5f3d5a67faa466a5bdc953abdbec.jpg\n",
            "│   │   │   train_40045_jpg.rf.245c727004f300b1674343e07c5c4a45.jpg\n",
            "│   │   │   train_39013_jpg.rf.1bd8a187824d4358d2142e917f7f5bab.jpg\n",
            "│   │   │   train_38856_jpg.rf.03bb60ffe5bfc14c3c57762074bbbdb3.jpg\n",
            "│   │   │   train_39094_jpg.rf.e0cea8a871084d3e860262476e7936cf.jpg\n",
            "│   │   │   train_40114_jpg.rf.3b2d655d558a14a44b6b531d9dbf29e4.jpg\n",
            "│   │   │   train_38692_jpg.rf.235f81b5d73f4a701144c3cfd7fe0657.jpg\n",
            "│   │   │   train_39029_jpg.rf.3627f3af7281a98a41e00a8ec3c6b654.jpg\n",
            "│   │   │   train_39050_jpg.rf.7289d6a36420504c4a6d3736a60310c3.jpg\n",
            "│   │   │   train_38777_jpg.rf.6e9281353e137675e012fdf02b88f9ed.jpg\n",
            "│   │   │   train_39040_jpg.rf.bf6193404c51e784a4fbaa5a1d004c26.jpg\n",
            "│   │   │   train_39118_jpg.rf.f0994afb23794d6a319d39d6487ebae4.jpg\n",
            "│   │   │   train_39025_jpg.rf.4dbd67b4f15151a3eee31edf668171ef.jpg\n",
            "│   │   │   train_40096_jpg.rf.c5e5d81950558905fc370079aaa34c06.jpg\n",
            "│   │   │   test_38959_jpg.rf.528a6c243f6c01e69ae921c01b33d706.jpg\n",
            "│   │   │   train_38931_jpg.rf.fe8c43ba75b6f3098ec30ca61c810980.jpg\n",
            "│   │   │   train_38995_jpg.rf.baadaa2aec9840855d38fc005eb95430.jpg\n",
            "│   │   │   train_40069_jpg.rf.393e50dcde130d6fcdfe863dc8882244.jpg\n",
            "│   │   │   train_39052_jpg.rf.0a07fd9beb2417179319bace904bac60.jpg\n",
            "│   │   │   train_40067_jpg.rf.daa18d4c4a7cdc75e8f37540646f65e7.jpg\n",
            "│   │   │   train_40085_jpg.rf.27fdc06810feedf6805ae17a3e032646.jpg\n",
            "│   │   │   train_40140_jpg.rf.28c6729d5722cfd24acc4ce73e6d1f30.jpg\n",
            "│   │   │   train_40126_jpg.rf.6d3a62217b4c4dcda1c98d130b1b6839.jpg\n",
            "│   │   │   train_38694_jpg.rf.a3ea9a53d45cf4f994147cc1eef95e9a.jpg\n",
            "│   │   │   train_38706_jpg.rf.62125c1104cde2ff9a409248870fc42d.jpg\n",
            "│   │   │   train_40165_jpg.rf.ceee70b20fa638ee618a11814e3b8714.jpg\n",
            "│   │   │   train_39059_jpg.rf.80a675395824dd895229e6f32770884c.jpg\n",
            "│   │   │   train_39061_jpg.rf.2317192942f66c5e7c18376fc17ef20f.jpg\n",
            "│   │   │   train_38986_jpg.rf.adfddf19eb623d44644910ae1f07619b.jpg\n",
            "│   │   │   train_39116_jpg.rf.1aab775dc10a3f9c5a0ca567d839ec9c.jpg\n",
            "│   │   │   train_38773_jpg.rf.bfe60907b07decf72a04b25246171a85.jpg\n",
            "│   │   │   train_40064_jpg.rf.8ecaf0004672fcb1e87c8421231aa2d8.jpg\n",
            "│   │   │   train_40138_jpg.rf.cabc07d357190d9ee0d96d69275c1e06.jpg\n",
            "│   │   │   train_40124_jpg.rf.f2da698deca535048dc84b383603ebe7.jpg\n",
            "│   │   │   train_40146_jpg.rf.301a53c7911cb86a41dbdf03f07d4437.jpg\n",
            "│   │   │   train_38984_jpg.rf.95df7e432ae6a20aa94453066ca5bcca.jpg\n",
            "│   │   │   train_39113_jpg.rf.acbe1dee0a4a50dc5a25c884887eece7.jpg\n",
            "│   │   │   train_38726_jpg.rf.5880267a52c3d5bd426367cba49af83b.jpg\n",
            "│   │   │   train_38967_jpg.rf.dbb457c926ddae787bf76d9216db87f4.jpg\n",
            "│   │   │   train_38997_jpg.rf.367b2a943670620700a28111fdcdd455.jpg\n",
            "│   │   │   train_40136_jpg.rf.e11609db11eaccee6d9a25c061e68fe9.jpg\n",
            "│   │   │   train_40044_jpg.rf.5cf5f717680e43e4bf8ccf45ac4911b1.jpg\n",
            "│   │   │   train_38693_jpg.rf.e7bc817a9e534e747bf305856f4aebcf.jpg\n",
            "│   │   │   train_39111_jpg.rf.d76169a893f142db037855c628f76283.jpg\n",
            "│   │   │   train_40017_jpg.rf.3d73c8a762a1d9fa8118b2aa93b314a6.jpg\n",
            "│   │   │   train_40164_jpg.rf.c8cf2ffe95d206873059e277ff1728c2.jpg\n",
            "│   │   │   train_40009_jpg.rf.d4e07b5507e98d2c345f6b234802da17.jpg\n",
            "│   │   │   test_38970_jpg.rf.4a28fbea1f0e2a33326033086cddf6f9.jpg\n",
            "│   │   │   train_40042_jpg.rf.ccd86f8e66f109fee490174040509433.jpg\n",
            "│   │   │   train_40041_jpg.rf.d30c252111cb3bc83ca01853d5356251.jpg\n",
            "│   │   │   test_39090_jpg.rf.2b80f1a43584738a747c783854080b5b.jpg\n",
            "│   │   │   test_40008_jpg.rf.f3c4ee1ae79cf3e37813622e5b426eb3.jpg\n",
            "│   │   │   test_39036_jpg.rf.e909f9b9d78b1ba84bf75e538e5c5f62.jpg\n",
            "│   │   │   test_38989_jpg.rf.5910bab24a2eb9ffb9ea660fe94fe0f5.jpg\n",
            "│   │   │   train_40132_jpg.rf.a2ce15595656f17e1f6b2fe0e1abc558.jpg\n",
            "│   │   │   train_40060_jpg.rf.ea73d038796f617027e07adced78fd32.jpg\n",
            "│   │   │   train_39038_jpg.rf.35ef1aec11302f551cdb41eb60eb0ae5.jpg\n",
            "│   │   │   train_40093_jpg.rf.38dd08acc8bc8b753568d2dc108cd5ba.jpg\n",
            "│   │   │   train_40183_jpg.rf.b3e6743aef4a3db585f4b42633d3e1fb.jpg\n",
            "│   │   │   train_40043_jpg.rf.f8cd729cd30ab580d4f2ad142b272285.jpg\n",
            "│   │   │   train_39001_jpg.rf.2664564c7fd2bff5bfb51da8b09c03a6.jpg\n",
            "│   │   │   train_38955_jpg.rf.4ab250d418e6812e56d034d465358e3b.jpg\n",
            "│   │   │   train_38756_jpg.rf.b8c72925587bd406b421c2cb03ea14d0.jpg\n",
            "│   │   │   train_38981_jpg.rf.6ebad82ff7ee38df36c405fa42b45a11.jpg\n",
            "│   │   │   train_38711_jpg.rf.d802d0ac37cc5b996fab5d221e287d83.jpg\n",
            "│   │   │   train_38690_jpg.rf.002c1ed73faf7d585ab71a14948f7ead.jpg\n",
            "│   │   │   train_40047_jpg.rf.efb40ddceb3e4695320fb98e68a12c5d.jpg\n",
            "│   │   │   val_40105_jpg.rf.56453a176d739a4dbe7f0acc4b27e6ef.jpg\n",
            "│   │   │   train_40113_jpg.rf.e59ae2c6a916ec6e85147ecf9284cab4.jpg\n",
            "│   │   │   train_40028_jpg.rf.9500aa059e3f87bb7f5394c00107b6a4.jpg\n",
            "│   │   │   train_39049_jpg.rf.948bac23d9f018e536efceb83d8356aa.jpg\n",
            "│   │   │   val_40090_jpg.rf.f21e05827bb2a6bb7062076652891f3a.jpg\n",
            "│   │   │   train_38990_jpg.rf.2f96f60697c8b1343b2104eaa17f071c.jpg\n",
            "│   │   │   train_40033_jpg.rf.12291651d3950b941d06a6b7f346ea26.jpg\n",
            "│   │   │   train_40153_jpg.rf.8521ae3081b10a1cd3786ed8ffac3202.jpg\n",
            "│   │   │   train_40156_jpg.rf.4e1a0c07e89d881e4331e5908ba0e87d.jpg\n",
            "│   │   │   val_40142_jpg.rf.d552716959e1e350c55410a4b17c382c.jpg\n",
            "│   │   │   train_39100_jpg.rf.1d0c5175d643a5431b248eb9dd5c605e.jpg\n",
            "│   │   │   train_39081_jpg.rf.d2efef8bec8173a54ca2d03596cbc05f.jpg\n",
            "│   │   │   train_39000_jpg.rf.63fa34cbdce0b75a3e7f0a726cc86b41.jpg\n",
            "│   │   │   train_40070_jpg.rf.363462897a1a8a2cb66c12ff016e08ec.jpg\n",
            "│   │   │   train_40046_jpg.rf.a3825ca7eb3fc69a6e3be50166024951.jpg\n",
            "│   │   │   train_40019_jpg.rf.4dfaaaf5a1e1b52c2dab34570a9ec9f5.jpg\n",
            "│   │   │   train_40115_jpg.rf.f7df3b3e19eeca7b0f1441a70ccf23d5.jpg\n",
            "│   │   │   train_39004_jpg.rf.7ea8d883aa85a84c032f5e3b441b96da.jpg\n",
            "│   │   │   train_40131_jpg.rf.7dde13628725ca7333952f7c4d0e0a8d.jpg\n",
            "│   │   │   train_40010_jpg.rf.25522b81327781794fa01b2c9837d3f4.jpg\n",
            "│   │   │   test_39109_jpg.rf.4558681dbbdf2c911777cc9ed01c237d.jpg\n",
            "│   │   │   train_40014_jpg.rf.9363b3b149f123c40c695587e0b12430.jpg\n",
            "│   │   │   train_39028_jpg.rf.3677e68086739b38fcc0a98248eb46d7.jpg\n",
            "│   │   │   val_40092_jpg.rf.9eeafde3e99af6b1410766a8b264ed67.jpg\n",
            "│   │   │   train_40123_jpg.rf.27a5c9b9f367b795153b8c109daa16e3.jpg\n",
            "│   │   │   test_40189_jpg.rf.d1d858492812cac75b46283682ca5d0f.jpg\n",
            "│   │   │   train_38979_jpg.rf.0e6cc392b8d49ed16082c1b0120b9a6b.jpg\n",
            "│   │   │   train_39076_jpg.rf.9b85de059116ed972858eecd498b70fe.jpg\n",
            "│   │   │   train_38968_jpg.rf.040b74237fe2ceecd2bffa4f75af6069.jpg\n",
            "│   │   │   train_40035_jpg.rf.86871f07c6ba083149aaf33a7876a320.jpg\n",
            "│   │   │   train_40184_jpg.rf.bfbfce7586facbf84984d44164133b37.jpg\n",
            "│   │   │   train_38704_jpg.rf.0dc0e6c6954b3176ce3882cc44306f2c.jpg\n",
            "│   │   │   train_39066_jpg.rf.13d5bddf420ff2c5db092653b342721e.jpg\n",
            "│   │   │   train_39112_jpg.rf.3a86bbff07240d0a1bbbdfc47d8493d9.jpg\n",
            "│   │   │   val_40122_jpg.rf.fc648fe9108af61d54bee3a0fb1ad4c7.jpg\n",
            "│   │   │   train_40127_jpg.rf.3c931e08dfa13c2f1859d3e8d5af3599.jpg\n",
            "│   │   │   train_40101_jpg.rf.9f9f43c6de723e2a7386faff590900df.jpg\n",
            "│   │   │   train_40034_jpg.rf.3134dfcbd47b5d53bd7407d4a06ee0f8.jpg\n",
            "│   │   │   train_40109_jpg.rf.06678f2940de73bc5e6297a446f27678.jpg\n",
            "│   │   │   train_38696_jpg.rf.ab984a719c15077910dba3692c2e8d28.jpg\n",
            "│   │   │   train_40062_jpg.rf.6ab67d224f07154c06ae2d98b3d66864.jpg\n",
            "│   │   │   train_39121_jpg.rf.351bf0e5e878f1d9b89488bb9f77a8e9.jpg\n",
            "│   │   │   train_40162_jpg.rf.5e76d62546f3322aad19aedf2a18a65f.jpg\n",
            "│   │   │   train_40175_jpg.rf.645c3432f3f21a2679b7898668f10231.jpg\n",
            "│   │   │   train_39045_jpg.rf.60c88efaecf4981ccf5e3de2279819f1.jpg\n",
            "│   │   │   train_40052_jpg.rf.61f78a8d4d64b03c45043c44eddec164.jpg\n",
            "│   │   │   train_39108_jpg.rf.f928c1553f6806c6d45951e4f2b58fea.jpg\n",
            "│   │   │   train_39099_jpg.rf.d2689556bc7fe4c3c6475402981f6515.jpg\n",
            "│   │   │   train_39056_jpg.rf.47e75ffb6d98c3a34212771f9774187c.jpg\n",
            "│   │   │   test_38958_jpg.rf.5312a8e9057a31e0d18f9aec62490fd2.jpg\n",
            "│   │   │   train_38964_jpg.rf.e919a314720f8891699bc25f2c800abe.jpg\n",
            "│   │   │   train_38991_jpg.rf.404cbe878f46b8c887427d82957a882e.jpg\n",
            "│   │   │   train_40149_jpg.rf.28a63b88bc7500310e071c8b18b34d29.jpg\n",
            "│   │   │   train_39083_jpg.rf.8dc98e50f624d07d0fed2f6151864724.jpg\n",
            "│   │   │   train_40161_jpg.rf.f6b2470dbdc2c3ab372ab75b63635e55.jpg\n",
            "│   │   │   train_38971_jpg.rf.ee275e58a69f03e36641023be8548fd3.jpg\n",
            "│   │   │   train_40168_jpg.rf.92ef68690c3280c4196d132c17a8dbd5.jpg\n",
            "│   │   │   train_40187_jpg.rf.2e8deb43c1f9fe7bebbb388a9275b0af.jpg\n",
            "│   │   │   train_38786_jpg.rf.f1c678b1894be4be21892e2bb05fd648.jpg\n",
            "│   │   │   train_40128_jpg.rf.5ff9d345696416ee4befab89ef6d77f8.jpg\n",
            "│   │   │   train_40020_jpg.rf.e17e1adf69bcc6b47af06c8655700f94.jpg\n",
            "│   │   │   train_38710_jpg.rf.c06a11cbc23cf97a56a190940baf076a.jpg\n",
            "│   │   │   train_40066_jpg.rf.c40183e98a5397fb6295973b169c1a2f.jpg\n",
            "│   │   │   train_39037_jpg.rf.dd0392deccb3aa148136f999f15fb46a.jpg\n",
            "│   │   │   train_39106_jpg.rf.feab7383457ed35ac7b8cce351e8b3a6.jpg\n",
            "│   │   │   val_40053_jpg.rf.22db6a9f3c4308cd86b00c03e1802711.jpg\n",
            "│   │   │   train_40106_jpg.rf.fcb687684afe02b94c50cf5bc22501d0.jpg\n",
            "│   │   │   train_39115_jpg.rf.86776926ee19bd52ce3322827e11bb36.jpg\n",
            "│   │   │   train_39102_jpg.rf.91859cfc8f81c0554d89c263e5986b28.jpg\n",
            "│   │   │   train_39058_jpg.rf.21ab92f623400ec46f3b187522846658.jpg\n",
            "│   │   │   train_39097_jpg.rf.971fa2e718ee5dc6941f0f649293d8a3.jpg\n",
            "│   │   │   train_38999_jpg.rf.115097a56911406979fcec42213bd58c.jpg\n",
            "│   │   │   train_39064_jpg.rf.0aeed229bc6c12bb1afb219e529ed620.jpg\n",
            "│   │   │   train_40026_jpg.rf.ddb751ff2998879b27af62a114adf1b5.jpg\n",
            "│   │   │   val_40185_jpg.rf.19755dc73165601f4f9cd60cbccb2fff.jpg\n",
            "│   │   │   train_40178_jpg.rf.cb3f7ccb0fe069304f6808682a0c8285.jpg\n",
            "│   │   │   train_38983_jpg.rf.9c8a2083872ce77dbecd12af34685645.jpg\n",
            "│   │   │   train_38868_jpg.rf.ff2736c0a11d993729e29b9aa59b4ddd.jpg\n",
            "│   │   │   test_39034_jpg.rf.e3e12d68bcfddaff6865bcff646a74b8.jpg\n",
            "│   │   │   train_40036_jpg.rf.4eb087c94aec25e901fd7192514b6a71.jpg\n",
            "│   │   │   train_38886_jpg.rf.fad10ef53f9ae23138f235fd93cbdc1d.jpg\n",
            "│   │   │   train_38973_jpg.rf.ee5f70a37621ea3be3990ce3ae62e7d4.jpg\n",
            "│   │   │   train_40049_jpg.rf.e48f9605e4df9c46e557050272204e40.jpg\n",
            "│   │   │   train_39006_jpg.rf.0101dff1e2d20c67d1c75e423bbbdc71.jpg\n",
            "│   │   │   train_39082_jpg.rf.b8263d86aebff28a85e84008663335a5.jpg\n",
            "│   │   │   test_40023_jpg.rf.2a656202c52fae5fddb3547fffe6956d.jpg\n",
            "│   │   │   train_38998_jpg.rf.0c674c85a7470c994f59e27fd20249e9.jpg\n",
            "│   │   │   train_39086_jpg.rf.75d28b5f8c5dd7c23fec62b470fbf366.jpg\n",
            "│   │   │   train_39015_jpg.rf.4fb96350e6fda7b76d38ef99d4da8dea.jpg\n",
            "│   │   │   val_40145_jpg.rf.df8afe7a7f5c840de764df249cb2b053.jpg\n",
            "│   │   │   train_40172_jpg.rf.c92fa2c00070e111b9d2821147f2a109.jpg\n",
            "│   │   │   train_38993_jpg.rf.72090248db4009de96791971a091a5dc.jpg\n",
            "│   │   │   train_40056_jpg.rf.07c23f171c95ccefe41513282e36d853.jpg\n",
            "│   │   │   train_40133_jpg.rf.2d69c7bffe4af5267b7fb0e051803933.jpg\n",
            "│   │   │   train_39055_jpg.rf.1f7a603e4df7f9a5e656d8d0b5e83708.jpg\n",
            "│   │   │   train_40038_jpg.rf.dd53260165e8a039972e638b2f4d3075.jpg\n",
            "│   │   │   train_38813_jpg.rf.bcdbcc0d1f17f9119843d00b04e28690.jpg\n",
            "│   │   │   val_40169_jpg.rf.5843fa2806ad3a3c349eeee016996e29.jpg\n",
            "│   │   │   train_40117_jpg.rf.dd7aecec57c152c146b8cc79c3e73775.jpg\n",
            "│   │   │   train_38695_jpg.rf.365368b412b4f8796dc111e9794ac95c.jpg\n",
            "│   │   │   train_38805_jpg.rf.155006b83c044a604993e080e1aff861.jpg\n",
            "│   │   │   train_40088_jpg.rf.9d25f2256d8b98c6e9c7230728137a35.jpg\n",
            "│   │   │   val_40176_jpg.rf.32cae919d47a9f293d1f688896862147.jpg\n",
            "│   │   │   train_38699_jpg.rf.df95c72738b18491339b476ada95b779.jpg\n",
            "│   │   │   train_38720_jpg.rf.ef76c4fdb720c2562f2a3d553ea470c9.jpg\n",
            "│   │   │   train_38899_jpg.rf.414941f155dbcf0ec4de3c14faec05f1.jpg\n",
            "│   │   │   train_40125_jpg.rf.d18d9742ac547f32a3630c31ee128938.jpg\n",
            "│   │   │   train_40025_jpg.rf.57e6dadefe6345e8ce22c37919133841.jpg\n",
            "│   │   │   train_40180_jpg.rf.9a9dbb3ffb8d826a8b6c4e32a70dcde0.jpg\n",
            "│   │   │   train_40167_jpg.rf.5f8db09b030aefc9cd009872c5d0d2bd.jpg\n",
            "│   │   │   train_40110_jpg.rf.82b7ec3fe3aa113c2f72d4f8fef0dcec.jpg\n",
            "│   │   │   val_40129_jpg.rf.fed22fe048d6fbf9d06e34ff8ae04484.jpg\n",
            "│   │   │   train_38861_jpg.rf.289515b769c83be9559feb8339655918.jpg\n",
            "│   │   │   val_40118_jpg.rf.51d8a9fa7d1279c7c3edc498fe0cba4c.jpg\n",
            "│   │   │   train_39044_jpg.rf.9d8d1eb337b0834949ae83b4cdd103fc.jpg\n",
            "│   │   │   train_40157_jpg.rf.8791203509e18f19fdee65e50d7eb437.jpg\n",
            "│   │   │   train_38775_jpg.rf.34b2d864c80347ea54f2f62e69a5ad7c.jpg\n",
            "│   │   │   train_38708_jpg.rf.7610975ffdace84899051604b6365087.jpg\n",
            "│   │   │   train_39012_jpg.rf.73d2feaae206e8a357cf03773bc481ed.jpg\n",
            "│   │   │   train_39074_jpg.rf.a313db342fcc64fdc4b0bf9b4aa0efb1.jpg\n",
            "│   │   │   train_40027_jpg.rf.97a55f4f3db418d495b5fe58976b0215.jpg\n",
            "│   │   │   train_40063_jpg.rf.0813b3ead2a13da2d0d9572a47c98767.jpg\n",
            "│   │   │   train_40173_jpg.rf.30b8d87efd54b11602925608b436b28d.jpg\n",
            "│   │   │   train_38965_jpg.rf.8a00601f5c075287351a9b3dcf1f7784.jpg\n",
            "│   │   │   train_40158_jpg.rf.20b25da885ad5295e851cbe7e336910a.jpg\n",
            "│   │   │   train_39119_jpg.rf.ac14511e06a7a57993a59bdb9deccbb1.jpg\n",
            "│   │   │   train_39068_jpg.rf.80a9c64fc25a4d74feb311a92ee83f1a.jpg\n",
            "│   │   │   train_39007_jpg.rf.ce193025c8c616d73f709a1ac8672803.jpg\n",
            "│   │   │   test_39032_jpg.rf.84750cbcc2bf0da50a99d009a0f8f45b.jpg\n",
            "│   │   │   train_39047_jpg.rf.83fa0210dffb1a89736e33d2861b8e9f.jpg\n",
            "│   │   │   train_38727_jpg.rf.63184fb4a193903a5f531c31db7fc9ff.jpg\n",
            "│   │   │   train_40182_jpg.rf.e543a867680c066d4a4f0ab21381aeb4.jpg\n",
            "│   │   │   train_39103_jpg.rf.bbadd1f17eef439b5cdc37f8216bacf6.jpg\n",
            "│   │   ├── valid/ [189 files]\n",
            "│   │   │   train_38960_jpg.rf.96ee2c46de018071ae428d378048f399.jpg\n",
            "│   │   │   train_38846_jpg.rf.ef9e81587a5e5bb37cba96837522d920.jpg\n",
            "│   │   │   train_38824_jpg.rf.8cdbb8e89d545f7c8c208f5119e9dc4c.jpg\n",
            "│   │   │   train_38722_jpg.rf.0ec840207384545b9154df91ae1a85b6.jpg\n",
            "│   │   │   train_40024_jpg.rf.c48fadaf7efb288a82ee3431cd00f5fb.jpg\n",
            "│   │   │   train_38799_jpg.rf.a6656f0a5f357c5c37ca8b401df5e3ea.jpg\n",
            "│   │   │   train_38891_jpg.rf.f96c9b83ae818b3c7ede346743975aba.jpg\n",
            "│   │   │   train_38883_jpg.rf.471fa66142bb7569e74a2de2964e8c6a.jpg\n",
            "│   │   │   train_38730_jpg.rf.9735cc9bbb00c25f6e8814bc3a223f1b.jpg\n",
            "│   │   │   train_38926_jpg.rf.2a6cd862335cc82e8879b96aa4acff9f.jpg\n",
            "│   │   │   test_40159_jpg.rf.eb67a0650b5f1dea78ddb1a0e9a92534.jpg\n",
            "│   │   │   train_38892_jpg.rf.2589b2b0490bfff0b6c36e1142c3d1b3.jpg\n",
            "│   │   │   train_39046_jpg.rf.6e017ad778c9aac1f4c11afda29b0353.jpg\n",
            "│   │   │   train_38925_jpg.rf.4a06146a299c8afb8be0abb80e7f0941.jpg\n",
            "│   │   │   train_39020_jpg.rf.548d9757a5f4f927f03fada54be95430.jpg\n",
            "│   │   │   train_38852_jpg.rf.8e53210ce6b4bbce889bc11d0d6443ee.jpg\n",
            "│   │   │   test_40141_jpg.rf.165c4e8b4f6932104ba5ea9174b5f4de.jpg\n",
            "│   │   │   train_38851_jpg.rf.e8e0eb8c89c1900f456441cf2a6147b0.jpg\n",
            "│   │   │   train_38915_jpg.rf.8c6a9dc4888718a8c4377d08cfed5c1e.jpg\n",
            "│   │   │   test_40171_jpg.rf.3cbece6c0730cf97b2eb96e429e311c7.jpg\n",
            "│   │   │   train_38934_jpg.rf.1be93e244641f5e32dbaaa728a40001a.jpg\n",
            "│   │   │   test_40080_jpg.rf.d662a8d18c791a8f4b507feaae447b88.jpg\n",
            "│   │   │   train_38725_jpg.rf.d099cc727565879e91a17c2181e40b17.jpg\n",
            "│   │   │   train_40016_jpg.rf.4968dcf7a39937889eb4e1f0010a70df.jpg\n",
            "│   │   │   train_38907_jpg.rf.6ca6bcd18ed6612e442cea8c0517f82e.jpg\n",
            "│   │   │   train_38744_jpg.rf.bf62677c42cc92f15af44df3afa849fb.jpg\n",
            "│   │   │   train_39104_jpg.rf.60263ee799b9a71ba4228ed033623bba.jpg\n",
            "│   │   │   train_38930_jpg.rf.9b724004579297a24c8357aaec3b520c.jpg\n",
            "│   │   │   train_38832_jpg.rf.7d2a705350c0230380eb2d519b5fcc84.jpg\n",
            "│   │   │   train_38875_jpg.rf.962d6b97fc945a48e2bbcae089467add.jpg\n",
            "│   │   │   train_38874_jpg.rf.d5dcfe8e688291edf6469ebdc7483a28.jpg\n",
            "│   │   │   test_40139_jpg.rf.646199bdf60a845fe3b1be179a18702f.jpg\n",
            "│   │   │   test_40147_jpg.rf.6be3c8b8d4a335212a742c36f6eb6c6e.jpg\n",
            "│   │   │   train_38924_jpg.rf.1278e2bd552fea8ccd69a8dae74b1d71.jpg\n",
            "│   │   │   train_38853_jpg.rf.45de30b5b4409344a0d19b2fe739530b.jpg\n",
            "│   │   │   train_38785_jpg.rf.d358b7e83423d1325302e01d9a2d1197.jpg\n",
            "│   │   │   train_38791_jpg.rf.6d9939f6177da4f6827b583ef33bf29c.jpg\n",
            "│   │   │   train_38864_jpg.rf.0e8a0a3b40882153a3de2de7b84ed445.jpg\n",
            "│   │   │   test_40154_jpg.rf.3b7277101d1bd79d3cc05e482cdce5e8.jpg\n",
            "│   │   │   train_38847_jpg.rf.55e2a03ee781d8e6cbbc405e4aee4326.jpg\n",
            "│   │   │   test_40050_jpg.rf.bf5c07886dc1a2534b565a33db813fbe.jpg\n",
            "│   │   │   train_38914_jpg.rf.0a4123de2f77818eee2f3c8e1381377c.jpg\n",
            "│   │   │   train_38743_jpg.rf.1df3c047f3bacb54fe5775b8af6846fb.jpg\n",
            "│   │   │   test_40071_jpg.rf.3e2bcdb6dd56fc29572b2e08da139cac.jpg\n",
            "│   │   │   test_40151_jpg.rf.796842cf9674b5282e447ba6eb96f46c.jpg\n",
            "│   │   │   train_38903_jpg.rf.25ac3c9fa940c9ad46261cf9149f46db.jpg\n",
            "│   │   │   train_39120_jpg.rf.a296c7ba44b2f867dc119900083f2527.jpg\n",
            "│   │   │   train_38948_jpg.rf.38a0b2028552a973d382deb16e4bc77d.jpg\n",
            "│   │   │   train_38748_jpg.rf.6e5263de6b67d128e7e5b88106c4bfa1.jpg\n",
            "│   │   │   train_38779_jpg.rf.dd961c58b87e418a62ee3b19b102cd94.jpg\n",
            "│   │   │   train_39062_jpg.rf.855123b9dbc7c8613082c19d2b32f105.jpg\n",
            "│   │   │   test_40030_jpg.rf.51ef52d747df24de837d147f66c95e04.jpg\n",
            "│   │   │   train_38879_jpg.rf.4c29916b066f00d4a6d00936f21efccf.jpg\n",
            "│   │   │   train_38928_jpg.rf.881576e120bf6f2f68c3bf709947c856.jpg\n",
            "│   │   │   test_40177_jpg.rf.f5f2edb145afc1fd8bb83c76c272d91f.jpg\n",
            "│   │   │   train_38817_jpg.rf.0a4ff9a0db0b0fd40c14fec2cd5c6b47.jpg\n",
            "│   │   │   train_38859_jpg.rf.9e28fd7d0c1dc0d815044e07f264c138.jpg\n",
            "│   │   │   train_38906_jpg.rf.a4403494c75effc11a5434927ea6bace.jpg\n",
            "│   │   │   test_40079_jpg.rf.4f58a4f07fa40b75e0213e4ba406edef.jpg\n",
            "│   │   │   train_38794_jpg.rf.b75450d8cc678c49fa5a256e86b935d3.jpg\n",
            "│   │   │   test_40119_jpg.rf.68d67ca2e9779215fd3385a663dd915b.jpg\n",
            "│   │   │   train_38880_jpg.rf.f24e0de1f22852d82b8bca11b9d8c3bc.jpg\n",
            "│   │   │   test_40058_jpg.rf.88360cd1b58a0e9c70cd0cb75747825d.jpg\n",
            "│   │   │   test_40121_jpg.rf.87496f5e356bc17089b7de7d9c1bd6b7.jpg\n",
            "│   │   │   train_38819_jpg.rf.3de68b507654cdf65c41e90a2efc8e7c.jpg\n",
            "│   │   │   test_40155_jpg.rf.5f2912a609a7531e070bf8eeb5087578.jpg\n",
            "│   │   │   train_38871_jpg.rf.34ca465a1b7e1b3f82a2cb614d2d5499.jpg\n",
            "│   │   │   test_40061_jpg.rf.678f86e906abbb5b7c6e9315aff79660.jpg\n",
            "│   │   │   test_40148_jpg.rf.e23561375e964fd6e1da3308783b80c1.jpg\n",
            "│   │   │   train_38732_jpg.rf.76d7c9cc04c713e4aa72fa555a4399d6.jpg\n",
            "│   │   │   train_38721_jpg.rf.df755c25a283497b19493e997332883d.jpg\n",
            "│   │   │   train_38764_jpg.rf.e6108985d432d170fd50ddc65b7a21f9.jpg\n",
            "│   │   │   train_38800_jpg.rf.9984aaf3c4972182a56d62043b061fea.jpg\n",
            "│   │   │   train_38954_jpg.rf.0645ee365facda8b30e2a2d985f4ef59.jpg\n",
            "│   │   │   test_40174_jpg.rf.02664f6daa4a541af3a52f15dfab37bb.jpg\n",
            "│   │   │   train_38845_jpg.rf.9720bc39f30aceb174c0e8920efc502a.jpg\n",
            "│   │   │   train_38917_jpg.rf.c7dcfb2e65d5b349d2ca5a268b084748.jpg\n",
            "│   │   │   test_40040_jpg.rf.4987dd7b711ca5af422b7257d277b5df.jpg\n",
            "│   │   │   test_40188_jpg.rf.8f57bee2a4db5cdc0e34a03814118432.jpg\n",
            "│   │   │   train_38870_jpg.rf.b34bc89b1733609c9043de71d2f6c7f1.jpg\n",
            "│   │   │   test_40135_jpg.rf.cf5b6c4fe2b1df14bd0a966a79f65251.jpg\n",
            "│   │   │   test_40107_jpg.rf.3c31a0eda3fda1bd91d16d5deb76d7eb.jpg\n",
            "│   │   │   test_40143_jpg.rf.7b59e92182cb402a885145509d2281cd.jpg\n",
            "│   │   │   train_38759_jpg.rf.548425ffe804d9a43497ceeb0d87b581.jpg\n",
            "│   │   │   test_40055_jpg.rf.16cd52204b830d31abd8abd63fda5ab7.jpg\n",
            "│   │   │   train_38836_jpg.rf.3ad3c937cc6207dbf4d51cb8e202cf0f.jpg\n",
            "│   │   │   train_38921_jpg.rf.5703945a963498243f0463863ed065fe.jpg\n",
            "│   │   │   train_38790_jpg.rf.5ee6a0330360fe015959c171d1f181cd.jpg\n",
            "│   │   │   train_38869_jpg.rf.d18b5d458dee5d2511bceb5236af4324.jpg\n",
            "│   │   │   test_40065_jpg.rf.8cd047aadb218be6c7d602b5953a26ed.jpg\n",
            "│   │   │   train_38714_jpg.rf.2c3fb59f4db71986ab39086a3ee65fa8.jpg\n",
            "│   │   │   train_39017_jpg.rf.2c346432ba41a81748c64de67eeac41f.jpg\n",
            "│   │   │   test_40097_jpg.rf.047cd97795c4da53c79da5fc64fcb9ed.jpg\n",
            "│   │   │   test_40032_jpg.rf.48a19eae7a0821c28b399f3a711f7f8f.jpg\n",
            "│   │   │   train_38754_jpg.rf.fcaa24eb1dab651f40efc10706fdbd22.jpg\n",
            "│   │   │   train_38829_jpg.rf.f4f7b4a3eb9a7c1dabc849b4d0287e91.jpg\n",
            "│   │   │   train_38728_jpg.rf.21d750cc3f11fd58e6c9a8a346ff71be.jpg\n",
            "│   │   │   train_38797_jpg.rf.95af935480ba05bc0aaafa152d7264ac.jpg\n",
            "│   │   │   test_40073_jpg.rf.e8a3a79c0f9bad8da7d1f7a15081312e.jpg\n",
            "│   │   │   train_38904_jpg.rf.027d1a83d756aad2c9a57f3049e2cc41.jpg\n",
            "│   │   │   train_38929_jpg.rf.c407699b2a6c61c44ab05ddc5c680555.jpg\n",
            "│   │   │   test_40082_jpg.rf.61040d2c534ff2efdc51ff364caec180.jpg\n",
            "│   │   │   train_38876_jpg.rf.035b39a105efe86436d1d3c952b530e3.jpg\n",
            "│   │   │   train_38919_jpg.rf.053c995a18a59c46349609b20607353a.jpg\n",
            "│   │   │   train_38940_jpg.rf.9d5da22168637994fea834400757b3b0.jpg\n",
            "│   │   │   train_38850_jpg.rf.83a03915208278342b50059ae9699e3d.jpg\n",
            "│   │   │   train_38739_jpg.rf.4745bb4c728f70224f301b76efc48ae1.jpg\n",
            "│   │   │   train_38788_jpg.rf.5a5281ba9017e7743e44dc207d7d0d75.jpg\n",
            "│   │   │   train_40006_jpg.rf.5ff5786013891085fa3075cce9f9d9f5.jpg\n",
            "│   │   │   test_40186_jpg.rf.b000f8ff7007ca6090a2327bff5dfbb4.jpg\n",
            "│   │   │   train_38840_jpg.rf.840a2e83ee1150de3b1a8d00826d7c95.jpg\n",
            "│   │   │   train_38835_jpg.rf.d0e82db0143b68146b7e6d996492b237.jpg\n",
            "│   │   │   test_40048_jpg.rf.20d3059fe40b28091722d56077359367.jpg\n",
            "│   │   │   test_40099_jpg.rf.f3cbafed9413ad951e12056208ccff76.jpg\n",
            "│   │   │   train_38776_jpg.rf.fbb482bf7292761b485219c385944216.jpg\n",
            "│   │   │   train_38838_jpg.rf.575d8e791fc3cd3095bb3b0920033971.jpg\n",
            "│   │   │   train_38741_jpg.rf.ab6e84faccd437fb523f7d6493d699a9.jpg\n",
            "│   │   │   test_40054_jpg.rf.b32780bb1fe607234bdc4b89fefd9674.jpg\n",
            "│   │   │   train_38818_jpg.rf.be93b9a387ba4c79fab30f5c29cfa09f.jpg\n",
            "│   │   │   train_38736_jpg.rf.7b0ddef48b82e9509b107e717b6e0992.jpg\n",
            "│   │   │   train_38734_jpg.rf.35d85641609c4768b039a7fc6c4c1362.jpg\n",
            "│   │   │   train_38912_jpg.rf.68e90888e8133219556bc9fd29c528e9.jpg\n",
            "│   │   │   train_38755_jpg.rf.2631eb4f9bdfea1ec20a6880abc50c05.jpg\n",
            "│   │   │   test_40102_jpg.rf.1a873ba767b4c0eb89f8f7e25ce27f51.jpg\n",
            "│   │   │   train_38941_jpg.rf.8973cdd077f7f19b060d12133a39797b.jpg\n",
            "│   │   │   train_38798_jpg.rf.1f6bae5f92120ef97fc48168956bb424.jpg\n",
            "│   │   │   test_40078_jpg.rf.80234df74a57ba35d58bebba3762268c.jpg\n",
            "│   │   │   train_38890_jpg.rf.98f7def62f6be43cfab94e9a47f8a4c2.jpg\n",
            "│   │   │   train_38758_jpg.rf.672104afb11a5b4808a769a44a22eec9.jpg\n",
            "│   │   │   train_38909_jpg.rf.0409670020735c5961fb26ba6663c939.jpg\n",
            "│   │   │   train_38747_jpg.rf.b4af1f3a12ed1cbffff5bc5ec6bb288a.jpg\n",
            "│   │   │   train_38753_jpg.rf.7d569061127676beaa553d8564186865.jpg\n",
            "│   │   │   test_40120_jpg.rf.221d1003c35c9a23eb7b30c39f35be3b.jpg\n",
            "│   │   │   train_39024_jpg.rf.0fbd3f0a2440f1cc870a3c234bb99439.jpg\n",
            "│   │   │   test_40013_jpg.rf.ab478db81a86c9373fdc8cc76665e835.jpg\n",
            "│   │   │   train_38802_jpg.rf.0eac8dcc2e46b222c498928d81c3f7e6.jpg\n",
            "│   │   │   train_38916_jpg.rf.1e4ac34b806df238080f2d375f360413.jpg\n",
            "│   │   │   train_38789_jpg.rf.930c25eea41cab0bf0cebd7929cb58a4.jpg\n",
            "│   │   │   train_38865_jpg.rf.012b6b767524d66652cb80ca9ff2cd71.jpg\n",
            "│   │   │   train_38783_jpg.rf.cc2db93e50ae82d18f908c94d9800a39.jpg\n",
            "│   │   │   train_38867_jpg.rf.5e3555de3cda8bb34650796b908dcd43.jpg\n",
            "│   │   │   train_38752_jpg.rf.e7b39cb7dc2afb4dbef683cba78341c9.jpg\n",
            "│   │   │   test_40089_jpg.rf.c25acf4b48d5d2d9e3ed84fb769f6dd7.jpg\n",
            "│   │   │   train_38893_jpg.rf.7099e8bc468ed7d069487069e9ebd90a.jpg\n",
            "│   │   │   train_38982_jpg.rf.e26d5875e4b6fd1eeff8bfbf1ad6fca0.jpg\n",
            "│   │   │   test_40068_jpg.rf.2d41fc105573ae5029b13aeedf35782a.jpg\n",
            "│   │   │   train_40072_jpg.rf.4fbb63aee4923f1b997ed57144dffc19.jpg\n",
            "│   │   │   train_38922_jpg.rf.2699b28f75c355b48beb6350fd09150e.jpg\n",
            "│   │   │   train_38881_jpg.rf.1dced78a86a753a7de6fe7b15b15f478.jpg\n",
            "│   │   │   train_38784_jpg.rf.137192828713ff8a91caddf0b47b5fd7.jpg\n",
            "│   │   │   train_38842_jpg.rf.2dde81ca2f0d1f3bc06016e91d31367d.jpg\n",
            "│   │   │   train_38782_jpg.rf.a6582d5be0f376ec5673618c8408b118.jpg\n",
            "│   │   │   train_38889_jpg.rf.9b188e3c06234cf7bc54662812e42664.jpg\n",
            "│   │   │   test_40039_jpg.rf.d4be21deb4f10b9f025e334abb608343.jpg\n",
            "│   │   │   train_40166_jpg.rf.ad41806fb0b2a22d2d6e1cf54a258b12.jpg\n",
            "│   │   │   train_38796_jpg.rf.77465ecf77c49fdff4a57ad4607d3f8e.jpg\n",
            "│   │   │   train_39078_jpg.rf.f95a64a60dbb06a8104c4e16894b30d5.jpg\n",
            "│   │   │   train_40012_jpg.rf.5e8aaf3b32a0c3aae27c251f9ed6090e.jpg\n",
            "│   │   │   test_40095_jpg.rf.e892b9d7024706a064e144db86908987.jpg\n",
            "│   │   │   train_38751_jpg.rf.0ac3f756fbe16da5f1a0362d75ebe726.jpg\n",
            "│   │   │   train_40031_jpg.rf.9015bf4c3bf69f10500efea50b70a0f6.jpg\n",
            "│   │   │   train_38803_jpg.rf.09c41b88a8e794ed2430207b892e5d87.jpg\n",
            "│   │   │   train_40011_jpg.rf.5090cec674d6a60afa858e3577387e4c.jpg\n",
            "│   │   │   train_38781_jpg.rf.8e0e9ff7077681a26df1fa119dfa1a14.jpg\n",
            "│   │   │   train_38911_jpg.rf.e74f0e8343e9ecfca3f8422bafb5dae2.jpg\n",
            "│   │   │   train_38808_jpg.rf.631f14a2ace35f527dbfc1d30951cc5b.jpg\n",
            "│   │   │   train_38854_jpg.rf.85f6d52f6961120392693a1ad88e8186.jpg\n",
            "│   │   │   train_38936_jpg.rf.6b8389c69a4f7510e87427cccaba377d.jpg\n",
            "│   │   │   test_40059_jpg.rf.be70c8bc175b0f1c2fdae0502b34a222.jpg\n",
            "│   │   │   test_40111_jpg.rf.7538d5004fbd434f310f24f4fe798fcd.jpg\n",
            "│   │   │   train_38830_jpg.rf.b0983dbcdb39322972bbd5dfb91c7a7f.jpg\n",
            "│   │   │   train_38942_jpg.rf.fde26a92f60dd73b51881be4269ac399.jpg\n",
            "│   │   │   train_38908_jpg.rf.90b41da5365419d2ef28dd4ebd51a383.jpg\n",
            "│   │   │   train_40116_jpg.rf.1b1abdf291e8baf3b6deeb7c0beda2e3.jpg\n",
            "│   │   │   test_40108_jpg.rf.48b2820cff4c8f138e3e111e00b490dd.jpg\n",
            "│   │   │   train_38895_jpg.rf.6f7561bc36e42c0e4ece150419f4e5c3.jpg\n",
            "│   │   │   train_38801_jpg.rf.ecdddd876678a63e8461e0438416944e.jpg\n",
            "│   │   │   train_38947_jpg.rf.86cdd8bfbec3a7a72f634bb599c40251.jpg\n",
            "│   │   │   train_38769_jpg.rf.b6a33e58330cdf23bfef63790fe7a9ad.jpg\n",
            "│   │   │   test_38978_jpg.rf.3399b41ea95a256da5ed936adc7c1de8.jpg\n",
            "│   │   │   train_38809_jpg.rf.cad79ceb3ad11b07299c45a54ff7054a.jpg\n",
            "│   │   │   train_38896_jpg.rf.9f6ec94a3c14bfb4bb6047b8d5c9a210.jpg\n",
            "│   │   │   train_38792_jpg.rf.10bc2192ac81c2ede56eedf0fd346f71.jpg\n",
            "│   │   │   train_38740_jpg.rf.a7cd23406f303cd151b008ca20ec4549.jpg\n",
            "│   │   │   test_40057_jpg.rf.eacf5847c92bdfcf7942999efbb6f708.jpg\n",
            "│   │   │   train_38888_jpg.rf.e05b5cbff07b57b72e415342c3b21b2f.jpg\n",
            "│   │   │   train_38932_jpg.rf.1c4bbc0a61930caa5d80f9ff556c51a0.jpg\n",
            "│   │   │   test_40021_jpg.rf.377d71a4bfbc2fd7a9df1024495f85fc.jpg\n",
            "│   │   │   train_38731_jpg.rf.870b895ee084c8eb64891bce09ad2d31.jpg\n",
            "│   │   ├── train/ [853 files]\n",
            "│   │   │   val_40381_jpg.rf.9302e00393f1c18cbfc1c24a900ee48c.jpg\n",
            "│   │   │   train_40570_jpg.rf.5b2af9e0a80126ec84983ae77b95001e.jpg\n",
            "│   │   │   train_40680_jpg.rf.fc93d902570336863e5095623e48be0c.jpg\n",
            "│   │   │   train_40255_jpg.rf.ec8d7bd2feb4a3083ac19349b8e77929.jpg\n",
            "│   │   │   train_40628_jpg.rf.932d29765e73315baec7de48129a2aea.jpg\n",
            "│   │   │   train_40203_jpg.rf.0bc5dcfd36041d35ab51929cbed51fd8.jpg\n",
            "│   │   │   val_40852_jpg.rf.59447115daae345bffdf6ffed18d940e.jpg\n",
            "│   │   │   val_40781_jpg.rf.a762e177b86c907508fd3c938ae80b42.jpg\n",
            "│   │   │   train_40726_jpg.rf.89152a08791db41d0e4c88d3b71114b0.jpg\n",
            "│   │   │   train_40325_jpg.rf.b28d1e1ceaf1595a3e1bdb7f76d0f92f.jpg\n",
            "│   │   │   val_41002_jpg.rf.26b94c8dcb93b3928b2eb4ca5c718b0f.jpg\n",
            "│   │   │   val_40212_jpg.rf.f52efba677afae3f683c341a3c2b9998.jpg\n",
            "│   │   │   train_40760_jpg.rf.30e8502a1d9dc2b6e08a922e96cec46d.jpg\n",
            "│   │   │   train_40856_jpg.rf.4d8bc34686d35a44cadc63523e3d437b.jpg\n",
            "│   │   │   train_40642_jpg.rf.7409a73be5bfc3ce67abf6898b06ef71.jpg\n",
            "│   │   │   train_40849_jpg.rf.018896926e2f8c5b6f64d5cc3e93d434.jpg\n",
            "│   │   │   train_40700_jpg.rf.1c184eff9bd2c21a57c6004556860203.jpg\n",
            "│   │   │   test_40832_jpg.rf.706bde8ddd4e3e5bd5776c2f330de861.jpg\n",
            "│   │   │   train_40564_jpg.rf.5d07978a0d46e220effc2213bde97a4c.jpg\n",
            "│   │   │   test_40240_jpg.rf.3b230e1d3bd8b26c5432aff89aea9e21.jpg\n",
            "│   │   │   test_40443_jpg.rf.544325ef428fc3325509e0561ff1741a.jpg\n",
            "│   │   │   test_40591_jpg.rf.0f89557d9bbcdf46c5ec5e084ad01a2d.jpg\n",
            "│   │   │   train_40409_jpg.rf.8fa1638085eaefc767e3772d6b843f02.jpg\n",
            "│   │   │   train_40720_jpg.rf.3c1dcbec735040de6c1b8fcb71b6e3a3.jpg\n",
            "│   │   │   train_40903_jpg.rf.42329db3cf9163067202dd9ef673f3b3.jpg\n",
            "│   │   │   test_40883_jpg.rf.8ff8b58f95e9395d3d9a4387e70050c2.jpg\n",
            "│   │   │   train_40778_jpg.rf.c652f7e1214732a2fe19f2474a0aeade.jpg\n",
            "│   │   │   val_40830_jpg.rf.a5b0d9c10d17f6a5067d0a48dd1d240d.jpg\n",
            "│   │   │   test_40728_jpg.rf.4eda0b3332d6595e43ec862d3e7ab58c.jpg\n",
            "│   │   │   train_40675_jpg.rf.b3f093e1ed228b145dd36a7f6f6c2cd5.jpg\n",
            "│   │   │   train_40872_jpg.rf.1743871817252386ada53611757b8ade.jpg\n",
            "│   │   │   test_40234_jpg.rf.53608a03a63f14a0949c0d9a0dce41cb.jpg\n",
            "│   │   │   test_40800_jpg.rf.3b36ae99a9dd6d75dec6ee1a022e6434.jpg\n",
            "│   │   │   test_40632_jpg.rf.ab62b1749aeb806bb6d20369e8197b89.jpg\n",
            "│   │   │   train_40339_jpg.rf.0acf6cc3d8f932cce30087e2e50fa689.jpg\n",
            "│   │   │   test_40393_jpg.rf.aa0acf676aa0309d1e273ae7981e0bd7.jpg\n",
            "│   │   │   test_41035_jpg.rf.cae3284b146c85f5d6ce254180c19203.jpg\n",
            "│   │   │   val_40961_jpg.rf.b97e122bb566f8248c0b750d1c2ebebf.jpg\n",
            "│   │   │   train_40322_jpg.rf.bf7ab86073deb0b346b3595561276cc5.jpg\n",
            "│   │   │   test_40581_jpg.rf.77a9ce3dc7968b17d39540b89ba50ae0.jpg\n",
            "│   │   │   train_40702_jpg.rf.3c53ce1b909cced23cca17518c4e6aae.jpg\n",
            "│   │   │   test_40316_jpg.rf.a5383dd2dd7f96e97c732900e8804255.jpg\n",
            "│   │   │   test_40765_jpg.rf.b1a449a41398aa967ae271c049a9180c.jpg\n",
            "│   │   │   train_40201_jpg.rf.544036941a56ee6024e71ebbdea93f13.jpg\n",
            "│   │   │   test_40332_jpg.rf.e36d5784018687631fa527e73e051504.jpg\n",
            "│   │   │   train_41014_jpg.rf.0b3d7fd57569d88f80bcc85631cfbef6.jpg\n",
            "│   │   │   train_40949_jpg.rf.570d7818f3e08e6f1b7516de7c1a6e96.jpg\n",
            "│   │   │   train_40299_jpg.rf.a1343263b65f599e83736f3de386958d.jpg\n",
            "│   │   │   train_40552_jpg.rf.fa230fb1eac14d064b84e68ee473f883.jpg\n",
            "│   │   │   train_40491_jpg.rf.e7274b1a3d032ac71456c1189a887fbd.jpg\n",
            "│   │   │   test_40487_jpg.rf.10905b1fd26cbd9bbfd448853f0edd3e.jpg\n",
            "│   │   │   train_40641_jpg.rf.1fa50daaa609747141f51cee8779c39a.jpg\n",
            "│   │   │   train_40891_jpg.rf.653d0f78646a42f8f1de47acf809ffd1.jpg\n",
            "│   │   │   test_40449_jpg.rf.eed1f2d37b9b04830c045dd07964d258.jpg\n",
            "│   │   │   test_40267_jpg.rf.c4cd949aecaedd57f4fb3b2d2c30d921.jpg\n",
            "│   │   │   train_40551_jpg.rf.67e4832f97b39e8e02594b2f3129ad37.jpg\n",
            "│   │   │   test_40531_jpg.rf.df4bd8298a702bf2ea10712fcdc45b56.jpg\n",
            "│   │   │   train_40596_jpg.rf.c5bc4b435e4ad3670219db678f9fca6c.jpg\n",
            "│   │   │   test_40892_jpg.rf.e83912399c2390cf199ab4711138ba6a.jpg\n",
            "│   │   │   test_40671_jpg.rf.2683743c7be842337ecdbbf97cba2178.jpg\n",
            "│   │   │   train_40525_jpg.rf.e642263d16992d7cd3b3d16fec8199c3.jpg\n",
            "│   │   │   test_40447_jpg.rf.d4f29c9dc361ac4e3ea3fc221106c9f6.jpg\n",
            "│   │   │   test_40820_jpg.rf.2c6c086002737576d12e7a61a90249d0.jpg\n",
            "│   │   │   train_40396_jpg.rf.762af309847597fb33eaf2a973864284.jpg\n",
            "│   │   │   train_40992_jpg.rf.7023804032f0d9322a46e4e862fdde22.jpg\n",
            "│   │   │   test_40601_jpg.rf.264493bf777955b31d379bdd61e16cdf.jpg\n",
            "│   │   │   train_41023_jpg.rf.07a4ba460e6943022fe6b6fe9bcb4d7e.jpg\n",
            "│   │   │   train_41008_jpg.rf.ce69dfb8bc3bc2f0b8c81ee3ae7bb6c8.jpg\n",
            "│   │   │   test_40932_jpg.rf.214b46823b6172eea288f2bcb6a21e05.jpg\n",
            "│   │   │   test_40391_jpg.rf.32774e4f7894bda84ba3f2cddd9066a1.jpg\n",
            "│   │   │   train_41027_jpg.rf.f06aa175049a70c0aa565ccf6e2d092a.jpg\n",
            "│   │   │   train_40436_jpg.rf.a06fccfe6beeef38e8f6446edfa720d5.jpg\n",
            "│   │   │   test_40910_jpg.rf.6a415180225149b092d7c07faf4b1c89.jpg\n",
            "│   │   │   train_40582_jpg.rf.d93ad124114afacf02d6ce76432b7d2e.jpg\n",
            "│   │   │   train_40466_jpg.rf.597457a2ccddfc70f113f54aa3626b1a.jpg\n",
            "│   │   │   train_40334_jpg.rf.a552b0361dbbc94c90f701cec8047e64.jpg\n",
            "│   │   │   train_40497_jpg.rf.1ebb01b20e0a9eeae7377bb2a47db771.jpg\n",
            "│   │   │   train_40329_jpg.rf.66f51edeb335ab21960b8f275d1c5a0e.jpg\n",
            "│   │   │   train_40812_jpg.rf.12b8c1863c2c0b7882c1baf28f9021e4.jpg\n",
            "│   │   │   test_40769_jpg.rf.42d4a9d9592bce44cc72d60c824af4d6.jpg\n",
            "│   │   │   train_40426_jpg.rf.23e6df76c729a83afa86f72dbfe431b4.jpg\n",
            "│   │   │   test_40933_jpg.rf.33e81374fa2d6756dd8426ae5b09f87f.jpg\n",
            "│   │   │   test_40605_jpg.rf.900e705c3a32869f7451a9f41b353687.jpg\n",
            "│   │   │   test_40358_jpg.rf.66001a5efbaf16c4e4bca5aa00fe79eb.jpg\n",
            "│   │   │   train_40774_jpg.rf.5b48777e93be80c932ab6bd9e9a42121.jpg\n",
            "│   │   │   train_40506_jpg.rf.60a517af69e0c70f4c9324971e5fb82f.jpg\n",
            "│   │   │   train_40987_jpg.rf.158c9ae7aa17e2f253dbf1d42a82bce9.jpg\n",
            "│   │   │   val_40486_jpg.rf.9fbc9b5c11647dc559a1f3b8dc2cf1ab.jpg\n",
            "│   │   │   train_40380_jpg.rf.67be6c38af59988a5164184e87f7b246.jpg\n",
            "│   │   │   test_40269_jpg.rf.c4547775b9a9891f079e27c1775e5d4b.jpg\n",
            "│   │   │   test_40772_jpg.rf.7bc7d59e387b9ac6f947a124ca959d01.jpg\n",
            "│   │   │   train_40196_jpg.rf.94466ed2ee4437e7d888d9698c547347.jpg\n",
            "│   │   │   test_40745_jpg.rf.3396c8725a8ada827311302576531d3d.jpg\n",
            "│   │   │   train_40847_jpg.rf.ba16dc6a3af88ece85c3205bda5549c7.jpg\n",
            "│   │   │   train_40252_jpg.rf.bdd5f9ea50c90b31618ee6a88f43981d.jpg\n",
            "│   │   │   train_40350_jpg.rf.9c15cc76fbd586a749e8e239709abd80.jpg\n",
            "│   │   │   train_40253_jpg.rf.94213b1a322d315dae13bbdab12b0224.jpg\n",
            "│   │   │   train_40263_jpg.rf.ad4bfbb50417935b7a7045db32b98d6b.jpg\n",
            "│   │   │   train_40882_jpg.rf.b50bc7603e6873b49be83ce7edcc4f22.jpg\n",
            "│   │   │   train_40942_jpg.rf.d01ab36dc7a49b693f5720ea2f8069d1.jpg\n",
            "│   │   │   train_40538_jpg.rf.b741e082196c798bf8d0a5a30e44086f.jpg\n",
            "│   │   │   train_40647_jpg.rf.72c996f959f8641931bba1b219237917.jpg\n",
            "│   │   │   train_40237_jpg.rf.bc3655d6056267238c80e5669458f7bf.jpg\n",
            "│   │   │   test_41013_jpg.rf.9a3390049ed4eddab84f88bcf964d5f9.jpg\n",
            "│   │   │   train_40588_jpg.rf.e8bf8ef9628e35c1d37a7e032bbbc154.jpg\n",
            "│   │   │   test_40239_jpg.rf.db2267ff1f10a389e4217d763e5e7471.jpg\n",
            "│   │   │   train_40997_jpg.rf.70542d639f5e650893f16fb4ecc558fc.jpg\n",
            "│   │   │   train_40221_jpg.rf.8294c954717c09ee3fab6247cebf746b.jpg\n",
            "│   │   │   test_40435_jpg.rf.4d88233eece03a2456feb3f11053750e.jpg\n",
            "│   │   │   test_40473_jpg.rf.c36bdcfee1338fc3acd15ffdba98e65e.jpg\n",
            "│   │   │   train_40787_jpg.rf.5ff16eadfdbe332596f615c7e5bf759a.jpg\n",
            "│   │   │   test_40676_jpg.rf.24ed119da01e906fe66304631d639591.jpg\n",
            "│   │   │   train_40515_jpg.rf.e2dc38ec760517366342f4b9b4763d1c.jpg\n",
            "│   │   │   test_40367_jpg.rf.a448ae276d687315473ec697a1964f60.jpg\n",
            "│   │   │   test_40401_jpg.rf.0bffc1c26b435296c1a3eaa52334ff86.jpg\n",
            "│   │   │   train_40684_jpg.rf.343e54b9648645a7be284020d56a3a09.jpg\n",
            "│   │   │   test_40206_jpg.rf.829b54ca2fd2e89355825296a1290f84.jpg\n",
            "│   │   │   train_40514_jpg.rf.ed1283a6acb1f39207f96597412a8633.jpg\n",
            "│   │   │   test_40226_jpg.rf.a2c4f0501cf0a3c614424bc937e84e7a.jpg\n",
            "│   │   │   train_40278_jpg.rf.d2f55d233821a7acd4153c58f631b2d2.jpg\n",
            "│   │   │   train_40771_jpg.rf.a2fa23718b0981d7c751ca23f627fcdc.jpg\n",
            "│   │   │   train_40379_jpg.rf.aec6f8412553d7ce200f862918b6e042.jpg\n",
            "│   │   │   train_40951_jpg.rf.d8e6e106b5fda4ea65eebae701d1cd53.jpg\n",
            "│   │   │   test_40649_jpg.rf.0156fec81b8ff48ed74dfaca0518e945.jpg\n",
            "│   │   │   train_41011_jpg.rf.008d61956c5324224d506fb42717d1f6.jpg\n",
            "│   │   │   train_40417_jpg.rf.0c595bcc57be390d89793969e108c9da.jpg\n",
            "│   │   │   train_40855_jpg.rf.557e01411cee9fded70b27aad71ed824.jpg\n",
            "│   │   │   test_40977_jpg.rf.859b1fcd2ea4bc02e47c114ebab07564.jpg\n",
            "│   │   │   test_40191_jpg.rf.9291b292c3f597d91168af8e02b22f97.jpg\n",
            "│   │   │   test_40958_jpg.rf.0dfc1d64018b6b774e0ca88e53c06a9b.jpg\n",
            "│   │   │   train_40809_jpg.rf.238dec6cb924e0862938960439414f6b.jpg\n",
            "│   │   │   train_40936_jpg.rf.ba2272fe19358e314f855323e0b68a02.jpg\n",
            "│   │   │   train_40427_jpg.rf.14a30a308636b8b2a8c693cf1781f5d1.jpg\n",
            "│   │   │   train_40500_jpg.rf.b92fde00d7af11b8fed5f89a6d692390.jpg\n",
            "│   │   │   train_40648_jpg.rf.8bfb5c65ad02b890532c26883cfff4b0.jpg\n",
            "│   │   │   train_40602_jpg.rf.b505bff2ad51e5b3bb52c6dbd7097598.jpg\n",
            "│   │   │   train_40810_jpg.rf.6ac2602fe5c66e1172730c3db4cf3a48.jpg\n",
            "│   │   │   test_40898_jpg.rf.ffe356396ec303964e0db3aee9d5dbdb.jpg\n",
            "│   │   │   train_40479_jpg.rf.7c0958459b87d47ca3eddfc731d275c7.jpg\n",
            "│   │   │   train_40313_jpg.rf.b7e68b65993c8cda4e6b38fe567f3b29.jpg\n",
            "│   │   │   train_40609_jpg.rf.f921e7d0fae6ad5d28eedad78e270e51.jpg\n",
            "│   │   │   test_41016_jpg.rf.ca63b01889cfd23f0233f9e55ac1082b.jpg\n",
            "│   │   │   train_40585_jpg.rf.645912d199de56096e6254da5bed81c4.jpg\n",
            "│   │   │   train_40450_jpg.rf.024c6712f022806c52d4c680966c6278.jpg\n",
            "│   │   │   train_40353_jpg.rf.b2993effbea70e8bd585ca662ef1e306.jpg\n",
            "│   │   │   train_40699_jpg.rf.c23f2f504881dd419912560ac4189f64.jpg\n",
            "│   │   │   train_40340_jpg.rf.b26894d60908f7b4e7c6c194189ee251.jpg\n",
            "│   │   │   train_40908_jpg.rf.80837cd3bd0b8fc51c7ff79671b1f95f.jpg\n",
            "│   │   │   val_40200_jpg.rf.a3f2388d2b45d5e35108b8e1fb1e74c3.jpg\n",
            "│   │   │   test_40838_jpg.rf.2a10891b9e73d62ba40ab6c896226464.jpg\n",
            "│   │   │   train_40568_jpg.rf.60b42e31c863fad8613d1a5c98ef792b.jpg\n",
            "│   │   │   val_40537_jpg.rf.e3b68d172d61575eadb9e55df25fb75d.jpg\n",
            "│   │   │   train_40831_jpg.rf.11f02bf4c7e4312943aa6efb8e27566e.jpg\n",
            "│   │   │   train_40388_jpg.rf.34c5372104e71338ffbc9b7f69a4dccd.jpg\n",
            "│   │   │   train_40956_jpg.rf.c90915e135fed8ea1ac7cde8881086bd.jpg\n",
            "│   │   │   train_40753_jpg.rf.fda199780603fa139d1768db015aa22a.jpg\n",
            "│   │   │   train_40965_jpg.rf.36fea4a9dba07d7dcdac2c1ed2ea4fe5.jpg\n",
            "│   │   │   test_41021_jpg.rf.d313d0b3ad0736b660fec7f804b71d38.jpg\n",
            "│   │   │   test_40996_jpg.rf.f7d053005dc313388d0011bdef8ed135.jpg\n",
            "│   │   │   test_40972_jpg.rf.0e242cd959aabb23f80d614c006670e6.jpg\n",
            "│   │   │   val_40258_jpg.rf.28d85f75121eeb10f1fdc19303b1950d.jpg\n",
            "│   │   │   train_40756_jpg.rf.6d7c1ef026fd1435c12e923fc70a92d0.jpg\n",
            "│   │   │   train_40463_jpg.rf.c43f772227e9d4afe48d74a1ee267383.jpg\n",
            "│   │   │   train_40207_jpg.rf.dc1d1d0deb7c00b632dcc2f34021f727.jpg\n",
            "│   │   │   train_40526_jpg.rf.ec886309388cceaa2c13f4fd63aba9ae.jpg\n",
            "│   │   │   test_40814_jpg.rf.13e365b5bfc49c1a3470b7aafbdbdc78.jpg\n",
            "│   │   │   train_40398_jpg.rf.462f402a322668c9f9a9ae6c5dadf894.jpg\n",
            "│   │   │   train_40974_jpg.rf.67dbbc7ba25fa8ffd57b1b71d8c702de.jpg\n",
            "│   │   │   train_40275_jpg.rf.ab0d1b4d2fe0f6c7655ff6b8f1450568.jpg\n",
            "│   │   │   train_40589_jpg.rf.44228f004051aff17af0639bb8fdf501.jpg\n",
            "│   │   │   test_40896_jpg.rf.a831b818da3f537c677d508d48395ea7.jpg\n",
            "│   │   │   train_40863_jpg.rf.cc47b35227c19372e04ec3c26fa51c25.jpg\n",
            "│   │   │   train_40703_jpg.rf.b2830e1e15fb62dbb0864b4ca0fe4da9.jpg\n",
            "│   │   │   test_40607_jpg.rf.702d88a35d766700623a721a37ae4877.jpg\n",
            "│   │   │   train_40919_jpg.rf.0206e51caf17bfa676375b51bb5ee1cd.jpg\n",
            "│   │   │   val_40878_jpg.rf.4ed67265b1166cf13a90d30cf16665f6.jpg\n",
            "│   │   │   val_40546_jpg.rf.0f2a9f2cd3cd9698c9286bc856085b0b.jpg\n",
            "│   │   │   test_40232_jpg.rf.da74523f01ec28a4bd40c78c9a337f7e.jpg\n",
            "│   │   │   train_40205_jpg.rf.537dd45f7e66e5d5aedbdc0c3d982161.jpg\n",
            "│   │   │   train_40862_jpg.rf.14d5aecdb1fbf70054b56a14a5611319.jpg\n",
            "│   │   │   train_40978_jpg.rf.c54b2d9afdb61cdc7605cd1c88a196d0.jpg\n",
            "│   │   │   train_40983_jpg.rf.061adb524c7d57cd40ba48bfe2a32933.jpg\n",
            "│   │   │   test_41036_jpg.rf.24d6dc45938ccb5e9013ee217eb5b8e4.jpg\n",
            "│   │   │   train_40822_jpg.rf.832a70683cf03de63fdf1b45c6cb4143.jpg\n",
            "│   │   │   train_40621_jpg.rf.a74be3697e9b5bb705d1868317ed178e.jpg\n",
            "│   │   │   train_40950_jpg.rf.b06a53373e8883dbb000a742f7043324.jpg\n",
            "│   │   │   train_40442_jpg.rf.281457735c2770ac310e03e3b719399e.jpg\n",
            "│   │   │   test_40799_jpg.rf.2b0521b181a6bee94907c67743b5d204.jpg\n",
            "│   │   │   train_40257_jpg.rf.a4fa2a4e0105a229e63d32a7065497b4.jpg\n",
            "│   │   │   train_40770_jpg.rf.e1929be3284536a6ca6a5007d5036d40.jpg\n",
            "│   │   │   train_40639_jpg.rf.397e9b6ce28575a2421c6be04802718e.jpg\n",
            "│   │   │   val_40254_jpg.rf.cbdc73e5ea82575ad1421e122b0dc54d.jpg\n",
            "│   │   │   val_40250_jpg.rf.9519e03d1f59d97f50fdbd8362e84537.jpg\n",
            "│   │   │   train_40421_jpg.rf.1797b05822ab556f6a8eb34f12ee0b97.jpg\n",
            "│   │   │   val_40879_jpg.rf.c1b8ec98f896904055810c1428523069.jpg\n",
            "│   │   │   train_40665_jpg.rf.0f58d2b07664f4627d4e9e4ef3f4e75a.jpg\n",
            "│   │   │   train_40657_jpg.rf.f135c63c3cf159797eefc0b7389d104e.jpg\n",
            "│   │   │   test_40752_jpg.rf.6ccfa0e7bc0ddbb67b94fc9ca2225535.jpg\n",
            "│   │   │   test_40271_jpg.rf.3575ae40dbc11c27eb9226bcffc63dd2.jpg\n",
            "│   │   │   test_40813_jpg.rf.78d3b89b1527ae8dd49bb96ea30c65bf.jpg\n",
            "│   │   │   test_40562_jpg.rf.f5d0875139c3b3aa28c56a695dca8324.jpg\n",
            "│   │   │   test_40483_jpg.rf.54f744312115a8fcdc52a53f43d9ae66.jpg\n",
            "│   │   │   train_40539_jpg.rf.a9299abdb1acca0edbcfc7b4e592b7e2.jpg\n",
            "│   │   │   train_40967_jpg.rf.7f3e641f2f3602309e79937a9d7200ce.jpg\n",
            "│   │   │   test_40383_jpg.rf.050aeea4d20840febf8b6c66838d5301.jpg\n",
            "│   │   │   train_40835_jpg.rf.2a274aa29ee988ae6d2d6c9fb96fba41.jpg\n",
            "│   │   │   train_40461_jpg.rf.10d007960091f60c86659d9499bc4fd1.jpg\n",
            "│   │   │   train_40375_jpg.rf.ebcd6b397fd0a6ef713363897beba3ce.jpg\n",
            "│   │   │   train_40719_jpg.rf.d87cc13f966d7d04ed6070ec9850f92a.jpg\n",
            "│   │   │   test_40802_jpg.rf.ddea30021ead9233b5a828e0f24a1435.jpg\n",
            "│   │   │   train_40100_jpg.rf.c14dfe9b6646d1402778930323dcf601.jpg\n",
            "│   │   │   train_40304_jpg.rf.1f4e26061e0434e156af3e27b04fc41f.jpg\n",
            "│   │   │   test_40869_jpg.rf.58321031f7b571646048fa43ca976b9a.jpg\n",
            "│   │   │   train_40428_jpg.rf.98bdd5573a61fdfaf381e3d05e9184cb.jpg\n",
            "│   │   │   train_40653_jpg.rf.f8a76f3efa293cc0a52e9cfd0d57158d.jpg\n",
            "│   │   │   train_41012_jpg.rf.2582e250b1d7599c65e44376712b5e37.jpg\n",
            "│   │   │   train_40550_jpg.rf.d2bdf313652ac94ee08e3eba1df7aaec.jpg\n",
            "│   │   │   train_40668_jpg.rf.e3f0305606e8a53e9e6cfe0b3879bbe6.jpg\n",
            "│   │   │   train_40663_jpg.rf.d161e053eef408e9e5907c2ca6f5407a.jpg\n",
            "│   │   │   train_40224_jpg.rf.74ecfb2db63039e49dd45297132b2a7b.jpg\n",
            "│   │   │   train_40721_jpg.rf.6a0e44156b862cc02110d5c3df296b89.jpg\n",
            "│   │   │   test_40018_jpg.rf.af95dd4fceebc0de4eb538d72fccb349.jpg\n",
            "│   │   │   test_40360_jpg.rf.32908f6c2872f6dae3680fbdedd739e4.jpg\n",
            "│   │   │   train_40973_jpg.rf.62a50cd8e7f7a8e937831d8d9d893835.jpg\n",
            "│   │   │   train_40377_jpg.rf.341ba041e3d5160b9b2b8aa3908bff50.jpg\n",
            "│   │   │   train_40667_jpg.rf.aad74bf86f44b8c531c3a1b15e25b90e.jpg\n",
            "│   │   │   train_40286_jpg.rf.fba3c09b699f79f549dfe1f75fdd071a.jpg\n",
            "│   │   │   test_40260_jpg.rf.88387c64b5502530563dca4464798a49.jpg\n",
            "│   │   │   test_40215_jpg.rf.7de2502f8b0c1c0385e8af6b834bf40a.jpg\n",
            "│   │   │   train_40788_jpg.rf.8943070ead8af12b14087c1a98e2a8d5.jpg\n",
            "│   │   │   test_40331_jpg.rf.8c086661ae86f60b7ce946620f7279df.jpg\n",
            "│   │   │   train_40532_jpg.rf.b911fa0adfd10f7aa19bdff04ee34f2e.jpg\n",
            "│   │   │   train_40386_jpg.rf.c0ee9604ce79c9ba12f9a3ca61e075c4.jpg\n",
            "│   │   │   test_40243_jpg.rf.a8c74e91a115c6a7e2fe6a38e15d5852.jpg\n",
            "│   │   │   test_40834_jpg.rf.b42a7b8e5461676c794e4279e1f6d353.jpg\n",
            "│   │   │   train_40730_jpg.rf.06f9cac26d6c58d97f5f5a6f9e447711.jpg\n",
            "│   │   │   test_40415_jpg.rf.50bbb6669b5c7b5ba24c94862f6112b7.jpg\n",
            "│   │   │   train_40294_jpg.rf.84a8231563ba2f6a3d9316c443b3a505.jpg\n",
            "│   │   │   train_40804_jpg.rf.d33e008d0c0cf197fb8fa96de14fab9f.jpg\n",
            "│   │   │   test_40611_jpg.rf.a5ea1ce29fd5e874e4c702c838457401.jpg\n",
            "│   │   │   train_40575_jpg.rf.33404b82412919374b1bf41d18a676e0.jpg\n",
            "│   │   │   val_40803_jpg.rf.e0cfc213cac757d5241c07c6dd85b69d.jpg\n",
            "│   │   │   val_40395_jpg.rf.ee3d21febe38dfd59f7ab9991ecb576a.jpg\n",
            "│   │   │   train_40729_jpg.rf.9aa423d7a6a9afbd4d8f79a5af43c7a4.jpg\n",
            "│   │   │   test_40785_jpg.rf.3577eb61893ed4bc138fde6ee2eec1be.jpg\n",
            "│   │   │   test_40635_jpg.rf.2ccb185d269260d2ad811a0d005fdca6.jpg\n",
            "│   │   │   train_40558_jpg.rf.73d8c37d816e9f3bc104d035b8428ca9.jpg\n",
            "│   │   │   train_40724_jpg.rf.c5c38cd4638bebfda9fe75dcdba92117.jpg\n",
            "│   │   │   train_40945_jpg.rf.c94caeb4c3cb80d44ba6b54c866759a9.jpg\n",
            "│   │   │   train_40402_jpg.rf.4a4c247e310c559c704f164ac9a2917e.jpg\n",
            "│   │   │   test_41038_jpg.rf.e18713601efe74e702b20a2cd7d6ac8d.jpg\n",
            "│   │   │   train_40979_jpg.rf.29841a586e58d894d87c8c37a70152b3.jpg\n",
            "│   │   │   train_40429_jpg.rf.60024acaa086a2058b7d1eeee9870e19.jpg\n",
            "│   │   │   val_40462_jpg.rf.236574dd901cec4431af29abe90a37fc.jpg\n",
            "│   │   │   train_40710_jpg.rf.b51110a9909356d36ebb017da7cfb5dc.jpg\n",
            "│   │   │   train_40204_jpg.rf.d4e1b64ac55142e3541eb64a4d3e1581.jpg\n",
            "│   │   │   test_40957_jpg.rf.9f34262857a6e6138d19ca260d93a8e7.jpg\n",
            "│   │   │   train_40371_jpg.rf.1b05e305e8d94b9ac91223f8aa75d9a3.jpg\n",
            "│   │   │   train_40946_jpg.rf.1930b445dc7ced3a248db5632c0eab89.jpg\n",
            "│   │   │   test_40468_jpg.rf.56990881179b59eb1b088426db883ec0.jpg\n",
            "│   │   │   train_40249_jpg.rf.c37ffc76552437a15a26909bee20d6a2.jpg\n",
            "│   │   │   train_40948_jpg.rf.0735757deac62416111da9c648c83c42.jpg\n",
            "│   │   │   train_40276_jpg.rf.ee4624a7d9e72b1ccb050904759bd562.jpg\n",
            "│   │   │   train_40418_jpg.rf.7d379c61e0457f70320a807b57cfbf4b.jpg\n",
            "│   │   │   test_40530_jpg.rf.28ec5f7ecaae2be3e44565c93bece539.jpg\n",
            "│   │   │   train_40420_jpg.rf.6d0a12328bb14806a714a7d780d15c21.jpg\n",
            "│   │   │   test_40662_jpg.rf.f3fe2de9f58f7afbb8de9c1b7604a63a.jpg\n",
            "│   │   │   test_40446_jpg.rf.30366ecc19c29b982d081912cacdebd9.jpg\n",
            "│   │   │   train_40709_jpg.rf.b21f7963f82f22465842484057eef488.jpg\n",
            "│   │   │   train_40698_jpg.rf.d67fbfdf1272abcb24c83a0cd4a573cb.jpg\n",
            "│   │   │   train_40923_jpg.rf.4fb521d7fafe652e7e915b6ae3cec887.jpg\n",
            "│   │   │   test_40590_jpg.rf.6a85c35770d116ca446997d844adb767.jpg\n",
            "│   │   │   test_40561_jpg.rf.b99d703ae3162ae41470b6a5e050f2f1.jpg\n",
            "│   │   │   val_40971_jpg.rf.08756b33f1f81669eebc9c11dda4d622.jpg\n",
            "│   │   │   val_41022_jpg.rf.b70b2a7e6235436206fb42250ebebcb2.jpg\n",
            "│   │   │   val_40476_jpg.rf.c4ab3daa85aa9cd77bcfb415652b0e47.jpg\n",
            "│   │   │   test_40202_jpg.rf.efb7080fc191816ae5a1803d2553af0b.jpg\n",
            "│   │   │   train_41033_jpg.rf.ede9c06b76da71691588b02b67395cfe.jpg\n",
            "│   │   │   val_40805_jpg.rf.9823e0eb0bd9306e6e28d9b43a5efd05.jpg\n",
            "│   │   │   train_40320_jpg.rf.db0b477751f3921af13cacf121e07ffd.jpg\n",
            "│   │   │   train_40825_jpg.rf.f917fd567b395797390c7814565af6bb.jpg\n",
            "│   │   │   train_40389_jpg.rf.8d0301ef69c2178b99fa7cf60ac42826.jpg\n",
            "│   │   │   train_40913_jpg.rf.5c60646f0e02dbed16745b1fb191e2cc.jpg\n",
            "│   │   │   train_40593_jpg.rf.665dcbc8c885eb495763d278d35a808d.jpg\n",
            "│   │   │   train_40794_jpg.rf.d3e60e7d5238e3e14964a9b2244cc6cc.jpg\n",
            "│   │   │   train_40337_jpg.rf.122d913ff0bff80349a9a3c7b56a9071.jpg\n",
            "│   │   │   test_40295_jpg.rf.f20bf529421fb791e7bebc798521cf57.jpg\n",
            "│   │   │   train_40797_jpg.rf.655d9f1aef7bd1e437fa25ad16b27fb0.jpg\n",
            "│   │   │   test_40833_jpg.rf.e12668fa5295464f69130d9fd5170366.jpg\n",
            "│   │   │   train_40555_jpg.rf.2a2049fafde4a0ebfb73f09f8b2c4b93.jpg\n",
            "│   │   │   train_40916_jpg.rf.14931064eec4b30e0314b91d37e60dfc.jpg\n",
            "│   │   │   train_40399_jpg.rf.611ffc918c4dba4574945ad3651b132e.jpg\n",
            "│   │   │   train_40955_jpg.rf.a701bd0b0d435acfe4e6bc46100738d1.jpg\n",
            "│   │   │   train_40705_jpg.rf.bc60dd31ad074fb57449acc4f9e35c42.jpg\n",
            "│   │   │   train_40493_jpg.rf.ed4047b74772404d0b792788b46bec4f.jpg\n",
            "│   │   │   test_40268_jpg.rf.a196e6932d5a3d4f48767e05b4ce8aff.jpg\n",
            "│   │   │   train_40637_jpg.rf.93026f58839ace823a5946bda0ec2cbc.jpg\n",
            "│   │   │   test_40920_jpg.rf.04362b0a60d27d7c99fc0f4854dc0515.jpg\n",
            "│   │   │   test_40940_jpg.rf.e33e14db14cc7dedeb1768b4d97804f3.jpg\n",
            "│   │   │   test_40355_jpg.rf.b23a5f3e3c77575e2a6f9d24a33332f5.jpg\n",
            "│   │   │   val_40614_jpg.rf.f75c43734fde0128c645c673667e8ee2.jpg\n",
            "│   │   │   train_40577_jpg.rf.f17ed535f96d180833a5e220d300c27f.jpg\n",
            "│   │   │   train_41007_jpg.rf.f4ec93a93057917c845988f8cd680a33.jpg\n",
            "│   │   │   train_40229_jpg.rf.54f7547a44c95e22f8d8efbe54f954ff.jpg\n",
            "│   │   │   train_40929_jpg.rf.6ebc677bc539f3c0eb96609b4b0c23e7.jpg\n",
            "│   │   │   val_40744_jpg.rf.40595519b4681be1eb4a9531ac50c5cf.jpg\n",
            "│   │   │   test_40362_jpg.rf.e0bb0c1b6594f94cd9c4ab979548535d.jpg\n",
            "│   │   │   train_40346_jpg.rf.ba37eb7ad97812d80167298b8a108826.jpg\n",
            "│   │   │   train_40755_jpg.rf.c8ffbd401d43c37d6164a5a6bc497a18.jpg\n",
            "│   │   │   train_40966_jpg.rf.97c68191c5d84d344f1eaeea32d01877.jpg\n",
            "│   │   │   train_40713_jpg.rf.fb04c6ad26b397cf13aa4e5b82fb6040.jpg\n",
            "│   │   │   train_40545_jpg.rf.af358fd5ca1de260466885fb9af1131e.jpg\n",
            "│   │   │   test_40762_jpg.rf.641d69b0be0dc96866675aaadc894180.jpg\n",
            "│   │   │   train_40990_jpg.rf.ba3798e4c5e5acdb71092dfcfcee6dbd.jpg\n",
            "│   │   │   train_40873_jpg.rf.dd5bd49772a792ceec6d74fc14b9668e.jpg\n",
            "│   │   │   val_40363_jpg.rf.6581481b24f3c4362014a57341743047.jpg\n",
            "│   │   │   test_40627_jpg.rf.7b40beab1b291676a49d4ee2fed1c5ac.jpg\n",
            "│   │   │   val_40467_jpg.rf.82184749abc824066aa185a4e5a5d278.jpg\n",
            "│   │   │   train_40563_jpg.rf.675128bb3df4b8b2fa3d2ff5e7f11728.jpg\n",
            "│   │   │   val_41006_jpg.rf.8bf3f602d70d30acc84505382207d3e8.jpg\n",
            "│   │   │   test_40519_jpg.rf.2d9423b4ebf6d48c6e2a873be84dc27c.jpg\n",
            "│   │   │   train_40403_jpg.rf.ad175cdaf6a0fd32186f97d4536b91a8.jpg\n",
            "│   │   │   train_41010_jpg.rf.eabf1f139d0bb4f1ca8cdef96ce56330.jpg\n",
            "│   │   │   train_40816_jpg.rf.805860d529fcf05679945963431d68e2.jpg\n",
            "│   │   │   test_40732_jpg.rf.a22cb27caa2e0fad82d3d285b2bde1de.jpg\n",
            "│   │   │   val_40622_jpg.rf.49d1ea79003d2380f6e1068905f32d75.jpg\n",
            "│   │   │   test_41017_jpg.rf.7155617c53258a13e815af6a2ba5a18a.jpg\n",
            "│   │   │   train_40887_jpg.rf.aa50ad5f7de79f61ff658ce55b771b5c.jpg\n",
            "│   │   │   test_40877_jpg.rf.476e0cc1d10a52f2f065a572703e22bb.jpg\n",
            "│   │   │   train_40994_jpg.rf.7e895785a56a0caa2defd5e90f11f638.jpg\n",
            "│   │   │   train_40793_jpg.rf.47f903d93b25fb2419aaabdd41061a8d.jpg\n",
            "│   │   │   train_40573_jpg.rf.74c8c16080ecebbb87911bf0cfa41fea.jpg\n",
            "│   │   │   train_40682_jpg.rf.c8edc13eea88404663e98d4c0d399d73.jpg\n",
            "│   │   │   val_40482_jpg.rf.dc47434ebebe68a4d8770dc30312061c.jpg\n",
            "│   │   │   train_40998_jpg.rf.eec02a3f8b377a17bb90968c5d05bbf3.jpg\n",
            "│   │   │   test_40571_jpg.rf.151d5795e1a60e4798fe2a8528420b38.jpg\n",
            "│   │   │   train_40228_jpg.rf.7a1276e51b4ba187037d7ab780568596.jpg\n",
            "│   │   │   train_40356_jpg.rf.e4f8ed8718ca987a77bb6e16621b8484.jpg\n",
            "│   │   │   test_40455_jpg.rf.0afa662b332654a383d27d2d7d014e73.jpg\n",
            "│   │   │   train_40685_jpg.rf.e3a6e7eb0d2e12b64da7122395659dc2.jpg\n",
            "│   │   │   test_40737_jpg.rf.511ef32f7a18fb3a2fd5ef297b89d312.jpg\n",
            "│   │   │   train_40843_jpg.rf.2aaa10fae12ced1250d9bb0a3c37b6d2.jpg\n",
            "│   │   │   train_40412_jpg.rf.06cbb11ae2001c6edb9a46d1ca5dd411.jpg\n",
            "│   │   │   train_40741_jpg.rf.115913f010891284c0a88f18d770f79a.jpg\n",
            "│   │   │   test_40422_jpg.rf.e56ce8c35f224bb03c78d5ee491f701b.jpg\n",
            "│   │   │   test_40734_jpg.rf.9fa0cf9e0b80dbe1f62cc5be0f156738.jpg\n",
            "│   │   │   test_40826_jpg.rf.41b2c93285c1f2c8ed6ee30dee9e9565.jpg\n",
            "│   │   │   test_40499_jpg.rf.ddbbed0f1abd00bc6af634ad0bb2214d.jpg\n",
            "│   │   │   val_40776_jpg.rf.95b66945a0eb6965ab4eda185ff5a642.jpg\n",
            "│   │   │   test_40912_jpg.rf.869b3bcffac58dd756e40a62e1f4fc84.jpg\n",
            "│   │   │   train_40858_jpg.rf.681e16d1569c08cc8b1dda138a070fcf.jpg\n",
            "│   │   │   train_40819_jpg.rf.d2d10ebfa85a40cd4cfc5c7c402f3e38.jpg\n",
            "│   │   │   train_40437_jpg.rf.c105f08d1d3762d29c45a375e8142034.jpg\n",
            "│   │   │   test_40748_jpg.rf.36db2d9e0aa4c7d96df3b5e0d385b1ca.jpg\n",
            "│   │   │   test_40938_jpg.rf.7f7ae9672f40634f6823fbbf69599291.jpg\n",
            "│   │   │   test_40488_jpg.rf.75e2b806064c86d6dee183de72073c31.jpg\n",
            "│   │   │   test_40587_jpg.rf.ee25aaa84d0d1c8e05ecbc711b14f14d.jpg\n",
            "│   │   │   train_40884_jpg.rf.78ae28e554a010ebe003de997ca168c0.jpg\n",
            "│   │   │   train_40242_jpg.rf.b90ddbc142883b94102e1f7ec97d2575.jpg\n",
            "│   │   │   train_40330_jpg.rf.8c7133d4773e61eb7c88bbd9140f14ec.jpg\n",
            "│   │   │   train_40988_jpg.rf.be77a802381e8f85dc3f624a212ee89b.jpg\n",
            "│   │   │   train_40850_jpg.rf.cc3941e3e6ba888954db7aa454dec7c7.jpg\n",
            "│   │   │   train_40584_jpg.rf.0432a68ef8afd27636aa6862db468cc7.jpg\n",
            "│   │   │   train_41037_jpg.rf.543e851744af4514c405fca23b3b4a74.jpg\n",
            "│   │   │   train_40594_jpg.rf.de08ee2128a3d465ba1f743a07ae09c8.jpg\n",
            "│   │   │   train_40528_jpg.rf.6e5adc868904a087b9b1bb9d38228eca.jpg\n",
            "│   │   │   val_40225_jpg.rf.b2c0c8f95968cd38747f8630fb226f40.jpg\n",
            "│   │   │   test_40520_jpg.rf.4685301767b3fe08584619dcb387d58f.jpg\n",
            "│   │   │   train_40251_jpg.rf.a449a352d56b7f03c38d9474439ee88e.jpg\n",
            "│   │   │   train_40219_jpg.rf.32862feef1d349627dfe19cc9d2b7ba5.jpg\n",
            "│   │   │   train_40366_jpg.rf.bc2094aa5282e31fcd0a4b09c46eefbc.jpg\n",
            "│   │   │   train_40451_jpg.rf.cc7c2e7bbd55bbcc305d4130200472f1.jpg\n",
            "│   │   │   test_40610_jpg.rf.0e423cb379bc0f5c54ba9e15505e6721.jpg\n",
            "│   │   │   train_40540_jpg.rf.0c3ebf05917f882ff64d7cf55936c4e7.jpg\n",
            "│   │   │   test_40387_jpg.rf.20994844f416f42fe992084f92fc7464.jpg\n",
            "│   │   │   train_40385_jpg.rf.2b168f03339f9a89f96455f4c4779580.jpg\n",
            "│   │   │   train_40543_jpg.rf.cf9c18a58dc5a4b794dbce50103e3ba4.jpg\n",
            "│   │   │   test_40841_jpg.rf.4f2b7949f822654dcec7f4e943ec94af.jpg\n",
            "│   │   │   test_40586_jpg.rf.bb626ba440c0be40aabcb2b74629270d.jpg\n",
            "│   │   │   train_40672_jpg.rf.5f41bfddd8cc25e6aa2055da16a1302d.jpg\n",
            "│   │   │   test_40474_jpg.rf.6b109db4d397e51cdb09af4f8c60f21b.jpg\n",
            "│   │   │   train_40490_jpg.rf.d1c99b1ea71b946fbaef693b7931243e.jpg\n",
            "│   │   │   train_40716_jpg.rf.868830c9a76532de7440edc879fcff37.jpg\n",
            "│   │   │   train_40764_jpg.rf.cfcff2a9bee53d2af22b5f989b1c1ac9.jpg\n",
            "│   │   │   train_40806_jpg.rf.50e9cfba788d4f16a3eb66a1442fe6ef.jpg\n",
            "│   │   │   train_40836_jpg.rf.1ee3ed3a8b569415f071655ff76b4872.jpg\n",
            "│   │   │   train_40303_jpg.rf.7edba50b3fad8e2d6e3290f0e35ecf98.jpg\n",
            "│   │   │   test_40037_jpg.rf.04c20d0461fec17449825da36ede0c50.jpg\n",
            "│   │   │   test_40790_jpg.rf.7ebcd9b71b8c49081a4167adab2fdf8e.jpg\n",
            "│   │   │   test_40921_jpg.rf.51abc125101d6fd6a0a28b05aa6262b2.jpg\n",
            "│   │   │   test_40827_jpg.rf.de06440c6e6d82c44255b066b62b5cd8.jpg\n",
            "│   │   │   train_40911_jpg.rf.28c9fd954ff6af712f4d964106389c31.jpg\n",
            "│   │   │   train_40597_jpg.rf.69296ad99287e43c921a5a61db909ca5.jpg\n",
            "│   │   │   val_40529_jpg.rf.8d692e243224724ae6ba1700c7be7f87.jpg\n",
            "│   │   │   test_40342_jpg.rf.d09ea4c502159d441da85349a10fa5a7.jpg\n",
            "│   │   │   train_40335_jpg.rf.6866225243cedff38311517a6809b962.jpg\n",
            "│   │   │   train_40731_jpg.rf.2898056abb426a772a2d5908e0f99c89.jpg\n",
            "│   │   │   train_40457_jpg.rf.0c8126e2babe19e5e455ca24a9554a97.jpg\n",
            "│   │   │   train_40521_jpg.rf.9f09de2c150c46f259f183af96ca4ba2.jpg\n",
            "│   │   │   train_40580_jpg.rf.4a67d1893d880572a3ecbe0cf3f0411a.jpg\n",
            "│   │   │   test_40321_jpg.rf.ad03572d3d45cbf5cd64c50387a6a08c.jpg\n",
            "│   │   │   val_40736_jpg.rf.898d475abd29a40d1918d4c1679a7523.jpg\n",
            "│   │   │   train_40274_jpg.rf.46a423a9d537d027566772f6c1d57237.jpg\n",
            "│   │   │   train_40547_jpg.rf.b015aa39c4f2fab02d5e5492ec6815a0.jpg\n",
            "│   │   │   train_40989_jpg.rf.16034634691b3f8d8493900ec14059a9.jpg\n",
            "│   │   │   train_40918_jpg.rf.4c683687010059f0468e7d6f4f4f49ef.jpg\n",
            "│   │   │   train_40738_jpg.rf.50bfbe7776d694f8ec4352074a8a31fd.jpg\n",
            "│   │   │   train_40944_jpg.rf.336bb4d0bc14932b01448a4b0e5f46f8.jpg\n",
            "│   │   │   train_40285_jpg.rf.4b29e942f238b792b996de554a5eb28b.jpg\n",
            "│   │   │   train_40689_jpg.rf.7e7bec71059cc888eac05c8967566904.jpg\n",
            "│   │   │   test_40630_jpg.rf.10f8eb26115a4f028e58385c95a8b1fe.jpg\n",
            "│   │   │   train_40384_jpg.rf.1490be2af9034b60e5069dfbff736bca.jpg\n",
            "│   │   │   test_40508_jpg.rf.91a6e2171d466b29e5adfb06f7a8494f.jpg\n",
            "│   │   │   train_40706_jpg.rf.1e8dd572ab64850656eedc5ff3754c23.jpg\n",
            "│   │   │   test_40617_jpg.rf.e758d2a55e6a858c59ed8ad97a113892.jpg\n",
            "│   │   │   val_40777_jpg.rf.ec3bdf37b218a247f906ecd2c5fc10f2.jpg\n",
            "│   │   │   val_40477_jpg.rf.4c6c5f5edbfb473fd552d2913fb69b19.jpg\n",
            "│   │   │   train_40897_jpg.rf.53c59720493c49498d5e80a76d9f0390.jpg\n",
            "│   │   │   train_40557_jpg.rf.3d20e6b3691a301d2cb96faca60e0f97.jpg\n",
            "│   │   │   test_40688_jpg.rf.b211298748fb2a70442d996f3387302a.jpg\n",
            "│   │   │   train_40939_jpg.rf.28b4383ac901e5bb661150f110518a3b.jpg\n",
            "│   │   │   train_40874_jpg.rf.ab0bb3b7ef2a67a3182bd82c90b9d2e3.jpg\n",
            "│   │   │   test_40739_jpg.rf.6a88325f3fbd5750adf1e38bf770660e.jpg\n",
            "│   │   │   test_40885_jpg.rf.10264d240ae1178fd923948e97b9dc2e.jpg\n",
            "│   │   │   test_40223_jpg.rf.8fa3aed0864ea2f945656994bfa13ba5.jpg\n",
            "│   │   │   test_40344_jpg.rf.c2882ab1d590d7846624fb766f5261de.jpg\n",
            "│   │   │   test_40927_jpg.rf.78102ebfce303ff8288ef9de3ace11d3.jpg\n",
            "│   │   │   train_40569_jpg.rf.4cbb702c94132e6d82bac145e6e9ce33.jpg\n",
            "│   │   │   val_40779_jpg.rf.f8c928ef5c3ba886fbaa7882336ac14e.jpg\n",
            "│   │   │   test_40786_jpg.rf.96d5888daddb1ea6817dc6f16b4da5a1.jpg\n",
            "│   │   │   test_40638_jpg.rf.bd6e70cb33c65f9f457bfdc86f5ab752.jpg\n",
            "│   │   │   train_41015_jpg.rf.8d6ee31f8fe80d9f4b2ca8bc02630563.jpg\n",
            "│   │   │   test_40556_jpg.rf.cbb628965504b14238d5ff75b5b4ab81.jpg\n",
            "│   │   │   train_40851_jpg.rf.631408284479187caa901ccd2c0c82b6.jpg\n",
            "│   │   │   train_40407_jpg.rf.48335f588f230663499c7049d04e46a7.jpg\n",
            "│   │   │   train_40310_jpg.rf.8d79a95beb8e8a25226a8320439b5d57.jpg\n",
            "│   │   │   train_40631_jpg.rf.c703bb226fad9ce260f4fbf029a19c8c.jpg\n",
            "│   │   │   train_40941_jpg.rf.8bf731ca947750433f2d99336345489b.jpg\n",
            "│   │   │   train_40245_jpg.rf.0f6d8086d444b009cac702600fbd1763.jpg\n",
            "│   │   │   test_40475_jpg.rf.6bc4a7c7f512aade7d6ed2f6dfcaeefd.jpg\n",
            "│   │   │   test_40808_jpg.rf.bf68c1146a1a917bda5d36cd5f32d10b.jpg\n",
            "│   │   │   train_40784_jpg.rf.2e795c1245c5458595d7d67774b35c85.jpg\n",
            "│   │   │   train_40211_jpg.rf.642ccf44709b20f85fe0b5cbcb5bb553.jpg\n",
            "│   │   │   train_40928_jpg.rf.cc6ec0ef1cb52006fd3231b897752ecb.jpg\n",
            "│   │   │   train_40775_jpg.rf.43fd85c0d57ffc979bd7d8db939f3770.jpg\n",
            "│   │   │   test_40995_jpg.rf.b23b8fa3580554506a27135d41325933.jpg\n",
            "│   │   │   test_40323_jpg.rf.72f4e0428c789bf07a758a432c704d80.jpg\n",
            "│   │   │   train_41032_jpg.rf.c5b5b627e3edc085193c7437a3095b49.jpg\n",
            "│   │   │   train_40583_jpg.rf.3a53f66c0c6c1dcc04eed7f1cbbe4187.jpg\n",
            "│   │   │   test_40576_jpg.rf.38f12eeb7ffb8efcc887c8f9b4b1dc02.jpg\n",
            "│   │   │   train_40846_jpg.rf.2319d6b0970d55a5170525e484be83f8.jpg\n",
            "│   │   │   test_40782_jpg.rf.e491428e5ef029c9d7c66ef9fd87a562.jpg\n",
            "│   │   │   train_40297_jpg.rf.0ad4d6b6808c47f5d02a5be497a14819.jpg\n",
            "│   │   │   train_40513_jpg.rf.399dd45c5831251883b1905c65cbdc3c.jpg\n",
            "│   │   │   test_40296_jpg.rf.b01c9adb9a19575909e028ab5b467055.jpg\n",
            "│   │   │   train_40954_jpg.rf.5aea409bbbcbf89216ce60c84be3b0c5.jpg\n",
            "│   │   │   test_40669_jpg.rf.5a63b7b9df0141a59ae7db7cfe5b16c9.jpg\n",
            "│   │   │   test_40861_jpg.rf.53c77be2be1be2da9593ab200a330f2d.jpg\n",
            "│   │   │   train_40865_jpg.rf.1a566bf73907fe9d7957a27774c73b2b.jpg\n",
            "│   │   │   train_41000_jpg.rf.440a7ddd9881b537175c30c28fd64d27.jpg\n",
            "│   │   │   train_40441_jpg.rf.836e0242cefeb72b476a8e4225e00a46.jpg\n",
            "│   │   │   test_40306_jpg.rf.26c34d82c76210d1f68fd51044f17bcd.jpg\n",
            "│   │   │   test_40541_jpg.rf.dc4f95caeb0e2a95d149b3829e7d456c.jpg\n",
            "│   │   │   train_40999_jpg.rf.e1971b7581bb124cfab7f1889e6dd855.jpg\n",
            "│   │   │   train_40270_jpg.rf.876c612835aa81f7a8e47df3c76dd53f.jpg\n",
            "│   │   │   train_40980_jpg.rf.5ae40edc59d82d93f6302fa326d8e167.jpg\n",
            "│   │   │   test_40523_jpg.rf.d3c6bfdcc39e8163e76ef250fa1008cb.jpg\n",
            "│   │   │   val_40931_jpg.rf.cca62d2382a722bdb445be3c83ab3527.jpg\n",
            "│   │   │   test_40197_jpg.rf.e441f693da32d5c1d78657c0bd56e1f2.jpg\n",
            "│   │   │   test_40553_jpg.rf.def0e9ea49356b01549cb6abcecdcb3b.jpg\n",
            "│   │   │   train_40522_jpg.rf.ac1c2715a1df3317949660d6b7bd3d39.jpg\n",
            "│   │   │   train_40707_jpg.rf.2a2169f1b346fe4c88d70f227558807d.jpg\n",
            "│   │   │   train_40392_jpg.rf.15904a00f6ff770d7a5e0f39e1f78727.jpg\n",
            "│   │   │   val_40725_jpg.rf.6528151a98ef4fb725a785e0baa39b83.jpg\n",
            "│   │   │   train_40536_jpg.rf.2f36563cb7bbb3f3133e9255772c0393.jpg\n",
            "│   │   │   test_40430_jpg.rf.76230b522b439e1cc2a9621b482f0743.jpg\n",
            "│   │   │   val_40947_jpg.rf.d9f0b56edfac530f20e94c26665af3e0.jpg\n",
            "│   │   │   test_40341_jpg.rf.c903fff8dea339eb5e71d826e5440d70.jpg\n",
            "│   │   │   val_40282_jpg.rf.608d80158dbc5e174934edfb803beff3.jpg\n",
            "│   │   │   train_40374_jpg.rf.590718afae2d73354a609332cf534aaa.jpg\n",
            "│   │   │   train_40824_jpg.rf.408d92a38fe58e02b5bd78b48bc6c374.jpg\n",
            "│   │   │   train_41025_jpg.rf.f4ab4ced48fcf51f8695c7abe51cd3fa.jpg\n",
            "│   │   │   train_40747_jpg.rf.4b7338bde85fafa2c76f7735a06f8c19.jpg\n",
            "│   │   │   val_40768_jpg.rf.11da27612c695722da3906bbe78b2237.jpg\n",
            "│   │   │   test_40687_jpg.rf.e576638b9338a4e852f55c75baeaec1c.jpg\n",
            "│   │   │   train_40696_jpg.rf.0348ca130b41b13af1a54662e7846e8b.jpg\n",
            "│   │   │   train_40613_jpg.rf.f9c492a256dbeda4b42a41daa239d508.jpg\n",
            "│   │   │   train_40524_jpg.rf.0df2b10ef52af92196289024e54ef810.jpg\n",
            "│   │   │   train_40309_jpg.rf.fae7f0554c2e350ff21aaef233ccab40.jpg\n",
            "│   │   │   train_40795_jpg.rf.8270bbebe35ea5378b0a182781664b15.jpg\n",
            "│   │   │   val_40579_jpg.rf.9df3d19f5375f863dc1bd6a678335539.jpg\n",
            "│   │   │   train_40807_jpg.rf.8c2a62d462aa92d8ea119a682f4fbd84.jpg\n",
            "│   │   │   train_40227_jpg.rf.3e10b883ff05b34b7960f4672744c39b.jpg\n",
            "│   │   │   train_40960_jpg.rf.3defdbc0e2afd03b6532e8defb8a2646.jpg\n",
            "│   │   │   test_40512_jpg.rf.2c64d5805f4f73e7998039945b548441.jpg\n",
            "│   │   │   train_40837_jpg.rf.255606fd65770fa0b655726aa8859472.jpg\n",
            "│   │   │   val_40796_jpg.rf.9c04fdabf9036c64a87966e2aefa09e0.jpg\n",
            "│   │   │   test_40935_jpg.rf.0bdef0abee6f46dbd84aba82d8eb3dce.jpg\n",
            "│   │   │   test_40293_jpg.rf.39996317fb5c977ff4e5bc68f89527d9.jpg\n",
            "│   │   │   train_40193_jpg.rf.f5c604b2b37c44739b258333ab29f194.jpg\n",
            "│   │   │   train_40660_jpg.rf.fd20414bf439b26bd7032b99e3465a2e.jpg\n",
            "│   │   │   train_40502_jpg.rf.dcfe598d3de98f80c437ac64e87b6362.jpg\n",
            "│   │   │   val_40413_jpg.rf.a7e7bfad7167f7019cc252eeead0a8d4.jpg\n",
            "│   │   │   val_40595_jpg.rf.76c2aeefa9dec0ede40e59e69ae348ba.jpg\n",
            "│   │   │   train_40937_jpg.rf.6237d445218da71ef51b55a9f6a3fcc9.jpg\n",
            "│   │   │   train_40697_jpg.rf.3578a23899ca2b286c236fb5a908f89c.jpg\n",
            "│   │   │   test_40934_jpg.rf.7a6b5a328cdd08ec202ec7817d78ccc1.jpg\n",
            "│   │   │   train_40373_jpg.rf.611e98dd91b2fd8f029f441a31e8abbb.jpg\n",
            "│   │   │   train_40959_jpg.rf.a05c3c445316bbd7f3cf47b0e176fda8.jpg\n",
            "│   │   │   train_40982_jpg.rf.31ed3ce1189a61143890b6bfb4c8cd07.jpg\n",
            "│   │   │   train_40246_jpg.rf.f6c748f08dc51b59725efa31ea8d4916.jpg\n",
            "│   │   │   test_40347_jpg.rf.1028f60bf5bec21316f82f1bbfd68547.jpg\n",
            "│   │   │   test_40217_jpg.rf.f3239cb0185a17918be274ef189c730c.jpg\n",
            "│   │   │   train_40643_jpg.rf.acde6c058c1ca52c182122286937250c.jpg\n",
            "│   │   │   test_40905_jpg.rf.d7b164b29ae56c43407cc4569d53bc5c.jpg\n",
            "│   │   │   test_40758_jpg.rf.5e987546c2a4f3a233c3e70f8fa34dc2.jpg\n",
            "│   │   │   train_40518_jpg.rf.8e60e1d911ed08ee4072d13a12ac81fb.jpg\n",
            "│   │   │   test_40953_jpg.rf.e094c21e2c54487dff3e44e85896625a.jpg\n",
            "│   │   │   test_40567_jpg.rf.ee2ebf256193dbfaf652c57098d736a9.jpg\n",
            "│   │   │   train_40828_jpg.rf.00248c2f59da6720fd571729d137a257.jpg\n",
            "│   │   │   train_40277_jpg.rf.2135c5f9676b247d7ace4236adb252fd.jpg\n",
            "│   │   │   train_40411_jpg.rf.cd116bbb843338de264266672f8aef6f.jpg\n",
            "│   │   │   val_40292_jpg.rf.38661a0eb42f2be5e75d2a200a91bc2a.jpg\n",
            "│   │   │   train_40445_jpg.rf.3dee05c8399652843ead5b82eb1bfbc2.jpg\n",
            "│   │   │   train_40678_jpg.rf.4aa3c7651f45bede2d20ed03fa8a905b.jpg\n",
            "│   │   │   train_40659_jpg.rf.61d3f7178ba6c844b8f4f4529461fd35.jpg\n",
            "│   │   │   train_40489_jpg.rf.5ad390b44f32e89c0c4c2cbfd2ff4e86.jpg\n",
            "│   │   │   test_40382_jpg.rf.68b273c81fada3cf6f0d589c8e10d12a.jpg\n",
            "│   │   │   train_40733_jpg.rf.7049feed1a6df44edb8c9b1a81bcde75.jpg\n",
            "│   │   │   train_40964_jpg.rf.69a1b4386b01c6b7902cea15fa1e1deb.jpg\n",
            "│   │   │   val_40616_jpg.rf.02c05988ca7ae694abda0011b313f7fa.jpg\n",
            "│   │   │   train_40708_jpg.rf.6bf6aaf39c4dba15ec5d1669c3eba110.jpg\n",
            "│   │   │   test_40535_jpg.rf.2726ec9ae848ae2f63bfba197628a554.jpg\n",
            "│   │   │   train_40549_jpg.rf.eb842d1e389a1e84772fa44b1a97f996.jpg\n",
            "│   │   │   test_40298_jpg.rf.4e831ff15ef9a909badccd8aef90bf08.jpg\n",
            "│   │   │   train_40507_jpg.rf.eb94fc43dd46b4e2111a3edf4813c2a9.jpg\n",
            "│   │   │   train_40416_jpg.rf.fa49aa3e7e8aecce9c305391c5cbbf98.jpg\n",
            "│   │   │   test_40952_jpg.rf.99a89ac22310fb07fa8fec976bd30475.jpg\n",
            "│   │   │   test_40336_jpg.rf.3c249d512846030ba208f6eece9baf10.jpg\n",
            "│   │   │   train_40615_jpg.rf.4b046cd5a3d5e4e0e7859600076905e2.jpg\n",
            "│   │   │   train_40742_jpg.rf.086e0be542ae4e5ff6a729cd92e1c62f.jpg\n",
            "│   │   │   train_40241_jpg.rf.133a05a53d712331c43cc572efeeff0c.jpg\n",
            "│   │   │   test_40216_jpg.rf.1b3d0824dd302267d5dab7e07d32d058.jpg\n",
            "│   │   │   val_40572_jpg.rf.c56bd5d6f8010e49cf9615c080503aed.jpg\n",
            "│   │   │   test_40314_jpg.rf.033447b1cf323a97bc41801c0ed3a35a.jpg\n",
            "│   │   │   train_40881_jpg.rf.63a4627f0b91b10e6bd2f4841b791c53.jpg\n",
            "│   │   │   test_40848_jpg.rf.07ecf8d2fccf12243090e1649a6346c3.jpg\n",
            "│   │   │   train_40644_jpg.rf.984bfd48740829149a4e39b4dce0fedf.jpg\n",
            "│   │   │   train_40880_jpg.rf.3772189cf567aac12de4d7be57108245.jpg\n",
            "│   │   │   train_40354_jpg.rf.4a7ea340553850e4503b7baeee3ebba2.jpg\n",
            "│   │   │   val_40484_jpg.rf.ae87c4261c1cc08b467b437d682cac82.jpg\n",
            "│   │   │   train_40674_jpg.rf.066b9e176de4031a39f1a487a6eee08a.jpg\n",
            "│   │   │   test_40893_jpg.rf.68c1bb59243ba585e512204632ac9e67.jpg\n",
            "│   │   │   val_40981_jpg.rf.a88c2756ab85518ab2680fae24996796.jpg\n",
            "│   │   │   train_40560_jpg.rf.31d390073fd6e735355d4514a4d19a75.jpg\n",
            "│   │   │   train_40823_jpg.rf.a7de87bcd9bdcf131fcbd92f83b0cb25.jpg\n",
            "│   │   │   train_40349_jpg.rf.f3dea27de3dd6e2bc62a8376055c6187.jpg\n",
            "│   │   │   train_40598_jpg.rf.02336a9cc7812acfc9ec10b77867bd46.jpg\n",
            "│   │   │   test_40909_jpg.rf.cdc56970b53bf2a8503f66c21638d47d.jpg\n",
            "│   │   │   train_40458_jpg.rf.a54be62a49bfbd62af3497b6a2ec8b9a.jpg\n",
            "│   │   │   train_40750_jpg.rf.3d2fa4a62400a5335cac794e1d216116.jpg\n",
            "│   │   │   train_40681_jpg.rf.a3e54a8f01bf08dd6673f353969e7e2d.jpg\n",
            "│   │   │   val_40629_jpg.rf.a4cf4c5fc1a14888e8b7a0b6ab70838f.jpg\n",
            "│   │   │   train_40757_jpg.rf.947bbf4f767721e3205a54898b1f3d95.jpg\n",
            "│   │   │   val_40408_jpg.rf.7bc471c3d19f5261b0f27e5e959db197.jpg\n",
            "│   │   │   train_40578_jpg.rf.6ce4f41dccc9bcf1bfe58eef9f049a69.jpg\n",
            "│   │   │   train_40691_jpg.rf.3a3b80495abd0460ccf9d79493c020b8.jpg\n",
            "│   │   │   train_40917_jpg.rf.0eef395191b940fbaf68bc0b547df09d.jpg\n",
            "│   │   │   train_40501_jpg.rf.0e4ac3f5543f9751ae59572bd529bedf.jpg\n",
            "│   │   │   train_40438_jpg.rf.8793e6f9cb86ae031ac4a85cebad43cf.jpg\n",
            "│   │   │   train_40208_jpg.rf.6d32634ab9c200790f489cd07fd373e5.jpg\n",
            "│   │   │   test_40233_jpg.rf.f5c5e7bcfc691304a52e109c44f914f6.jpg\n",
            "│   │   │   train_40890_jpg.rf.41e9d4a303ab1afcf6eb8a2f6d4af981.jpg\n",
            "│   │   │   train_40902_jpg.rf.9214ca4f054b7fdda8cf584b95ced857.jpg\n",
            "│   │   │   val_40743_jpg.rf.a14322a6d1391756dfe9b9fd27931198.jpg\n",
            "│   │   │   test_41026_jpg.rf.58a7b1881c8b6e329196d3b73109cfec.jpg\n",
            "│   │   │   train_40460_jpg.rf.138c1ada0095271d323f29111b077bd1.jpg\n",
            "│   │   │   train_40405_jpg.rf.3586df93184b8150ad163305302220e2.jpg\n",
            "│   │   │   test_40618_jpg.rf.eb30c1fc299ddf6a3dad92be65426e2b.jpg\n",
            "│   │   │   train_40780_jpg.rf.7d6d95062092f86b74d4a0b10fc92b30.jpg\n",
            "│   │   │   test_40625_jpg.rf.6d10df9fe43f658dd431e631ac9d5bef.jpg\n",
            "│   │   │   train_40766_jpg.rf.fd3b39830e315bf70b4f976696e3b92b.jpg\n",
            "│   │   │   val_40792_jpg.rf.24bd85a26d242ae6298defa3d3213923.jpg\n",
            "│   │   │   train_40496_jpg.rf.74f0a2eeffa99c9a2fe540f00ad79a9a.jpg\n",
            "│   │   │   train_40554_jpg.rf.52429cfd8104fa85ebffba5c0cd0b95c.jpg\n",
            "│   │   │   train_40244_jpg.rf.01a49fe4fb6225a95449e0add0d2ec8e.jpg\n",
            "│   │   │   test_40727_jpg.rf.99a8b080929e2f6e8d25bc49707522d2.jpg\n",
            "│   │   │   test_40985_jpg.rf.e6386a8a218b05f7a8b380c7817b6549.jpg\n",
            "│   │   │   val_40218_jpg.rf.7e671228f56cedbcb6508507d7657fa4.jpg\n",
            "│   │   │   test_40818_jpg.rf.dc14a1378cb9e19ddf461bf9be70aab2.jpg\n",
            "│   │   │   train_40811_jpg.rf.8652cdbe534b11c1249bd10ad4bd2dd7.jpg\n",
            "│   │   │   train_41029_jpg.rf.6d082e1a3ffb313c86e70f43e76a4a3a.jpg\n",
            "│   │   │   train_40368_jpg.rf.9820388de0064c37446ccd9b85a5e17c.jpg\n",
            "│   │   │   train_40419_jpg.rf.d4de6eb4a6b068610bfebdd01a6a0578.jpg\n",
            "│   │   │   test_40746_jpg.rf.173b679b4bc682baf7c84298df05e01d.jpg\n",
            "│   │   │   val_40431_jpg.rf.a003960d0712fc85df8335ff8f06cdad.jpg\n",
            "│   │   │   train_40256_jpg.rf.686bb213844ffc8c69b595bc6dd4168d.jpg\n",
            "│   │   │   train_40511_jpg.rf.5bc2f35314d41b598d38eef0454dd4de.jpg\n",
            "│   │   │   train_40683_jpg.rf.d2916e5160e43d569cf468a2e5a4fb72.jpg\n",
            "│   │   │   train_40840_jpg.rf.8b99575c8fcee522b870f5e91eeb1058.jpg\n",
            "│   │   │   train_40763_jpg.rf.d3154dd7074482e92e26dd03e7455795.jpg\n",
            "│   │   │   train_40604_jpg.rf.ca8362cfee809d2c5fed7f0c7a51a219.jpg\n",
            "│   │   │   val_40859_jpg.rf.1309e25e449e3161312305e1d14271ba.jpg\n",
            "│   │   │   test_40600_jpg.rf.1bd55212c1424aab00f4dd69d1791635.jpg\n",
            "│   │   │   val_40677_jpg.rf.47dfc295146cfe87b0ccb3c38d271011.jpg\n",
            "│   │   │   train_40345_jpg.rf.013734c1d5c197c811d0765095bbb434.jpg\n",
            "│   │   │   train_40400_jpg.rf.88c81ea1d2646fda25cc7684b45a2fa4.jpg\n",
            "│   │   │   train_40915_jpg.rf.bf4514c2e600c565e76916bca04eb4dc.jpg\n",
            "│   │   │   train_40694_jpg.rf.d55c698558a94e3b35005bc28f4a5871.jpg\n",
            "│   │   │   train_40654_jpg.rf.4a1f0ffd5a63941755e67c4c6f247177.jpg\n",
            "│   │   │   train_40592_jpg.rf.4d20403f0b0b996e0c64858e1d62338e.jpg\n",
            "│   │   │   train_40975_jpg.rf.7a6e77c8385976615f3f9c76fcec3035.jpg\n",
            "│   │   │   train_40670_jpg.rf.f5e81dc10255e7fd8c4116669cf57c7b.jpg\n",
            "│   │   │   train_40867_jpg.rf.86e21e876919a82bff6437d19bb88038.jpg\n",
            "│   │   │   test_40574_jpg.rf.b96f0f617800cb57505b6d02f3648bfc.jpg\n",
            "│   │   │   train_40343_jpg.rf.5789bf277c1b5d6271bd183ac2f01f3a.jpg\n",
            "│   │   │   test_40991_jpg.rf.b6072ff521bc3b0df24e53ecabc39588.jpg\n",
            "│   │   │   test_40626_jpg.rf.234cf36e699f5cb726075ae218d7878f.jpg\n",
            "│   │   │   test_40652_jpg.rf.971870c648ca7bd97a200a0664971fdd.jpg\n",
            "│   │   │   train_40453_jpg.rf.7a0e15e904139210dac71f9a37996623.jpg\n",
            "│   │   │   test_40319_jpg.rf.c4b16b35878ebd917a85cf7ff5f53084.jpg\n",
            "│   │   │   train_40926_jpg.rf.2d4b37ccdaa8a00ef1ae29f82f30f07b.jpg\n",
            "│   │   │   test_40327_jpg.rf.2550ff94cd392f9b279778f2d7343fd1.jpg\n",
            "│   │   │   test_40599_jpg.rf.afffeecb0b3c2cd9404568be496d7b2f.jpg\n",
            "│   │   │   train_40900_jpg.rf.ffd2eeba8c604a54038ee8004d479172.jpg\n",
            "│   │   │   val_40619_jpg.rf.f494e99f687ab35786b89a2277b154b8.jpg\n",
            "│   │   │   train_40620_jpg.rf.5028f92d869dc5526785030c6e0514c6.jpg\n",
            "│   │   │   test_40844_jpg.rf.ae3bbe70c3bda9bbbc888cdf1d14ff10.jpg\n",
            "│   │   │   train_40866_jpg.rf.e6b0d73484bb70a1117c0cea5f0ef952.jpg\n",
            "│   │   │   train_40606_jpg.rf.a977991f5fafde2f26c30beccd58fc5d.jpg\n",
            "│   │   │   train_40469_jpg.rf.cfa9e31c28977b3c302a3c72d7159faf.jpg\n",
            "│   │   │   val_40612_jpg.rf.dec123da385b7b80297f7ca5c90d0350.jpg\n",
            "│   │   │   test_41009_jpg.rf.d17a71eda10b0eccb3286254f0136983.jpg\n",
            "│   │   │   train_40901_jpg.rf.c5afac33b2ebda15212844703c788649.jpg\n",
            "│   │   │   test_40714_jpg.rf.1a277b7b7cd0c6c72c4974b7040b9c9a.jpg\n",
            "│   │   │   test_40338_jpg.rf.e44df6548bea001084fa9550f44aff09.jpg\n",
            "│   │   │   val_41018_jpg.rf.f0725caccce59c76fbe4989bee94ee81.jpg\n",
            "│   │   │   train_40370_jpg.rf.95e7d9a7e3d2abb7d0a737dc5c4f8fab.jpg\n",
            "│   │   │   test_40236_jpg.rf.911d406dcf4a0539f828822bf03bf497.jpg\n",
            "│   │   │   train_40301_jpg.rf.b5da5af33ad13cdd27a1f9c3d07f48e5.jpg\n",
            "│   │   │   train_40899_jpg.rf.03f7b1f922806f6da0fbb971ab7e1c11.jpg\n",
            "│   │   │   train_40860_jpg.rf.311474fd112914fd1a232967fb945518.jpg\n",
            "│   │   │   train_40993_jpg.rf.9e3b7a9428759ec82d56be6772991947.jpg\n",
            "│   │   │   test_40423_jpg.rf.d96781661dfb680d9a10d260cbde1258.jpg\n",
            "│   │   │   train_40498_jpg.rf.a5e43c3b4710a0aa13d36c65d563930e.jpg\n",
            "│   │   │   test_40503_jpg.rf.ab9be252dd1e8a0fdf27faf6406feda0.jpg\n",
            "│   │   │   train_40544_jpg.rf.a350a3e9393b2db22dd5a134b11fd30b.jpg\n",
            "│   │   │   train_40471_jpg.rf.8e355b16e393493999168265a110f0ce.jpg\n",
            "│   │   │   train_40533_jpg.rf.a4bb4289e221e7232e3b409a5d129fb6.jpg\n",
            "│   │   │   train_40749_jpg.rf.01045aae65eec6fd5c10f4f291bc2d70.jpg\n",
            "│   │   │   train_40465_jpg.rf.c72a25c1c7158296243b9d2b4b9f2582.jpg\n",
            "│   │   │   test_40432_jpg.rf.b21b903239f61eef3a8904cfe7abe530.jpg\n",
            "│   │   │   test_41034_jpg.rf.b226e24fa529eb2419230747fa85e6ff.jpg\n",
            "│   │   │   train_40261_jpg.rf.cbe4d9637302838609495624b81a5764.jpg\n",
            "│   │   │   train_41031_jpg.rf.535b7b8f2e0d3bdfe5e940fa6b282e18.jpg\n",
            "│   │   │   val_40351_jpg.rf.dc88c6b58b7343347a53749b98cbea13.jpg\n",
            "│   │   │   test_40378_jpg.rf.e14e8590bbf35479703760ee47fdf246.jpg\n",
            "│   │   │   val_40645_jpg.rf.0844d176f09d3793884ad9e5aec8c2a8.jpg\n",
            "│   │   │   val_40718_jpg.rf.695220683088d41d2a0be841d60af98c.jpg\n",
            "│   │   │   train_40452_jpg.rf.1abcc095b15bf637616e8e5f672b8b0f.jpg\n",
            "│   │   │   train_40210_jpg.rf.da1da38a6b700e660a08589b12534ba5.jpg\n",
            "│   │   │   val_40559_jpg.rf.9db76b3f4084d7fbe80031a3dc0c409f.jpg\n",
            "│   │   │   train_40505_jpg.rf.06549af43dfa5f302f8c036718dc7db0.jpg\n",
            "│   │   │   train_40658_jpg.rf.0e4fdbc05fb558bbfdfabe97f72a7e84.jpg\n",
            "│   │   │   train_40209_jpg.rf.387f99bf419e50d921d296843469fd9b.jpg\n",
            "│   │   │   val_40279_jpg.rf.c818292867369bef150a12ce5ba07b5e.jpg\n",
            "│   │   │   train_40425_jpg.rf.83affe9bc6cdd5f59605d1c2a04961db.jpg\n",
            "│   │   │   val_40273_jpg.rf.bae7e7a26899882e6804e83bbfd1f864.jpg\n",
            "│   │   │   test_40311_jpg.rf.9cceda2d9cab91ef34e701e0fe7b7027.jpg\n",
            "│   │   │   test_40984_jpg.rf.46e76fbe6022e32e6c46f7cba0cf9566.jpg\n",
            "│   │   │   train_40759_jpg.rf.9b34e67bbba6d1c47f773a5a9e0c4f97.jpg\n",
            "│   │   │   test_40548_jpg.rf.775377a6b8674216126cab01a184bd8d.jpg\n",
            "│   │   │   val_40666_jpg.rf.24e3d2cf9b1a7bf2430867be23d6d591.jpg\n",
            "│   │   │   val_40690_jpg.rf.2bc69f57fccdee34aba2d5695c585541.jpg\n",
            "│   │   │   train_40287_jpg.rf.637fbc5a9e6f0c717a27b8f087471e87.jpg\n",
            "│   │   │   val_40390_jpg.rf.5b486a338a2bcc3ff6790bfb096fbe13.jpg\n",
            "│   │   │   train_40904_jpg.rf.b9486be6a5aacd85f85ffbf09bd96899.jpg\n",
            "│   │   │   test_40230_jpg.rf.91497e5cb8e294f1b12bc54fac8abfea.jpg\n",
            "│   │   │   train_40376_jpg.rf.1c220be17f22c9461156ef65d43bdc51.jpg\n",
            "│   │   │   test_40213_jpg.rf.79ca81992547c6a4aed4daa132a40b78.jpg\n",
            "│   │   │   train_40272_jpg.rf.75009b8d0973e1d4902355626340ed52.jpg\n",
            "│   │   │   train_40289_jpg.rf.ab00e18fc7496ebfd5fd5a18593f129a.jpg\n",
            "│   │   │   train_40968_jpg.rf.1ae9d906986010c757bc76ac1fcfadcd.jpg\n",
            "│   │   │   train_40247_jpg.rf.31ab55a1486f658d0335772cc52a5ec5.jpg\n",
            "│   │   │   test_40365_jpg.rf.89e03720489d115ade81881fedc569e5.jpg\n",
            "│   │   │   train_40454_jpg.rf.f4338edba43fdaf771bb9bfbb646ee71.jpg\n",
            "│   │   │   test_40854_jpg.rf.ba7b8959d5242ae997658df401cca890.jpg\n",
            "│   │   │   val_40198_jpg.rf.bd83d5a602464e39788e0cd88119a246.jpg\n",
            "│   │   │   train_40372_jpg.rf.e5d84b67c6ff0744d43b2b32bdb5efe2.jpg\n",
            "│   │   │   train_40414_jpg.rf.dcb8cf381eb9746a4643a687b71bc42f.jpg\n",
            "│   │   │   test_40326_jpg.rf.805ca554e2e4ce917cb987d8f48aa529.jpg\n",
            "│   │   │   test_40704_jpg.rf.2d1d57a259878cf748898ebc613c7c76.jpg\n",
            "│   │   │   train_40333_jpg.rf.a28d599404218dad647f364e1a687595.jpg\n",
            "│   │   │   test_40137_jpg.rf.42e2ac8c6552f168fee8a51463c88ab7.jpg\n",
            "│   │   │   test_40565_jpg.rf.e681c3da9fe248954fb5d5adecf3ea4e.jpg\n",
            "│   │   │   test_40845_jpg.rf.a78b65a0baa41f0cedaeb99ea5be29ca.jpg\n",
            "│   │   │   val_41024_jpg.rf.2649751130e8c66879e0fd1493d363e2.jpg\n",
            "│   │   │   train_40459_jpg.rf.73efe8c5f2883a8de3953a2ddcfae8d9.jpg\n",
            "│   │   │   train_40361_jpg.rf.5dd180dd2c53dbc8cb3ecb351196218a.jpg\n",
            "│   │   │   train_40318_jpg.rf.07936e10f3978cd40872d5a0a91da115.jpg\n",
            "│   │   │   val_40478_jpg.rf.7e12156700e509da0a18302ee5035cd0.jpg\n",
            "│   │   │   train_40328_jpg.rf.d8e679331478440a1d084b9d21d52893.jpg\n",
            "│   │   │   test_40976_jpg.rf.59726907d2c86b6b193b9abe95c55962.jpg\n",
            "│   │   │   train_40194_jpg.rf.823e81c0e57b73b661c2a60ab903c04e.jpg\n",
            "│   │   │   test_40470_jpg.rf.aaae5c3a261ad11fb2616e4cc6c10700.jpg\n",
            "│   │   │   test_40870_jpg.rf.ea973673f365c91d2d1ddc732f68a66c.jpg\n",
            "│   │   │   train_40315_jpg.rf.2cb28410288d4f0a487fd1c6a400eed1.jpg\n",
            "│   │   │   test_40608_jpg.rf.aba817cf0ddcb5addca10dbf00f74373.jpg\n",
            "│   │   │   train_40969_jpg.rf.ce412d072e68aee387ba105769215a19.jpg\n",
            "│   │   │   train_40695_jpg.rf.65cf45b0b9de576f826f9da0245601e4.jpg\n",
            "│   │   │   train_40517_jpg.rf.1ff1e9ecaf4f964f0b0600afef51a68e.jpg\n",
            "│   │   │   train_41028_jpg.rf.2744011a10ee569aba0173a1e11abdbb.jpg\n",
            "│   │   │   train_40248_jpg.rf.ac3213f33208c84f9ff9d9a12ce92f69.jpg\n",
            "│   │   │   train_40424_jpg.rf.12381277b37d26d610ad20b73940614d.jpg\n",
            "│   │   │   train_40664_jpg.rf.5752d7e2e0dcffa4b1b790e6552cd74d.jpg\n",
            "│   │   │   train_40655_jpg.rf.e3323c7badfb23ea3fdb05c2edf02377.jpg\n",
            "│   │   │   test_41001_jpg.rf.06a82a4caf0728b7878d2283d164fc2c.jpg\n",
            "│   │   │   train_40888_jpg.rf.aec4fd43235ef97ae017857b1c9d1168.jpg\n",
            "│   │   │   val_40875_jpg.rf.09bb208267495308d490ea20a1f7dd98.jpg\n",
            "│   │   │   test_40231_jpg.rf.6f92757804e5078189c6b07cae87cdf8.jpg\n",
            "│   │   │   test_40636_jpg.rf.1e58f4bc0bfed37ac0da89ab4885293e.jpg\n",
            "│   │   │   test_40740_jpg.rf.3217a92dc768cfb9b7de2c469fc6c08d.jpg\n",
            "│   │   │   train_40312_jpg.rf.88630bffd7e48913c9e47ea47321a7e3.jpg\n",
            "│   │   │   train_41004_jpg.rf.796459e1ce691cf4ebb667f77b87bdae.jpg\n",
            "│   │   │   train_40317_jpg.rf.c2f2d9e51ab7feb3370647ffbee3fc16.jpg\n",
            "│   │   │   test_40542_jpg.rf.fabb33690ad97b7b67b824e919502754.jpg\n",
            "│   │   │   test_40456_jpg.rf.3dbee310d4bd49f184c16bf75aec5905.jpg\n",
            "│   │   │   train_40504_jpg.rf.15c0fb9a59c0529d66222baed8c5c6d8.jpg\n",
            "│   │   │   test_40712_jpg.rf.c024daf5615231d95351133498a8d5cb.jpg\n",
            "│   │   │   train_41040_jpg.rf.2050dd9473680cd70872211098575b1c.jpg\n",
            "│   │   │   train_40789_jpg.rf.397facb937d6b67236b03c573636bc35.jpg\n",
            "│   │   │   train_40711_jpg.rf.e078f045321677dd21a5d805125f0721.jpg\n",
            "│   │   │   train_40300_jpg.rf.d28881ad0bd941c7448bd357f52e4dfc.jpg\n",
            "│   │   │   train_40266_jpg.rf.d06159b932bf242dcc7390a993611e64.jpg\n",
            "│   │   │   train_40692_jpg.rf.a8046180a993f03366d1c7064205ca8c.jpg\n",
            "│   │   │   train_41019_jpg.rf.893f57783c1b230704f0bf5c4df535a6.jpg\n",
            "│   │   │   test_40673_jpg.rf.ca371b06d1972ebb7ae46cc45688034c.jpg\n",
            "│   │   │   train_40767_jpg.rf.58d1d0614a9603bbf5bd6c268ebf18f7.jpg\n",
            "│   │   │   train_40886_jpg.rf.0bae1e278d4947acaafbb36edf4a3853.jpg\n",
            "│   │   │   train_40646_jpg.rf.aed06bf8c9c2c7779757d424dadf57eb.jpg\n",
            "│   │   │   train_40348_jpg.rf.ef67b55bf78e93c3923df32ca0252af0.jpg\n",
            "│   │   │   train_40930_jpg.rf.f5a1bc618251ff7f34f1ee58c5d6fdca.jpg\n",
            "│   │   │   val_40238_jpg.rf.c0554eb0ed98d51c9013ee7b308b9ee7.jpg\n",
            "│   │   │   test_40914_jpg.rf.2503553b3f69e86abeb893099b5b994e.jpg\n",
            "│   │   │   train_40352_jpg.rf.5b59b4359bff4590073570139b72d560.jpg\n",
            "│   │   │   train_40214_jpg.rf.5adb07f428775c2e06bf2b392ca36eaf.jpg\n",
            "│   │   │   train_40876_jpg.rf.70ea2aaf78ef6dc1e3cf3bb45411d062.jpg\n",
            "│   │   │   test_40868_jpg.rf.4ae9cd9aea9814d242d172d410209cbc.jpg\n",
            "│   │   │   test_40464_jpg.rf.5f5e33a6b06e44f457802c2db082166d.jpg\n",
            "│   │   │   train_40359_jpg.rf.6e07bd839c15babb31bba72b694cdf39.jpg\n",
            "│   │   │   train_40404_jpg.rf.be9011a673b5bcf38f433f07aff852ad.jpg\n",
            "│   │   │   test_40195_jpg.rf.944c254f156fa5281240d3da159a2427.jpg\n",
            "│   │   │   train_40364_jpg.rf.bbf528a948fd352667433b593a8ffe39.jpg\n",
            "│   │   │   test_40103_jpg.rf.c5447193adaa053fec75ff554d97530d.jpg\n",
            "│   │   │   val_40509_jpg.rf.4c91401230e42a49e2ccb9fe6c7bd209.jpg\n",
            "│   │   │   test_40357_jpg.rf.ada3a1a1aeb648838def731b030a61b5.jpg\n",
            "│   │   │   train_40651_jpg.rf.95cfa9fdaae2491e88dc60b3d474ccac.jpg\n",
            "│   │   │   test_40701_jpg.rf.2e4ef3670e1e2b849d55bfd057712a6e.jpg\n",
            "│   │   │   train_40798_jpg.rf.bad3fb53e2d46e611b7578af02a355da.jpg\n",
            "│   │   │   train_40480_jpg.rf.27f5d5fdb46c9f6a041cbc5df3d2fc91.jpg\n",
            "│   │   │   test_40791_jpg.rf.5b2f6c90f90d2af8ae2baaf6f938600b.jpg\n",
            "│   │   │   test_40925_jpg.rf.dde5429cf8c39467c3164e56f35721e5.jpg\n",
            "│   │   │   test_40302_jpg.rf.09c4aef25c1340c000d6c020ef39357a.jpg\n",
            "│   │   │   train_40895_jpg.rf.e784d93a10b28675a94fd60e4325b0b7.jpg\n",
            "│   │   │   train_40693_jpg.rf.d4f4b7303ea619a969934406145b4ff0.jpg\n",
            "│   │   │   train_40634_jpg.rf.fb72c1a469e9a7210d71001a01e5e8f4.jpg\n",
            "│   │   │   train_41005_jpg.rf.42fa908b9fab245d4b40da9108da7d91.jpg\n",
            "│   │   │   val_40722_jpg.rf.5613110e3b6b0a3b43fb9467c8403c5e.jpg\n",
            "│   │   │   train_40962_jpg.rf.9afab10149f66059a874a90700baf5d4.jpg\n",
            "│   │   │   train_40448_jpg.rf.d1da96e195be36e981ea0e645eff2ba5.jpg\n",
            "│   │   │   test_40439_jpg.rf.4eb0ea9793d250e5c5807317972af55f.jpg\n",
            "│   │   │   train_40871_jpg.rf.30acc0dfb47c05ad9a28d7e0702da9d0.jpg\n",
            "│   │   │   train_40222_jpg.rf.d98170f24d39ca886d0bc94375f9c4f9.jpg\n",
            "│   │   │   train_40735_jpg.rf.f930d100e960abc9367321966f9fed32.jpg\n",
            "│   │   │   train_40661_jpg.rf.826ef0598841bf1e070d6c2bd8435627.jpg\n",
            "│   │   │   train_40679_jpg.rf.6fd64b27206dcdfbae5d0c8a15d01407.jpg\n",
            "│   │   │   val_40817_jpg.rf.65168b39b50738b62f82ca70d03341c8.jpg\n",
            "│   │   │   train_40290_jpg.rf.074aa216c0e985823eecb5efca641c6f.jpg\n",
            "│   │   │   test_40406_jpg.rf.60972c982e2cbe670757eebd178a6a11.jpg\n",
            "│   │   │   test_40761_jpg.rf.3c82da6a0f01fe88db63182b072a4f31.jpg\n",
            "│   │   │   train_40829_jpg.rf.94a86aecd94b0a6112e041d8f1ebe41b.jpg\n",
            "│   │   │   train_40751_jpg.rf.335a009f648a3cf196148f71ec9f43ed.jpg\n",
            "│   │   │   train_40894_jpg.rf.823e85c2bf31cff5527ab96891bb7158.jpg\n",
            "│   │   │   test_40857_jpg.rf.f97e3f5255eb3ab09c920108f75ca02a.jpg\n",
            "│   │   │   train_41020_jpg.rf.536f4739c24a3eed31425b9a32111be6.jpg\n",
            "│   │   │   test_41039_jpg.rf.0b5d1c00ef88c8c2b38a7d0520da8b9a.jpg\n",
            "│   │   │   test_40686_jpg.rf.a990f973a0072391bd85bc283dee47b2.jpg\n",
            "│   │   │   train_40284_jpg.rf.6603e8e7ca938199c5ad9a76902e4011.jpg\n",
            "│   │   │   train_40650_jpg.rf.8649cc89e2be2687b6a94a919ccff188.jpg\n",
            "│   │   │   test_40481_jpg.rf.5c47769d314d959ab86d621b5a489109.jpg\n",
            "│   │   │   train_40434_jpg.rf.52a38b7d9da52ad3edc23d2352a4bb1c.jpg\n",
            "│   │   │   train_40235_jpg.rf.cd2e3eb3b2ab083409a4e3f78bfe7a0d.jpg\n",
            "│   │   │   train_40715_jpg.rf.f92f3775701c85b364260ac4f634c2c0.jpg\n",
            "│   │   │   test_40259_jpg.rf.bde2ad2f8b0d514d784bcefad536000c.jpg\n",
            "│   │   │   test_40472_jpg.rf.655432138b03f2c3a4d83cccc514f2c2.jpg\n",
            "│   │   │   test_40864_jpg.rf.64afbdd53526bb851c7cf2a16c566dda.jpg\n",
            "│   │   │   test_40305_jpg.rf.9ca3a9db6eb7afd9319b7ea55bc03920.jpg\n",
            "│   │   │   train_40324_jpg.rf.e5038e6953a36ef0640a95a1f42b2351.jpg\n",
            "│   │   │   train_40220_jpg.rf.61a8695bcae465489c3613a0c185637f.jpg\n",
            "│   │   │   test_40889_jpg.rf.56176a3ae0fc6f5397f21459796072e8.jpg\n",
            "│   │   │   train_40264_jpg.rf.0ab3aeb920971d9bad99962ce5951267.jpg\n",
            "│   │   │   val_40801_jpg.rf.111b4d78bf590522d60468c4219a2be5.jpg\n",
            "│   │   │   train_40624_jpg.rf.ddebd9b0200e52607d83d954fdd7a12f.jpg\n",
            "│   │   │   test_40494_jpg.rf.a3d924847d5d9aa81963271073c4a203.jpg\n",
            "│   │   │   train_40291_jpg.rf.d4de69de0d05b12374ab0f7848e753e1.jpg\n",
            "│   │   │   test_40815_jpg.rf.680240b97d24160dac95e3741a41413b.jpg\n",
            "│   │   │   train_40633_jpg.rf.8acd2d3b33aad7953e87779de7221325.jpg\n",
            "│   │   │   train_40444_jpg.rf.bf5b41e140811e8cf9625dbaf237a1f6.jpg\n",
            "│   │   │   train_40440_jpg.rf.bb3fbe61c98ffdc4161427cb2f3d7072.jpg\n",
            "│   │   │   train_40566_jpg.rf.cfe5166376c7711dc41454e49443ec35.jpg\n",
            "│   │   │   val_40485_jpg.rf.1cfbb7d68c252089dc5b44764c0ea478.jpg\n",
            "│   │   │   train_40754_jpg.rf.f344bffc7a9000e990632e9794f6b76f.jpg\n",
            "│   │   │   train_40394_jpg.rf.a32020a818bf99c9ff367fd31b61c80c.jpg\n",
            "│   │   │   test_41030_jpg.rf.56b2f5f33b6aeac6e465426703b89352.jpg\n",
            "│   │   │   val_40963_jpg.rf.13bc97d3fb852377350c9aec8a7121c9.jpg\n",
            "│   │   │   train_40495_jpg.rf.48832284facf7c056433472c2ab66838.jpg\n",
            "│   │   │   train_40527_jpg.rf.0067a2748fa8b17b0d37a959066fc9ad.jpg\n",
            "│   │   │   test_40516_jpg.rf.f9190ce5206ebc90e784f426497f749f.jpg\n",
            "│   │   │   test_40924_jpg.rf.962d174f15db7cd729e6259baa9ffc2a.jpg\n",
            "│   │   │   test_40783_jpg.rf.bc45a2bb277d5c69fb3b2e9bf782af03.jpg\n",
            "│   │   │   train_40433_jpg.rf.0e034270dae979105eae7724414d24b8.jpg\n",
            "│   │   │   train_40717_jpg.rf.c5c675f6f150d1bd99a4eac5d715128b.jpg\n",
            "│   │   │   train_40842_jpg.rf.9029c73eb35cf967462101a804c0c5c9.jpg\n",
            "│   │   │   test_40906_jpg.rf.165e5f96bf14afefbdd2aa95ea8286ba.jpg\n",
            "│   │   │   val_40773_jpg.rf.85f073b503155ee46d34549d240c9107.jpg\n",
            "│   │   │   test_40283_jpg.rf.ed0d14364cc59aab9cffccbce5602aad.jpg\n",
            "│   │   │   train_40640_jpg.rf.6ef6c3fef27eb8c6635293cc35d65596.jpg\n",
            "│   │   │   test_40369_jpg.rf.e32cea89ab9f6978183c8a992b779b8f.jpg\n",
            "│   │   │   train_40821_jpg.rf.18734f75648a9ea44442b6f2c54b5ac3.jpg\n",
            "│   │   │   train_40192_jpg.rf.583182eacd278c8686522a12b27c5b4c.jpg\n",
            "│   │   │   val_40265_jpg.rf.140defe2a34d78f9a47f24c89c9972ff.jpg\n",
            "│   │   │   test_40943_jpg.rf.40fffd62b8df77f53a8d27b4a2b1c178.jpg\n",
            "│   │   │   test_40723_jpg.rf.f26042ca4f8d832c2cc3b8b43c5fdfdf.jpg\n",
            "│   │   │   train_40623_jpg.rf.015bf791e502e87195d7d32fa518b60c.jpg\n",
            "│   │   │   train_40262_jpg.rf.be5d883ff1bf35802f58b6950b45d397.jpg\n",
            "│   │   │   test_40199_jpg.rf.2685e5abcca38e254d6d1aa549b5c5c0.jpg\n",
            "│   │   │   test_40308_jpg.rf.4123924d8fad99aee6a5c9949f9e4f00.jpg\n",
            "│   │   │   train_40603_jpg.rf.f62d9a11745766e093ea0ed19ec41f86.jpg\n",
            "│   │   │   train_40492_jpg.rf.ce5b6cf97df6585a6f34642d6fac8d6a.jpg\n",
            "│   │   │   train_40922_jpg.rf.4049706987f7d9e6c3e8ccd148fb9d6d.jpg\n",
            "│   │   │   train_40510_jpg.rf.0ff9831305539331aaaa7f672d179da0.jpg\n",
            "│   │   │   train_40839_jpg.rf.757572e7308e33226d48df7ea3ea6485.jpg\n",
            "│   │   │   test_40853_jpg.rf.65e2b34420491781dd7e1812179c3d22.jpg\n",
            "│   │   │   test_40970_jpg.rf.2c81daea1ae2fa0c3b422f9a261a9dca.jpg\n",
            "│   │   │   train_40397_jpg.rf.4c5e8aba4c68e4bfef3ef03c79a5832b.jpg\n",
            "│   │   │   train_40656_jpg.rf.986db0c799f46d3387e807e173209dbd.jpg\n",
            "│   │   │   train_40288_jpg.rf.2414d4acf270c04ccc452a887ab33348.jpg\n",
            "│   │   │   val_40280_jpg.rf.5a05885e411906835f24d5aad91b362d.jpg\n",
            "│   │   │   train_40307_jpg.rf.6089cfebf4401d46392bbc7cc45dc66d.jpg\n",
            "│   │   │   train_40534_jpg.rf.204cc903e1eb6cdb1a3fce8867afc149.jpg\n",
            "│   │   │   train_40907_jpg.rf.607da23bb6f5e4a191928eb460b8864a.jpg\n",
            "│   │   │   train_41003_jpg.rf.93e882cbaa682cdbf95962f1f7197c46.jpg\n",
            "│   │   │   train_40986_jpg.rf.48eb1e67580c8321f0f129dd53c29429.jpg\n"
          ]
        }
      ]
    },
    {
      "cell_type": "code",
      "source": [
        "with open(\"/content/IP102/data.yaml\", \"r\") as file:\n",
        "    contents = file.read()\n",
        "    print(contents)"
      ],
      "metadata": {
        "colab": {
          "base_uri": "https://localhost:8080/"
        },
        "id": "jSu8Y_WowAbV",
        "outputId": "60820f3d-c3d7-4fe0-925c-ac6ed6774b0d"
      },
      "execution_count": 8,
      "outputs": [
        {
          "output_type": "stream",
          "name": "stdout",
          "text": [
            "train: ../train/images\n",
            "val: ../valid/images\n",
            "test: ../test/images\n",
            "\n",
            "nc: 5\n",
            "names: ['Apolygus_lucorum', 'Phyllocnistis_citrella_Stainton', 'Pieris_canidia', 'Scirtothrips_dorsalis_Hood', 'odontothrips_loti']\n",
            "\n",
            "roboflow:\n",
            "  workspace: ip102-jb0vy\n",
            "  project: final_dataset-y8bb0\n",
            "  version: 4\n",
            "  license: Private\n",
            "  url: https://app.roboflow.com/ip102-jb0vy/final_dataset-y8bb0/4\n"
          ]
        }
      ]
    },
    {
      "cell_type": "code",
      "source": [
        "print(os.listdir('/content/IP102/images'))\n",
        "# Should print: ['train', 'test', 'val']\n"
      ],
      "metadata": {
        "colab": {
          "base_uri": "https://localhost:8080/"
        },
        "id": "meM70C61x3G-",
        "outputId": "5014d656-3310-4a4b-f4aa-3120354eef17"
      },
      "execution_count": 9,
      "outputs": [
        {
          "output_type": "stream",
          "name": "stdout",
          "text": [
            "['test', 'valid', 'train']\n"
          ]
        }
      ]
    },
    {
      "cell_type": "code",
      "source": [
        "import yaml\n",
        "\n",
        "# Define your data.yaml content\n",
        "data = {\n",
        "    'path': '/content/IP102',\n",
        "    'train': 'images/train',\n",
        "    'val': 'images/valid',\n",
        "    'test': 'images/test',\n",
        "    'nc': 5,\n",
        "    'names': [\n",
        "        'Apolygus_lucorum',\n",
        "        'Phyllocnistis_citrella_Stainton',\n",
        "        'Pieris_canidia',\n",
        "        'Scirtothrips_dorsalis_Hood',\n",
        "        'odontothrips_loti'\n",
        "    ]\n",
        "}\n",
        "\n",
        "# Write to data.yaml\n",
        "with open(\"/content/IP102/data.yaml\", \"w\") as f:\n",
        "    yaml.dump(data, f, sort_keys=False)\n",
        "\n",
        "print(\"✅ Saved cleaned data.yaml to /content/IP102/data.yaml\")\n"
      ],
      "metadata": {
        "colab": {
          "base_uri": "https://localhost:8080/"
        },
        "id": "WgJE4wb_wPqy",
        "outputId": "1d1cc94d-5eb7-43ab-8f51-1f0550ca227d"
      },
      "execution_count": 10,
      "outputs": [
        {
          "output_type": "stream",
          "name": "stdout",
          "text": [
            "✅ Saved cleaned data.yaml to /content/IP102/data.yaml\n"
          ]
        }
      ]
    },
    {
      "cell_type": "code",
      "source": [
        "with open(\"/content/IP102/data.yaml\", \"r\") as file:\n",
        "    contents = file.read()\n",
        "    print(contents)"
      ],
      "metadata": {
        "colab": {
          "base_uri": "https://localhost:8080/"
        },
        "id": "3cdiMckpK6Gk",
        "outputId": "7ed7e02d-e573-4ddf-84c8-8372b8c3df6b"
      },
      "execution_count": 11,
      "outputs": [
        {
          "output_type": "stream",
          "name": "stdout",
          "text": [
            "path: /content/IP102\n",
            "train: images/train\n",
            "val: images/valid\n",
            "test: images/test\n",
            "nc: 5\n",
            "names:\n",
            "- Apolygus_lucorum\n",
            "- Phyllocnistis_citrella_Stainton\n",
            "- Pieris_canidia\n",
            "- Scirtothrips_dorsalis_Hood\n",
            "- odontothrips_loti\n",
            "\n"
          ]
        }
      ]
    },
    {
      "cell_type": "code",
      "source": [
        "from ultralytics import YOLO\n",
        "\n",
        "# Load YOLOv8 pretrained model\n",
        "model = YOLO('yolov8n.pt')  # Options: yolov8n.pt, yolov8s.pt, yolov8m.pt (n = nano, s = small)\n",
        "\n",
        "# Train on your custom dataset\n",
        "results = model.train(\n",
        "    data='/content/IP102/data.yaml',\n",
        "    epochs=200,\n",
        "    imgsz=640,\n",
        "    batch=16,\n",
        "    workers=2,\n",
        "    name='maize-pest-detector',\n",
        "    project='/content/yolo_runs',\n",
        "    device=0  # set to \"cpu\" if no GPU\n",
        ")"
      ],
      "metadata": {
        "colab": {
          "base_uri": "https://localhost:8080/"
        },
        "id": "AfMRspUYxDUn",
        "outputId": "5e00a959-87af-4932-bcb9-8f7279f36a1e"
      },
      "execution_count": 13,
      "outputs": [
        {
          "output_type": "stream",
          "name": "stdout",
          "text": [
            "Creating new Ultralytics Settings v0.0.6 file ✅ \n",
            "View Ultralytics Settings with 'yolo settings' or at '/root/.config/Ultralytics/settings.json'\n",
            "Update Settings with 'yolo settings key=value', i.e. 'yolo settings runs_dir=path/to/dir'. For help see https://docs.ultralytics.com/quickstart/#ultralytics-settings.\n",
            "Downloading https://github.com/ultralytics/assets/releases/download/v8.3.0/yolov8n.pt to 'yolov8n.pt'...\n"
          ]
        },
        {
          "output_type": "stream",
          "name": "stderr",
          "text": [
            "100%|██████████| 6.25M/6.25M [00:00<00:00, 417MB/s]"
          ]
        },
        {
          "output_type": "stream",
          "name": "stdout",
          "text": [
            "Ultralytics 8.3.152 🚀 Python-3.11.13 torch-2.6.0+cu124 CUDA:0 (Tesla T4, 15095MiB)\n"
          ]
        },
        {
          "output_type": "stream",
          "name": "stderr",
          "text": [
            "\n"
          ]
        },
        {
          "output_type": "stream",
          "name": "stdout",
          "text": [
            "\u001b[34m\u001b[1mengine/trainer: \u001b[0magnostic_nms=False, amp=True, augment=False, auto_augment=randaugment, batch=16, bgr=0.0, box=7.5, cache=False, cfg=None, classes=None, close_mosaic=10, cls=0.5, conf=None, copy_paste=0.0, copy_paste_mode=flip, cos_lr=False, cutmix=0.0, data=/content/IP102/data.yaml, degrees=0.0, deterministic=True, device=0, dfl=1.5, dnn=False, dropout=0.0, dynamic=False, embed=None, epochs=200, erasing=0.4, exist_ok=False, fliplr=0.5, flipud=0.0, format=torchscript, fraction=1.0, freeze=None, half=False, hsv_h=0.015, hsv_s=0.7, hsv_v=0.4, imgsz=640, int8=False, iou=0.7, keras=False, kobj=1.0, line_width=None, lr0=0.01, lrf=0.01, mask_ratio=4, max_det=300, mixup=0.0, mode=train, model=yolov8n.pt, momentum=0.937, mosaic=1.0, multi_scale=False, name=maize-pest-detector, nbs=64, nms=False, opset=None, optimize=False, optimizer=auto, overlap_mask=True, patience=100, perspective=0.0, plots=True, pose=12.0, pretrained=True, profile=False, project=/content/yolo_runs, rect=False, resume=False, retina_masks=False, save=True, save_conf=False, save_crop=False, save_dir=/content/yolo_runs/maize-pest-detector, save_frames=False, save_json=False, save_period=-1, save_txt=False, scale=0.5, seed=0, shear=0.0, show=False, show_boxes=True, show_conf=True, show_labels=True, simplify=True, single_cls=False, source=None, split=val, stream_buffer=False, task=detect, time=None, tracker=botsort.yaml, translate=0.1, val=True, verbose=True, vid_stride=1, visualize=False, warmup_bias_lr=0.1, warmup_epochs=3.0, warmup_momentum=0.8, weight_decay=0.0005, workers=2, workspace=None\n",
            "Downloading https://ultralytics.com/assets/Arial.ttf to '/root/.config/Ultralytics/Arial.ttf'...\n"
          ]
        },
        {
          "output_type": "stream",
          "name": "stderr",
          "text": [
            "100%|██████████| 755k/755k [00:00<00:00, 99.7MB/s]"
          ]
        },
        {
          "output_type": "stream",
          "name": "stdout",
          "text": [
            "Overriding model.yaml nc=80 with nc=5\n",
            "\n",
            "                   from  n    params  module                                       arguments                     \n",
            "  0                  -1  1       464  ultralytics.nn.modules.conv.Conv             [3, 16, 3, 2]                 \n",
            "  1                  -1  1      4672  ultralytics.nn.modules.conv.Conv             [16, 32, 3, 2]                \n",
            "  2                  -1  1      7360  ultralytics.nn.modules.block.C2f             [32, 32, 1, True]             \n",
            "  3                  -1  1     18560  ultralytics.nn.modules.conv.Conv             [32, 64, 3, 2]                \n",
            "  4                  -1  2     49664  ultralytics.nn.modules.block.C2f             [64, 64, 2, True]             \n",
            "  5                  -1  1     73984  ultralytics.nn.modules.conv.Conv             [64, 128, 3, 2]               \n",
            "  6                  -1  2    197632  ultralytics.nn.modules.block.C2f             [128, 128, 2, True]           \n",
            "  7                  -1  1    295424  ultralytics.nn.modules.conv.Conv             [128, 256, 3, 2]              \n",
            "  8                  -1  1    460288  ultralytics.nn.modules.block.C2f             [256, 256, 1, True]           \n",
            "  9                  -1  1    164608  ultralytics.nn.modules.block.SPPF            [256, 256, 5]                 \n",
            " 10                  -1  1         0  torch.nn.modules.upsampling.Upsample         [None, 2, 'nearest']          \n",
            " 11             [-1, 6]  1         0  ultralytics.nn.modules.conv.Concat           [1]                           \n",
            " 12                  -1  1    148224  ultralytics.nn.modules.block.C2f             [384, 128, 1]                 \n",
            " 13                  -1  1         0  torch.nn.modules.upsampling.Upsample         [None, 2, 'nearest']          \n",
            " 14             [-1, 4]  1         0  ultralytics.nn.modules.conv.Concat           [1]                           \n",
            " 15                  -1  1     37248  ultralytics.nn.modules.block.C2f             [192, 64, 1]                  \n",
            " 16                  -1  1     36992  ultralytics.nn.modules.conv.Conv             [64, 64, 3, 2]                \n",
            " 17            [-1, 12]  1         0  ultralytics.nn.modules.conv.Concat           [1]                           \n",
            " 18                  -1  1    123648  ultralytics.nn.modules.block.C2f             [192, 128, 1]                 \n",
            " 19                  -1  1    147712  ultralytics.nn.modules.conv.Conv             [128, 128, 3, 2]              \n",
            " 20             [-1, 9]  1         0  ultralytics.nn.modules.conv.Concat           [1]                           \n",
            " 21                  -1  1    493056  ultralytics.nn.modules.block.C2f             [384, 256, 1]                 \n"
          ]
        },
        {
          "output_type": "stream",
          "name": "stderr",
          "text": [
            "\n"
          ]
        },
        {
          "output_type": "stream",
          "name": "stdout",
          "text": [
            " 22        [15, 18, 21]  1    752287  ultralytics.nn.modules.head.Detect           [5, [64, 128, 256]]           \n",
            "Model summary: 129 layers, 3,011,823 parameters, 3,011,807 gradients, 8.2 GFLOPs\n",
            "\n",
            "Transferred 319/355 items from pretrained weights\n",
            "Freezing layer 'model.22.dfl.conv.weight'\n",
            "\u001b[34m\u001b[1mAMP: \u001b[0mrunning Automatic Mixed Precision (AMP) checks...\n",
            "Downloading https://github.com/ultralytics/assets/releases/download/v8.3.0/yolo11n.pt to 'yolo11n.pt'...\n"
          ]
        },
        {
          "output_type": "stream",
          "name": "stderr",
          "text": [
            "100%|██████████| 5.35M/5.35M [00:00<00:00, 349MB/s]\n"
          ]
        },
        {
          "output_type": "stream",
          "name": "stdout",
          "text": [
            "\u001b[34m\u001b[1mAMP: \u001b[0mchecks passed ✅\n",
            "\u001b[34m\u001b[1mtrain: \u001b[0mFast image access ✅ (ping: 0.0±0.0 ms, read: 107.0±201.6 MB/s, size: 41.7 KB)\n"
          ]
        },
        {
          "output_type": "stream",
          "name": "stderr",
          "text": [
            "\u001b[34m\u001b[1mtrain: \u001b[0mScanning /content/IP102/labels/train... 853 images, 43 backgrounds, 0 corrupt: 100%|██████████| 853/853 [00:00<00:00, 855.19it/s]"
          ]
        },
        {
          "output_type": "stream",
          "name": "stdout",
          "text": [
            "\u001b[34m\u001b[1mtrain: \u001b[0mNew cache created: /content/IP102/labels/train.cache\n"
          ]
        },
        {
          "output_type": "stream",
          "name": "stderr",
          "text": [
            "\n"
          ]
        },
        {
          "output_type": "stream",
          "name": "stdout",
          "text": [
            "\u001b[34m\u001b[1malbumentations: \u001b[0mBlur(p=0.01, blur_limit=(3, 7)), MedianBlur(p=0.01, blur_limit=(3, 7)), ToGray(p=0.01, method='weighted_average', num_output_channels=3), CLAHE(p=0.01, clip_limit=(1.0, 4.0), tile_grid_size=(8, 8))\n",
            "\u001b[34m\u001b[1mval: \u001b[0mFast image access ✅ (ping: 0.0±0.0 ms, read: 15.4±7.3 MB/s, size: 48.0 KB)\n"
          ]
        },
        {
          "output_type": "stream",
          "name": "stderr",
          "text": [
            "\u001b[34m\u001b[1mval: \u001b[0mScanning /content/IP102/labels/valid... 189 images, 16 backgrounds, 0 corrupt: 100%|██████████| 189/189 [00:00<00:00, 432.91it/s]"
          ]
        },
        {
          "output_type": "stream",
          "name": "stdout",
          "text": [
            "\u001b[34m\u001b[1mval: \u001b[0mNew cache created: /content/IP102/labels/valid.cache\n"
          ]
        },
        {
          "output_type": "stream",
          "name": "stderr",
          "text": [
            "\n"
          ]
        },
        {
          "output_type": "stream",
          "name": "stdout",
          "text": [
            "Plotting labels to /content/yolo_runs/maize-pest-detector/labels.jpg... \n",
            "\u001b[34m\u001b[1moptimizer:\u001b[0m 'optimizer=auto' found, ignoring 'lr0=0.01' and 'momentum=0.937' and determining best 'optimizer', 'lr0' and 'momentum' automatically... \n",
            "\u001b[34m\u001b[1moptimizer:\u001b[0m AdamW(lr=0.001111, momentum=0.9) with parameter groups 57 weight(decay=0.0), 64 weight(decay=0.0005), 63 bias(decay=0.0)\n",
            "Image sizes 640 train, 640 val\n",
            "Using 2 dataloader workers\n",
            "Logging results to \u001b[1m/content/yolo_runs/maize-pest-detector\u001b[0m\n",
            "Starting training for 200 epochs...\n",
            "\n",
            "      Epoch    GPU_mem   box_loss   cls_loss   dfl_loss  Instances       Size\n"
          ]
        },
        {
          "output_type": "stream",
          "name": "stderr",
          "text": [
            "      1/200      2.08G      1.669      3.196      1.965         10        640: 100%|██████████| 54/54 [00:17<00:00,  3.15it/s]\n",
            "                 Class     Images  Instances      Box(P          R      mAP50  mAP50-95): 100%|██████████| 6/6 [00:02<00:00,  2.31it/s]"
          ]
        },
        {
          "output_type": "stream",
          "name": "stdout",
          "text": [
            "                   all        189        263    0.00367       0.76     0.0197    0.00899\n"
          ]
        },
        {
          "output_type": "stream",
          "name": "stderr",
          "text": [
            "\n"
          ]
        },
        {
          "output_type": "stream",
          "name": "stdout",
          "text": [
            "\n",
            "      Epoch    GPU_mem   box_loss   cls_loss   dfl_loss  Instances       Size\n"
          ]
        },
        {
          "output_type": "stream",
          "name": "stderr",
          "text": [
            "      2/200      2.58G      1.535      2.486      1.861         15        640: 100%|██████████| 54/54 [00:15<00:00,  3.38it/s]\n",
            "                 Class     Images  Instances      Box(P          R      mAP50  mAP50-95): 100%|██████████| 6/6 [00:01<00:00,  3.55it/s]"
          ]
        },
        {
          "output_type": "stream",
          "name": "stdout",
          "text": [
            "                   all        189        263    0.00368      0.691     0.0219    0.00841\n"
          ]
        },
        {
          "output_type": "stream",
          "name": "stderr",
          "text": [
            "\n"
          ]
        },
        {
          "output_type": "stream",
          "name": "stdout",
          "text": [
            "\n",
            "      Epoch    GPU_mem   box_loss   cls_loss   dfl_loss  Instances       Size\n"
          ]
        },
        {
          "output_type": "stream",
          "name": "stderr",
          "text": [
            "      3/200      2.59G      1.658      2.404       1.91         15        640: 100%|██████████| 54/54 [00:13<00:00,  3.92it/s]\n",
            "                 Class     Images  Instances      Box(P          R      mAP50  mAP50-95): 100%|██████████| 6/6 [00:01<00:00,  3.64it/s]"
          ]
        },
        {
          "output_type": "stream",
          "name": "stdout",
          "text": [
            "                   all        189        263    0.00638      0.258     0.0234    0.00748\n"
          ]
        },
        {
          "output_type": "stream",
          "name": "stderr",
          "text": [
            "\n"
          ]
        },
        {
          "output_type": "stream",
          "name": "stdout",
          "text": [
            "\n",
            "      Epoch    GPU_mem   box_loss   cls_loss   dfl_loss  Instances       Size\n"
          ]
        },
        {
          "output_type": "stream",
          "name": "stderr",
          "text": [
            "      4/200       2.6G      1.646      2.224      1.886         18        640: 100%|██████████| 54/54 [00:13<00:00,  3.93it/s]\n",
            "                 Class     Images  Instances      Box(P          R      mAP50  mAP50-95): 100%|██████████| 6/6 [00:02<00:00,  2.98it/s]"
          ]
        },
        {
          "output_type": "stream",
          "name": "stdout",
          "text": [
            "                   all        189        263      0.005       0.67     0.0255    0.00664\n"
          ]
        },
        {
          "output_type": "stream",
          "name": "stderr",
          "text": [
            "\n"
          ]
        },
        {
          "output_type": "stream",
          "name": "stdout",
          "text": [
            "\n",
            "      Epoch    GPU_mem   box_loss   cls_loss   dfl_loss  Instances       Size\n"
          ]
        },
        {
          "output_type": "stream",
          "name": "stderr",
          "text": [
            "      5/200      2.63G      1.617      2.115      1.908         13        640: 100%|██████████| 54/54 [00:13<00:00,  3.91it/s]\n",
            "                 Class     Images  Instances      Box(P          R      mAP50  mAP50-95): 100%|██████████| 6/6 [00:01<00:00,  3.37it/s]"
          ]
        },
        {
          "output_type": "stream",
          "name": "stdout",
          "text": [
            "                   all        189        263    0.00515      0.347    0.00723    0.00202\n"
          ]
        },
        {
          "output_type": "stream",
          "name": "stderr",
          "text": [
            "\n"
          ]
        },
        {
          "output_type": "stream",
          "name": "stdout",
          "text": [
            "\n",
            "      Epoch    GPU_mem   box_loss   cls_loss   dfl_loss  Instances       Size\n"
          ]
        },
        {
          "output_type": "stream",
          "name": "stderr",
          "text": [
            "      6/200      2.63G      1.617      2.003      1.875         11        640: 100%|██████████| 54/54 [00:14<00:00,  3.85it/s]\n",
            "                 Class     Images  Instances      Box(P          R      mAP50  mAP50-95): 100%|██████████| 6/6 [00:02<00:00,  2.99it/s]"
          ]
        },
        {
          "output_type": "stream",
          "name": "stdout",
          "text": [
            "                   all        189        263    0.00541      0.404    0.00928    0.00337\n"
          ]
        },
        {
          "output_type": "stream",
          "name": "stderr",
          "text": [
            "\n"
          ]
        },
        {
          "output_type": "stream",
          "name": "stdout",
          "text": [
            "\n",
            "      Epoch    GPU_mem   box_loss   cls_loss   dfl_loss  Instances       Size\n"
          ]
        },
        {
          "output_type": "stream",
          "name": "stderr",
          "text": [
            "      7/200      2.66G      1.582      1.893      1.822         10        640: 100%|██████████| 54/54 [00:13<00:00,  3.93it/s]\n",
            "                 Class     Images  Instances      Box(P          R      mAP50  mAP50-95): 100%|██████████| 6/6 [00:01<00:00,  3.88it/s]"
          ]
        },
        {
          "output_type": "stream",
          "name": "stdout",
          "text": [
            "                   all        189        263    0.00706      0.134     0.0363      0.011\n"
          ]
        },
        {
          "output_type": "stream",
          "name": "stderr",
          "text": [
            "\n"
          ]
        },
        {
          "output_type": "stream",
          "name": "stdout",
          "text": [
            "\n",
            "      Epoch    GPU_mem   box_loss   cls_loss   dfl_loss  Instances       Size\n"
          ]
        },
        {
          "output_type": "stream",
          "name": "stderr",
          "text": [
            "      8/200      2.67G      1.528      1.831      1.804         14        640: 100%|██████████| 54/54 [00:13<00:00,  3.92it/s]\n",
            "                 Class     Images  Instances      Box(P          R      mAP50  mAP50-95): 100%|██████████| 6/6 [00:01<00:00,  3.58it/s]"
          ]
        },
        {
          "output_type": "stream",
          "name": "stdout",
          "text": [
            "                   all        189        263     0.0172      0.136     0.0238    0.00966\n"
          ]
        },
        {
          "output_type": "stream",
          "name": "stderr",
          "text": [
            "\n"
          ]
        },
        {
          "output_type": "stream",
          "name": "stdout",
          "text": [
            "\n",
            "      Epoch    GPU_mem   box_loss   cls_loss   dfl_loss  Instances       Size\n"
          ]
        },
        {
          "output_type": "stream",
          "name": "stderr",
          "text": [
            "      9/200       2.7G      1.558      1.766      1.808          9        640: 100%|██████████| 54/54 [00:13<00:00,  4.02it/s]\n",
            "                 Class     Images  Instances      Box(P          R      mAP50  mAP50-95): 100%|██████████| 6/6 [00:01<00:00,  3.81it/s]"
          ]
        },
        {
          "output_type": "stream",
          "name": "stdout",
          "text": [
            "                   all        189        263     0.0257      0.242     0.0424     0.0154\n"
          ]
        },
        {
          "output_type": "stream",
          "name": "stderr",
          "text": [
            "\n"
          ]
        },
        {
          "output_type": "stream",
          "name": "stdout",
          "text": [
            "\n",
            "      Epoch    GPU_mem   box_loss   cls_loss   dfl_loss  Instances       Size\n"
          ]
        },
        {
          "output_type": "stream",
          "name": "stderr",
          "text": [
            "     10/200       2.7G      1.516      1.739      1.804         17        640: 100%|██████████| 54/54 [00:13<00:00,  3.89it/s]\n",
            "                 Class     Images  Instances      Box(P          R      mAP50  mAP50-95): 100%|██████████| 6/6 [00:02<00:00,  2.35it/s]"
          ]
        },
        {
          "output_type": "stream",
          "name": "stdout",
          "text": [
            "                   all        189        263     0.0369      0.196     0.0455     0.0211\n"
          ]
        },
        {
          "output_type": "stream",
          "name": "stderr",
          "text": [
            "\n"
          ]
        },
        {
          "output_type": "stream",
          "name": "stdout",
          "text": [
            "\n",
            "      Epoch    GPU_mem   box_loss   cls_loss   dfl_loss  Instances       Size\n"
          ]
        },
        {
          "output_type": "stream",
          "name": "stderr",
          "text": [
            "     11/200      2.73G      1.505      1.706      1.782         12        640: 100%|██████████| 54/54 [00:13<00:00,  3.97it/s]\n",
            "                 Class     Images  Instances      Box(P          R      mAP50  mAP50-95): 100%|██████████| 6/6 [00:01<00:00,  3.57it/s]"
          ]
        },
        {
          "output_type": "stream",
          "name": "stdout",
          "text": [
            "                   all        189        263     0.0138     0.0542     0.0164    0.00959\n"
          ]
        },
        {
          "output_type": "stream",
          "name": "stderr",
          "text": [
            "\n"
          ]
        },
        {
          "output_type": "stream",
          "name": "stdout",
          "text": [
            "\n",
            "      Epoch    GPU_mem   box_loss   cls_loss   dfl_loss  Instances       Size\n"
          ]
        },
        {
          "output_type": "stream",
          "name": "stderr",
          "text": [
            "     12/200      2.74G        1.5      1.606      1.778          9        640: 100%|██████████| 54/54 [00:13<00:00,  3.86it/s]\n",
            "                 Class     Images  Instances      Box(P          R      mAP50  mAP50-95): 100%|██████████| 6/6 [00:01<00:00,  3.80it/s]"
          ]
        },
        {
          "output_type": "stream",
          "name": "stdout",
          "text": [
            "                   all        189        263     0.0251     0.0417     0.0266     0.0121\n"
          ]
        },
        {
          "output_type": "stream",
          "name": "stderr",
          "text": [
            "\n"
          ]
        },
        {
          "output_type": "stream",
          "name": "stdout",
          "text": [
            "\n",
            "      Epoch    GPU_mem   box_loss   cls_loss   dfl_loss  Instances       Size\n"
          ]
        },
        {
          "output_type": "stream",
          "name": "stderr",
          "text": [
            "     13/200      2.76G      1.486      1.631      1.771          9        640: 100%|██████████| 54/54 [00:14<00:00,  3.82it/s]\n",
            "                 Class     Images  Instances      Box(P          R      mAP50  mAP50-95): 100%|██████████| 6/6 [00:01<00:00,  4.01it/s]"
          ]
        },
        {
          "output_type": "stream",
          "name": "stdout",
          "text": [
            "                   all        189        263     0.0274      0.113     0.0571     0.0183\n"
          ]
        },
        {
          "output_type": "stream",
          "name": "stderr",
          "text": [
            "\n"
          ]
        },
        {
          "output_type": "stream",
          "name": "stdout",
          "text": [
            "\n",
            "      Epoch    GPU_mem   box_loss   cls_loss   dfl_loss  Instances       Size\n"
          ]
        },
        {
          "output_type": "stream",
          "name": "stderr",
          "text": [
            "     14/200      2.77G      1.497      1.589      1.762         14        640: 100%|██████████| 54/54 [00:14<00:00,  3.86it/s]\n",
            "                 Class     Images  Instances      Box(P          R      mAP50  mAP50-95): 100%|██████████| 6/6 [00:02<00:00,  2.59it/s]"
          ]
        },
        {
          "output_type": "stream",
          "name": "stdout",
          "text": [
            "                   all        189        263     0.0193      0.163     0.0198    0.00857\n"
          ]
        },
        {
          "output_type": "stream",
          "name": "stderr",
          "text": [
            "\n"
          ]
        },
        {
          "output_type": "stream",
          "name": "stdout",
          "text": [
            "\n",
            "      Epoch    GPU_mem   box_loss   cls_loss   dfl_loss  Instances       Size\n"
          ]
        },
        {
          "output_type": "stream",
          "name": "stderr",
          "text": [
            "     15/200       2.8G      1.461      1.552      1.729         12        640: 100%|██████████| 54/54 [00:13<00:00,  3.96it/s]\n",
            "                 Class     Images  Instances      Box(P          R      mAP50  mAP50-95): 100%|██████████| 6/6 [00:01<00:00,  3.52it/s]"
          ]
        },
        {
          "output_type": "stream",
          "name": "stdout",
          "text": [
            "                   all        189        263    0.00156    0.00417   0.000793   0.000159\n"
          ]
        },
        {
          "output_type": "stream",
          "name": "stderr",
          "text": [
            "\n"
          ]
        },
        {
          "output_type": "stream",
          "name": "stdout",
          "text": [
            "\n",
            "      Epoch    GPU_mem   box_loss   cls_loss   dfl_loss  Instances       Size\n"
          ]
        },
        {
          "output_type": "stream",
          "name": "stderr",
          "text": [
            "     16/200       2.8G      1.453      1.524      1.706         12        640: 100%|██████████| 54/54 [00:14<00:00,  3.82it/s]\n",
            "                 Class     Images  Instances      Box(P          R      mAP50  mAP50-95): 100%|██████████| 6/6 [00:01<00:00,  3.58it/s]"
          ]
        },
        {
          "output_type": "stream",
          "name": "stdout",
          "text": [
            "                   all        189        263     0.0411      0.148     0.0541     0.0223\n"
          ]
        },
        {
          "output_type": "stream",
          "name": "stderr",
          "text": [
            "\n"
          ]
        },
        {
          "output_type": "stream",
          "name": "stdout",
          "text": [
            "\n",
            "      Epoch    GPU_mem   box_loss   cls_loss   dfl_loss  Instances       Size\n"
          ]
        },
        {
          "output_type": "stream",
          "name": "stderr",
          "text": [
            "     17/200      2.83G      1.496      1.537      1.751         13        640: 100%|██████████| 54/54 [00:14<00:00,  3.81it/s]\n",
            "                 Class     Images  Instances      Box(P          R      mAP50  mAP50-95): 100%|██████████| 6/6 [00:01<00:00,  3.32it/s]"
          ]
        },
        {
          "output_type": "stream",
          "name": "stdout",
          "text": [
            "                   all        189        263     0.0125      0.217     0.0287     0.0119\n"
          ]
        },
        {
          "output_type": "stream",
          "name": "stderr",
          "text": [
            "\n"
          ]
        },
        {
          "output_type": "stream",
          "name": "stdout",
          "text": [
            "\n",
            "      Epoch    GPU_mem   box_loss   cls_loss   dfl_loss  Instances       Size\n"
          ]
        },
        {
          "output_type": "stream",
          "name": "stderr",
          "text": [
            "     18/200      2.84G      1.445      1.524      1.716         10        640: 100%|██████████| 54/54 [00:13<00:00,  3.91it/s]\n",
            "                 Class     Images  Instances      Box(P          R      mAP50  mAP50-95): 100%|██████████| 6/6 [00:02<00:00,  2.40it/s]"
          ]
        },
        {
          "output_type": "stream",
          "name": "stdout",
          "text": [
            "                   all        189        263     0.0456      0.121     0.0502     0.0261\n"
          ]
        },
        {
          "output_type": "stream",
          "name": "stderr",
          "text": [
            "\n"
          ]
        },
        {
          "output_type": "stream",
          "name": "stdout",
          "text": [
            "\n",
            "      Epoch    GPU_mem   box_loss   cls_loss   dfl_loss  Instances       Size\n"
          ]
        },
        {
          "output_type": "stream",
          "name": "stderr",
          "text": [
            "     19/200      2.87G      1.453      1.442       1.71          9        640: 100%|██████████| 54/54 [00:13<00:00,  3.90it/s]\n",
            "                 Class     Images  Instances      Box(P          R      mAP50  mAP50-95): 100%|██████████| 6/6 [00:01<00:00,  3.53it/s]"
          ]
        },
        {
          "output_type": "stream",
          "name": "stdout",
          "text": [
            "                   all        189        263     0.0196      0.108     0.0461     0.0205\n"
          ]
        },
        {
          "output_type": "stream",
          "name": "stderr",
          "text": [
            "\n"
          ]
        },
        {
          "output_type": "stream",
          "name": "stdout",
          "text": [
            "\n",
            "      Epoch    GPU_mem   box_loss   cls_loss   dfl_loss  Instances       Size\n"
          ]
        },
        {
          "output_type": "stream",
          "name": "stderr",
          "text": [
            "     20/200      2.87G      1.442      1.426      1.696          7        640: 100%|██████████| 54/54 [00:13<00:00,  4.00it/s]\n",
            "                 Class     Images  Instances      Box(P          R      mAP50  mAP50-95): 100%|██████████| 6/6 [00:01<00:00,  3.85it/s]"
          ]
        },
        {
          "output_type": "stream",
          "name": "stdout",
          "text": [
            "                   all        189        263     0.0259      0.129     0.0334     0.0157\n"
          ]
        },
        {
          "output_type": "stream",
          "name": "stderr",
          "text": [
            "\n"
          ]
        },
        {
          "output_type": "stream",
          "name": "stdout",
          "text": [
            "\n",
            "      Epoch    GPU_mem   box_loss   cls_loss   dfl_loss  Instances       Size\n"
          ]
        },
        {
          "output_type": "stream",
          "name": "stderr",
          "text": [
            "     21/200       2.9G      1.426      1.409      1.694         12        640: 100%|██████████| 54/54 [00:13<00:00,  3.98it/s]\n",
            "                 Class     Images  Instances      Box(P          R      mAP50  mAP50-95): 100%|██████████| 6/6 [00:01<00:00,  3.74it/s]"
          ]
        },
        {
          "output_type": "stream",
          "name": "stdout",
          "text": [
            "                   all        189        263       0.05      0.025     0.0324     0.0203\n"
          ]
        },
        {
          "output_type": "stream",
          "name": "stderr",
          "text": [
            "\n"
          ]
        },
        {
          "output_type": "stream",
          "name": "stdout",
          "text": [
            "\n",
            "      Epoch    GPU_mem   box_loss   cls_loss   dfl_loss  Instances       Size\n"
          ]
        },
        {
          "output_type": "stream",
          "name": "stderr",
          "text": [
            "     22/200      2.91G      1.412      1.389      1.677         10        640: 100%|██████████| 54/54 [00:13<00:00,  4.00it/s]\n",
            "                 Class     Images  Instances      Box(P          R      mAP50  mAP50-95): 100%|██████████| 6/6 [00:01<00:00,  3.67it/s]"
          ]
        },
        {
          "output_type": "stream",
          "name": "stdout",
          "text": [
            "                   all        189        263     0.0344      0.142     0.0435     0.0199\n"
          ]
        },
        {
          "output_type": "stream",
          "name": "stderr",
          "text": [
            "\n"
          ]
        },
        {
          "output_type": "stream",
          "name": "stdout",
          "text": [
            "\n",
            "      Epoch    GPU_mem   box_loss   cls_loss   dfl_loss  Instances       Size\n"
          ]
        },
        {
          "output_type": "stream",
          "name": "stderr",
          "text": [
            "     23/200      2.93G      1.398      1.402      1.685          9        640: 100%|██████████| 54/54 [00:15<00:00,  3.53it/s]\n",
            "                 Class     Images  Instances      Box(P          R      mAP50  mAP50-95): 100%|██████████| 6/6 [00:01<00:00,  3.47it/s]"
          ]
        },
        {
          "output_type": "stream",
          "name": "stdout",
          "text": [
            "                   all        189        263     0.0299      0.179     0.0439     0.0193\n"
          ]
        },
        {
          "output_type": "stream",
          "name": "stderr",
          "text": [
            "\n"
          ]
        },
        {
          "output_type": "stream",
          "name": "stdout",
          "text": [
            "\n",
            "      Epoch    GPU_mem   box_loss   cls_loss   dfl_loss  Instances       Size\n"
          ]
        },
        {
          "output_type": "stream",
          "name": "stderr",
          "text": [
            "     24/200      2.94G       1.41      1.371      1.678         11        640: 100%|██████████| 54/54 [00:13<00:00,  3.95it/s]\n",
            "                 Class     Images  Instances      Box(P          R      mAP50  mAP50-95): 100%|██████████| 6/6 [00:01<00:00,  3.68it/s]"
          ]
        },
        {
          "output_type": "stream",
          "name": "stdout",
          "text": [
            "                   all        189        263     0.0153      0.275     0.0445      0.022\n"
          ]
        },
        {
          "output_type": "stream",
          "name": "stderr",
          "text": [
            "\n"
          ]
        },
        {
          "output_type": "stream",
          "name": "stdout",
          "text": [
            "\n",
            "      Epoch    GPU_mem   box_loss   cls_loss   dfl_loss  Instances       Size\n"
          ]
        },
        {
          "output_type": "stream",
          "name": "stderr",
          "text": [
            "     25/200      2.97G      1.396      1.316      1.671         14        640: 100%|██████████| 54/54 [00:13<00:00,  3.94it/s]\n",
            "                 Class     Images  Instances      Box(P          R      mAP50  mAP50-95): 100%|██████████| 6/6 [00:01<00:00,  3.73it/s]"
          ]
        },
        {
          "output_type": "stream",
          "name": "stdout",
          "text": [
            "                   all        189        263     0.0333      0.258     0.0526     0.0239\n"
          ]
        },
        {
          "output_type": "stream",
          "name": "stderr",
          "text": [
            "\n"
          ]
        },
        {
          "output_type": "stream",
          "name": "stdout",
          "text": [
            "\n",
            "      Epoch    GPU_mem   box_loss   cls_loss   dfl_loss  Instances       Size\n"
          ]
        },
        {
          "output_type": "stream",
          "name": "stderr",
          "text": [
            "     26/200      2.98G      1.363      1.306      1.644         11        640: 100%|██████████| 54/54 [00:13<00:00,  4.00it/s]\n",
            "                 Class     Images  Instances      Box(P          R      mAP50  mAP50-95): 100%|██████████| 6/6 [00:01<00:00,  3.74it/s]"
          ]
        },
        {
          "output_type": "stream",
          "name": "stdout",
          "text": [
            "                   all        189        263     0.0272      0.167     0.0326     0.0154\n"
          ]
        },
        {
          "output_type": "stream",
          "name": "stderr",
          "text": [
            "\n"
          ]
        },
        {
          "output_type": "stream",
          "name": "stdout",
          "text": [
            "\n",
            "      Epoch    GPU_mem   box_loss   cls_loss   dfl_loss  Instances       Size\n"
          ]
        },
        {
          "output_type": "stream",
          "name": "stderr",
          "text": [
            "     27/200         3G      1.391      1.359      1.667         11        640: 100%|██████████| 54/54 [00:13<00:00,  3.91it/s]\n",
            "                 Class     Images  Instances      Box(P          R      mAP50  mAP50-95): 100%|██████████| 6/6 [00:02<00:00,  2.42it/s]"
          ]
        },
        {
          "output_type": "stream",
          "name": "stdout",
          "text": [
            "                   all        189        263     0.0448      0.113     0.0348     0.0193\n"
          ]
        },
        {
          "output_type": "stream",
          "name": "stderr",
          "text": [
            "\n"
          ]
        },
        {
          "output_type": "stream",
          "name": "stdout",
          "text": [
            "\n",
            "      Epoch    GPU_mem   box_loss   cls_loss   dfl_loss  Instances       Size\n"
          ]
        },
        {
          "output_type": "stream",
          "name": "stderr",
          "text": [
            "     28/200      3.01G        1.4      1.303      1.672         18        640: 100%|██████████| 54/54 [00:13<00:00,  4.00it/s]\n",
            "                 Class     Images  Instances      Box(P          R      mAP50  mAP50-95): 100%|██████████| 6/6 [00:01<00:00,  3.61it/s]"
          ]
        },
        {
          "output_type": "stream",
          "name": "stdout",
          "text": [
            "                   all        189        263     0.0372     0.0833     0.0312     0.0122\n"
          ]
        },
        {
          "output_type": "stream",
          "name": "stderr",
          "text": [
            "\n"
          ]
        },
        {
          "output_type": "stream",
          "name": "stdout",
          "text": [
            "\n",
            "      Epoch    GPU_mem   box_loss   cls_loss   dfl_loss  Instances       Size\n"
          ]
        },
        {
          "output_type": "stream",
          "name": "stderr",
          "text": [
            "     29/200      3.04G      1.428      1.303      1.684          7        640: 100%|██████████| 54/54 [00:13<00:00,  3.86it/s]\n",
            "                 Class     Images  Instances      Box(P          R      mAP50  mAP50-95): 100%|██████████| 6/6 [00:01<00:00,  3.63it/s]"
          ]
        },
        {
          "output_type": "stream",
          "name": "stdout",
          "text": [
            "                   all        189        263      0.027      0.125     0.0271     0.0124\n"
          ]
        },
        {
          "output_type": "stream",
          "name": "stderr",
          "text": [
            "\n"
          ]
        },
        {
          "output_type": "stream",
          "name": "stdout",
          "text": [
            "\n",
            "      Epoch    GPU_mem   box_loss   cls_loss   dfl_loss  Instances       Size\n"
          ]
        },
        {
          "output_type": "stream",
          "name": "stderr",
          "text": [
            "     30/200      3.04G      1.361      1.255      1.642          9        640: 100%|██████████| 54/54 [00:13<00:00,  3.87it/s]\n",
            "                 Class     Images  Instances      Box(P          R      mAP50  mAP50-95): 100%|██████████| 6/6 [00:01<00:00,  3.77it/s]"
          ]
        },
        {
          "output_type": "stream",
          "name": "stdout",
          "text": [
            "                   all        189        263     0.0308      0.142     0.0296     0.0137\n"
          ]
        },
        {
          "output_type": "stream",
          "name": "stderr",
          "text": [
            "\n"
          ]
        },
        {
          "output_type": "stream",
          "name": "stdout",
          "text": [
            "\n",
            "      Epoch    GPU_mem   box_loss   cls_loss   dfl_loss  Instances       Size\n"
          ]
        },
        {
          "output_type": "stream",
          "name": "stderr",
          "text": [
            "     31/200      3.07G      1.357      1.239      1.647          9        640: 100%|██████████| 54/54 [00:13<00:00,  3.93it/s]\n",
            "                 Class     Images  Instances      Box(P          R      mAP50  mAP50-95): 100%|██████████| 6/6 [00:02<00:00,  2.49it/s]"
          ]
        },
        {
          "output_type": "stream",
          "name": "stdout",
          "text": [
            "                   all        189        263     0.0182      0.196     0.0305     0.0138\n"
          ]
        },
        {
          "output_type": "stream",
          "name": "stderr",
          "text": [
            "\n"
          ]
        },
        {
          "output_type": "stream",
          "name": "stdout",
          "text": [
            "\n",
            "      Epoch    GPU_mem   box_loss   cls_loss   dfl_loss  Instances       Size\n"
          ]
        },
        {
          "output_type": "stream",
          "name": "stderr",
          "text": [
            "     32/200      3.08G      1.361      1.284      1.639         11        640: 100%|██████████| 54/54 [00:14<00:00,  3.84it/s]\n",
            "                 Class     Images  Instances      Box(P          R      mAP50  mAP50-95): 100%|██████████| 6/6 [00:01<00:00,  3.59it/s]"
          ]
        },
        {
          "output_type": "stream",
          "name": "stdout",
          "text": [
            "                   all        189        263     0.0173        0.2     0.0345     0.0151\n"
          ]
        },
        {
          "output_type": "stream",
          "name": "stderr",
          "text": [
            "\n"
          ]
        },
        {
          "output_type": "stream",
          "name": "stdout",
          "text": [
            "\n",
            "      Epoch    GPU_mem   box_loss   cls_loss   dfl_loss  Instances       Size\n"
          ]
        },
        {
          "output_type": "stream",
          "name": "stderr",
          "text": [
            "     33/200       3.1G      1.369      1.279      1.637          9        640: 100%|██████████| 54/54 [00:13<00:00,  3.89it/s]\n",
            "                 Class     Images  Instances      Box(P          R      mAP50  mAP50-95): 100%|██████████| 6/6 [00:01<00:00,  3.63it/s]"
          ]
        },
        {
          "output_type": "stream",
          "name": "stdout",
          "text": [
            "                   all        189        263     0.0322      0.204     0.0437     0.0206\n"
          ]
        },
        {
          "output_type": "stream",
          "name": "stderr",
          "text": [
            "\n"
          ]
        },
        {
          "output_type": "stream",
          "name": "stdout",
          "text": [
            "\n",
            "      Epoch    GPU_mem   box_loss   cls_loss   dfl_loss  Instances       Size\n"
          ]
        },
        {
          "output_type": "stream",
          "name": "stderr",
          "text": [
            "     34/200      3.11G      1.337      1.212      1.629         10        640: 100%|██████████| 54/54 [00:13<00:00,  3.86it/s]\n",
            "                 Class     Images  Instances      Box(P          R      mAP50  mAP50-95): 100%|██████████| 6/6 [00:01<00:00,  3.70it/s]"
          ]
        },
        {
          "output_type": "stream",
          "name": "stdout",
          "text": [
            "                   all        189        263     0.0383      0.196     0.0519     0.0276\n"
          ]
        },
        {
          "output_type": "stream",
          "name": "stderr",
          "text": [
            "\n"
          ]
        },
        {
          "output_type": "stream",
          "name": "stdout",
          "text": [
            "\n",
            "      Epoch    GPU_mem   box_loss   cls_loss   dfl_loss  Instances       Size\n"
          ]
        },
        {
          "output_type": "stream",
          "name": "stderr",
          "text": [
            "     35/200      3.14G       1.36       1.25      1.642         18        640: 100%|██████████| 54/54 [00:13<00:00,  3.92it/s]\n",
            "                 Class     Images  Instances      Box(P          R      mAP50  mAP50-95): 100%|██████████| 6/6 [00:02<00:00,  2.59it/s]"
          ]
        },
        {
          "output_type": "stream",
          "name": "stdout",
          "text": [
            "                   all        189        263     0.0292       0.25     0.0495     0.0214\n"
          ]
        },
        {
          "output_type": "stream",
          "name": "stderr",
          "text": [
            "\n"
          ]
        },
        {
          "output_type": "stream",
          "name": "stdout",
          "text": [
            "\n",
            "      Epoch    GPU_mem   box_loss   cls_loss   dfl_loss  Instances       Size\n"
          ]
        },
        {
          "output_type": "stream",
          "name": "stderr",
          "text": [
            "     36/200      3.15G      1.316      1.197      1.617         10        640: 100%|██████████| 54/54 [00:13<00:00,  3.90it/s]\n",
            "                 Class     Images  Instances      Box(P          R      mAP50  mAP50-95): 100%|██████████| 6/6 [00:01<00:00,  3.43it/s]"
          ]
        },
        {
          "output_type": "stream",
          "name": "stdout",
          "text": [
            "                   all        189        263     0.0395      0.204     0.0427     0.0211\n"
          ]
        },
        {
          "output_type": "stream",
          "name": "stderr",
          "text": [
            "\n"
          ]
        },
        {
          "output_type": "stream",
          "name": "stdout",
          "text": [
            "\n",
            "      Epoch    GPU_mem   box_loss   cls_loss   dfl_loss  Instances       Size\n"
          ]
        },
        {
          "output_type": "stream",
          "name": "stderr",
          "text": [
            "     37/200      3.17G       1.33      1.212      1.603         11        640: 100%|██████████| 54/54 [00:13<00:00,  3.99it/s]\n",
            "                 Class     Images  Instances      Box(P          R      mAP50  mAP50-95): 100%|██████████| 6/6 [00:01<00:00,  3.60it/s]"
          ]
        },
        {
          "output_type": "stream",
          "name": "stdout",
          "text": [
            "                   all        189        263     0.0225      0.154     0.0231    0.00982\n"
          ]
        },
        {
          "output_type": "stream",
          "name": "stderr",
          "text": [
            "\n"
          ]
        },
        {
          "output_type": "stream",
          "name": "stdout",
          "text": [
            "\n",
            "      Epoch    GPU_mem   box_loss   cls_loss   dfl_loss  Instances       Size\n"
          ]
        },
        {
          "output_type": "stream",
          "name": "stderr",
          "text": [
            "     38/200      3.18G      1.343      1.214      1.621         16        640: 100%|██████████| 54/54 [00:13<00:00,  3.89it/s]\n",
            "                 Class     Images  Instances      Box(P          R      mAP50  mAP50-95): 100%|██████████| 6/6 [00:01<00:00,  3.81it/s]"
          ]
        },
        {
          "output_type": "stream",
          "name": "stdout",
          "text": [
            "                   all        189        263     0.0354      0.183      0.035     0.0182\n"
          ]
        },
        {
          "output_type": "stream",
          "name": "stderr",
          "text": [
            "\n"
          ]
        },
        {
          "output_type": "stream",
          "name": "stdout",
          "text": [
            "\n",
            "      Epoch    GPU_mem   box_loss   cls_loss   dfl_loss  Instances       Size\n"
          ]
        },
        {
          "output_type": "stream",
          "name": "stderr",
          "text": [
            "     39/200      3.21G      1.318      1.178      1.601         12        640: 100%|██████████| 54/54 [00:13<00:00,  3.92it/s]\n",
            "                 Class     Images  Instances      Box(P          R      mAP50  mAP50-95): 100%|██████████| 6/6 [00:01<00:00,  3.43it/s]"
          ]
        },
        {
          "output_type": "stream",
          "name": "stdout",
          "text": [
            "                   all        189        263     0.0354      0.146      0.041     0.0203\n"
          ]
        },
        {
          "output_type": "stream",
          "name": "stderr",
          "text": [
            "\n"
          ]
        },
        {
          "output_type": "stream",
          "name": "stdout",
          "text": [
            "\n",
            "      Epoch    GPU_mem   box_loss   cls_loss   dfl_loss  Instances       Size\n"
          ]
        },
        {
          "output_type": "stream",
          "name": "stderr",
          "text": [
            "     40/200      3.21G      1.297      1.161      1.586         18        640: 100%|██████████| 54/54 [00:14<00:00,  3.70it/s]\n",
            "                 Class     Images  Instances      Box(P          R      mAP50  mAP50-95): 100%|██████████| 6/6 [00:01<00:00,  3.10it/s]"
          ]
        },
        {
          "output_type": "stream",
          "name": "stdout",
          "text": [
            "                   all        189        263     0.0536      0.242     0.0705     0.0347\n"
          ]
        },
        {
          "output_type": "stream",
          "name": "stderr",
          "text": [
            "\n"
          ]
        },
        {
          "output_type": "stream",
          "name": "stdout",
          "text": [
            "\n",
            "      Epoch    GPU_mem   box_loss   cls_loss   dfl_loss  Instances       Size\n"
          ]
        },
        {
          "output_type": "stream",
          "name": "stderr",
          "text": [
            "     41/200      3.24G      1.312      1.156      1.585         10        640: 100%|██████████| 54/54 [00:14<00:00,  3.80it/s]\n",
            "                 Class     Images  Instances      Box(P          R      mAP50  mAP50-95): 100%|██████████| 6/6 [00:01<00:00,  3.98it/s]"
          ]
        },
        {
          "output_type": "stream",
          "name": "stdout",
          "text": [
            "                   all        189        263     0.0392      0.208     0.0466     0.0234\n"
          ]
        },
        {
          "output_type": "stream",
          "name": "stderr",
          "text": [
            "\n"
          ]
        },
        {
          "output_type": "stream",
          "name": "stdout",
          "text": [
            "\n",
            "      Epoch    GPU_mem   box_loss   cls_loss   dfl_loss  Instances       Size\n"
          ]
        },
        {
          "output_type": "stream",
          "name": "stderr",
          "text": [
            "     42/200      3.25G      1.306       1.18      1.592         12        640: 100%|██████████| 54/54 [00:14<00:00,  3.85it/s]\n",
            "                 Class     Images  Instances      Box(P          R      mAP50  mAP50-95): 100%|██████████| 6/6 [00:01<00:00,  3.98it/s]"
          ]
        },
        {
          "output_type": "stream",
          "name": "stdout",
          "text": [
            "                   all        189        263     0.0391      0.233      0.075      0.036\n"
          ]
        },
        {
          "output_type": "stream",
          "name": "stderr",
          "text": [
            "\n"
          ]
        },
        {
          "output_type": "stream",
          "name": "stdout",
          "text": [
            "\n",
            "      Epoch    GPU_mem   box_loss   cls_loss   dfl_loss  Instances       Size\n"
          ]
        },
        {
          "output_type": "stream",
          "name": "stderr",
          "text": [
            "     43/200      3.28G      1.298      1.136      1.583         11        640: 100%|██████████| 54/54 [00:14<00:00,  3.74it/s]\n",
            "                 Class     Images  Instances      Box(P          R      mAP50  mAP50-95): 100%|██████████| 6/6 [00:01<00:00,  3.48it/s]"
          ]
        },
        {
          "output_type": "stream",
          "name": "stdout",
          "text": [
            "                   all        189        263     0.0582      0.258      0.054     0.0218\n"
          ]
        },
        {
          "output_type": "stream",
          "name": "stderr",
          "text": [
            "\n"
          ]
        },
        {
          "output_type": "stream",
          "name": "stdout",
          "text": [
            "\n",
            "      Epoch    GPU_mem   box_loss   cls_loss   dfl_loss  Instances       Size\n"
          ]
        },
        {
          "output_type": "stream",
          "name": "stderr",
          "text": [
            "     44/200      3.28G      1.266      1.114      1.556         15        640: 100%|██████████| 54/54 [00:14<00:00,  3.76it/s]\n",
            "                 Class     Images  Instances      Box(P          R      mAP50  mAP50-95): 100%|██████████| 6/6 [00:01<00:00,  3.42it/s]"
          ]
        },
        {
          "output_type": "stream",
          "name": "stdout",
          "text": [
            "                   all        189        263     0.0935       0.05     0.0512     0.0223\n"
          ]
        },
        {
          "output_type": "stream",
          "name": "stderr",
          "text": [
            "\n"
          ]
        },
        {
          "output_type": "stream",
          "name": "stdout",
          "text": [
            "\n",
            "      Epoch    GPU_mem   box_loss   cls_loss   dfl_loss  Instances       Size\n"
          ]
        },
        {
          "output_type": "stream",
          "name": "stderr",
          "text": [
            "     45/200      3.31G       1.29      1.097      1.568         10        640: 100%|██████████| 54/54 [00:13<00:00,  3.97it/s]\n",
            "                 Class     Images  Instances      Box(P          R      mAP50  mAP50-95): 100%|██████████| 6/6 [00:01<00:00,  3.67it/s]"
          ]
        },
        {
          "output_type": "stream",
          "name": "stdout",
          "text": [
            "                   all        189        263     0.0327      0.113     0.0345     0.0161\n"
          ]
        },
        {
          "output_type": "stream",
          "name": "stderr",
          "text": [
            "\n"
          ]
        },
        {
          "output_type": "stream",
          "name": "stdout",
          "text": [
            "\n",
            "      Epoch    GPU_mem   box_loss   cls_loss   dfl_loss  Instances       Size\n"
          ]
        },
        {
          "output_type": "stream",
          "name": "stderr",
          "text": [
            "     46/200      3.32G      1.278      1.108       1.57         11        640: 100%|██████████| 54/54 [00:13<00:00,  3.91it/s]\n",
            "                 Class     Images  Instances      Box(P          R      mAP50  mAP50-95): 100%|██████████| 6/6 [00:01<00:00,  4.09it/s]"
          ]
        },
        {
          "output_type": "stream",
          "name": "stdout",
          "text": [
            "                   all        189        263     0.0224      0.183     0.0341     0.0145\n"
          ]
        },
        {
          "output_type": "stream",
          "name": "stderr",
          "text": [
            "\n"
          ]
        },
        {
          "output_type": "stream",
          "name": "stdout",
          "text": [
            "\n",
            "      Epoch    GPU_mem   box_loss   cls_loss   dfl_loss  Instances       Size\n"
          ]
        },
        {
          "output_type": "stream",
          "name": "stderr",
          "text": [
            "     47/200      3.34G      1.252      1.115      1.557         10        640: 100%|██████████| 54/54 [00:13<00:00,  3.93it/s]\n",
            "                 Class     Images  Instances      Box(P          R      mAP50  mAP50-95): 100%|██████████| 6/6 [00:01<00:00,  3.69it/s]"
          ]
        },
        {
          "output_type": "stream",
          "name": "stdout",
          "text": [
            "                   all        189        263      0.096     0.0958       0.07     0.0303\n"
          ]
        },
        {
          "output_type": "stream",
          "name": "stderr",
          "text": [
            "\n"
          ]
        },
        {
          "output_type": "stream",
          "name": "stdout",
          "text": [
            "\n",
            "      Epoch    GPU_mem   box_loss   cls_loss   dfl_loss  Instances       Size\n"
          ]
        },
        {
          "output_type": "stream",
          "name": "stderr",
          "text": [
            "     48/200      3.35G      1.296      1.122      1.578          9        640: 100%|██████████| 54/54 [00:14<00:00,  3.85it/s]\n",
            "                 Class     Images  Instances      Box(P          R      mAP50  mAP50-95): 100%|██████████| 6/6 [00:02<00:00,  2.37it/s]"
          ]
        },
        {
          "output_type": "stream",
          "name": "stdout",
          "text": [
            "                   all        189        263     0.0264      0.204     0.0256      0.012\n"
          ]
        },
        {
          "output_type": "stream",
          "name": "stderr",
          "text": [
            "\n"
          ]
        },
        {
          "output_type": "stream",
          "name": "stdout",
          "text": [
            "\n",
            "      Epoch    GPU_mem   box_loss   cls_loss   dfl_loss  Instances       Size\n"
          ]
        },
        {
          "output_type": "stream",
          "name": "stderr",
          "text": [
            "     49/200      3.38G      1.272      1.123      1.557         12        640: 100%|██████████| 54/54 [00:13<00:00,  3.92it/s]\n",
            "                 Class     Images  Instances      Box(P          R      mAP50  mAP50-95): 100%|██████████| 6/6 [00:01<00:00,  3.72it/s]"
          ]
        },
        {
          "output_type": "stream",
          "name": "stdout",
          "text": [
            "                   all        189        263     0.0442      0.225     0.0508     0.0279\n"
          ]
        },
        {
          "output_type": "stream",
          "name": "stderr",
          "text": [
            "\n"
          ]
        },
        {
          "output_type": "stream",
          "name": "stdout",
          "text": [
            "\n",
            "      Epoch    GPU_mem   box_loss   cls_loss   dfl_loss  Instances       Size\n"
          ]
        },
        {
          "output_type": "stream",
          "name": "stderr",
          "text": [
            "     50/200      3.38G      1.259       1.06      1.568          9        640: 100%|██████████| 54/54 [00:13<00:00,  3.93it/s]\n",
            "                 Class     Images  Instances      Box(P          R      mAP50  mAP50-95): 100%|██████████| 6/6 [00:01<00:00,  3.92it/s]"
          ]
        },
        {
          "output_type": "stream",
          "name": "stdout",
          "text": [
            "                   all        189        263     0.0425      0.163     0.0528     0.0261\n"
          ]
        },
        {
          "output_type": "stream",
          "name": "stderr",
          "text": [
            "\n"
          ]
        },
        {
          "output_type": "stream",
          "name": "stdout",
          "text": [
            "\n",
            "      Epoch    GPU_mem   box_loss   cls_loss   dfl_loss  Instances       Size\n"
          ]
        },
        {
          "output_type": "stream",
          "name": "stderr",
          "text": [
            "     51/200      3.41G      1.251      1.067       1.55         11        640: 100%|██████████| 54/54 [00:13<00:00,  3.94it/s]\n",
            "                 Class     Images  Instances      Box(P          R      mAP50  mAP50-95): 100%|██████████| 6/6 [00:01<00:00,  3.67it/s]"
          ]
        },
        {
          "output_type": "stream",
          "name": "stdout",
          "text": [
            "                   all        189        263     0.0506      0.225      0.056     0.0243\n"
          ]
        },
        {
          "output_type": "stream",
          "name": "stderr",
          "text": [
            "\n"
          ]
        },
        {
          "output_type": "stream",
          "name": "stdout",
          "text": [
            "\n",
            "      Epoch    GPU_mem   box_loss   cls_loss   dfl_loss  Instances       Size\n"
          ]
        },
        {
          "output_type": "stream",
          "name": "stderr",
          "text": [
            "     52/200      3.42G      1.234      1.046       1.54         16        640: 100%|██████████| 54/54 [00:14<00:00,  3.84it/s]\n",
            "                 Class     Images  Instances      Box(P          R      mAP50  mAP50-95): 100%|██████████| 6/6 [00:02<00:00,  2.75it/s]"
          ]
        },
        {
          "output_type": "stream",
          "name": "stdout",
          "text": [
            "                   all        189        263     0.0222      0.271     0.0504     0.0219\n"
          ]
        },
        {
          "output_type": "stream",
          "name": "stderr",
          "text": [
            "\n"
          ]
        },
        {
          "output_type": "stream",
          "name": "stdout",
          "text": [
            "\n",
            "      Epoch    GPU_mem   box_loss   cls_loss   dfl_loss  Instances       Size\n"
          ]
        },
        {
          "output_type": "stream",
          "name": "stderr",
          "text": [
            "     53/200      3.45G      1.244      1.067      1.566         10        640: 100%|██████████| 54/54 [00:13<00:00,  3.88it/s]\n",
            "                 Class     Images  Instances      Box(P          R      mAP50  mAP50-95): 100%|██████████| 6/6 [00:01<00:00,  3.31it/s]"
          ]
        },
        {
          "output_type": "stream",
          "name": "stdout",
          "text": [
            "                   all        189        263     0.0776        0.1     0.0588     0.0306\n"
          ]
        },
        {
          "output_type": "stream",
          "name": "stderr",
          "text": [
            "\n"
          ]
        },
        {
          "output_type": "stream",
          "name": "stdout",
          "text": [
            "\n",
            "      Epoch    GPU_mem   box_loss   cls_loss   dfl_loss  Instances       Size\n"
          ]
        },
        {
          "output_type": "stream",
          "name": "stderr",
          "text": [
            "     54/200      3.46G      1.257      1.045      1.543         16        640: 100%|██████████| 54/54 [00:13<00:00,  3.88it/s]\n",
            "                 Class     Images  Instances      Box(P          R      mAP50  mAP50-95): 100%|██████████| 6/6 [00:01<00:00,  3.58it/s]"
          ]
        },
        {
          "output_type": "stream",
          "name": "stdout",
          "text": [
            "                   all        189        263     0.0505      0.188     0.0523      0.024\n"
          ]
        },
        {
          "output_type": "stream",
          "name": "stderr",
          "text": [
            "\n"
          ]
        },
        {
          "output_type": "stream",
          "name": "stdout",
          "text": [
            "\n",
            "      Epoch    GPU_mem   box_loss   cls_loss   dfl_loss  Instances       Size\n"
          ]
        },
        {
          "output_type": "stream",
          "name": "stderr",
          "text": [
            "     55/200      3.48G      1.241      1.044      1.538         18        640: 100%|██████████| 54/54 [00:14<00:00,  3.85it/s]\n",
            "                 Class     Images  Instances      Box(P          R      mAP50  mAP50-95): 100%|██████████| 6/6 [00:01<00:00,  3.62it/s]"
          ]
        },
        {
          "output_type": "stream",
          "name": "stdout",
          "text": [
            "                   all        189        263     0.0517     0.0583     0.0431     0.0227\n"
          ]
        },
        {
          "output_type": "stream",
          "name": "stderr",
          "text": [
            "\n"
          ]
        },
        {
          "output_type": "stream",
          "name": "stdout",
          "text": [
            "\n",
            "      Epoch    GPU_mem   box_loss   cls_loss   dfl_loss  Instances       Size\n"
          ]
        },
        {
          "output_type": "stream",
          "name": "stderr",
          "text": [
            "     56/200      3.49G      1.231      1.034      1.526         20        640: 100%|██████████| 54/54 [00:13<00:00,  3.93it/s]\n",
            "                 Class     Images  Instances      Box(P          R      mAP50  mAP50-95): 100%|██████████| 6/6 [00:02<00:00,  2.95it/s]"
          ]
        },
        {
          "output_type": "stream",
          "name": "stdout",
          "text": [
            "                   all        189        263     0.0491      0.163      0.072      0.037\n"
          ]
        },
        {
          "output_type": "stream",
          "name": "stderr",
          "text": [
            "\n"
          ]
        },
        {
          "output_type": "stream",
          "name": "stdout",
          "text": [
            "\n",
            "      Epoch    GPU_mem   box_loss   cls_loss   dfl_loss  Instances       Size\n"
          ]
        },
        {
          "output_type": "stream",
          "name": "stderr",
          "text": [
            "     57/200      3.51G      1.215      1.016      1.516         16        640: 100%|██████████| 54/54 [00:14<00:00,  3.82it/s]\n",
            "                 Class     Images  Instances      Box(P          R      mAP50  mAP50-95): 100%|██████████| 6/6 [00:01<00:00,  3.20it/s]"
          ]
        },
        {
          "output_type": "stream",
          "name": "stdout",
          "text": [
            "                   all        189        263     0.0388      0.229     0.0747     0.0337\n"
          ]
        },
        {
          "output_type": "stream",
          "name": "stderr",
          "text": [
            "\n"
          ]
        },
        {
          "output_type": "stream",
          "name": "stdout",
          "text": [
            "\n",
            "      Epoch    GPU_mem   box_loss   cls_loss   dfl_loss  Instances       Size\n"
          ]
        },
        {
          "output_type": "stream",
          "name": "stderr",
          "text": [
            "     58/200      3.52G      1.232          1       1.52          9        640: 100%|██████████| 54/54 [00:13<00:00,  3.90it/s]\n",
            "                 Class     Images  Instances      Box(P          R      mAP50  mAP50-95): 100%|██████████| 6/6 [00:01<00:00,  4.00it/s]"
          ]
        },
        {
          "output_type": "stream",
          "name": "stdout",
          "text": [
            "                   all        189        263     0.0243      0.221       0.04      0.016\n"
          ]
        },
        {
          "output_type": "stream",
          "name": "stderr",
          "text": [
            "\n"
          ]
        },
        {
          "output_type": "stream",
          "name": "stdout",
          "text": [
            "\n",
            "      Epoch    GPU_mem   box_loss   cls_loss   dfl_loss  Instances       Size\n"
          ]
        },
        {
          "output_type": "stream",
          "name": "stderr",
          "text": [
            "     59/200      3.55G        1.2     0.9989       1.51          9        640: 100%|██████████| 54/54 [00:13<00:00,  3.89it/s]\n",
            "                 Class     Images  Instances      Box(P          R      mAP50  mAP50-95): 100%|██████████| 6/6 [00:01<00:00,  3.54it/s]"
          ]
        },
        {
          "output_type": "stream",
          "name": "stdout",
          "text": [
            "                   all        189        263     0.0316      0.233     0.0571      0.023\n"
          ]
        },
        {
          "output_type": "stream",
          "name": "stderr",
          "text": [
            "\n"
          ]
        },
        {
          "output_type": "stream",
          "name": "stdout",
          "text": [
            "\n",
            "      Epoch    GPU_mem   box_loss   cls_loss   dfl_loss  Instances       Size\n"
          ]
        },
        {
          "output_type": "stream",
          "name": "stderr",
          "text": [
            "     60/200      3.56G      1.226      1.037      1.522          6        640: 100%|██████████| 54/54 [00:14<00:00,  3.84it/s]\n",
            "                 Class     Images  Instances      Box(P          R      mAP50  mAP50-95): 100%|██████████| 6/6 [00:01<00:00,  3.82it/s]"
          ]
        },
        {
          "output_type": "stream",
          "name": "stdout",
          "text": [
            "                   all        189        263     0.0372     0.0375     0.0359     0.0166\n"
          ]
        },
        {
          "output_type": "stream",
          "name": "stderr",
          "text": [
            "\n"
          ]
        },
        {
          "output_type": "stream",
          "name": "stdout",
          "text": [
            "\n",
            "      Epoch    GPU_mem   box_loss   cls_loss   dfl_loss  Instances       Size\n"
          ]
        },
        {
          "output_type": "stream",
          "name": "stderr",
          "text": [
            "     61/200      3.58G       1.21      1.011      1.529         12        640: 100%|██████████| 54/54 [00:14<00:00,  3.79it/s]\n",
            "                 Class     Images  Instances      Box(P          R      mAP50  mAP50-95): 100%|██████████| 6/6 [00:02<00:00,  2.61it/s]"
          ]
        },
        {
          "output_type": "stream",
          "name": "stdout",
          "text": [
            "                   all        189        263      0.066       0.15     0.0687     0.0312\n"
          ]
        },
        {
          "output_type": "stream",
          "name": "stderr",
          "text": [
            "\n"
          ]
        },
        {
          "output_type": "stream",
          "name": "stdout",
          "text": [
            "\n",
            "      Epoch    GPU_mem   box_loss   cls_loss   dfl_loss  Instances       Size\n"
          ]
        },
        {
          "output_type": "stream",
          "name": "stderr",
          "text": [
            "     62/200      3.59G      1.196     0.9985      1.512         12        640: 100%|██████████| 54/54 [00:13<00:00,  3.90it/s]\n",
            "                 Class     Images  Instances      Box(P          R      mAP50  mAP50-95): 100%|██████████| 6/6 [00:01<00:00,  3.83it/s]"
          ]
        },
        {
          "output_type": "stream",
          "name": "stdout",
          "text": [
            "                   all        189        263     0.0521      0.179      0.074     0.0326\n"
          ]
        },
        {
          "output_type": "stream",
          "name": "stderr",
          "text": [
            "\n"
          ]
        },
        {
          "output_type": "stream",
          "name": "stdout",
          "text": [
            "\n",
            "      Epoch    GPU_mem   box_loss   cls_loss   dfl_loss  Instances       Size\n"
          ]
        },
        {
          "output_type": "stream",
          "name": "stderr",
          "text": [
            "     63/200      3.62G      1.184     0.9855      1.503          7        640: 100%|██████████| 54/54 [00:13<00:00,  3.86it/s]\n",
            "                 Class     Images  Instances      Box(P          R      mAP50  mAP50-95): 100%|██████████| 6/6 [00:01<00:00,  3.72it/s]"
          ]
        },
        {
          "output_type": "stream",
          "name": "stdout",
          "text": [
            "                   all        189        263     0.0565      0.171      0.062     0.0282\n"
          ]
        },
        {
          "output_type": "stream",
          "name": "stderr",
          "text": [
            "\n"
          ]
        },
        {
          "output_type": "stream",
          "name": "stdout",
          "text": [
            "\n",
            "      Epoch    GPU_mem   box_loss   cls_loss   dfl_loss  Instances       Size\n"
          ]
        },
        {
          "output_type": "stream",
          "name": "stderr",
          "text": [
            "     64/200      3.62G      1.208     0.9859      1.508         13        640: 100%|██████████| 54/54 [00:13<00:00,  3.96it/s]\n",
            "                 Class     Images  Instances      Box(P          R      mAP50  mAP50-95): 100%|██████████| 6/6 [00:01<00:00,  3.60it/s]"
          ]
        },
        {
          "output_type": "stream",
          "name": "stdout",
          "text": [
            "                   all        189        263     0.0994     0.0875     0.0802     0.0314\n"
          ]
        },
        {
          "output_type": "stream",
          "name": "stderr",
          "text": [
            "\n"
          ]
        },
        {
          "output_type": "stream",
          "name": "stdout",
          "text": [
            "\n",
            "      Epoch    GPU_mem   box_loss   cls_loss   dfl_loss  Instances       Size\n"
          ]
        },
        {
          "output_type": "stream",
          "name": "stderr",
          "text": [
            "     65/200      3.65G      1.187     0.9602      1.483         21        640: 100%|██████████| 54/54 [00:14<00:00,  3.77it/s]\n",
            "                 Class     Images  Instances      Box(P          R      mAP50  mAP50-95): 100%|██████████| 6/6 [00:02<00:00,  2.39it/s]"
          ]
        },
        {
          "output_type": "stream",
          "name": "stdout",
          "text": [
            "                   all        189        263     0.0495      0.238       0.08     0.0419\n"
          ]
        },
        {
          "output_type": "stream",
          "name": "stderr",
          "text": [
            "\n"
          ]
        },
        {
          "output_type": "stream",
          "name": "stdout",
          "text": [
            "\n",
            "      Epoch    GPU_mem   box_loss   cls_loss   dfl_loss  Instances       Size\n"
          ]
        },
        {
          "output_type": "stream",
          "name": "stderr",
          "text": [
            "     66/200      3.66G      1.188     0.9774      1.493          9        640: 100%|██████████| 54/54 [00:13<00:00,  3.92it/s]\n",
            "                 Class     Images  Instances      Box(P          R      mAP50  mAP50-95): 100%|██████████| 6/6 [00:01<00:00,  3.56it/s]"
          ]
        },
        {
          "output_type": "stream",
          "name": "stdout",
          "text": [
            "                   all        189        263     0.0882     0.0542     0.0546     0.0279\n"
          ]
        },
        {
          "output_type": "stream",
          "name": "stderr",
          "text": [
            "\n"
          ]
        },
        {
          "output_type": "stream",
          "name": "stdout",
          "text": [
            "\n",
            "      Epoch    GPU_mem   box_loss   cls_loss   dfl_loss  Instances       Size\n"
          ]
        },
        {
          "output_type": "stream",
          "name": "stderr",
          "text": [
            "     67/200      3.69G      1.182     0.9817      1.501         13        640: 100%|██████████| 54/54 [00:14<00:00,  3.78it/s]\n",
            "                 Class     Images  Instances      Box(P          R      mAP50  mAP50-95): 100%|██████████| 6/6 [00:01<00:00,  3.25it/s]"
          ]
        },
        {
          "output_type": "stream",
          "name": "stdout",
          "text": [
            "                   all        189        263     0.0806      0.075     0.0694     0.0318\n"
          ]
        },
        {
          "output_type": "stream",
          "name": "stderr",
          "text": [
            "\n"
          ]
        },
        {
          "output_type": "stream",
          "name": "stdout",
          "text": [
            "\n",
            "      Epoch    GPU_mem   box_loss   cls_loss   dfl_loss  Instances       Size\n"
          ]
        },
        {
          "output_type": "stream",
          "name": "stderr",
          "text": [
            "     68/200      3.69G       1.17     0.9489      1.488         14        640: 100%|██████████| 54/54 [00:14<00:00,  3.82it/s]\n",
            "                 Class     Images  Instances      Box(P          R      mAP50  mAP50-95): 100%|██████████| 6/6 [00:01<00:00,  3.65it/s]"
          ]
        },
        {
          "output_type": "stream",
          "name": "stdout",
          "text": [
            "                   all        189        263     0.0315      0.225     0.0532     0.0282\n"
          ]
        },
        {
          "output_type": "stream",
          "name": "stderr",
          "text": [
            "\n"
          ]
        },
        {
          "output_type": "stream",
          "name": "stdout",
          "text": [
            "\n",
            "      Epoch    GPU_mem   box_loss   cls_loss   dfl_loss  Instances       Size\n"
          ]
        },
        {
          "output_type": "stream",
          "name": "stderr",
          "text": [
            "     69/200      3.72G      1.156     0.9217      1.461         18        640: 100%|██████████| 54/54 [00:14<00:00,  3.85it/s]\n",
            "                 Class     Images  Instances      Box(P          R      mAP50  mAP50-95): 100%|██████████| 6/6 [00:02<00:00,  2.32it/s]"
          ]
        },
        {
          "output_type": "stream",
          "name": "stdout",
          "text": [
            "                   all        189        263     0.0586      0.188     0.0638     0.0312\n"
          ]
        },
        {
          "output_type": "stream",
          "name": "stderr",
          "text": [
            "\n"
          ]
        },
        {
          "output_type": "stream",
          "name": "stdout",
          "text": [
            "\n",
            "      Epoch    GPU_mem   box_loss   cls_loss   dfl_loss  Instances       Size\n"
          ]
        },
        {
          "output_type": "stream",
          "name": "stderr",
          "text": [
            "     70/200      3.73G      1.169     0.9286       1.48         15        640: 100%|██████████| 54/54 [00:14<00:00,  3.81it/s]\n",
            "                 Class     Images  Instances      Box(P          R      mAP50  mAP50-95): 100%|██████████| 6/6 [00:01<00:00,  3.47it/s]"
          ]
        },
        {
          "output_type": "stream",
          "name": "stdout",
          "text": [
            "                   all        189        263     0.0637     0.0917     0.0558     0.0254\n"
          ]
        },
        {
          "output_type": "stream",
          "name": "stderr",
          "text": [
            "\n"
          ]
        },
        {
          "output_type": "stream",
          "name": "stdout",
          "text": [
            "\n",
            "      Epoch    GPU_mem   box_loss   cls_loss   dfl_loss  Instances       Size\n"
          ]
        },
        {
          "output_type": "stream",
          "name": "stderr",
          "text": [
            "     71/200      3.75G      1.169     0.9186      1.474         14        640: 100%|██████████| 54/54 [00:13<00:00,  3.86it/s]\n",
            "                 Class     Images  Instances      Box(P          R      mAP50  mAP50-95): 100%|██████████| 6/6 [00:01<00:00,  3.81it/s]"
          ]
        },
        {
          "output_type": "stream",
          "name": "stdout",
          "text": [
            "                   all        189        263      0.057      0.192     0.0759     0.0348\n"
          ]
        },
        {
          "output_type": "stream",
          "name": "stderr",
          "text": [
            "\n"
          ]
        },
        {
          "output_type": "stream",
          "name": "stdout",
          "text": [
            "\n",
            "      Epoch    GPU_mem   box_loss   cls_loss   dfl_loss  Instances       Size\n"
          ]
        },
        {
          "output_type": "stream",
          "name": "stderr",
          "text": [
            "     72/200      3.76G      1.178     0.9345      1.477         16        640: 100%|██████████| 54/54 [00:13<00:00,  3.91it/s]\n",
            "                 Class     Images  Instances      Box(P          R      mAP50  mAP50-95): 100%|██████████| 6/6 [00:01<00:00,  3.76it/s]"
          ]
        },
        {
          "output_type": "stream",
          "name": "stdout",
          "text": [
            "                   all        189        263     0.0688      0.158     0.0719     0.0348\n"
          ]
        },
        {
          "output_type": "stream",
          "name": "stderr",
          "text": [
            "\n"
          ]
        },
        {
          "output_type": "stream",
          "name": "stdout",
          "text": [
            "\n",
            "      Epoch    GPU_mem   box_loss   cls_loss   dfl_loss  Instances       Size\n"
          ]
        },
        {
          "output_type": "stream",
          "name": "stderr",
          "text": [
            "     73/200      3.79G      1.182     0.9677      1.504         13        640: 100%|██████████| 54/54 [00:14<00:00,  3.85it/s]\n",
            "                 Class     Images  Instances      Box(P          R      mAP50  mAP50-95): 100%|██████████| 6/6 [00:02<00:00,  2.25it/s]"
          ]
        },
        {
          "output_type": "stream",
          "name": "stdout",
          "text": [
            "                   all        189        263     0.0772     0.0792     0.0599     0.0257\n"
          ]
        },
        {
          "output_type": "stream",
          "name": "stderr",
          "text": [
            "\n"
          ]
        },
        {
          "output_type": "stream",
          "name": "stdout",
          "text": [
            "\n",
            "      Epoch    GPU_mem   box_loss   cls_loss   dfl_loss  Instances       Size\n"
          ]
        },
        {
          "output_type": "stream",
          "name": "stderr",
          "text": [
            "     74/200       3.8G      1.152     0.9018      1.446         18        640: 100%|██████████| 54/54 [00:13<00:00,  3.86it/s]\n",
            "                 Class     Images  Instances      Box(P          R      mAP50  mAP50-95): 100%|██████████| 6/6 [00:01<00:00,  3.76it/s]"
          ]
        },
        {
          "output_type": "stream",
          "name": "stdout",
          "text": [
            "                   all        189        263     0.0383      0.204     0.0693     0.0358\n"
          ]
        },
        {
          "output_type": "stream",
          "name": "stderr",
          "text": [
            "\n"
          ]
        },
        {
          "output_type": "stream",
          "name": "stdout",
          "text": [
            "\n",
            "      Epoch    GPU_mem   box_loss   cls_loss   dfl_loss  Instances       Size\n"
          ]
        },
        {
          "output_type": "stream",
          "name": "stderr",
          "text": [
            "     75/200      3.82G      1.134     0.8867      1.451         19        640: 100%|██████████| 54/54 [00:14<00:00,  3.84it/s]\n",
            "                 Class     Images  Instances      Box(P          R      mAP50  mAP50-95): 100%|██████████| 6/6 [00:01<00:00,  3.50it/s]"
          ]
        },
        {
          "output_type": "stream",
          "name": "stdout",
          "text": [
            "                   all        189        263     0.0328      0.192     0.0407      0.019\n"
          ]
        },
        {
          "output_type": "stream",
          "name": "stderr",
          "text": [
            "\n"
          ]
        },
        {
          "output_type": "stream",
          "name": "stdout",
          "text": [
            "\n",
            "      Epoch    GPU_mem   box_loss   cls_loss   dfl_loss  Instances       Size\n"
          ]
        },
        {
          "output_type": "stream",
          "name": "stderr",
          "text": [
            "     76/200      3.83G      1.123     0.9051      1.454         14        640: 100%|██████████| 54/54 [00:14<00:00,  3.83it/s]\n",
            "                 Class     Images  Instances      Box(P          R      mAP50  mAP50-95): 100%|██████████| 6/6 [00:01<00:00,  3.85it/s]"
          ]
        },
        {
          "output_type": "stream",
          "name": "stdout",
          "text": [
            "                   all        189        263     0.0381      0.167      0.047     0.0215\n"
          ]
        },
        {
          "output_type": "stream",
          "name": "stderr",
          "text": [
            "\n"
          ]
        },
        {
          "output_type": "stream",
          "name": "stdout",
          "text": [
            "\n",
            "      Epoch    GPU_mem   box_loss   cls_loss   dfl_loss  Instances       Size\n"
          ]
        },
        {
          "output_type": "stream",
          "name": "stderr",
          "text": [
            "     77/200      3.86G      1.145     0.8896      1.465         14        640: 100%|██████████| 54/54 [00:13<00:00,  3.88it/s]\n",
            "                 Class     Images  Instances      Box(P          R      mAP50  mAP50-95): 100%|██████████| 6/6 [00:02<00:00,  2.23it/s]"
          ]
        },
        {
          "output_type": "stream",
          "name": "stdout",
          "text": [
            "                   all        189        263     0.0584     0.0792     0.0355     0.0144\n"
          ]
        },
        {
          "output_type": "stream",
          "name": "stderr",
          "text": [
            "\n"
          ]
        },
        {
          "output_type": "stream",
          "name": "stdout",
          "text": [
            "\n",
            "      Epoch    GPU_mem   box_loss   cls_loss   dfl_loss  Instances       Size\n"
          ]
        },
        {
          "output_type": "stream",
          "name": "stderr",
          "text": [
            "     78/200      3.86G      1.144     0.8753      1.456          9        640: 100%|██████████| 54/54 [00:13<00:00,  3.86it/s]\n",
            "                 Class     Images  Instances      Box(P          R      mAP50  mAP50-95): 100%|██████████| 6/6 [00:01<00:00,  3.64it/s]"
          ]
        },
        {
          "output_type": "stream",
          "name": "stdout",
          "text": [
            "                   all        189        263     0.0432      0.208     0.0579     0.0253\n"
          ]
        },
        {
          "output_type": "stream",
          "name": "stderr",
          "text": [
            "\n"
          ]
        },
        {
          "output_type": "stream",
          "name": "stdout",
          "text": [
            "\n",
            "      Epoch    GPU_mem   box_loss   cls_loss   dfl_loss  Instances       Size\n"
          ]
        },
        {
          "output_type": "stream",
          "name": "stderr",
          "text": [
            "     79/200      3.89G      1.093     0.8849      1.426         19        640: 100%|██████████| 54/54 [00:14<00:00,  3.84it/s]\n",
            "                 Class     Images  Instances      Box(P          R      mAP50  mAP50-95): 100%|██████████| 6/6 [00:01<00:00,  3.37it/s]"
          ]
        },
        {
          "output_type": "stream",
          "name": "stdout",
          "text": [
            "                   all        189        263     0.0428      0.196     0.0631     0.0277\n"
          ]
        },
        {
          "output_type": "stream",
          "name": "stderr",
          "text": [
            "\n"
          ]
        },
        {
          "output_type": "stream",
          "name": "stdout",
          "text": [
            "\n",
            "      Epoch    GPU_mem   box_loss   cls_loss   dfl_loss  Instances       Size\n"
          ]
        },
        {
          "output_type": "stream",
          "name": "stderr",
          "text": [
            "     80/200       3.9G       1.13     0.9094      1.471          6        640: 100%|██████████| 54/54 [00:14<00:00,  3.71it/s]\n",
            "                 Class     Images  Instances      Box(P          R      mAP50  mAP50-95): 100%|██████████| 6/6 [00:01<00:00,  3.90it/s]"
          ]
        },
        {
          "output_type": "stream",
          "name": "stdout",
          "text": [
            "                   all        189        263     0.0457      0.208     0.0656     0.0286\n"
          ]
        },
        {
          "output_type": "stream",
          "name": "stderr",
          "text": [
            "\n"
          ]
        },
        {
          "output_type": "stream",
          "name": "stdout",
          "text": [
            "\n",
            "      Epoch    GPU_mem   box_loss   cls_loss   dfl_loss  Instances       Size\n"
          ]
        },
        {
          "output_type": "stream",
          "name": "stderr",
          "text": [
            "     81/200      3.92G      1.099     0.8684      1.439         12        640: 100%|██████████| 54/54 [00:14<00:00,  3.78it/s]\n",
            "                 Class     Images  Instances      Box(P          R      mAP50  mAP50-95): 100%|██████████| 6/6 [00:02<00:00,  2.20it/s]"
          ]
        },
        {
          "output_type": "stream",
          "name": "stdout",
          "text": [
            "                   all        189        263     0.0753     0.0417     0.0377     0.0191\n"
          ]
        },
        {
          "output_type": "stream",
          "name": "stderr",
          "text": [
            "\n"
          ]
        },
        {
          "output_type": "stream",
          "name": "stdout",
          "text": [
            "\n",
            "      Epoch    GPU_mem   box_loss   cls_loss   dfl_loss  Instances       Size\n"
          ]
        },
        {
          "output_type": "stream",
          "name": "stderr",
          "text": [
            "     82/200      3.93G      1.124     0.8651      1.458         18        640: 100%|██████████| 54/54 [00:14<00:00,  3.78it/s]\n",
            "                 Class     Images  Instances      Box(P          R      mAP50  mAP50-95): 100%|██████████| 6/6 [00:01<00:00,  3.46it/s]"
          ]
        },
        {
          "output_type": "stream",
          "name": "stdout",
          "text": [
            "                   all        189        263      0.038      0.192     0.0612     0.0292\n"
          ]
        },
        {
          "output_type": "stream",
          "name": "stderr",
          "text": [
            "\n"
          ]
        },
        {
          "output_type": "stream",
          "name": "stdout",
          "text": [
            "\n",
            "      Epoch    GPU_mem   box_loss   cls_loss   dfl_loss  Instances       Size\n"
          ]
        },
        {
          "output_type": "stream",
          "name": "stderr",
          "text": [
            "     83/200      3.96G      1.106     0.8636      1.419         14        640: 100%|██████████| 54/54 [00:14<00:00,  3.81it/s]\n",
            "                 Class     Images  Instances      Box(P          R      mAP50  mAP50-95): 100%|██████████| 6/6 [00:01<00:00,  3.78it/s]"
          ]
        },
        {
          "output_type": "stream",
          "name": "stdout",
          "text": [
            "                   all        189        263     0.0729      0.108     0.0657     0.0308\n"
          ]
        },
        {
          "output_type": "stream",
          "name": "stderr",
          "text": [
            "\n"
          ]
        },
        {
          "output_type": "stream",
          "name": "stdout",
          "text": [
            "\n",
            "      Epoch    GPU_mem   box_loss   cls_loss   dfl_loss  Instances       Size\n"
          ]
        },
        {
          "output_type": "stream",
          "name": "stderr",
          "text": [
            "     84/200      3.97G      1.055     0.8218        1.4         11        640: 100%|██████████| 54/54 [00:13<00:00,  3.89it/s]\n",
            "                 Class     Images  Instances      Box(P          R      mAP50  mAP50-95): 100%|██████████| 6/6 [00:01<00:00,  3.67it/s]"
          ]
        },
        {
          "output_type": "stream",
          "name": "stdout",
          "text": [
            "                   all        189        263     0.0399        0.2     0.0602     0.0326\n"
          ]
        },
        {
          "output_type": "stream",
          "name": "stderr",
          "text": [
            "\n"
          ]
        },
        {
          "output_type": "stream",
          "name": "stdout",
          "text": [
            "\n",
            "      Epoch    GPU_mem   box_loss   cls_loss   dfl_loss  Instances       Size\n"
          ]
        },
        {
          "output_type": "stream",
          "name": "stderr",
          "text": [
            "     85/200      3.99G      1.097     0.8201      1.418         10        640: 100%|██████████| 54/54 [00:14<00:00,  3.81it/s]\n",
            "                 Class     Images  Instances      Box(P          R      mAP50  mAP50-95): 100%|██████████| 6/6 [00:02<00:00,  2.28it/s]"
          ]
        },
        {
          "output_type": "stream",
          "name": "stdout",
          "text": [
            "                   all        189        263     0.0757     0.0667     0.0602     0.0254\n"
          ]
        },
        {
          "output_type": "stream",
          "name": "stderr",
          "text": [
            "\n"
          ]
        },
        {
          "output_type": "stream",
          "name": "stdout",
          "text": [
            "\n",
            "      Epoch    GPU_mem   box_loss   cls_loss   dfl_loss  Instances       Size\n"
          ]
        },
        {
          "output_type": "stream",
          "name": "stderr",
          "text": [
            "     86/200         4G      1.094     0.8521      1.421         10        640: 100%|██████████| 54/54 [00:13<00:00,  3.88it/s]\n",
            "                 Class     Images  Instances      Box(P          R      mAP50  mAP50-95): 100%|██████████| 6/6 [00:01<00:00,  3.76it/s]"
          ]
        },
        {
          "output_type": "stream",
          "name": "stdout",
          "text": [
            "                   all        189        263      0.126     0.0792     0.0892     0.0419\n"
          ]
        },
        {
          "output_type": "stream",
          "name": "stderr",
          "text": [
            "\n"
          ]
        },
        {
          "output_type": "stream",
          "name": "stdout",
          "text": [
            "\n",
            "      Epoch    GPU_mem   box_loss   cls_loss   dfl_loss  Instances       Size\n"
          ]
        },
        {
          "output_type": "stream",
          "name": "stderr",
          "text": [
            "     87/200      4.03G      1.063     0.7989      1.407          4        640: 100%|██████████| 54/54 [00:13<00:00,  3.88it/s]\n",
            "                 Class     Images  Instances      Box(P          R      mAP50  mAP50-95): 100%|██████████| 6/6 [00:01<00:00,  3.40it/s]"
          ]
        },
        {
          "output_type": "stream",
          "name": "stdout",
          "text": [
            "                   all        189        263     0.0441      0.208     0.0839      0.042\n"
          ]
        },
        {
          "output_type": "stream",
          "name": "stderr",
          "text": [
            "\n"
          ]
        },
        {
          "output_type": "stream",
          "name": "stdout",
          "text": [
            "\n",
            "      Epoch    GPU_mem   box_loss   cls_loss   dfl_loss  Instances       Size\n"
          ]
        },
        {
          "output_type": "stream",
          "name": "stderr",
          "text": [
            "     88/200      4.04G      1.083     0.8418      1.417         23        640: 100%|██████████| 54/54 [00:13<00:00,  3.91it/s]\n",
            "                 Class     Images  Instances      Box(P          R      mAP50  mAP50-95): 100%|██████████| 6/6 [00:01<00:00,  3.66it/s]"
          ]
        },
        {
          "output_type": "stream",
          "name": "stdout",
          "text": [
            "                   all        189        263      0.126     0.0667     0.0918     0.0436\n"
          ]
        },
        {
          "output_type": "stream",
          "name": "stderr",
          "text": [
            "\n"
          ]
        },
        {
          "output_type": "stream",
          "name": "stdout",
          "text": [
            "\n",
            "      Epoch    GPU_mem   box_loss   cls_loss   dfl_loss  Instances       Size\n"
          ]
        },
        {
          "output_type": "stream",
          "name": "stderr",
          "text": [
            "     89/200      4.06G      1.107     0.8738      1.441         17        640: 100%|██████████| 54/54 [00:13<00:00,  3.86it/s]\n",
            "                 Class     Images  Instances      Box(P          R      mAP50  mAP50-95): 100%|██████████| 6/6 [00:02<00:00,  2.35it/s]"
          ]
        },
        {
          "output_type": "stream",
          "name": "stdout",
          "text": [
            "                   all        189        263     0.0591      0.163     0.0706      0.032\n"
          ]
        },
        {
          "output_type": "stream",
          "name": "stderr",
          "text": [
            "\n"
          ]
        },
        {
          "output_type": "stream",
          "name": "stdout",
          "text": [
            "\n",
            "      Epoch    GPU_mem   box_loss   cls_loss   dfl_loss  Instances       Size\n"
          ]
        },
        {
          "output_type": "stream",
          "name": "stderr",
          "text": [
            "     90/200      4.07G      1.062     0.7889      1.387         22        640: 100%|██████████| 54/54 [00:13<00:00,  3.87it/s]\n",
            "                 Class     Images  Instances      Box(P          R      mAP50  mAP50-95): 100%|██████████| 6/6 [00:01<00:00,  3.48it/s]"
          ]
        },
        {
          "output_type": "stream",
          "name": "stdout",
          "text": [
            "                   all        189        263     0.0464      0.229     0.0662     0.0324\n"
          ]
        },
        {
          "output_type": "stream",
          "name": "stderr",
          "text": [
            "\n"
          ]
        },
        {
          "output_type": "stream",
          "name": "stdout",
          "text": [
            "\n",
            "      Epoch    GPU_mem   box_loss   cls_loss   dfl_loss  Instances       Size\n"
          ]
        },
        {
          "output_type": "stream",
          "name": "stderr",
          "text": [
            "     91/200      4.09G      1.047     0.7899      1.397          9        640: 100%|██████████| 54/54 [00:14<00:00,  3.74it/s]\n",
            "                 Class     Images  Instances      Box(P          R      mAP50  mAP50-95): 100%|██████████| 6/6 [00:01<00:00,  3.83it/s]"
          ]
        },
        {
          "output_type": "stream",
          "name": "stdout",
          "text": [
            "                   all        189        263     0.0515      0.192     0.0631     0.0294\n"
          ]
        },
        {
          "output_type": "stream",
          "name": "stderr",
          "text": [
            "\n"
          ]
        },
        {
          "output_type": "stream",
          "name": "stdout",
          "text": [
            "\n",
            "      Epoch    GPU_mem   box_loss   cls_loss   dfl_loss  Instances       Size\n"
          ]
        },
        {
          "output_type": "stream",
          "name": "stderr",
          "text": [
            "     92/200       4.1G      1.033     0.7996       1.38         16        640: 100%|██████████| 54/54 [00:14<00:00,  3.81it/s]\n",
            "                 Class     Images  Instances      Box(P          R      mAP50  mAP50-95): 100%|██████████| 6/6 [00:01<00:00,  3.84it/s]"
          ]
        },
        {
          "output_type": "stream",
          "name": "stdout",
          "text": [
            "                   all        189        263      0.044      0.175      0.066     0.0326\n"
          ]
        },
        {
          "output_type": "stream",
          "name": "stderr",
          "text": [
            "\n"
          ]
        },
        {
          "output_type": "stream",
          "name": "stdout",
          "text": [
            "\n",
            "      Epoch    GPU_mem   box_loss   cls_loss   dfl_loss  Instances       Size\n"
          ]
        },
        {
          "output_type": "stream",
          "name": "stderr",
          "text": [
            "     93/200      4.13G      1.055     0.8184      1.401         10        640: 100%|██████████| 54/54 [00:14<00:00,  3.75it/s]\n",
            "                 Class     Images  Instances      Box(P          R      mAP50  mAP50-95): 100%|██████████| 6/6 [00:02<00:00,  2.29it/s]"
          ]
        },
        {
          "output_type": "stream",
          "name": "stdout",
          "text": [
            "                   all        189        263     0.0486      0.225     0.0685     0.0299\n"
          ]
        },
        {
          "output_type": "stream",
          "name": "stderr",
          "text": [
            "\n"
          ]
        },
        {
          "output_type": "stream",
          "name": "stdout",
          "text": [
            "\n",
            "      Epoch    GPU_mem   box_loss   cls_loss   dfl_loss  Instances       Size\n"
          ]
        },
        {
          "output_type": "stream",
          "name": "stderr",
          "text": [
            "     94/200      4.14G      1.051     0.8041      1.397         13        640: 100%|██████████| 54/54 [00:14<00:00,  3.74it/s]\n",
            "                 Class     Images  Instances      Box(P          R      mAP50  mAP50-95): 100%|██████████| 6/6 [00:01<00:00,  3.84it/s]"
          ]
        },
        {
          "output_type": "stream",
          "name": "stdout",
          "text": [
            "                   all        189        263     0.0739      0.171     0.0759     0.0417\n"
          ]
        },
        {
          "output_type": "stream",
          "name": "stderr",
          "text": [
            "\n"
          ]
        },
        {
          "output_type": "stream",
          "name": "stdout",
          "text": [
            "\n",
            "      Epoch    GPU_mem   box_loss   cls_loss   dfl_loss  Instances       Size\n"
          ]
        },
        {
          "output_type": "stream",
          "name": "stderr",
          "text": [
            "     95/200      4.16G      1.051     0.7857       1.38         13        640: 100%|██████████| 54/54 [00:14<00:00,  3.83it/s]\n",
            "                 Class     Images  Instances      Box(P          R      mAP50  mAP50-95): 100%|██████████| 6/6 [00:01<00:00,  3.55it/s]"
          ]
        },
        {
          "output_type": "stream",
          "name": "stdout",
          "text": [
            "                   all        189        263     0.0541      0.233     0.0857     0.0402\n"
          ]
        },
        {
          "output_type": "stream",
          "name": "stderr",
          "text": [
            "\n"
          ]
        },
        {
          "output_type": "stream",
          "name": "stdout",
          "text": [
            "\n",
            "      Epoch    GPU_mem   box_loss   cls_loss   dfl_loss  Instances       Size\n"
          ]
        },
        {
          "output_type": "stream",
          "name": "stderr",
          "text": [
            "     96/200      4.17G      1.079     0.8084      1.412          5        640: 100%|██████████| 54/54 [00:13<00:00,  3.88it/s]\n",
            "                 Class     Images  Instances      Box(P          R      mAP50  mAP50-95): 100%|██████████| 6/6 [00:01<00:00,  3.48it/s]"
          ]
        },
        {
          "output_type": "stream",
          "name": "stdout",
          "text": [
            "                   all        189        263     0.0922       0.22      0.114     0.0551\n"
          ]
        },
        {
          "output_type": "stream",
          "name": "stderr",
          "text": [
            "\n"
          ]
        },
        {
          "output_type": "stream",
          "name": "stdout",
          "text": [
            "\n",
            "      Epoch    GPU_mem   box_loss   cls_loss   dfl_loss  Instances       Size\n"
          ]
        },
        {
          "output_type": "stream",
          "name": "stderr",
          "text": [
            "     97/200       4.2G      1.052     0.8056      1.389         13        640: 100%|██████████| 54/54 [00:14<00:00,  3.75it/s]\n",
            "                 Class     Images  Instances      Box(P          R      mAP50  mAP50-95): 100%|██████████| 6/6 [00:02<00:00,  2.46it/s]"
          ]
        },
        {
          "output_type": "stream",
          "name": "stdout",
          "text": [
            "                   all        189        263      0.115      0.075     0.0858     0.0377\n"
          ]
        },
        {
          "output_type": "stream",
          "name": "stderr",
          "text": [
            "\n"
          ]
        },
        {
          "output_type": "stream",
          "name": "stdout",
          "text": [
            "\n",
            "      Epoch    GPU_mem   box_loss   cls_loss   dfl_loss  Instances       Size\n"
          ]
        },
        {
          "output_type": "stream",
          "name": "stderr",
          "text": [
            "     98/200      4.21G      1.047     0.7813      1.384         13        640: 100%|██████████| 54/54 [00:13<00:00,  3.86it/s]\n",
            "                 Class     Images  Instances      Box(P          R      mAP50  mAP50-95): 100%|██████████| 6/6 [00:01<00:00,  3.55it/s]"
          ]
        },
        {
          "output_type": "stream",
          "name": "stdout",
          "text": [
            "                   all        189        263     0.0709      0.196     0.0946     0.0476\n"
          ]
        },
        {
          "output_type": "stream",
          "name": "stderr",
          "text": [
            "\n"
          ]
        },
        {
          "output_type": "stream",
          "name": "stdout",
          "text": [
            "\n",
            "      Epoch    GPU_mem   box_loss   cls_loss   dfl_loss  Instances       Size\n"
          ]
        },
        {
          "output_type": "stream",
          "name": "stderr",
          "text": [
            "     99/200      4.23G      1.044     0.7872      1.387         13        640: 100%|██████████| 54/54 [00:14<00:00,  3.77it/s]\n",
            "                 Class     Images  Instances      Box(P          R      mAP50  mAP50-95): 100%|██████████| 6/6 [00:01<00:00,  3.82it/s]"
          ]
        },
        {
          "output_type": "stream",
          "name": "stdout",
          "text": [
            "                   all        189        263      0.149      0.104      0.124     0.0546\n"
          ]
        },
        {
          "output_type": "stream",
          "name": "stderr",
          "text": [
            "\n"
          ]
        },
        {
          "output_type": "stream",
          "name": "stdout",
          "text": [
            "\n",
            "      Epoch    GPU_mem   box_loss   cls_loss   dfl_loss  Instances       Size\n"
          ]
        },
        {
          "output_type": "stream",
          "name": "stderr",
          "text": [
            "    100/200      4.24G      1.004     0.7696      1.354         12        640: 100%|██████████| 54/54 [00:14<00:00,  3.83it/s]\n",
            "                 Class     Images  Instances      Box(P          R      mAP50  mAP50-95): 100%|██████████| 6/6 [00:01<00:00,  3.68it/s]"
          ]
        },
        {
          "output_type": "stream",
          "name": "stdout",
          "text": [
            "                   all        189        263     0.0841      0.075     0.0662     0.0285\n"
          ]
        },
        {
          "output_type": "stream",
          "name": "stderr",
          "text": [
            "\n"
          ]
        },
        {
          "output_type": "stream",
          "name": "stdout",
          "text": [
            "\n",
            "      Epoch    GPU_mem   box_loss   cls_loss   dfl_loss  Instances       Size\n"
          ]
        },
        {
          "output_type": "stream",
          "name": "stderr",
          "text": [
            "    101/200      4.27G      1.034     0.7816      1.374         13        640: 100%|██████████| 54/54 [00:14<00:00,  3.82it/s]\n",
            "                 Class     Images  Instances      Box(P          R      mAP50  mAP50-95): 100%|██████████| 6/6 [00:02<00:00,  2.41it/s]"
          ]
        },
        {
          "output_type": "stream",
          "name": "stdout",
          "text": [
            "                   all        189        263      0.129     0.0792     0.0928     0.0419\n"
          ]
        },
        {
          "output_type": "stream",
          "name": "stderr",
          "text": [
            "\n"
          ]
        },
        {
          "output_type": "stream",
          "name": "stdout",
          "text": [
            "\n",
            "      Epoch    GPU_mem   box_loss   cls_loss   dfl_loss  Instances       Size\n"
          ]
        },
        {
          "output_type": "stream",
          "name": "stderr",
          "text": [
            "    102/200      4.27G      1.002     0.7556      1.363          8        640: 100%|██████████| 54/54 [00:13<00:00,  3.87it/s]\n",
            "                 Class     Images  Instances      Box(P          R      mAP50  mAP50-95): 100%|██████████| 6/6 [00:01<00:00,  3.91it/s]"
          ]
        },
        {
          "output_type": "stream",
          "name": "stdout",
          "text": [
            "                   all        189        263     0.0486      0.183     0.0746     0.0326\n"
          ]
        },
        {
          "output_type": "stream",
          "name": "stderr",
          "text": [
            "\n"
          ]
        },
        {
          "output_type": "stream",
          "name": "stdout",
          "text": [
            "\n",
            "      Epoch    GPU_mem   box_loss   cls_loss   dfl_loss  Instances       Size\n"
          ]
        },
        {
          "output_type": "stream",
          "name": "stderr",
          "text": [
            "    103/200       4.3G      1.007     0.7657      1.353         13        640: 100%|██████████| 54/54 [00:13<00:00,  3.88it/s]\n",
            "                 Class     Images  Instances      Box(P          R      mAP50  mAP50-95): 100%|██████████| 6/6 [00:01<00:00,  3.21it/s]"
          ]
        },
        {
          "output_type": "stream",
          "name": "stdout",
          "text": [
            "                   all        189        263      0.133     0.0708     0.0939     0.0432\n"
          ]
        },
        {
          "output_type": "stream",
          "name": "stderr",
          "text": [
            "\n"
          ]
        },
        {
          "output_type": "stream",
          "name": "stdout",
          "text": [
            "\n",
            "      Epoch    GPU_mem   box_loss   cls_loss   dfl_loss  Instances       Size\n"
          ]
        },
        {
          "output_type": "stream",
          "name": "stderr",
          "text": [
            "    104/200      4.31G      1.037     0.7906      1.387         11        640: 100%|██████████| 54/54 [00:13<00:00,  3.87it/s]\n",
            "                 Class     Images  Instances      Box(P          R      mAP50  mAP50-95): 100%|██████████| 6/6 [00:01<00:00,  3.85it/s]"
          ]
        },
        {
          "output_type": "stream",
          "name": "stdout",
          "text": [
            "                   all        189        263      0.117      0.104      0.112     0.0456\n"
          ]
        },
        {
          "output_type": "stream",
          "name": "stderr",
          "text": [
            "\n"
          ]
        },
        {
          "output_type": "stream",
          "name": "stdout",
          "text": [
            "\n",
            "      Epoch    GPU_mem   box_loss   cls_loss   dfl_loss  Instances       Size\n"
          ]
        },
        {
          "output_type": "stream",
          "name": "stderr",
          "text": [
            "    105/200      4.33G      1.018     0.7744      1.367         14        640: 100%|██████████| 54/54 [00:13<00:00,  3.88it/s]\n",
            "                 Class     Images  Instances      Box(P          R      mAP50  mAP50-95): 100%|██████████| 6/6 [00:02<00:00,  2.51it/s]"
          ]
        },
        {
          "output_type": "stream",
          "name": "stdout",
          "text": [
            "                   all        189        263     0.0404      0.188     0.0597     0.0288\n"
          ]
        },
        {
          "output_type": "stream",
          "name": "stderr",
          "text": [
            "\n"
          ]
        },
        {
          "output_type": "stream",
          "name": "stdout",
          "text": [
            "\n",
            "      Epoch    GPU_mem   box_loss   cls_loss   dfl_loss  Instances       Size\n"
          ]
        },
        {
          "output_type": "stream",
          "name": "stderr",
          "text": [
            "    106/200      4.34G      1.017     0.7685      1.362         16        640: 100%|██████████| 54/54 [00:14<00:00,  3.82it/s]\n",
            "                 Class     Images  Instances      Box(P          R      mAP50  mAP50-95): 100%|██████████| 6/6 [00:01<00:00,  3.75it/s]"
          ]
        },
        {
          "output_type": "stream",
          "name": "stdout",
          "text": [
            "                   all        189        263     0.0874      0.158     0.0842     0.0377\n"
          ]
        },
        {
          "output_type": "stream",
          "name": "stderr",
          "text": [
            "\n"
          ]
        },
        {
          "output_type": "stream",
          "name": "stdout",
          "text": [
            "\n",
            "      Epoch    GPU_mem   box_loss   cls_loss   dfl_loss  Instances       Size\n"
          ]
        },
        {
          "output_type": "stream",
          "name": "stderr",
          "text": [
            "    107/200      4.37G      1.007     0.7416      1.369         13        640: 100%|██████████| 54/54 [00:14<00:00,  3.83it/s]\n",
            "                 Class     Images  Instances      Box(P          R      mAP50  mAP50-95): 100%|██████████| 6/6 [00:01<00:00,  3.69it/s]"
          ]
        },
        {
          "output_type": "stream",
          "name": "stdout",
          "text": [
            "                   all        189        263     0.0718      0.129     0.0719     0.0371\n"
          ]
        },
        {
          "output_type": "stream",
          "name": "stderr",
          "text": [
            "\n"
          ]
        },
        {
          "output_type": "stream",
          "name": "stdout",
          "text": [
            "\n",
            "      Epoch    GPU_mem   box_loss   cls_loss   dfl_loss  Instances       Size\n"
          ]
        },
        {
          "output_type": "stream",
          "name": "stderr",
          "text": [
            "    108/200      4.38G     0.9947     0.7295      1.345         14        640: 100%|██████████| 54/54 [00:14<00:00,  3.84it/s]\n",
            "                 Class     Images  Instances      Box(P          R      mAP50  mAP50-95): 100%|██████████| 6/6 [00:01<00:00,  3.94it/s]"
          ]
        },
        {
          "output_type": "stream",
          "name": "stdout",
          "text": [
            "                   all        189        263     0.0928      0.183      0.109     0.0523\n"
          ]
        },
        {
          "output_type": "stream",
          "name": "stderr",
          "text": [
            "\n"
          ]
        },
        {
          "output_type": "stream",
          "name": "stdout",
          "text": [
            "\n",
            "      Epoch    GPU_mem   box_loss   cls_loss   dfl_loss  Instances       Size\n"
          ]
        },
        {
          "output_type": "stream",
          "name": "stderr",
          "text": [
            "    109/200       4.4G     0.9969     0.7267      1.368         10        640: 100%|██████████| 54/54 [00:13<00:00,  3.91it/s]\n",
            "                 Class     Images  Instances      Box(P          R      mAP50  mAP50-95): 100%|██████████| 6/6 [00:02<00:00,  2.42it/s]"
          ]
        },
        {
          "output_type": "stream",
          "name": "stdout",
          "text": [
            "                   all        189        263     0.0658      0.129     0.0616     0.0268\n"
          ]
        },
        {
          "output_type": "stream",
          "name": "stderr",
          "text": [
            "\n"
          ]
        },
        {
          "output_type": "stream",
          "name": "stdout",
          "text": [
            "\n",
            "      Epoch    GPU_mem   box_loss   cls_loss   dfl_loss  Instances       Size\n"
          ]
        },
        {
          "output_type": "stream",
          "name": "stderr",
          "text": [
            "    110/200      4.41G     0.9832     0.7328      1.337         25        640: 100%|██████████| 54/54 [00:14<00:00,  3.81it/s]\n",
            "                 Class     Images  Instances      Box(P          R      mAP50  mAP50-95): 100%|██████████| 6/6 [00:01<00:00,  3.65it/s]"
          ]
        },
        {
          "output_type": "stream",
          "name": "stdout",
          "text": [
            "                   all        189        263     0.0685      0.188     0.0946     0.0381\n"
          ]
        },
        {
          "output_type": "stream",
          "name": "stderr",
          "text": [
            "\n"
          ]
        },
        {
          "output_type": "stream",
          "name": "stdout",
          "text": [
            "\n",
            "      Epoch    GPU_mem   box_loss   cls_loss   dfl_loss  Instances       Size\n"
          ]
        },
        {
          "output_type": "stream",
          "name": "stderr",
          "text": [
            "    111/200      4.44G     0.9701     0.7344      1.341          9        640: 100%|██████████| 54/54 [00:13<00:00,  3.86it/s]\n",
            "                 Class     Images  Instances      Box(P          R      mAP50  mAP50-95): 100%|██████████| 6/6 [00:01<00:00,  3.60it/s]"
          ]
        },
        {
          "output_type": "stream",
          "name": "stdout",
          "text": [
            "                   all        189        263     0.0606      0.183     0.0951     0.0421\n"
          ]
        },
        {
          "output_type": "stream",
          "name": "stderr",
          "text": [
            "\n"
          ]
        },
        {
          "output_type": "stream",
          "name": "stdout",
          "text": [
            "\n",
            "      Epoch    GPU_mem   box_loss   cls_loss   dfl_loss  Instances       Size\n"
          ]
        },
        {
          "output_type": "stream",
          "name": "stderr",
          "text": [
            "    112/200      4.45G     0.9853     0.7251      1.341         13        640: 100%|██████████| 54/54 [00:14<00:00,  3.85it/s]\n",
            "                 Class     Images  Instances      Box(P          R      mAP50  mAP50-95): 100%|██████████| 6/6 [00:01<00:00,  3.98it/s]"
          ]
        },
        {
          "output_type": "stream",
          "name": "stdout",
          "text": [
            "                   all        189        263     0.0446      0.167     0.0792     0.0381\n"
          ]
        },
        {
          "output_type": "stream",
          "name": "stderr",
          "text": [
            "\n"
          ]
        },
        {
          "output_type": "stream",
          "name": "stdout",
          "text": [
            "\n",
            "      Epoch    GPU_mem   box_loss   cls_loss   dfl_loss  Instances       Size\n"
          ]
        },
        {
          "output_type": "stream",
          "name": "stderr",
          "text": [
            "    113/200      4.47G     0.9918     0.7483       1.36         12        640: 100%|██████████| 54/54 [00:13<00:00,  3.90it/s]\n",
            "                 Class     Images  Instances      Box(P          R      mAP50  mAP50-95): 100%|██████████| 6/6 [00:02<00:00,  2.33it/s]"
          ]
        },
        {
          "output_type": "stream",
          "name": "stdout",
          "text": [
            "                   all        189        263     0.0572      0.196     0.0901     0.0401\n"
          ]
        },
        {
          "output_type": "stream",
          "name": "stderr",
          "text": [
            "\n"
          ]
        },
        {
          "output_type": "stream",
          "name": "stdout",
          "text": [
            "\n",
            "      Epoch    GPU_mem   box_loss   cls_loss   dfl_loss  Instances       Size\n"
          ]
        },
        {
          "output_type": "stream",
          "name": "stderr",
          "text": [
            "    114/200      4.48G     0.9929     0.7282      1.345         12        640: 100%|██████████| 54/54 [00:14<00:00,  3.82it/s]\n",
            "                 Class     Images  Instances      Box(P          R      mAP50  mAP50-95): 100%|██████████| 6/6 [00:01<00:00,  3.76it/s]"
          ]
        },
        {
          "output_type": "stream",
          "name": "stdout",
          "text": [
            "                   all        189        263     0.0831       0.15      0.101     0.0541\n"
          ]
        },
        {
          "output_type": "stream",
          "name": "stderr",
          "text": [
            "\n"
          ]
        },
        {
          "output_type": "stream",
          "name": "stdout",
          "text": [
            "\n",
            "      Epoch    GPU_mem   box_loss   cls_loss   dfl_loss  Instances       Size\n"
          ]
        },
        {
          "output_type": "stream",
          "name": "stderr",
          "text": [
            "    115/200       4.5G     0.9734     0.7427      1.342         14        640: 100%|██████████| 54/54 [00:14<00:00,  3.82it/s]\n",
            "                 Class     Images  Instances      Box(P          R      mAP50  mAP50-95): 100%|██████████| 6/6 [00:01<00:00,  3.59it/s]"
          ]
        },
        {
          "output_type": "stream",
          "name": "stdout",
          "text": [
            "                   all        189        263     0.0694      0.192      0.119     0.0566\n"
          ]
        },
        {
          "output_type": "stream",
          "name": "stderr",
          "text": [
            "\n"
          ]
        },
        {
          "output_type": "stream",
          "name": "stdout",
          "text": [
            "\n",
            "      Epoch    GPU_mem   box_loss   cls_loss   dfl_loss  Instances       Size\n"
          ]
        },
        {
          "output_type": "stream",
          "name": "stderr",
          "text": [
            "    116/200      4.51G     0.9826     0.7316      1.345         13        640: 100%|██████████| 54/54 [00:14<00:00,  3.77it/s]\n",
            "                 Class     Images  Instances      Box(P          R      mAP50  mAP50-95): 100%|██████████| 6/6 [00:01<00:00,  3.77it/s]"
          ]
        },
        {
          "output_type": "stream",
          "name": "stdout",
          "text": [
            "                   all        189        263     0.0856        0.2      0.116     0.0558\n"
          ]
        },
        {
          "output_type": "stream",
          "name": "stderr",
          "text": [
            "\n"
          ]
        },
        {
          "output_type": "stream",
          "name": "stdout",
          "text": [
            "\n",
            "      Epoch    GPU_mem   box_loss   cls_loss   dfl_loss  Instances       Size\n"
          ]
        },
        {
          "output_type": "stream",
          "name": "stderr",
          "text": [
            "    117/200      4.54G     0.9621     0.7036      1.324         13        640: 100%|██████████| 54/54 [00:14<00:00,  3.76it/s]\n",
            "                 Class     Images  Instances      Box(P          R      mAP50  mAP50-95): 100%|██████████| 6/6 [00:02<00:00,  2.43it/s]"
          ]
        },
        {
          "output_type": "stream",
          "name": "stdout",
          "text": [
            "                   all        189        263       0.11      0.175       0.12     0.0553\n"
          ]
        },
        {
          "output_type": "stream",
          "name": "stderr",
          "text": [
            "\n"
          ]
        },
        {
          "output_type": "stream",
          "name": "stdout",
          "text": [
            "\n",
            "      Epoch    GPU_mem   box_loss   cls_loss   dfl_loss  Instances       Size\n"
          ]
        },
        {
          "output_type": "stream",
          "name": "stderr",
          "text": [
            "    118/200      4.55G     0.9415     0.6931      1.314         11        640: 100%|██████████| 54/54 [00:14<00:00,  3.81it/s]\n",
            "                 Class     Images  Instances      Box(P          R      mAP50  mAP50-95): 100%|██████████| 6/6 [00:01<00:00,  3.92it/s]"
          ]
        },
        {
          "output_type": "stream",
          "name": "stdout",
          "text": [
            "                   all        189        263     0.0749      0.204      0.111     0.0535\n"
          ]
        },
        {
          "output_type": "stream",
          "name": "stderr",
          "text": [
            "\n"
          ]
        },
        {
          "output_type": "stream",
          "name": "stdout",
          "text": [
            "\n",
            "      Epoch    GPU_mem   box_loss   cls_loss   dfl_loss  Instances       Size\n"
          ]
        },
        {
          "output_type": "stream",
          "name": "stderr",
          "text": [
            "    119/200      4.57G     0.9489     0.6898       1.31          6        640: 100%|██████████| 54/54 [00:14<00:00,  3.80it/s]\n",
            "                 Class     Images  Instances      Box(P          R      mAP50  mAP50-95): 100%|██████████| 6/6 [00:01<00:00,  3.89it/s]"
          ]
        },
        {
          "output_type": "stream",
          "name": "stdout",
          "text": [
            "                   all        189        263     0.0608        0.2     0.0914     0.0397\n"
          ]
        },
        {
          "output_type": "stream",
          "name": "stderr",
          "text": [
            "\n"
          ]
        },
        {
          "output_type": "stream",
          "name": "stdout",
          "text": [
            "\n",
            "      Epoch    GPU_mem   box_loss   cls_loss   dfl_loss  Instances       Size\n"
          ]
        },
        {
          "output_type": "stream",
          "name": "stderr",
          "text": [
            "    120/200      4.58G     0.9214     0.6754      1.313         15        640: 100%|██████████| 54/54 [00:14<00:00,  3.80it/s]\n",
            "                 Class     Images  Instances      Box(P          R      mAP50  mAP50-95): 100%|██████████| 6/6 [00:01<00:00,  3.68it/s]"
          ]
        },
        {
          "output_type": "stream",
          "name": "stdout",
          "text": [
            "                   all        189        263       0.11     0.0792     0.0963     0.0421\n"
          ]
        },
        {
          "output_type": "stream",
          "name": "stderr",
          "text": [
            "\n"
          ]
        },
        {
          "output_type": "stream",
          "name": "stdout",
          "text": [
            "\n",
            "      Epoch    GPU_mem   box_loss   cls_loss   dfl_loss  Instances       Size\n"
          ]
        },
        {
          "output_type": "stream",
          "name": "stderr",
          "text": [
            "    121/200      4.61G     0.9323     0.6945      1.301          6        640: 100%|██████████| 54/54 [00:14<00:00,  3.80it/s]\n",
            "                 Class     Images  Instances      Box(P          R      mAP50  mAP50-95): 100%|██████████| 6/6 [00:02<00:00,  2.28it/s]"
          ]
        },
        {
          "output_type": "stream",
          "name": "stdout",
          "text": [
            "                   all        189        263      0.054      0.217     0.0762     0.0342\n"
          ]
        },
        {
          "output_type": "stream",
          "name": "stderr",
          "text": [
            "\n"
          ]
        },
        {
          "output_type": "stream",
          "name": "stdout",
          "text": [
            "\n",
            "      Epoch    GPU_mem   box_loss   cls_loss   dfl_loss  Instances       Size\n"
          ]
        },
        {
          "output_type": "stream",
          "name": "stderr",
          "text": [
            "    122/200      4.62G     0.9633      0.701      1.332         12        640: 100%|██████████| 54/54 [00:13<00:00,  3.90it/s]\n",
            "                 Class     Images  Instances      Box(P          R      mAP50  mAP50-95): 100%|██████████| 6/6 [00:01<00:00,  3.45it/s]"
          ]
        },
        {
          "output_type": "stream",
          "name": "stdout",
          "text": [
            "                   all        189        263      0.129      0.121      0.105     0.0489\n"
          ]
        },
        {
          "output_type": "stream",
          "name": "stderr",
          "text": [
            "\n"
          ]
        },
        {
          "output_type": "stream",
          "name": "stdout",
          "text": [
            "\n",
            "      Epoch    GPU_mem   box_loss   cls_loss   dfl_loss  Instances       Size\n"
          ]
        },
        {
          "output_type": "stream",
          "name": "stderr",
          "text": [
            "    123/200      4.64G     0.9327     0.7074      1.305         16        640: 100%|██████████| 54/54 [00:14<00:00,  3.79it/s]\n",
            "                 Class     Images  Instances      Box(P          R      mAP50  mAP50-95): 100%|██████████| 6/6 [00:01<00:00,  3.53it/s]"
          ]
        },
        {
          "output_type": "stream",
          "name": "stdout",
          "text": [
            "                   all        189        263     0.0779      0.196      0.105     0.0497\n"
          ]
        },
        {
          "output_type": "stream",
          "name": "stderr",
          "text": [
            "\n"
          ]
        },
        {
          "output_type": "stream",
          "name": "stdout",
          "text": [
            "\n",
            "      Epoch    GPU_mem   box_loss   cls_loss   dfl_loss  Instances       Size\n"
          ]
        },
        {
          "output_type": "stream",
          "name": "stderr",
          "text": [
            "    124/200      4.65G     0.9082     0.6638      1.294          9        640: 100%|██████████| 54/54 [00:14<00:00,  3.83it/s]\n",
            "                 Class     Images  Instances      Box(P          R      mAP50  mAP50-95): 100%|██████████| 6/6 [00:01<00:00,  3.43it/s]"
          ]
        },
        {
          "output_type": "stream",
          "name": "stdout",
          "text": [
            "                   all        189        263     0.0728      0.188     0.0872     0.0405\n"
          ]
        },
        {
          "output_type": "stream",
          "name": "stderr",
          "text": [
            "\n"
          ]
        },
        {
          "output_type": "stream",
          "name": "stdout",
          "text": [
            "\n",
            "      Epoch    GPU_mem   box_loss   cls_loss   dfl_loss  Instances       Size\n"
          ]
        },
        {
          "output_type": "stream",
          "name": "stderr",
          "text": [
            "    125/200      4.68G     0.9241     0.6832      1.295         11        640: 100%|██████████| 54/54 [00:14<00:00,  3.74it/s]\n",
            "                 Class     Images  Instances      Box(P          R      mAP50  mAP50-95): 100%|██████████| 6/6 [00:02<00:00,  2.34it/s]"
          ]
        },
        {
          "output_type": "stream",
          "name": "stdout",
          "text": [
            "                   all        189        263      0.148     0.0667     0.0885     0.0425\n"
          ]
        },
        {
          "output_type": "stream",
          "name": "stderr",
          "text": [
            "\n"
          ]
        },
        {
          "output_type": "stream",
          "name": "stdout",
          "text": [
            "\n",
            "      Epoch    GPU_mem   box_loss   cls_loss   dfl_loss  Instances       Size\n"
          ]
        },
        {
          "output_type": "stream",
          "name": "stderr",
          "text": [
            "    126/200      4.68G     0.8911     0.6624      1.276         10        640: 100%|██████████| 54/54 [00:14<00:00,  3.77it/s]\n",
            "                 Class     Images  Instances      Box(P          R      mAP50  mAP50-95): 100%|██████████| 6/6 [00:01<00:00,  3.43it/s]"
          ]
        },
        {
          "output_type": "stream",
          "name": "stdout",
          "text": [
            "                   all        189        263      0.134      0.104      0.116     0.0485\n"
          ]
        },
        {
          "output_type": "stream",
          "name": "stderr",
          "text": [
            "\n"
          ]
        },
        {
          "output_type": "stream",
          "name": "stdout",
          "text": [
            "\n",
            "      Epoch    GPU_mem   box_loss   cls_loss   dfl_loss  Instances       Size\n"
          ]
        },
        {
          "output_type": "stream",
          "name": "stderr",
          "text": [
            "    127/200      4.71G     0.9445     0.6874      1.301         14        640: 100%|██████████| 54/54 [00:14<00:00,  3.82it/s]\n",
            "                 Class     Images  Instances      Box(P          R      mAP50  mAP50-95): 100%|██████████| 6/6 [00:01<00:00,  3.40it/s]"
          ]
        },
        {
          "output_type": "stream",
          "name": "stdout",
          "text": [
            "                   all        189        263      0.397      0.214      0.266      0.179\n"
          ]
        },
        {
          "output_type": "stream",
          "name": "stderr",
          "text": [
            "\n"
          ]
        },
        {
          "output_type": "stream",
          "name": "stdout",
          "text": [
            "\n",
            "      Epoch    GPU_mem   box_loss   cls_loss   dfl_loss  Instances       Size\n"
          ]
        },
        {
          "output_type": "stream",
          "name": "stderr",
          "text": [
            "    128/200      4.72G     0.9368     0.6911      1.303         14        640: 100%|██████████| 54/54 [00:14<00:00,  3.81it/s]\n",
            "                 Class     Images  Instances      Box(P          R      mAP50  mAP50-95): 100%|██████████| 6/6 [00:01<00:00,  3.67it/s]"
          ]
        },
        {
          "output_type": "stream",
          "name": "stdout",
          "text": [
            "                   all        189        263      0.158     0.0833      0.107       0.05\n"
          ]
        },
        {
          "output_type": "stream",
          "name": "stderr",
          "text": [
            "\n"
          ]
        },
        {
          "output_type": "stream",
          "name": "stdout",
          "text": [
            "\n",
            "      Epoch    GPU_mem   box_loss   cls_loss   dfl_loss  Instances       Size\n"
          ]
        },
        {
          "output_type": "stream",
          "name": "stderr",
          "text": [
            "    129/200      4.74G     0.9219     0.6719      1.297         12        640: 100%|██████████| 54/54 [00:14<00:00,  3.85it/s]\n",
            "                 Class     Images  Instances      Box(P          R      mAP50  mAP50-95): 100%|██████████| 6/6 [00:02<00:00,  2.22it/s]"
          ]
        },
        {
          "output_type": "stream",
          "name": "stdout",
          "text": [
            "                   all        189        263     0.0904      0.188      0.118     0.0527\n"
          ]
        },
        {
          "output_type": "stream",
          "name": "stderr",
          "text": [
            "\n"
          ]
        },
        {
          "output_type": "stream",
          "name": "stdout",
          "text": [
            "\n",
            "      Epoch    GPU_mem   box_loss   cls_loss   dfl_loss  Instances       Size\n"
          ]
        },
        {
          "output_type": "stream",
          "name": "stderr",
          "text": [
            "    130/200      4.75G     0.8967     0.6657      1.291          9        640: 100%|██████████| 54/54 [00:14<00:00,  3.83it/s]\n",
            "                 Class     Images  Instances      Box(P          R      mAP50  mAP50-95): 100%|██████████| 6/6 [00:01<00:00,  3.86it/s]"
          ]
        },
        {
          "output_type": "stream",
          "name": "stdout",
          "text": [
            "                   all        189        263      0.168     0.0958      0.134      0.059\n"
          ]
        },
        {
          "output_type": "stream",
          "name": "stderr",
          "text": [
            "\n"
          ]
        },
        {
          "output_type": "stream",
          "name": "stdout",
          "text": [
            "\n",
            "      Epoch    GPU_mem   box_loss   cls_loss   dfl_loss  Instances       Size\n"
          ]
        },
        {
          "output_type": "stream",
          "name": "stderr",
          "text": [
            "    131/200      4.78G     0.9122     0.6902      1.288         20        640: 100%|██████████| 54/54 [00:14<00:00,  3.79it/s]\n",
            "                 Class     Images  Instances      Box(P          R      mAP50  mAP50-95): 100%|██████████| 6/6 [00:01<00:00,  3.96it/s]"
          ]
        },
        {
          "output_type": "stream",
          "name": "stdout",
          "text": [
            "                   all        189        263     0.0918      0.192      0.109     0.0504\n"
          ]
        },
        {
          "output_type": "stream",
          "name": "stderr",
          "text": [
            "\n"
          ]
        },
        {
          "output_type": "stream",
          "name": "stdout",
          "text": [
            "\n",
            "      Epoch    GPU_mem   box_loss   cls_loss   dfl_loss  Instances       Size\n"
          ]
        },
        {
          "output_type": "stream",
          "name": "stderr",
          "text": [
            "    132/200      4.79G     0.9277     0.6883      1.294         12        640: 100%|██████████| 54/54 [00:14<00:00,  3.81it/s]\n",
            "                 Class     Images  Instances      Box(P          R      mAP50  mAP50-95): 100%|██████████| 6/6 [00:01<00:00,  3.66it/s]"
          ]
        },
        {
          "output_type": "stream",
          "name": "stdout",
          "text": [
            "                   all        189        263      0.118      0.146      0.119     0.0573\n"
          ]
        },
        {
          "output_type": "stream",
          "name": "stderr",
          "text": [
            "\n"
          ]
        },
        {
          "output_type": "stream",
          "name": "stdout",
          "text": [
            "\n",
            "      Epoch    GPU_mem   box_loss   cls_loss   dfl_loss  Instances       Size\n"
          ]
        },
        {
          "output_type": "stream",
          "name": "stderr",
          "text": [
            "    133/200      4.81G     0.8777     0.6675       1.28         15        640: 100%|██████████| 54/54 [00:14<00:00,  3.75it/s]\n",
            "                 Class     Images  Instances      Box(P          R      mAP50  mAP50-95): 100%|██████████| 6/6 [00:02<00:00,  2.29it/s]"
          ]
        },
        {
          "output_type": "stream",
          "name": "stdout",
          "text": [
            "                   all        189        263     0.0823      0.171     0.0981     0.0517\n"
          ]
        },
        {
          "output_type": "stream",
          "name": "stderr",
          "text": [
            "\n"
          ]
        },
        {
          "output_type": "stream",
          "name": "stdout",
          "text": [
            "\n",
            "      Epoch    GPU_mem   box_loss   cls_loss   dfl_loss  Instances       Size\n"
          ]
        },
        {
          "output_type": "stream",
          "name": "stderr",
          "text": [
            "    134/200      4.82G     0.9227     0.6737      1.294         16        640: 100%|██████████| 54/54 [00:14<00:00,  3.75it/s]\n",
            "                 Class     Images  Instances      Box(P          R      mAP50  mAP50-95): 100%|██████████| 6/6 [00:01<00:00,  3.62it/s]"
          ]
        },
        {
          "output_type": "stream",
          "name": "stdout",
          "text": [
            "                   all        189        263     0.0936      0.133     0.0932      0.042\n"
          ]
        },
        {
          "output_type": "stream",
          "name": "stderr",
          "text": [
            "\n"
          ]
        },
        {
          "output_type": "stream",
          "name": "stdout",
          "text": [
            "\n",
            "      Epoch    GPU_mem   box_loss   cls_loss   dfl_loss  Instances       Size\n"
          ]
        },
        {
          "output_type": "stream",
          "name": "stderr",
          "text": [
            "    135/200      4.85G     0.8859     0.6637      1.273         24        640: 100%|██████████| 54/54 [00:14<00:00,  3.82it/s]\n",
            "                 Class     Images  Instances      Box(P          R      mAP50  mAP50-95): 100%|██████████| 6/6 [00:01<00:00,  3.35it/s]"
          ]
        },
        {
          "output_type": "stream",
          "name": "stdout",
          "text": [
            "                   all        189        263     0.0923       0.15      0.102      0.043\n"
          ]
        },
        {
          "output_type": "stream",
          "name": "stderr",
          "text": [
            "\n"
          ]
        },
        {
          "output_type": "stream",
          "name": "stdout",
          "text": [
            "\n",
            "      Epoch    GPU_mem   box_loss   cls_loss   dfl_loss  Instances       Size\n"
          ]
        },
        {
          "output_type": "stream",
          "name": "stderr",
          "text": [
            "    136/200      4.85G     0.8943     0.6787      1.279         10        640: 100%|██████████| 54/54 [00:14<00:00,  3.74it/s]\n",
            "                 Class     Images  Instances      Box(P          R      mAP50  mAP50-95): 100%|██████████| 6/6 [00:01<00:00,  3.29it/s]"
          ]
        },
        {
          "output_type": "stream",
          "name": "stdout",
          "text": [
            "                   all        189        263     0.0855      0.242      0.128     0.0557\n"
          ]
        },
        {
          "output_type": "stream",
          "name": "stderr",
          "text": [
            "\n"
          ]
        },
        {
          "output_type": "stream",
          "name": "stdout",
          "text": [
            "\n",
            "      Epoch    GPU_mem   box_loss   cls_loss   dfl_loss  Instances       Size\n"
          ]
        },
        {
          "output_type": "stream",
          "name": "stderr",
          "text": [
            "    137/200      4.88G     0.8702     0.6304      1.279         14        640: 100%|██████████| 54/54 [00:14<00:00,  3.64it/s]\n",
            "                 Class     Images  Instances      Box(P          R      mAP50  mAP50-95): 100%|██████████| 6/6 [00:01<00:00,  3.26it/s]"
          ]
        },
        {
          "output_type": "stream",
          "name": "stdout",
          "text": [
            "                   all        189        263      0.103      0.204      0.126     0.0562\n"
          ]
        },
        {
          "output_type": "stream",
          "name": "stderr",
          "text": [
            "\n"
          ]
        },
        {
          "output_type": "stream",
          "name": "stdout",
          "text": [
            "\n",
            "      Epoch    GPU_mem   box_loss   cls_loss   dfl_loss  Instances       Size\n"
          ]
        },
        {
          "output_type": "stream",
          "name": "stderr",
          "text": [
            "    138/200      4.89G     0.9131     0.6661      1.284         14        640: 100%|██████████| 54/54 [00:14<00:00,  3.81it/s]\n",
            "                 Class     Images  Instances      Box(P          R      mAP50  mAP50-95): 100%|██████████| 6/6 [00:01<00:00,  3.33it/s]"
          ]
        },
        {
          "output_type": "stream",
          "name": "stdout",
          "text": [
            "                   all        189        263      0.103      0.188      0.128     0.0615\n"
          ]
        },
        {
          "output_type": "stream",
          "name": "stderr",
          "text": [
            "\n"
          ]
        },
        {
          "output_type": "stream",
          "name": "stdout",
          "text": [
            "\n",
            "      Epoch    GPU_mem   box_loss   cls_loss   dfl_loss  Instances       Size\n"
          ]
        },
        {
          "output_type": "stream",
          "name": "stderr",
          "text": [
            "    139/200      4.91G      0.867     0.6317      1.261         15        640: 100%|██████████| 54/54 [00:14<00:00,  3.83it/s]\n",
            "                 Class     Images  Instances      Box(P          R      mAP50  mAP50-95): 100%|██████████| 6/6 [00:01<00:00,  3.75it/s]"
          ]
        },
        {
          "output_type": "stream",
          "name": "stdout",
          "text": [
            "                   all        189        263     0.0996      0.204      0.122     0.0595\n"
          ]
        },
        {
          "output_type": "stream",
          "name": "stderr",
          "text": [
            "\n"
          ]
        },
        {
          "output_type": "stream",
          "name": "stdout",
          "text": [
            "\n",
            "      Epoch    GPU_mem   box_loss   cls_loss   dfl_loss  Instances       Size\n"
          ]
        },
        {
          "output_type": "stream",
          "name": "stderr",
          "text": [
            "    140/200      4.92G     0.8832     0.6459      1.267         16        640: 100%|██████████| 54/54 [00:14<00:00,  3.84it/s]\n",
            "                 Class     Images  Instances      Box(P          R      mAP50  mAP50-95): 100%|██████████| 6/6 [00:02<00:00,  3.00it/s]"
          ]
        },
        {
          "output_type": "stream",
          "name": "stdout",
          "text": [
            "                   all        189        263     0.0829      0.179      0.109     0.0518\n"
          ]
        },
        {
          "output_type": "stream",
          "name": "stderr",
          "text": [
            "\n"
          ]
        },
        {
          "output_type": "stream",
          "name": "stdout",
          "text": [
            "\n",
            "      Epoch    GPU_mem   box_loss   cls_loss   dfl_loss  Instances       Size\n"
          ]
        },
        {
          "output_type": "stream",
          "name": "stderr",
          "text": [
            "    141/200      4.95G     0.8663     0.6202      1.257         13        640: 100%|██████████| 54/54 [00:14<00:00,  3.72it/s]\n",
            "                 Class     Images  Instances      Box(P          R      mAP50  mAP50-95): 100%|██████████| 6/6 [00:01<00:00,  3.37it/s]"
          ]
        },
        {
          "output_type": "stream",
          "name": "stdout",
          "text": [
            "                   all        189        263     0.0955      0.196      0.122     0.0584\n"
          ]
        },
        {
          "output_type": "stream",
          "name": "stderr",
          "text": [
            "\n"
          ]
        },
        {
          "output_type": "stream",
          "name": "stdout",
          "text": [
            "\n",
            "      Epoch    GPU_mem   box_loss   cls_loss   dfl_loss  Instances       Size\n"
          ]
        },
        {
          "output_type": "stream",
          "name": "stderr",
          "text": [
            "    142/200      4.96G     0.8699     0.6428      1.271         14        640: 100%|██████████| 54/54 [00:14<00:00,  3.84it/s]\n",
            "                 Class     Images  Instances      Box(P          R      mAP50  mAP50-95): 100%|██████████| 6/6 [00:01<00:00,  3.49it/s]"
          ]
        },
        {
          "output_type": "stream",
          "name": "stdout",
          "text": [
            "                   all        189        263     0.0793      0.163     0.0875     0.0414\n"
          ]
        },
        {
          "output_type": "stream",
          "name": "stderr",
          "text": [
            "\n"
          ]
        },
        {
          "output_type": "stream",
          "name": "stdout",
          "text": [
            "\n",
            "      Epoch    GPU_mem   box_loss   cls_loss   dfl_loss  Instances       Size\n"
          ]
        },
        {
          "output_type": "stream",
          "name": "stderr",
          "text": [
            "    143/200      4.98G     0.8658     0.6337      1.259         15        640: 100%|██████████| 54/54 [00:14<00:00,  3.82it/s]\n",
            "                 Class     Images  Instances      Box(P          R      mAP50  mAP50-95): 100%|██████████| 6/6 [00:01<00:00,  3.70it/s]"
          ]
        },
        {
          "output_type": "stream",
          "name": "stdout",
          "text": [
            "                   all        189        263     0.0931      0.158      0.109     0.0482\n"
          ]
        },
        {
          "output_type": "stream",
          "name": "stderr",
          "text": [
            "\n"
          ]
        },
        {
          "output_type": "stream",
          "name": "stdout",
          "text": [
            "\n",
            "      Epoch    GPU_mem   box_loss   cls_loss   dfl_loss  Instances       Size\n"
          ]
        },
        {
          "output_type": "stream",
          "name": "stderr",
          "text": [
            "    144/200      4.99G     0.8756     0.6505      1.262         10        640: 100%|██████████| 54/54 [00:14<00:00,  3.82it/s]\n",
            "                 Class     Images  Instances      Box(P          R      mAP50  mAP50-95): 100%|██████████| 6/6 [00:01<00:00,  3.12it/s]"
          ]
        },
        {
          "output_type": "stream",
          "name": "stdout",
          "text": [
            "                   all        189        263     0.0688      0.133     0.0824     0.0371\n"
          ]
        },
        {
          "output_type": "stream",
          "name": "stderr",
          "text": [
            "\n"
          ]
        },
        {
          "output_type": "stream",
          "name": "stdout",
          "text": [
            "\n",
            "      Epoch    GPU_mem   box_loss   cls_loss   dfl_loss  Instances       Size\n"
          ]
        },
        {
          "output_type": "stream",
          "name": "stderr",
          "text": [
            "    145/200      5.02G     0.8559     0.6403      1.251          9        640: 100%|██████████| 54/54 [00:14<00:00,  3.65it/s]\n",
            "                 Class     Images  Instances      Box(P          R      mAP50  mAP50-95): 100%|██████████| 6/6 [00:01<00:00,  3.86it/s]"
          ]
        },
        {
          "output_type": "stream",
          "name": "stdout",
          "text": [
            "                   all        189        263     0.0765      0.163     0.0876     0.0403\n"
          ]
        },
        {
          "output_type": "stream",
          "name": "stderr",
          "text": [
            "\n"
          ]
        },
        {
          "output_type": "stream",
          "name": "stdout",
          "text": [
            "\n",
            "      Epoch    GPU_mem   box_loss   cls_loss   dfl_loss  Instances       Size\n"
          ]
        },
        {
          "output_type": "stream",
          "name": "stderr",
          "text": [
            "    146/200      5.03G     0.8585     0.6553      1.267          9        640: 100%|██████████| 54/54 [00:14<00:00,  3.75it/s]\n",
            "                 Class     Images  Instances      Box(P          R      mAP50  mAP50-95): 100%|██████████| 6/6 [00:01<00:00,  4.03it/s]"
          ]
        },
        {
          "output_type": "stream",
          "name": "stdout",
          "text": [
            "                   all        189        263     0.0828      0.158      0.105     0.0474\n"
          ]
        },
        {
          "output_type": "stream",
          "name": "stderr",
          "text": [
            "\n"
          ]
        },
        {
          "output_type": "stream",
          "name": "stdout",
          "text": [
            "\n",
            "      Epoch    GPU_mem   box_loss   cls_loss   dfl_loss  Instances       Size\n"
          ]
        },
        {
          "output_type": "stream",
          "name": "stderr",
          "text": [
            "    147/200      5.05G     0.8458     0.6117       1.24         10        640: 100%|██████████| 54/54 [00:14<00:00,  3.82it/s]\n",
            "                 Class     Images  Instances      Box(P          R      mAP50  mAP50-95): 100%|██████████| 6/6 [00:01<00:00,  3.46it/s]"
          ]
        },
        {
          "output_type": "stream",
          "name": "stdout",
          "text": [
            "                   all        189        263      0.106      0.158      0.116     0.0531\n"
          ]
        },
        {
          "output_type": "stream",
          "name": "stderr",
          "text": [
            "\n"
          ]
        },
        {
          "output_type": "stream",
          "name": "stdout",
          "text": [
            "\n",
            "      Epoch    GPU_mem   box_loss   cls_loss   dfl_loss  Instances       Size\n"
          ]
        },
        {
          "output_type": "stream",
          "name": "stderr",
          "text": [
            "    148/200      5.06G     0.8618     0.6524      1.263         14        640: 100%|██████████| 54/54 [00:14<00:00,  3.81it/s]\n",
            "                 Class     Images  Instances      Box(P          R      mAP50  mAP50-95): 100%|██████████| 6/6 [00:01<00:00,  3.20it/s]"
          ]
        },
        {
          "output_type": "stream",
          "name": "stdout",
          "text": [
            "                   all        189        263     0.0747      0.163     0.0983     0.0406\n"
          ]
        },
        {
          "output_type": "stream",
          "name": "stderr",
          "text": [
            "\n"
          ]
        },
        {
          "output_type": "stream",
          "name": "stdout",
          "text": [
            "\n",
            "      Epoch    GPU_mem   box_loss   cls_loss   dfl_loss  Instances       Size\n"
          ]
        },
        {
          "output_type": "stream",
          "name": "stderr",
          "text": [
            "    149/200      5.08G     0.8484     0.6241      1.244         16        640: 100%|██████████| 54/54 [00:14<00:00,  3.68it/s]\n",
            "                 Class     Images  Instances      Box(P          R      mAP50  mAP50-95): 100%|██████████| 6/6 [00:01<00:00,  3.39it/s]"
          ]
        },
        {
          "output_type": "stream",
          "name": "stdout",
          "text": [
            "                   all        189        263     0.0887      0.137      0.103     0.0422\n"
          ]
        },
        {
          "output_type": "stream",
          "name": "stderr",
          "text": [
            "\n"
          ]
        },
        {
          "output_type": "stream",
          "name": "stdout",
          "text": [
            "\n",
            "      Epoch    GPU_mem   box_loss   cls_loss   dfl_loss  Instances       Size\n"
          ]
        },
        {
          "output_type": "stream",
          "name": "stderr",
          "text": [
            "    150/200      5.09G     0.8382     0.6129       1.24         17        640: 100%|██████████| 54/54 [00:14<00:00,  3.85it/s]\n",
            "                 Class     Images  Instances      Box(P          R      mAP50  mAP50-95): 100%|██████████| 6/6 [00:01<00:00,  3.52it/s]"
          ]
        },
        {
          "output_type": "stream",
          "name": "stdout",
          "text": [
            "                   all        189        263     0.0788      0.163      0.104     0.0449\n"
          ]
        },
        {
          "output_type": "stream",
          "name": "stderr",
          "text": [
            "\n"
          ]
        },
        {
          "output_type": "stream",
          "name": "stdout",
          "text": [
            "\n",
            "      Epoch    GPU_mem   box_loss   cls_loss   dfl_loss  Instances       Size\n"
          ]
        },
        {
          "output_type": "stream",
          "name": "stderr",
          "text": [
            "    151/200      5.12G     0.8431     0.6159      1.256         11        640: 100%|██████████| 54/54 [00:14<00:00,  3.80it/s]\n",
            "                 Class     Images  Instances      Box(P          R      mAP50  mAP50-95): 100%|██████████| 6/6 [00:01<00:00,  3.43it/s]"
          ]
        },
        {
          "output_type": "stream",
          "name": "stdout",
          "text": [
            "                   all        189        263     0.0652       0.15      0.101     0.0432\n"
          ]
        },
        {
          "output_type": "stream",
          "name": "stderr",
          "text": [
            "\n"
          ]
        },
        {
          "output_type": "stream",
          "name": "stdout",
          "text": [
            "\n",
            "      Epoch    GPU_mem   box_loss   cls_loss   dfl_loss  Instances       Size\n"
          ]
        },
        {
          "output_type": "stream",
          "name": "stderr",
          "text": [
            "    152/200      5.13G      0.843     0.6091      1.241         16        640: 100%|██████████| 54/54 [00:14<00:00,  3.78it/s]\n",
            "                 Class     Images  Instances      Box(P          R      mAP50  mAP50-95): 100%|██████████| 6/6 [00:02<00:00,  2.73it/s]"
          ]
        },
        {
          "output_type": "stream",
          "name": "stdout",
          "text": [
            "                   all        189        263      0.157     0.0958      0.113     0.0469\n"
          ]
        },
        {
          "output_type": "stream",
          "name": "stderr",
          "text": [
            "\n"
          ]
        },
        {
          "output_type": "stream",
          "name": "stdout",
          "text": [
            "\n",
            "      Epoch    GPU_mem   box_loss   cls_loss   dfl_loss  Instances       Size\n"
          ]
        },
        {
          "output_type": "stream",
          "name": "stderr",
          "text": [
            "    153/200      5.15G     0.8484     0.6097      1.246         14        640: 100%|██████████| 54/54 [00:14<00:00,  3.76it/s]\n",
            "                 Class     Images  Instances      Box(P          R      mAP50  mAP50-95): 100%|██████████| 6/6 [00:01<00:00,  3.31it/s]"
          ]
        },
        {
          "output_type": "stream",
          "name": "stdout",
          "text": [
            "                   all        189        263     0.0941      0.154      0.112     0.0446\n"
          ]
        },
        {
          "output_type": "stream",
          "name": "stderr",
          "text": [
            "\n"
          ]
        },
        {
          "output_type": "stream",
          "name": "stdout",
          "text": [
            "\n",
            "      Epoch    GPU_mem   box_loss   cls_loss   dfl_loss  Instances       Size\n"
          ]
        },
        {
          "output_type": "stream",
          "name": "stderr",
          "text": [
            "    154/200      5.16G     0.8361     0.6125      1.241         14        640: 100%|██████████| 54/54 [00:14<00:00,  3.80it/s]\n",
            "                 Class     Images  Instances      Box(P          R      mAP50  mAP50-95): 100%|██████████| 6/6 [00:01<00:00,  3.43it/s]"
          ]
        },
        {
          "output_type": "stream",
          "name": "stdout",
          "text": [
            "                   all        189        263     0.0857       0.15      0.102     0.0426\n"
          ]
        },
        {
          "output_type": "stream",
          "name": "stderr",
          "text": [
            "\n"
          ]
        },
        {
          "output_type": "stream",
          "name": "stdout",
          "text": [
            "\n",
            "      Epoch    GPU_mem   box_loss   cls_loss   dfl_loss  Instances       Size\n"
          ]
        },
        {
          "output_type": "stream",
          "name": "stderr",
          "text": [
            "    155/200      5.19G     0.8586     0.6144      1.252         12        640: 100%|██████████| 54/54 [00:14<00:00,  3.81it/s]\n",
            "                 Class     Images  Instances      Box(P          R      mAP50  mAP50-95): 100%|██████████| 6/6 [00:01<00:00,  3.51it/s]"
          ]
        },
        {
          "output_type": "stream",
          "name": "stdout",
          "text": [
            "                   all        189        263     0.0816      0.196      0.123     0.0517\n"
          ]
        },
        {
          "output_type": "stream",
          "name": "stderr",
          "text": [
            "\n"
          ]
        },
        {
          "output_type": "stream",
          "name": "stdout",
          "text": [
            "\n",
            "      Epoch    GPU_mem   box_loss   cls_loss   dfl_loss  Instances       Size\n"
          ]
        },
        {
          "output_type": "stream",
          "name": "stderr",
          "text": [
            "    156/200       5.2G     0.8412     0.6011      1.252         15        640: 100%|██████████| 54/54 [00:14<00:00,  3.80it/s]\n",
            "                 Class     Images  Instances      Box(P          R      mAP50  mAP50-95): 100%|██████████| 6/6 [00:02<00:00,  2.76it/s]"
          ]
        },
        {
          "output_type": "stream",
          "name": "stdout",
          "text": [
            "                   all        189        263     0.0748        0.2      0.106     0.0448\n"
          ]
        },
        {
          "output_type": "stream",
          "name": "stderr",
          "text": [
            "\n"
          ]
        },
        {
          "output_type": "stream",
          "name": "stdout",
          "text": [
            "\n",
            "      Epoch    GPU_mem   box_loss   cls_loss   dfl_loss  Instances       Size\n"
          ]
        },
        {
          "output_type": "stream",
          "name": "stderr",
          "text": [
            "    157/200      5.22G     0.8177     0.5896      1.238         13        640: 100%|██████████| 54/54 [00:14<00:00,  3.78it/s]\n",
            "                 Class     Images  Instances      Box(P          R      mAP50  mAP50-95): 100%|██████████| 6/6 [00:01<00:00,  3.72it/s]"
          ]
        },
        {
          "output_type": "stream",
          "name": "stdout",
          "text": [
            "                   all        189        263     0.0909      0.175      0.118     0.0464\n"
          ]
        },
        {
          "output_type": "stream",
          "name": "stderr",
          "text": [
            "\n"
          ]
        },
        {
          "output_type": "stream",
          "name": "stdout",
          "text": [
            "\n",
            "      Epoch    GPU_mem   box_loss   cls_loss   dfl_loss  Instances       Size\n"
          ]
        },
        {
          "output_type": "stream",
          "name": "stderr",
          "text": [
            "    158/200      5.23G     0.8302     0.5818      1.235         10        640: 100%|██████████| 54/54 [00:14<00:00,  3.81it/s]\n",
            "                 Class     Images  Instances      Box(P          R      mAP50  mAP50-95): 100%|██████████| 6/6 [00:01<00:00,  3.74it/s]"
          ]
        },
        {
          "output_type": "stream",
          "name": "stdout",
          "text": [
            "                   all        189        263     0.0916      0.196      0.124     0.0506\n"
          ]
        },
        {
          "output_type": "stream",
          "name": "stderr",
          "text": [
            "\n"
          ]
        },
        {
          "output_type": "stream",
          "name": "stdout",
          "text": [
            "\n",
            "      Epoch    GPU_mem   box_loss   cls_loss   dfl_loss  Instances       Size\n"
          ]
        },
        {
          "output_type": "stream",
          "name": "stderr",
          "text": [
            "    159/200      5.26G     0.8074     0.5952      1.216         22        640: 100%|██████████| 54/54 [00:14<00:00,  3.75it/s]\n",
            "                 Class     Images  Instances      Box(P          R      mAP50  mAP50-95): 100%|██████████| 6/6 [00:01<00:00,  3.75it/s]"
          ]
        },
        {
          "output_type": "stream",
          "name": "stdout",
          "text": [
            "                   all        189        263      0.187        0.1      0.133     0.0541\n"
          ]
        },
        {
          "output_type": "stream",
          "name": "stderr",
          "text": [
            "\n"
          ]
        },
        {
          "output_type": "stream",
          "name": "stdout",
          "text": [
            "\n",
            "      Epoch    GPU_mem   box_loss   cls_loss   dfl_loss  Instances       Size\n"
          ]
        },
        {
          "output_type": "stream",
          "name": "stderr",
          "text": [
            "    160/200      5.26G     0.8251     0.5944      1.222         14        640: 100%|██████████| 54/54 [00:14<00:00,  3.73it/s]\n",
            "                 Class     Images  Instances      Box(P          R      mAP50  mAP50-95): 100%|██████████| 6/6 [00:02<00:00,  2.45it/s]"
          ]
        },
        {
          "output_type": "stream",
          "name": "stdout",
          "text": [
            "                   all        189        263     0.0949      0.196      0.137       0.06\n"
          ]
        },
        {
          "output_type": "stream",
          "name": "stderr",
          "text": [
            "\n"
          ]
        },
        {
          "output_type": "stream",
          "name": "stdout",
          "text": [
            "\n",
            "      Epoch    GPU_mem   box_loss   cls_loss   dfl_loss  Instances       Size\n"
          ]
        },
        {
          "output_type": "stream",
          "name": "stderr",
          "text": [
            "    161/200      5.29G     0.8315     0.5948      1.239          9        640: 100%|██████████| 54/54 [00:14<00:00,  3.74it/s]\n",
            "                 Class     Images  Instances      Box(P          R      mAP50  mAP50-95): 100%|██████████| 6/6 [00:01<00:00,  3.62it/s]"
          ]
        },
        {
          "output_type": "stream",
          "name": "stdout",
          "text": [
            "                   all        189        263      0.102      0.171      0.133     0.0584\n"
          ]
        },
        {
          "output_type": "stream",
          "name": "stderr",
          "text": [
            "\n"
          ]
        },
        {
          "output_type": "stream",
          "name": "stdout",
          "text": [
            "\n",
            "      Epoch    GPU_mem   box_loss   cls_loss   dfl_loss  Instances       Size\n"
          ]
        },
        {
          "output_type": "stream",
          "name": "stderr",
          "text": [
            "    162/200       5.3G     0.8102      0.583      1.233         10        640: 100%|██████████| 54/54 [00:14<00:00,  3.73it/s]\n",
            "                 Class     Images  Instances      Box(P          R      mAP50  mAP50-95): 100%|██████████| 6/6 [00:01<00:00,  3.49it/s]"
          ]
        },
        {
          "output_type": "stream",
          "name": "stdout",
          "text": [
            "                   all        189        263      0.121      0.171      0.142      0.063\n"
          ]
        },
        {
          "output_type": "stream",
          "name": "stderr",
          "text": [
            "\n"
          ]
        },
        {
          "output_type": "stream",
          "name": "stdout",
          "text": [
            "\n",
            "      Epoch    GPU_mem   box_loss   cls_loss   dfl_loss  Instances       Size\n"
          ]
        },
        {
          "output_type": "stream",
          "name": "stderr",
          "text": [
            "    163/200      5.32G     0.8011     0.5947      1.223         10        640: 100%|██████████| 54/54 [00:14<00:00,  3.79it/s]\n",
            "                 Class     Images  Instances      Box(P          R      mAP50  mAP50-95): 100%|██████████| 6/6 [00:01<00:00,  3.51it/s]"
          ]
        },
        {
          "output_type": "stream",
          "name": "stdout",
          "text": [
            "                   all        189        263     0.0989      0.179      0.141     0.0609\n"
          ]
        },
        {
          "output_type": "stream",
          "name": "stderr",
          "text": [
            "\n"
          ]
        },
        {
          "output_type": "stream",
          "name": "stdout",
          "text": [
            "\n",
            "      Epoch    GPU_mem   box_loss   cls_loss   dfl_loss  Instances       Size\n"
          ]
        },
        {
          "output_type": "stream",
          "name": "stderr",
          "text": [
            "    164/200      5.33G     0.7894     0.5835      1.212         12        640: 100%|██████████| 54/54 [00:14<00:00,  3.73it/s]\n",
            "                 Class     Images  Instances      Box(P          R      mAP50  mAP50-95): 100%|██████████| 6/6 [00:02<00:00,  2.43it/s]"
          ]
        },
        {
          "output_type": "stream",
          "name": "stdout",
          "text": [
            "                   all        189        263      0.182        0.1      0.128     0.0526\n"
          ]
        },
        {
          "output_type": "stream",
          "name": "stderr",
          "text": [
            "\n"
          ]
        },
        {
          "output_type": "stream",
          "name": "stdout",
          "text": [
            "\n",
            "      Epoch    GPU_mem   box_loss   cls_loss   dfl_loss  Instances       Size\n"
          ]
        },
        {
          "output_type": "stream",
          "name": "stderr",
          "text": [
            "    165/200      5.36G     0.8051     0.5904      1.221         11        640: 100%|██████████| 54/54 [00:14<00:00,  3.77it/s]\n",
            "                 Class     Images  Instances      Box(P          R      mAP50  mAP50-95): 100%|██████████| 6/6 [00:01<00:00,  3.46it/s]"
          ]
        },
        {
          "output_type": "stream",
          "name": "stdout",
          "text": [
            "                   all        189        263      0.103        0.2      0.138     0.0574\n"
          ]
        },
        {
          "output_type": "stream",
          "name": "stderr",
          "text": [
            "\n"
          ]
        },
        {
          "output_type": "stream",
          "name": "stdout",
          "text": [
            "\n",
            "      Epoch    GPU_mem   box_loss   cls_loss   dfl_loss  Instances       Size\n"
          ]
        },
        {
          "output_type": "stream",
          "name": "stderr",
          "text": [
            "    166/200      5.37G     0.8092     0.6025      1.226         16        640: 100%|██████████| 54/54 [00:14<00:00,  3.78it/s]\n",
            "                 Class     Images  Instances      Box(P          R      mAP50  mAP50-95): 100%|██████████| 6/6 [00:01<00:00,  3.65it/s]"
          ]
        },
        {
          "output_type": "stream",
          "name": "stdout",
          "text": [
            "                   all        189        263     0.0938      0.196      0.127      0.054\n"
          ]
        },
        {
          "output_type": "stream",
          "name": "stderr",
          "text": [
            "\n"
          ]
        },
        {
          "output_type": "stream",
          "name": "stdout",
          "text": [
            "\n",
            "      Epoch    GPU_mem   box_loss   cls_loss   dfl_loss  Instances       Size\n"
          ]
        },
        {
          "output_type": "stream",
          "name": "stderr",
          "text": [
            "    167/200      5.39G     0.7765     0.5761      1.216         16        640: 100%|██████████| 54/54 [00:14<00:00,  3.75it/s]\n",
            "                 Class     Images  Instances      Box(P          R      mAP50  mAP50-95): 100%|██████████| 6/6 [00:01<00:00,  3.40it/s]"
          ]
        },
        {
          "output_type": "stream",
          "name": "stdout",
          "text": [
            "                   all        189        263     0.0833      0.171      0.124      0.049\n"
          ]
        },
        {
          "output_type": "stream",
          "name": "stderr",
          "text": [
            "\n"
          ]
        },
        {
          "output_type": "stream",
          "name": "stdout",
          "text": [
            "\n",
            "      Epoch    GPU_mem   box_loss   cls_loss   dfl_loss  Instances       Size\n"
          ]
        },
        {
          "output_type": "stream",
          "name": "stderr",
          "text": [
            "    168/200       5.4G     0.7813     0.5565      1.198         10        640: 100%|██████████| 54/54 [00:15<00:00,  3.57it/s]\n",
            "                 Class     Images  Instances      Box(P          R      mAP50  mAP50-95): 100%|██████████| 6/6 [00:01<00:00,  3.03it/s]"
          ]
        },
        {
          "output_type": "stream",
          "name": "stdout",
          "text": [
            "                   all        189        263     0.0909      0.137      0.105     0.0474\n"
          ]
        },
        {
          "output_type": "stream",
          "name": "stderr",
          "text": [
            "\n"
          ]
        },
        {
          "output_type": "stream",
          "name": "stdout",
          "text": [
            "\n",
            "      Epoch    GPU_mem   box_loss   cls_loss   dfl_loss  Instances       Size\n"
          ]
        },
        {
          "output_type": "stream",
          "name": "stderr",
          "text": [
            "    169/200      5.43G     0.7882     0.5689      1.203         16        640: 100%|██████████| 54/54 [00:14<00:00,  3.71it/s]\n",
            "                 Class     Images  Instances      Box(P          R      mAP50  mAP50-95): 100%|██████████| 6/6 [00:01<00:00,  3.51it/s]"
          ]
        },
        {
          "output_type": "stream",
          "name": "stdout",
          "text": [
            "                   all        189        263     0.0899      0.171      0.115     0.0472\n"
          ]
        },
        {
          "output_type": "stream",
          "name": "stderr",
          "text": [
            "\n"
          ]
        },
        {
          "output_type": "stream",
          "name": "stdout",
          "text": [
            "\n",
            "      Epoch    GPU_mem   box_loss   cls_loss   dfl_loss  Instances       Size\n"
          ]
        },
        {
          "output_type": "stream",
          "name": "stderr",
          "text": [
            "    170/200      5.44G     0.7918      0.575      1.214         14        640: 100%|██████████| 54/54 [00:14<00:00,  3.83it/s]\n",
            "                 Class     Images  Instances      Box(P          R      mAP50  mAP50-95): 100%|██████████| 6/6 [00:01<00:00,  3.57it/s]"
          ]
        },
        {
          "output_type": "stream",
          "name": "stdout",
          "text": [
            "                   all        189        263     0.0943      0.188      0.106     0.0462\n"
          ]
        },
        {
          "output_type": "stream",
          "name": "stderr",
          "text": [
            "\n"
          ]
        },
        {
          "output_type": "stream",
          "name": "stdout",
          "text": [
            "\n",
            "      Epoch    GPU_mem   box_loss   cls_loss   dfl_loss  Instances       Size\n"
          ]
        },
        {
          "output_type": "stream",
          "name": "stderr",
          "text": [
            "    171/200      5.46G     0.7914     0.5763      1.216         13        640: 100%|██████████| 54/54 [00:14<00:00,  3.78it/s]\n",
            "                 Class     Images  Instances      Box(P          R      mAP50  mAP50-95): 100%|██████████| 6/6 [00:02<00:00,  2.60it/s]"
          ]
        },
        {
          "output_type": "stream",
          "name": "stdout",
          "text": [
            "                   all        189        263     0.0863      0.183      0.113     0.0478\n"
          ]
        },
        {
          "output_type": "stream",
          "name": "stderr",
          "text": [
            "\n"
          ]
        },
        {
          "output_type": "stream",
          "name": "stdout",
          "text": [
            "\n",
            "      Epoch    GPU_mem   box_loss   cls_loss   dfl_loss  Instances       Size\n"
          ]
        },
        {
          "output_type": "stream",
          "name": "stderr",
          "text": [
            "    172/200      5.47G     0.7754     0.5718      1.203         14        640: 100%|██████████| 54/54 [00:14<00:00,  3.77it/s]\n",
            "                 Class     Images  Instances      Box(P          R      mAP50  mAP50-95): 100%|██████████| 6/6 [00:01<00:00,  3.67it/s]"
          ]
        },
        {
          "output_type": "stream",
          "name": "stdout",
          "text": [
            "                   all        189        263     0.0982       0.15       0.12     0.0475\n"
          ]
        },
        {
          "output_type": "stream",
          "name": "stderr",
          "text": [
            "\n"
          ]
        },
        {
          "output_type": "stream",
          "name": "stdout",
          "text": [
            "\n",
            "      Epoch    GPU_mem   box_loss   cls_loss   dfl_loss  Instances       Size\n"
          ]
        },
        {
          "output_type": "stream",
          "name": "stderr",
          "text": [
            "    173/200      5.49G     0.7834     0.5691      1.214          7        640: 100%|██████████| 54/54 [00:14<00:00,  3.74it/s]\n",
            "                 Class     Images  Instances      Box(P          R      mAP50  mAP50-95): 100%|██████████| 6/6 [00:01<00:00,  3.52it/s]"
          ]
        },
        {
          "output_type": "stream",
          "name": "stdout",
          "text": [
            "                   all        189        263     0.0897      0.192      0.119     0.0503\n"
          ]
        },
        {
          "output_type": "stream",
          "name": "stderr",
          "text": [
            "\n"
          ]
        },
        {
          "output_type": "stream",
          "name": "stdout",
          "text": [
            "\n",
            "      Epoch    GPU_mem   box_loss   cls_loss   dfl_loss  Instances       Size\n"
          ]
        },
        {
          "output_type": "stream",
          "name": "stderr",
          "text": [
            "    174/200       5.5G     0.7592     0.5563      1.184         13        640: 100%|██████████| 54/54 [00:14<00:00,  3.80it/s]\n",
            "                 Class     Images  Instances      Box(P          R      mAP50  mAP50-95): 100%|██████████| 6/6 [00:01<00:00,  3.52it/s]"
          ]
        },
        {
          "output_type": "stream",
          "name": "stdout",
          "text": [
            "                   all        189        263      0.101      0.171      0.121     0.0517\n"
          ]
        },
        {
          "output_type": "stream",
          "name": "stderr",
          "text": [
            "\n"
          ]
        },
        {
          "output_type": "stream",
          "name": "stdout",
          "text": [
            "\n",
            "      Epoch    GPU_mem   box_loss   cls_loss   dfl_loss  Instances       Size\n"
          ]
        },
        {
          "output_type": "stream",
          "name": "stderr",
          "text": [
            "    175/200      5.53G      0.782     0.5523        1.2          7        640: 100%|██████████| 54/54 [00:14<00:00,  3.82it/s]\n",
            "                 Class     Images  Instances      Box(P          R      mAP50  mAP50-95): 100%|██████████| 6/6 [00:02<00:00,  2.25it/s]"
          ]
        },
        {
          "output_type": "stream",
          "name": "stdout",
          "text": [
            "                   all        189        263      0.118      0.192      0.136     0.0603\n"
          ]
        },
        {
          "output_type": "stream",
          "name": "stderr",
          "text": [
            "\n"
          ]
        },
        {
          "output_type": "stream",
          "name": "stdout",
          "text": [
            "\n",
            "      Epoch    GPU_mem   box_loss   cls_loss   dfl_loss  Instances       Size\n"
          ]
        },
        {
          "output_type": "stream",
          "name": "stderr",
          "text": [
            "    176/200      5.54G     0.7911     0.5621      1.209         17        640: 100%|██████████| 54/54 [00:14<00:00,  3.76it/s]\n",
            "                 Class     Images  Instances      Box(P          R      mAP50  mAP50-95): 100%|██████████| 6/6 [00:01<00:00,  3.78it/s]"
          ]
        },
        {
          "output_type": "stream",
          "name": "stdout",
          "text": [
            "                   all        189        263      0.115      0.183      0.126     0.0574\n"
          ]
        },
        {
          "output_type": "stream",
          "name": "stderr",
          "text": [
            "\n"
          ]
        },
        {
          "output_type": "stream",
          "name": "stdout",
          "text": [
            "\n",
            "      Epoch    GPU_mem   box_loss   cls_loss   dfl_loss  Instances       Size\n"
          ]
        },
        {
          "output_type": "stream",
          "name": "stderr",
          "text": [
            "    177/200      5.56G     0.7782     0.5708      1.204         11        640: 100%|██████████| 54/54 [00:14<00:00,  3.81it/s]\n",
            "                 Class     Images  Instances      Box(P          R      mAP50  mAP50-95): 100%|██████████| 6/6 [00:01<00:00,  3.48it/s]"
          ]
        },
        {
          "output_type": "stream",
          "name": "stdout",
          "text": [
            "                   all        189        263      0.107      0.137      0.111     0.0495\n"
          ]
        },
        {
          "output_type": "stream",
          "name": "stderr",
          "text": [
            "\n"
          ]
        },
        {
          "output_type": "stream",
          "name": "stdout",
          "text": [
            "\n",
            "      Epoch    GPU_mem   box_loss   cls_loss   dfl_loss  Instances       Size\n"
          ]
        },
        {
          "output_type": "stream",
          "name": "stderr",
          "text": [
            "    178/200      5.57G     0.7768     0.5751      1.209         11        640: 100%|██████████| 54/54 [00:14<00:00,  3.85it/s]\n",
            "                 Class     Images  Instances      Box(P          R      mAP50  mAP50-95): 100%|██████████| 6/6 [00:01<00:00,  3.68it/s]"
          ]
        },
        {
          "output_type": "stream",
          "name": "stdout",
          "text": [
            "                   all        189        263       0.11       0.15      0.102     0.0509\n"
          ]
        },
        {
          "output_type": "stream",
          "name": "stderr",
          "text": [
            "\n"
          ]
        },
        {
          "output_type": "stream",
          "name": "stdout",
          "text": [
            "\n",
            "      Epoch    GPU_mem   box_loss   cls_loss   dfl_loss  Instances       Size\n"
          ]
        },
        {
          "output_type": "stream",
          "name": "stderr",
          "text": [
            "    179/200       5.6G     0.7567     0.5538      1.187         12        640: 100%|██████████| 54/54 [00:14<00:00,  3.72it/s]\n",
            "                 Class     Images  Instances      Box(P          R      mAP50  mAP50-95): 100%|██████████| 6/6 [00:02<00:00,  2.34it/s]"
          ]
        },
        {
          "output_type": "stream",
          "name": "stdout",
          "text": [
            "                   all        189        263      0.106      0.171       0.11     0.0558\n"
          ]
        },
        {
          "output_type": "stream",
          "name": "stderr",
          "text": [
            "\n"
          ]
        },
        {
          "output_type": "stream",
          "name": "stdout",
          "text": [
            "\n",
            "      Epoch    GPU_mem   box_loss   cls_loss   dfl_loss  Instances       Size\n"
          ]
        },
        {
          "output_type": "stream",
          "name": "stderr",
          "text": [
            "    180/200      5.61G     0.7519     0.5305      1.183         10        640: 100%|██████████| 54/54 [00:14<00:00,  3.68it/s]\n",
            "                 Class     Images  Instances      Box(P          R      mAP50  mAP50-95): 100%|██████████| 6/6 [00:01<00:00,  3.71it/s]"
          ]
        },
        {
          "output_type": "stream",
          "name": "stdout",
          "text": [
            "                   all        189        263      0.107      0.175      0.116     0.0542\n"
          ]
        },
        {
          "output_type": "stream",
          "name": "stderr",
          "text": [
            "\n"
          ]
        },
        {
          "output_type": "stream",
          "name": "stdout",
          "text": [
            "\n",
            "      Epoch    GPU_mem   box_loss   cls_loss   dfl_loss  Instances       Size\n"
          ]
        },
        {
          "output_type": "stream",
          "name": "stderr",
          "text": [
            "    181/200      5.63G     0.7649      0.554      1.202         15        640: 100%|██████████| 54/54 [00:14<00:00,  3.69it/s]\n",
            "                 Class     Images  Instances      Box(P          R      mAP50  mAP50-95): 100%|██████████| 6/6 [00:01<00:00,  3.35it/s]"
          ]
        },
        {
          "output_type": "stream",
          "name": "stdout",
          "text": [
            "                   all        189        263     0.0952      0.158      0.101     0.0468\n"
          ]
        },
        {
          "output_type": "stream",
          "name": "stderr",
          "text": [
            "\n"
          ]
        },
        {
          "output_type": "stream",
          "name": "stdout",
          "text": [
            "\n",
            "      Epoch    GPU_mem   box_loss   cls_loss   dfl_loss  Instances       Size\n"
          ]
        },
        {
          "output_type": "stream",
          "name": "stderr",
          "text": [
            "    182/200      5.64G     0.7586     0.5487      1.202         14        640: 100%|██████████| 54/54 [00:14<00:00,  3.68it/s]\n",
            "                 Class     Images  Instances      Box(P          R      mAP50  mAP50-95): 100%|██████████| 6/6 [00:01<00:00,  3.06it/s]"
          ]
        },
        {
          "output_type": "stream",
          "name": "stdout",
          "text": [
            "                   all        189        263      0.105      0.154      0.105     0.0513\n"
          ]
        },
        {
          "output_type": "stream",
          "name": "stderr",
          "text": [
            "\n"
          ]
        },
        {
          "output_type": "stream",
          "name": "stdout",
          "text": [
            "\n",
            "      Epoch    GPU_mem   box_loss   cls_loss   dfl_loss  Instances       Size\n"
          ]
        },
        {
          "output_type": "stream",
          "name": "stderr",
          "text": [
            "    183/200      5.67G     0.7652     0.5627      1.193         15        640: 100%|██████████| 54/54 [00:14<00:00,  3.71it/s]\n",
            "                 Class     Images  Instances      Box(P          R      mAP50  mAP50-95): 100%|██████████| 6/6 [00:02<00:00,  2.93it/s]"
          ]
        },
        {
          "output_type": "stream",
          "name": "stdout",
          "text": [
            "                   all        189        263       0.11       0.15      0.104     0.0518\n"
          ]
        },
        {
          "output_type": "stream",
          "name": "stderr",
          "text": [
            "\n"
          ]
        },
        {
          "output_type": "stream",
          "name": "stdout",
          "text": [
            "\n",
            "      Epoch    GPU_mem   box_loss   cls_loss   dfl_loss  Instances       Size\n"
          ]
        },
        {
          "output_type": "stream",
          "name": "stderr",
          "text": [
            "    184/200      5.67G     0.7519     0.5451      1.188         11        640: 100%|██████████| 54/54 [00:14<00:00,  3.82it/s]\n",
            "                 Class     Images  Instances      Box(P          R      mAP50  mAP50-95): 100%|██████████| 6/6 [00:01<00:00,  3.47it/s]"
          ]
        },
        {
          "output_type": "stream",
          "name": "stdout",
          "text": [
            "                   all        189        263      0.112      0.163      0.112      0.052\n"
          ]
        },
        {
          "output_type": "stream",
          "name": "stderr",
          "text": [
            "\n"
          ]
        },
        {
          "output_type": "stream",
          "name": "stdout",
          "text": [
            "\n",
            "      Epoch    GPU_mem   box_loss   cls_loss   dfl_loss  Instances       Size\n"
          ]
        },
        {
          "output_type": "stream",
          "name": "stderr",
          "text": [
            "    185/200       5.7G      0.738      0.545      1.181          9        640: 100%|██████████| 54/54 [00:14<00:00,  3.79it/s]\n",
            "                 Class     Images  Instances      Box(P          R      mAP50  mAP50-95): 100%|██████████| 6/6 [00:01<00:00,  3.60it/s]"
          ]
        },
        {
          "output_type": "stream",
          "name": "stdout",
          "text": [
            "                   all        189        263      0.115      0.137      0.117     0.0515\n"
          ]
        },
        {
          "output_type": "stream",
          "name": "stderr",
          "text": [
            "\n"
          ]
        },
        {
          "output_type": "stream",
          "name": "stdout",
          "text": [
            "\n",
            "      Epoch    GPU_mem   box_loss   cls_loss   dfl_loss  Instances       Size\n"
          ]
        },
        {
          "output_type": "stream",
          "name": "stderr",
          "text": [
            "    186/200      5.71G     0.7257     0.5269      1.165         14        640: 100%|██████████| 54/54 [00:14<00:00,  3.78it/s]\n",
            "                 Class     Images  Instances      Box(P          R      mAP50  mAP50-95): 100%|██████████| 6/6 [00:01<00:00,  3.15it/s]"
          ]
        },
        {
          "output_type": "stream",
          "name": "stdout",
          "text": [
            "                   all        189        263      0.105      0.158      0.116     0.0524\n"
          ]
        },
        {
          "output_type": "stream",
          "name": "stderr",
          "text": [
            "\n"
          ]
        },
        {
          "output_type": "stream",
          "name": "stdout",
          "text": [
            "\n",
            "      Epoch    GPU_mem   box_loss   cls_loss   dfl_loss  Instances       Size\n"
          ]
        },
        {
          "output_type": "stream",
          "name": "stderr",
          "text": [
            "    187/200      5.73G     0.7583     0.5571      1.194         11        640: 100%|██████████| 54/54 [00:14<00:00,  3.61it/s]\n",
            "                 Class     Images  Instances      Box(P          R      mAP50  mAP50-95): 100%|██████████| 6/6 [00:01<00:00,  3.70it/s]"
          ]
        },
        {
          "output_type": "stream",
          "name": "stdout",
          "text": [
            "                   all        189        263     0.0995      0.179      0.118     0.0528\n"
          ]
        },
        {
          "output_type": "stream",
          "name": "stderr",
          "text": [
            "\n"
          ]
        },
        {
          "output_type": "stream",
          "name": "stdout",
          "text": [
            "\n",
            "      Epoch    GPU_mem   box_loss   cls_loss   dfl_loss  Instances       Size\n"
          ]
        },
        {
          "output_type": "stream",
          "name": "stderr",
          "text": [
            "    188/200      5.74G     0.7509     0.5384      1.196         12        640: 100%|██████████| 54/54 [00:14<00:00,  3.85it/s]\n",
            "                 Class     Images  Instances      Box(P          R      mAP50  mAP50-95): 100%|██████████| 6/6 [00:01<00:00,  3.65it/s]"
          ]
        },
        {
          "output_type": "stream",
          "name": "stdout",
          "text": [
            "                   all        189        263        0.1      0.183      0.119     0.0522\n"
          ]
        },
        {
          "output_type": "stream",
          "name": "stderr",
          "text": [
            "\n"
          ]
        },
        {
          "output_type": "stream",
          "name": "stdout",
          "text": [
            "\n",
            "      Epoch    GPU_mem   box_loss   cls_loss   dfl_loss  Instances       Size\n"
          ]
        },
        {
          "output_type": "stream",
          "name": "stderr",
          "text": [
            "    189/200      5.77G     0.7226     0.5337      1.176         15        640: 100%|██████████| 54/54 [00:14<00:00,  3.74it/s]\n",
            "                 Class     Images  Instances      Box(P          R      mAP50  mAP50-95): 100%|██████████| 6/6 [00:01<00:00,  3.75it/s]"
          ]
        },
        {
          "output_type": "stream",
          "name": "stdout",
          "text": [
            "                   all        189        263      0.105      0.171       0.12     0.0531\n"
          ]
        },
        {
          "output_type": "stream",
          "name": "stderr",
          "text": [
            "\n"
          ]
        },
        {
          "output_type": "stream",
          "name": "stdout",
          "text": [
            "\n",
            "      Epoch    GPU_mem   box_loss   cls_loss   dfl_loss  Instances       Size\n"
          ]
        },
        {
          "output_type": "stream",
          "name": "stderr",
          "text": [
            "    190/200      5.78G      0.745      0.538      1.179         13        640: 100%|██████████| 54/54 [00:14<00:00,  3.76it/s]\n",
            "                 Class     Images  Instances      Box(P          R      mAP50  mAP50-95): 100%|██████████| 6/6 [00:02<00:00,  2.63it/s]"
          ]
        },
        {
          "output_type": "stream",
          "name": "stdout",
          "text": [
            "                   all        189        263      0.111      0.158      0.116     0.0517\n"
          ]
        },
        {
          "output_type": "stream",
          "name": "stderr",
          "text": [
            "\n"
          ]
        },
        {
          "output_type": "stream",
          "name": "stdout",
          "text": [
            "Closing dataloader mosaic\n",
            "\u001b[34m\u001b[1malbumentations: \u001b[0mBlur(p=0.01, blur_limit=(3, 7)), MedianBlur(p=0.01, blur_limit=(3, 7)), ToGray(p=0.01, method='weighted_average', num_output_channels=3), CLAHE(p=0.01, clip_limit=(1.0, 4.0), tile_grid_size=(8, 8))\n",
            "\n",
            "      Epoch    GPU_mem   box_loss   cls_loss   dfl_loss  Instances       Size\n"
          ]
        },
        {
          "output_type": "stream",
          "name": "stderr",
          "text": [
            "    191/200       5.8G       0.63     0.4129      1.166          5        640: 100%|██████████| 54/54 [00:15<00:00,  3.52it/s]\n",
            "                 Class     Images  Instances      Box(P          R      mAP50  mAP50-95): 100%|██████████| 6/6 [00:01<00:00,  3.94it/s]"
          ]
        },
        {
          "output_type": "stream",
          "name": "stdout",
          "text": [
            "                   all        189        263      0.129      0.104      0.118     0.0515\n"
          ]
        },
        {
          "output_type": "stream",
          "name": "stderr",
          "text": [
            "\n"
          ]
        },
        {
          "output_type": "stream",
          "name": "stdout",
          "text": [
            "\n",
            "      Epoch    GPU_mem   box_loss   cls_loss   dfl_loss  Instances       Size\n"
          ]
        },
        {
          "output_type": "stream",
          "name": "stderr",
          "text": [
            "    192/200      5.81G     0.6243      0.403      1.166          6        640: 100%|██████████| 54/54 [00:13<00:00,  3.89it/s]\n",
            "                 Class     Images  Instances      Box(P          R      mAP50  mAP50-95): 100%|██████████| 6/6 [00:01<00:00,  3.89it/s]"
          ]
        },
        {
          "output_type": "stream",
          "name": "stdout",
          "text": [
            "                   all        189        263        0.2     0.0792      0.116     0.0514\n"
          ]
        },
        {
          "output_type": "stream",
          "name": "stderr",
          "text": [
            "\n"
          ]
        },
        {
          "output_type": "stream",
          "name": "stdout",
          "text": [
            "\n",
            "      Epoch    GPU_mem   box_loss   cls_loss   dfl_loss  Instances       Size\n"
          ]
        },
        {
          "output_type": "stream",
          "name": "stderr",
          "text": [
            "    193/200      5.84G     0.6307     0.3944       1.18          5        640: 100%|██████████| 54/54 [00:13<00:00,  3.91it/s]\n",
            "                 Class     Images  Instances      Box(P          R      mAP50  mAP50-95): 100%|██████████| 6/6 [00:01<00:00,  3.83it/s]"
          ]
        },
        {
          "output_type": "stream",
          "name": "stdout",
          "text": [
            "                   all        189        263      0.204     0.0958      0.115      0.051\n"
          ]
        },
        {
          "output_type": "stream",
          "name": "stderr",
          "text": [
            "\n"
          ]
        },
        {
          "output_type": "stream",
          "name": "stdout",
          "text": [
            "\n",
            "      Epoch    GPU_mem   box_loss   cls_loss   dfl_loss  Instances       Size\n"
          ]
        },
        {
          "output_type": "stream",
          "name": "stderr",
          "text": [
            "    194/200      5.85G     0.5885     0.3629      1.118          5        640: 100%|██████████| 54/54 [00:13<00:00,  3.92it/s]\n",
            "                 Class     Images  Instances      Box(P          R      mAP50  mAP50-95): 100%|██████████| 6/6 [00:02<00:00,  2.49it/s]"
          ]
        },
        {
          "output_type": "stream",
          "name": "stdout",
          "text": [
            "                   all        189        263      0.211     0.0875      0.117     0.0516\n"
          ]
        },
        {
          "output_type": "stream",
          "name": "stderr",
          "text": [
            "\n"
          ]
        },
        {
          "output_type": "stream",
          "name": "stdout",
          "text": [
            "\n",
            "      Epoch    GPU_mem   box_loss   cls_loss   dfl_loss  Instances       Size\n"
          ]
        },
        {
          "output_type": "stream",
          "name": "stderr",
          "text": [
            "    195/200      5.87G     0.6039     0.3805      1.147          6        640: 100%|██████████| 54/54 [00:13<00:00,  3.93it/s]\n",
            "                 Class     Images  Instances      Box(P          R      mAP50  mAP50-95): 100%|██████████| 6/6 [00:01<00:00,  3.79it/s]"
          ]
        },
        {
          "output_type": "stream",
          "name": "stdout",
          "text": [
            "                   all        189        263      0.175      0.108      0.111     0.0481\n"
          ]
        },
        {
          "output_type": "stream",
          "name": "stderr",
          "text": [
            "\n"
          ]
        },
        {
          "output_type": "stream",
          "name": "stdout",
          "text": [
            "\n",
            "      Epoch    GPU_mem   box_loss   cls_loss   dfl_loss  Instances       Size\n"
          ]
        },
        {
          "output_type": "stream",
          "name": "stderr",
          "text": [
            "    196/200      5.88G     0.5771      0.352      1.111          7        640: 100%|██████████| 54/54 [00:13<00:00,  3.99it/s]\n",
            "                 Class     Images  Instances      Box(P          R      mAP50  mAP50-95): 100%|██████████| 6/6 [00:01<00:00,  3.98it/s]"
          ]
        },
        {
          "output_type": "stream",
          "name": "stdout",
          "text": [
            "                   all        189        263      0.192     0.0736      0.109     0.0484\n"
          ]
        },
        {
          "output_type": "stream",
          "name": "stderr",
          "text": [
            "\n"
          ]
        },
        {
          "output_type": "stream",
          "name": "stdout",
          "text": [
            "\n",
            "      Epoch    GPU_mem   box_loss   cls_loss   dfl_loss  Instances       Size\n"
          ]
        },
        {
          "output_type": "stream",
          "name": "stderr",
          "text": [
            "    197/200       5.9G     0.5892     0.3603      1.136          5        640: 100%|██████████| 54/54 [00:13<00:00,  3.87it/s]\n",
            "                 Class     Images  Instances      Box(P          R      mAP50  mAP50-95): 100%|██████████| 6/6 [00:01<00:00,  4.13it/s]"
          ]
        },
        {
          "output_type": "stream",
          "name": "stdout",
          "text": [
            "                   all        189        263      0.205     0.0737       0.11     0.0485\n"
          ]
        },
        {
          "output_type": "stream",
          "name": "stderr",
          "text": [
            "\n"
          ]
        },
        {
          "output_type": "stream",
          "name": "stdout",
          "text": [
            "\n",
            "      Epoch    GPU_mem   box_loss   cls_loss   dfl_loss  Instances       Size\n"
          ]
        },
        {
          "output_type": "stream",
          "name": "stderr",
          "text": [
            "    198/200      5.91G     0.5936     0.3519      1.132          6        640: 100%|██████████| 54/54 [00:13<00:00,  3.98it/s]\n",
            "                 Class     Images  Instances      Box(P          R      mAP50  mAP50-95): 100%|██████████| 6/6 [00:01<00:00,  3.66it/s]"
          ]
        },
        {
          "output_type": "stream",
          "name": "stdout",
          "text": [
            "                   all        189        263      0.212     0.0667       0.11     0.0486\n"
          ]
        },
        {
          "output_type": "stream",
          "name": "stderr",
          "text": [
            "\n"
          ]
        },
        {
          "output_type": "stream",
          "name": "stdout",
          "text": [
            "\n",
            "      Epoch    GPU_mem   box_loss   cls_loss   dfl_loss  Instances       Size\n"
          ]
        },
        {
          "output_type": "stream",
          "name": "stderr",
          "text": [
            "    199/200      5.94G     0.5776     0.3437      1.106          5        640: 100%|██████████| 54/54 [00:13<00:00,  4.05it/s]\n",
            "                 Class     Images  Instances      Box(P          R      mAP50  mAP50-95): 100%|██████████| 6/6 [00:02<00:00,  2.20it/s]"
          ]
        },
        {
          "output_type": "stream",
          "name": "stdout",
          "text": [
            "                   all        189        263      0.203     0.0667      0.111      0.049\n"
          ]
        },
        {
          "output_type": "stream",
          "name": "stderr",
          "text": [
            "\n"
          ]
        },
        {
          "output_type": "stream",
          "name": "stdout",
          "text": [
            "\n",
            "      Epoch    GPU_mem   box_loss   cls_loss   dfl_loss  Instances       Size\n"
          ]
        },
        {
          "output_type": "stream",
          "name": "stderr",
          "text": [
            "    200/200      5.95G     0.5987     0.3549      1.126          8        640: 100%|██████████| 54/54 [00:13<00:00,  3.91it/s]\n",
            "                 Class     Images  Instances      Box(P          R      mAP50  mAP50-95): 100%|██████████| 6/6 [00:01<00:00,  3.93it/s]"
          ]
        },
        {
          "output_type": "stream",
          "name": "stdout",
          "text": [
            "                   all        189        263      0.172     0.0833       0.11     0.0487\n"
          ]
        },
        {
          "output_type": "stream",
          "name": "stderr",
          "text": [
            "\n"
          ]
        },
        {
          "output_type": "stream",
          "name": "stdout",
          "text": [
            "\n",
            "200 epochs completed in 0.905 hours.\n",
            "Optimizer stripped from /content/yolo_runs/maize-pest-detector/weights/last.pt, 6.3MB\n",
            "Optimizer stripped from /content/yolo_runs/maize-pest-detector/weights/best.pt, 6.3MB\n",
            "\n",
            "Validating /content/yolo_runs/maize-pest-detector/weights/best.pt...\n",
            "Ultralytics 8.3.152 🚀 Python-3.11.13 torch-2.6.0+cu124 CUDA:0 (Tesla T4, 15095MiB)\n",
            "Model summary (fused): 72 layers, 3,006,623 parameters, 0 gradients, 8.1 GFLOPs\n"
          ]
        },
        {
          "output_type": "stream",
          "name": "stderr",
          "text": [
            "                 Class     Images  Instances      Box(P          R      mAP50  mAP50-95): 100%|██████████| 6/6 [00:03<00:00,  1.62it/s]\n"
          ]
        },
        {
          "output_type": "stream",
          "name": "stdout",
          "text": [
            "                   all        189        263      0.396       0.21      0.266      0.179\n",
            "Phyllocnistis_citrella_Stainton        108        172          1    0.00581      0.503      0.402\n",
            "Scirtothrips_dorsalis_Hood         54         80      0.189      0.625      0.295      0.134\n",
            "     odontothrips_loti         11         11          0          0          0          0\n",
            "Speed: 0.4ms preprocess, 2.8ms inference, 0.0ms loss, 4.7ms postprocess per image\n",
            "Results saved to \u001b[1m/content/yolo_runs/maize-pest-detector\u001b[0m\n"
          ]
        }
      ]
    },
    {
      "cell_type": "code",
      "source": [
        "import os `\n",
        "weights_path = \"/content/yolo_runs/maize-pest-detector/weights\"\n",
        "print(os.listdir(weights_path))"
      ],
      "metadata": {
        "id": "i2Kgcr9LkBQs",
        "colab": {
          "base_uri": "https://localhost:8080/"
        },
        "outputId": "32741b33-4048-4f30-b8a0-5c1c103371ba"
      },
      "execution_count": 14,
      "outputs": [
        {
          "output_type": "stream",
          "name": "stdout",
          "text": [
            "['best.pt', 'last.pt']\n"
          ]
        }
      ]
    },
    {
      "cell_type": "code",
      "source": [
        "from google.colab import files\n",
        "\n",
        "# Download best.pt\n",
        "files.download('/content/yolo_runs/maize-pest-detector/weights/best.pt')\n",
        "\n",
        "# Optional: also download last.pt\n",
        "# files.download('/content/yolo_runs/maize-pest-model/weights/last.pt')\n"
      ],
      "metadata": {
        "id": "pj3E3CQXkCIZ",
        "colab": {
          "base_uri": "https://localhost:8080/",
          "height": 17
        },
        "outputId": "8c6af08b-6193-489c-c022-999c5d8d1f5e"
      },
      "execution_count": 15,
      "outputs": [
        {
          "output_type": "display_data",
          "data": {
            "text/plain": [
              "<IPython.core.display.Javascript object>"
            ],
            "application/javascript": [
              "\n",
              "    async function download(id, filename, size) {\n",
              "      if (!google.colab.kernel.accessAllowed) {\n",
              "        return;\n",
              "      }\n",
              "      const div = document.createElement('div');\n",
              "      const label = document.createElement('label');\n",
              "      label.textContent = `Downloading \"${filename}\": `;\n",
              "      div.appendChild(label);\n",
              "      const progress = document.createElement('progress');\n",
              "      progress.max = size;\n",
              "      div.appendChild(progress);\n",
              "      document.body.appendChild(div);\n",
              "\n",
              "      const buffers = [];\n",
              "      let downloaded = 0;\n",
              "\n",
              "      const channel = await google.colab.kernel.comms.open(id);\n",
              "      // Send a message to notify the kernel that we're ready.\n",
              "      channel.send({})\n",
              "\n",
              "      for await (const message of channel.messages) {\n",
              "        // Send a message to notify the kernel that we're ready.\n",
              "        channel.send({})\n",
              "        if (message.buffers) {\n",
              "          for (const buffer of message.buffers) {\n",
              "            buffers.push(buffer);\n",
              "            downloaded += buffer.byteLength;\n",
              "            progress.value = downloaded;\n",
              "          }\n",
              "        }\n",
              "      }\n",
              "      const blob = new Blob(buffers, {type: 'application/binary'});\n",
              "      const a = document.createElement('a');\n",
              "      a.href = window.URL.createObjectURL(blob);\n",
              "      a.download = filename;\n",
              "      div.appendChild(a);\n",
              "      a.click();\n",
              "      div.remove();\n",
              "    }\n",
              "  "
            ]
          },
          "metadata": {}
        },
        {
          "output_type": "display_data",
          "data": {
            "text/plain": [
              "<IPython.core.display.Javascript object>"
            ],
            "application/javascript": [
              "download(\"download_39c52e38-73a3-4f37-ab6d-af3ed57fd57f\", \"best.pt\", 6269219)"
            ]
          },
          "metadata": {}
        }
      ]
    },
    {
      "cell_type": "code",
      "source": [
        "!zip -r maize_weights.zip /content/yolo_runs/maize-pest-detector/weights\n",
        "\n",
        "# Now download the zip\n",
        "files.download('maize_weights.zip')"
      ],
      "metadata": {
        "id": "Krx3I5IDkEL6",
        "colab": {
          "base_uri": "https://localhost:8080/",
          "height": 69
        },
        "outputId": "3ffbf016-74d6-4a93-afdb-21c1f0c58ab7"
      },
      "execution_count": 16,
      "outputs": [
        {
          "output_type": "stream",
          "name": "stdout",
          "text": [
            "  adding: content/yolo_runs/maize-pest-detector/weights/ (stored 0%)\n",
            "  adding: content/yolo_runs/maize-pest-detector/weights/best.pt (deflated 10%)\n",
            "  adding: content/yolo_runs/maize-pest-detector/weights/last.pt (deflated 10%)\n"
          ]
        },
        {
          "output_type": "display_data",
          "data": {
            "text/plain": [
              "<IPython.core.display.Javascript object>"
            ],
            "application/javascript": [
              "\n",
              "    async function download(id, filename, size) {\n",
              "      if (!google.colab.kernel.accessAllowed) {\n",
              "        return;\n",
              "      }\n",
              "      const div = document.createElement('div');\n",
              "      const label = document.createElement('label');\n",
              "      label.textContent = `Downloading \"${filename}\": `;\n",
              "      div.appendChild(label);\n",
              "      const progress = document.createElement('progress');\n",
              "      progress.max = size;\n",
              "      div.appendChild(progress);\n",
              "      document.body.appendChild(div);\n",
              "\n",
              "      const buffers = [];\n",
              "      let downloaded = 0;\n",
              "\n",
              "      const channel = await google.colab.kernel.comms.open(id);\n",
              "      // Send a message to notify the kernel that we're ready.\n",
              "      channel.send({})\n",
              "\n",
              "      for await (const message of channel.messages) {\n",
              "        // Send a message to notify the kernel that we're ready.\n",
              "        channel.send({})\n",
              "        if (message.buffers) {\n",
              "          for (const buffer of message.buffers) {\n",
              "            buffers.push(buffer);\n",
              "            downloaded += buffer.byteLength;\n",
              "            progress.value = downloaded;\n",
              "          }\n",
              "        }\n",
              "      }\n",
              "      const blob = new Blob(buffers, {type: 'application/binary'});\n",
              "      const a = document.createElement('a');\n",
              "      a.href = window.URL.createObjectURL(blob);\n",
              "      a.download = filename;\n",
              "      div.appendChild(a);\n",
              "      a.click();\n",
              "      div.remove();\n",
              "    }\n",
              "  "
            ]
          },
          "metadata": {}
        },
        {
          "output_type": "display_data",
          "data": {
            "text/plain": [
              "<IPython.core.display.Javascript object>"
            ],
            "application/javascript": [
              "download(\"download_574fc2fb-22c3-46ba-a3cf-2883a66d7754\", \"maize_weights.zip\", 11335620)"
            ]
          },
          "metadata": {}
        }
      ]
    },
    {
      "cell_type": "code",
      "source": [
        "# Load model again if needed\n",
        "model = YOLO(\"/content/yolo_runs/maize-pest-detector/weights/best.pt\")\n",
        "\n",
        "# Run evaluation on test set\n",
        "metrics_test = model.val(\n",
        "    data=\"/content/IP102/data.yaml\",\n",
        "    split='test'\n",
        ")\n",
        "\n",
        "print(\"✅ Test mAP50:\", metrics_test.box.map50)\n",
        "print(\"✅ Test mAP50-95:\", metrics_test.box.map)"
      ],
      "metadata": {
        "colab": {
          "base_uri": "https://localhost:8080/"
        },
        "id": "bcQdxcHpVQdW",
        "outputId": "7ba736db-ab28-4d49-d84f-1a0cbd8d57b5"
      },
      "execution_count": 17,
      "outputs": [
        {
          "output_type": "stream",
          "name": "stdout",
          "text": [
            "Ultralytics 8.3.152 🚀 Python-3.11.13 torch-2.6.0+cu124 CUDA:0 (Tesla T4, 15095MiB)\n",
            "Model summary (fused): 72 layers, 3,006,623 parameters, 0 gradients, 8.1 GFLOPs\n",
            "\u001b[34m\u001b[1mval: \u001b[0mFast image access ✅ (ping: 0.0±0.0 ms, read: 10.8±3.6 MB/s, size: 31.3 KB)\n"
          ]
        },
        {
          "output_type": "stream",
          "name": "stderr",
          "text": [
            "\u001b[34m\u001b[1mval: \u001b[0mScanning /content/IP102/labels/test... 264 images, 10 backgrounds, 0 corrupt: 100%|██████████| 264/264 [00:00<00:00, 509.52it/s]"
          ]
        },
        {
          "output_type": "stream",
          "name": "stdout",
          "text": [
            "\u001b[34m\u001b[1mval: \u001b[0mNew cache created: /content/IP102/labels/test.cache\n"
          ]
        },
        {
          "output_type": "stream",
          "name": "stderr",
          "text": [
            "\n",
            "                 Class     Images  Instances      Box(P          R      mAP50  mAP50-95): 100%|██████████| 17/17 [00:07<00:00,  2.27it/s]\n"
          ]
        },
        {
          "output_type": "stream",
          "name": "stdout",
          "text": [
            "                   all        264        355     0.0664      0.157     0.0973     0.0531\n",
            "Phyllocnistis_citrella_Stainton         34         64          0          0          0          0\n",
            "Scirtothrips_dorsalis_Hood        120        180      0.199      0.472      0.292      0.159\n",
            "     odontothrips_loti        100        111          0          0          0          0\n",
            "Speed: 4.5ms preprocess, 6.4ms inference, 0.0ms loss, 4.1ms postprocess per image\n",
            "Results saved to \u001b[1mruns/detect/val\u001b[0m\n",
            "✅ Test mAP50: 0.09728227276763045\n",
            "✅ Test mAP50-95: 0.05311564133773684\n"
          ]
        }
      ]
    }
  ]
}